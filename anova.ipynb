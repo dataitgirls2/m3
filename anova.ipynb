{
 "cells": [
  {
   "cell_type": "markdown",
   "metadata": {},
   "source": [
    "# ANOVA (분산분석) : 세 맛집 프로그램의 영향력 차이가 있는지 검정"
   ]
  },
  {
   "cell_type": "code",
   "execution_count": 1,
   "metadata": {},
   "outputs": [],
   "source": [
    "import pandas as pd\n",
    "import scipy.stats as stats\n",
    "import matplotlib.pyplot as plt"
   ]
  },
  {
   "cell_type": "code",
   "execution_count": 2,
   "metadata": {},
   "outputs": [],
   "source": [
    "df = pd.read_csv('2018.csv')"
   ]
  },
  {
   "cell_type": "code",
   "execution_count": 3,
   "metadata": {},
   "outputs": [
    {
     "data": {
      "text/html": [
       "<div>\n",
       "<style scoped>\n",
       "    .dataframe tbody tr th:only-of-type {\n",
       "        vertical-align: middle;\n",
       "    }\n",
       "\n",
       "    .dataframe tbody tr th {\n",
       "        vertical-align: top;\n",
       "    }\n",
       "\n",
       "    .dataframe thead th {\n",
       "        text-align: right;\n",
       "    }\n",
       "</style>\n",
       "<table border=\"1\" class=\"dataframe\">\n",
       "  <thead>\n",
       "    <tr style=\"text-align: right;\">\n",
       "      <th></th>\n",
       "      <th>방송</th>\n",
       "      <th>식당</th>\n",
       "      <th>방영일</th>\n",
       "      <th>포스팅일</th>\n",
       "      <th>제목</th>\n",
       "      <th>days_diff</th>\n",
       "      <th>위치</th>\n",
       "      <th>서울</th>\n",
       "      <th>방영전</th>\n",
       "      <th>방영후</th>\n",
       "    </tr>\n",
       "  </thead>\n",
       "  <tbody>\n",
       "    <tr>\n",
       "      <th>0</th>\n",
       "      <td>생생정보통</td>\n",
       "      <td>전주회관식당</td>\n",
       "      <td>2018-01-02</td>\n",
       "      <td>2018-01-02</td>\n",
       "      <td>전주 비빔밥 맛집 식당 ㅣ 가족회관</td>\n",
       "      <td>0</td>\n",
       "      <td>진안</td>\n",
       "      <td>0.0</td>\n",
       "      <td>0</td>\n",
       "      <td>1</td>\n",
       "    </tr>\n",
       "    <tr>\n",
       "      <th>1</th>\n",
       "      <td>생생정보통</td>\n",
       "      <td>전주회관식당</td>\n",
       "      <td>2018-01-02</td>\n",
       "      <td>2018-01-27</td>\n",
       "      <td>[롯데몰 은평 맛집]전주중앙회관,비빔밥,윤식당 비빔밥,제육볶음 비빔밥,정식추천,세트...</td>\n",
       "      <td>25</td>\n",
       "      <td>진안</td>\n",
       "      <td>0.0</td>\n",
       "      <td>0</td>\n",
       "      <td>1</td>\n",
       "    </tr>\n",
       "    <tr>\n",
       "      <th>2</th>\n",
       "      <td>생생정보통</td>\n",
       "      <td>전주회관식당</td>\n",
       "      <td>2018-01-02</td>\n",
       "      <td>2018-01-02</td>\n",
       "      <td>생생정보 484회 더덕 흑돼지구이 진안군 전주회관식당 맛집 인력거 체험 달콤한 홍삼...</td>\n",
       "      <td>0</td>\n",
       "      <td>진안</td>\n",
       "      <td>0.0</td>\n",
       "      <td>0</td>\n",
       "      <td>1</td>\n",
       "    </tr>\n",
       "    <tr>\n",
       "      <th>3</th>\n",
       "      <td>생생정보통</td>\n",
       "      <td>전주회관식당</td>\n",
       "      <td>2018-01-02</td>\n",
       "      <td>2017-12-31</td>\n",
       "      <td>2017송년.  좋은사람들과 좋은만남. 아름다운 마무리. 전주역 앞. 맛집식당. 두...</td>\n",
       "      <td>-2</td>\n",
       "      <td>진안</td>\n",
       "      <td>0.0</td>\n",
       "      <td>1</td>\n",
       "      <td>0</td>\n",
       "    </tr>\n",
       "    <tr>\n",
       "      <th>4</th>\n",
       "      <td>생생정보통</td>\n",
       "      <td>전주회관식당</td>\n",
       "      <td>2018-01-02</td>\n",
       "      <td>2018-01-24</td>\n",
       "      <td>[전주한옥마을]종로회관</td>\n",
       "      <td>22</td>\n",
       "      <td>진안</td>\n",
       "      <td>0.0</td>\n",
       "      <td>0</td>\n",
       "      <td>1</td>\n",
       "    </tr>\n",
       "  </tbody>\n",
       "</table>\n",
       "</div>"
      ],
      "text/plain": [
       "      방송      식당         방영일        포스팅일  \\\n",
       "0  생생정보통  전주회관식당  2018-01-02  2018-01-02   \n",
       "1  생생정보통  전주회관식당  2018-01-02  2018-01-27   \n",
       "2  생생정보통  전주회관식당  2018-01-02  2018-01-02   \n",
       "3  생생정보통  전주회관식당  2018-01-02  2017-12-31   \n",
       "4  생생정보통  전주회관식당  2018-01-02  2018-01-24   \n",
       "\n",
       "                                                  제목  days_diff  위치   서울  방영전  \\\n",
       "0                                전주 비빔밥 맛집 식당 ㅣ 가족회관          0  진안  0.0    0   \n",
       "1  [롯데몰 은평 맛집]전주중앙회관,비빔밥,윤식당 비빔밥,제육볶음 비빔밥,정식추천,세트...         25  진안  0.0    0   \n",
       "2  생생정보 484회 더덕 흑돼지구이 진안군 전주회관식당 맛집 인력거 체험 달콤한 홍삼...          0  진안  0.0    0   \n",
       "3  2017송년.  좋은사람들과 좋은만남. 아름다운 마무리. 전주역 앞. 맛집식당. 두...         -2  진안  0.0    1   \n",
       "4                                       [전주한옥마을]종로회관         22  진안  0.0    0   \n",
       "\n",
       "   방영후  \n",
       "0    1  \n",
       "1    1  \n",
       "2    1  \n",
       "3    0  \n",
       "4    1  "
      ]
     },
     "execution_count": 3,
     "metadata": {},
     "output_type": "execute_result"
    }
   ],
   "source": [
    "df.head()"
   ]
  },
  {
   "cell_type": "markdown",
   "metadata": {},
   "source": [
    "### ANOVA 분석을 위한 데이터 전처리 ( X : 방송명, Y : 방영 후 포스팅 증가수)"
   ]
  },
  {
   "cell_type": "code",
   "execution_count": 8,
   "metadata": {},
   "outputs": [],
   "source": [
    "anova = pd.DataFrame(df.groupby(['식당', '방송'])['방영전', '방영후'].sum()).reset_index()"
   ]
  },
  {
   "cell_type": "code",
   "execution_count": 5,
   "metadata": {},
   "outputs": [
    {
     "data": {
      "text/html": [
       "<div>\n",
       "<style scoped>\n",
       "    .dataframe tbody tr th:only-of-type {\n",
       "        vertical-align: middle;\n",
       "    }\n",
       "\n",
       "    .dataframe tbody tr th {\n",
       "        vertical-align: top;\n",
       "    }\n",
       "\n",
       "    .dataframe thead th {\n",
       "        text-align: right;\n",
       "    }\n",
       "</style>\n",
       "<table border=\"1\" class=\"dataframe\">\n",
       "  <thead>\n",
       "    <tr style=\"text-align: right;\">\n",
       "      <th></th>\n",
       "      <th>식당</th>\n",
       "      <th>방송</th>\n",
       "      <th>방영전</th>\n",
       "      <th>방영후</th>\n",
       "    </tr>\n",
       "  </thead>\n",
       "  <tbody>\n",
       "    <tr>\n",
       "      <th>0</th>\n",
       "      <td>3일한우국밥</td>\n",
       "      <td>생생정보통</td>\n",
       "      <td>29</td>\n",
       "      <td>66</td>\n",
       "    </tr>\n",
       "    <tr>\n",
       "      <th>1</th>\n",
       "      <td>가람떡갈비</td>\n",
       "      <td>맛있는 녀석들</td>\n",
       "      <td>13</td>\n",
       "      <td>56</td>\n",
       "    </tr>\n",
       "    <tr>\n",
       "      <th>2</th>\n",
       "      <td>가마솥 족발</td>\n",
       "      <td>생생정보통</td>\n",
       "      <td>160</td>\n",
       "      <td>151</td>\n",
       "    </tr>\n",
       "    <tr>\n",
       "      <th>3</th>\n",
       "      <td>가마솥손두부</td>\n",
       "      <td>생생정보통</td>\n",
       "      <td>30</td>\n",
       "      <td>49</td>\n",
       "    </tr>\n",
       "    <tr>\n",
       "      <th>4</th>\n",
       "      <td>강남 국미당</td>\n",
       "      <td>수요미식회</td>\n",
       "      <td>1</td>\n",
       "      <td>7</td>\n",
       "    </tr>\n",
       "  </tbody>\n",
       "</table>\n",
       "</div>"
      ],
      "text/plain": [
       "       식당       방송  방영전  방영후\n",
       "0  3일한우국밥    생생정보통   29   66\n",
       "1   가람떡갈비  맛있는 녀석들   13   56\n",
       "2  가마솥 족발    생생정보통  160  151\n",
       "3  가마솥손두부    생생정보통   30   49\n",
       "4  강남 국미당    수요미식회    1    7"
      ]
     },
     "execution_count": 5,
     "metadata": {},
     "output_type": "execute_result"
    }
   ],
   "source": [
    "anova.head()"
   ]
  },
  {
   "cell_type": "code",
   "execution_count": 9,
   "metadata": {},
   "outputs": [],
   "source": [
    "anova['증가'] = anova['방영후'] - anova['방영전']"
   ]
  },
  {
   "cell_type": "code",
   "execution_count": 7,
   "metadata": {},
   "outputs": [
    {
     "data": {
      "text/html": [
       "<div>\n",
       "<style scoped>\n",
       "    .dataframe tbody tr th:only-of-type {\n",
       "        vertical-align: middle;\n",
       "    }\n",
       "\n",
       "    .dataframe tbody tr th {\n",
       "        vertical-align: top;\n",
       "    }\n",
       "\n",
       "    .dataframe thead th {\n",
       "        text-align: right;\n",
       "    }\n",
       "</style>\n",
       "<table border=\"1\" class=\"dataframe\">\n",
       "  <thead>\n",
       "    <tr style=\"text-align: right;\">\n",
       "      <th></th>\n",
       "      <th>식당</th>\n",
       "      <th>방송</th>\n",
       "      <th>방영전</th>\n",
       "      <th>방영후</th>\n",
       "      <th>증가</th>\n",
       "    </tr>\n",
       "  </thead>\n",
       "  <tbody>\n",
       "    <tr>\n",
       "      <th>0</th>\n",
       "      <td>3일한우국밥</td>\n",
       "      <td>생생정보통</td>\n",
       "      <td>29</td>\n",
       "      <td>66</td>\n",
       "      <td>37</td>\n",
       "    </tr>\n",
       "    <tr>\n",
       "      <th>1</th>\n",
       "      <td>가람떡갈비</td>\n",
       "      <td>맛있는 녀석들</td>\n",
       "      <td>13</td>\n",
       "      <td>56</td>\n",
       "      <td>43</td>\n",
       "    </tr>\n",
       "    <tr>\n",
       "      <th>2</th>\n",
       "      <td>가마솥 족발</td>\n",
       "      <td>생생정보통</td>\n",
       "      <td>160</td>\n",
       "      <td>151</td>\n",
       "      <td>-9</td>\n",
       "    </tr>\n",
       "    <tr>\n",
       "      <th>3</th>\n",
       "      <td>가마솥손두부</td>\n",
       "      <td>생생정보통</td>\n",
       "      <td>30</td>\n",
       "      <td>49</td>\n",
       "      <td>19</td>\n",
       "    </tr>\n",
       "    <tr>\n",
       "      <th>4</th>\n",
       "      <td>강남 국미당</td>\n",
       "      <td>수요미식회</td>\n",
       "      <td>1</td>\n",
       "      <td>7</td>\n",
       "      <td>6</td>\n",
       "    </tr>\n",
       "  </tbody>\n",
       "</table>\n",
       "</div>"
      ],
      "text/plain": [
       "       식당       방송  방영전  방영후  증가\n",
       "0  3일한우국밥    생생정보통   29   66  37\n",
       "1   가람떡갈비  맛있는 녀석들   13   56  43\n",
       "2  가마솥 족발    생생정보통  160  151  -9\n",
       "3  가마솥손두부    생생정보통   30   49  19\n",
       "4  강남 국미당    수요미식회    1    7   6"
      ]
     },
     "execution_count": 7,
     "metadata": {},
     "output_type": "execute_result"
    }
   ],
   "source": [
    "anova.head()"
   ]
  },
  {
   "cell_type": "code",
   "execution_count": 17,
   "metadata": {},
   "outputs": [
    {
     "data": {
      "text/html": [
       "<div>\n",
       "<style scoped>\n",
       "    .dataframe tbody tr th:only-of-type {\n",
       "        vertical-align: middle;\n",
       "    }\n",
       "\n",
       "    .dataframe tbody tr th {\n",
       "        vertical-align: top;\n",
       "    }\n",
       "\n",
       "    .dataframe thead th {\n",
       "        text-align: right;\n",
       "    }\n",
       "</style>\n",
       "<table border=\"1\" class=\"dataframe\">\n",
       "  <thead>\n",
       "    <tr style=\"text-align: right;\">\n",
       "      <th></th>\n",
       "      <th>count</th>\n",
       "      <th>mean</th>\n",
       "      <th>std</th>\n",
       "      <th>min</th>\n",
       "      <th>25%</th>\n",
       "      <th>50%</th>\n",
       "      <th>75%</th>\n",
       "      <th>max</th>\n",
       "    </tr>\n",
       "    <tr>\n",
       "      <th>방송</th>\n",
       "      <th></th>\n",
       "      <th></th>\n",
       "      <th></th>\n",
       "      <th></th>\n",
       "      <th></th>\n",
       "      <th></th>\n",
       "      <th></th>\n",
       "      <th></th>\n",
       "    </tr>\n",
       "  </thead>\n",
       "  <tbody>\n",
       "    <tr>\n",
       "      <th>맛있는 녀석들</th>\n",
       "      <td>34.0</td>\n",
       "      <td>2.529412</td>\n",
       "      <td>76.221859</td>\n",
       "      <td>-318.0</td>\n",
       "      <td>-10.25</td>\n",
       "      <td>13.0</td>\n",
       "      <td>39.75</td>\n",
       "      <td>178.0</td>\n",
       "    </tr>\n",
       "    <tr>\n",
       "      <th>생생정보통</th>\n",
       "      <td>32.0</td>\n",
       "      <td>16.406250</td>\n",
       "      <td>29.963267</td>\n",
       "      <td>-92.0</td>\n",
       "      <td>6.75</td>\n",
       "      <td>11.5</td>\n",
       "      <td>20.25</td>\n",
       "      <td>101.0</td>\n",
       "    </tr>\n",
       "    <tr>\n",
       "      <th>수요미식회</th>\n",
       "      <td>33.0</td>\n",
       "      <td>28.787879</td>\n",
       "      <td>29.050342</td>\n",
       "      <td>-15.0</td>\n",
       "      <td>6.00</td>\n",
       "      <td>29.0</td>\n",
       "      <td>38.00</td>\n",
       "      <td>137.0</td>\n",
       "    </tr>\n",
       "  </tbody>\n",
       "</table>\n",
       "</div>"
      ],
      "text/plain": [
       "         count       mean        std    min    25%   50%    75%    max\n",
       "방송                                                                    \n",
       "맛있는 녀석들   34.0   2.529412  76.221859 -318.0 -10.25  13.0  39.75  178.0\n",
       "생생정보통     32.0  16.406250  29.963267  -92.0   6.75  11.5  20.25  101.0\n",
       "수요미식회     33.0  28.787879  29.050342  -15.0   6.00  29.0  38.00  137.0"
      ]
     },
     "execution_count": 17,
     "metadata": {},
     "output_type": "execute_result"
    }
   ],
   "source": [
    "anova['증가'].groupby(anova['방송']).describe()"
   ]
  },
  {
   "cell_type": "code",
   "execution_count": 18,
   "metadata": {},
   "outputs": [],
   "source": [
    "anova.to_csv('2018_tidy.csv', index=False)"
   ]
  },
  {
   "cell_type": "markdown",
   "metadata": {},
   "source": [
    "## 가정 check!"
   ]
  },
  {
   "cell_type": "markdown",
   "metadata": {},
   "source": [
    "### 1. 정규성 검정"
   ]
  },
  {
   "cell_type": "code",
   "execution_count": 38,
   "metadata": {},
   "outputs": [
    {
     "data": {
      "text/plain": [
       "<matplotlib.axes._subplots.AxesSubplot at 0x2551e574be0>"
      ]
     },
     "execution_count": 38,
     "metadata": {},
     "output_type": "execute_result"
    },
    {
     "data": {
      "image/png": "[encoded data removed]",
      "text/plain": [
       "<Figure size 432x288 with 1 Axes>"
      ]
     },
     "metadata": {},
     "output_type": "display_data"
    }
   ],
   "source": [
    "anova['증가'].plot(kind = 'hist')"
   ]
  },
  {
   "cell_type": "code",
   "execution_count": 11,
   "metadata": {},
   "outputs": [],
   "source": [
    "#anova1 = anova.loc[(anova['증가']> -100) & (anova['증가']<100)]"
   ]
  },
  {
   "cell_type": "code",
   "execution_count": 12,
   "metadata": {},
   "outputs": [
    {
     "data": {
      "text/plain": [
       "<matplotlib.axes._subplots.AxesSubplot at 0x208964a2e48>"
      ]
     },
     "execution_count": 12,
     "metadata": {},
     "output_type": "execute_result"
    },
    {
     "data": {
      "image/png": "[encoded data removed]",
      "text/plain": [
       "<Figure size 432x288 with 1 Axes>"
      ]
     },
     "metadata": {},
     "output_type": "display_data"
    }
   ],
   "source": [
    "#anova1['증가'].plot(kind = 'hist')"
   ]
  },
  {
   "cell_type": "markdown",
   "metadata": {},
   "source": [
    "outlier 제거해봄"
   ]
  },
  {
   "cell_type": "code",
   "execution_count": 19,
   "metadata": {},
   "outputs": [
    {
     "data": {
      "text/plain": [
       "(0.7688440084457397, 6.76021500112256e-06)"
      ]
     },
     "execution_count": 19,
     "metadata": {},
     "output_type": "execute_result"
    }
   ],
   "source": [
    "stats.shapiro(anova['증가'][anova['방송'] == '맛있는 녀석들'])"
   ]
  },
  {
   "cell_type": "code",
   "execution_count": 20,
   "metadata": {},
   "outputs": [
    {
     "data": {
      "text/plain": [
       "(0.7842313051223755, 2.0886251149931923e-05)"
      ]
     },
     "execution_count": 20,
     "metadata": {},
     "output_type": "execute_result"
    }
   ],
   "source": [
    "stats.shapiro(anova['증가'][anova['방송'] == '생생정보통'])"
   ]
  },
  {
   "cell_type": "code",
   "execution_count": 21,
   "metadata": {},
   "outputs": [
    {
     "data": {
      "text/plain": [
       "(0.8741214871406555, 0.001212559873238206)"
      ]
     },
     "execution_count": 21,
     "metadata": {},
     "output_type": "execute_result"
    }
   ],
   "source": [
    "stats.shapiro(anova['증가'][anova['방송'] == '수요미식회'])"
   ]
  },
  {
   "cell_type": "markdown",
   "metadata": {},
   "source": [
    "모두 정규성에 위배됨......."
   ]
  },
  {
   "cell_type": "code",
   "execution_count": 15,
   "metadata": {},
   "outputs": [
    {
     "data": {
      "text/plain": [
       "((array([-2.01197163, -1.6105163 , -1.36883603, -1.1880445 , -1.03948072,\n",
       "         -0.91090285, -0.79586259, -0.69050407, -0.59231064, -0.49952733,\n",
       "         -0.41086261, -0.32532036, -0.24209833, -0.16052274, -0.08000327,\n",
       "          0.        ,  0.08000327,  0.16052274,  0.24209833,  0.32532036,\n",
       "          0.41086261,  0.49952733,  0.59231064,  0.69050407,  0.79586259,\n",
       "          0.91090285,  1.03948072,  1.1880445 ,  1.36883603,  1.6105163 ,\n",
       "          2.01197163]),\n",
       "  array([-62, -61, -52, -34, -30, -22, -12,  -5,  -1,   4,   9,   9,   9,\n",
       "          12,  13,  13,  15,  17,  19,  20,  23,  28,  30,  43,  44,  45,\n",
       "          49,  51,  60,  62,  68], dtype=int64)),\n",
       " (35.141816316591076, 11.74193548387096, 0.9795499163229399))"
      ]
     },
     "execution_count": 15,
     "metadata": {},
     "output_type": "execute_result"
    },
    {
     "data": {
      "image/png": "[encoded data removed]",
      "text/plain": [
       "<Figure size 432x288 with 1 Axes>"
      ]
     },
     "metadata": {},
     "output_type": "display_data"
    }
   ],
   "source": [
    "stats.probplot(anova['증가'][anova['방송'] == '맛있는 녀석들'], plot= plt)"
   ]
  },
  {
   "cell_type": "code",
   "execution_count": 16,
   "metadata": {},
   "outputs": [
    {
     "data": {
      "text/plain": [
       "((array([-2.01197163, -1.6105163 , -1.36883603, -1.1880445 , -1.03948072,\n",
       "         -0.91090285, -0.79586259, -0.69050407, -0.59231064, -0.49952733,\n",
       "         -0.41086261, -0.32532036, -0.24209833, -0.16052274, -0.08000327,\n",
       "          0.        ,  0.08000327,  0.16052274,  0.24209833,  0.32532036,\n",
       "          0.41086261,  0.49952733,  0.59231064,  0.69050407,  0.79586259,\n",
       "          0.91090285,  1.03948072,  1.1880445 ,  1.36883603,  1.6105163 ,\n",
       "          2.01197163]),\n",
       "  array([-92,  -9,  -2,   0,   5,   5,   5,   6,   7,  11,  11,  11,  11,\n",
       "          11,  11,  11,  12,  13,  14,  14,  14,  15,  17,  19,  24,  29,\n",
       "          37,  40,  45,  55,  74], dtype=int64)),\n",
       " (22.97810229536809, 13.677419354838705, 0.8477179716653752))"
      ]
     },
     "execution_count": 16,
     "metadata": {},
     "output_type": "execute_result"
    },
    {
     "data": {
      "image/png": "[encoded data removed]",
      "text/plain": [
       "<Figure size 432x288 with 1 Axes>"
      ]
     },
     "metadata": {},
     "output_type": "display_data"
    }
   ],
   "source": [
    "stats.probplot(anova['증가'][anova['방송'] == '생생정보통'], plot= plt)"
   ]
  },
  {
   "cell_type": "code",
   "execution_count": 17,
   "metadata": {},
   "outputs": [
    {
     "data": {
      "text/plain": [
       "((array([-2.02511189, -1.62590278, -1.38593914, -1.20666642, -1.05953591,\n",
       "         -0.93235918, -0.81872017, -0.71478609, -0.6180591 , -0.52680137,\n",
       "         -0.43973827, -0.35589149, -0.27447843, -0.19484777, -0.11643566,\n",
       "         -0.03873405,  0.03873405,  0.11643566,  0.19484777,  0.27447843,\n",
       "          0.35589149,  0.43973827,  0.52680137,  0.6180591 ,  0.71478609,\n",
       "          0.81872017,  0.93235918,  1.05953591,  1.20666642,  1.38593914,\n",
       "          1.62590278,  2.02511189]),\n",
       "  array([-15, -11,  -1,   1,   3,   4,   4,   6,   6,   6,   9,  20,  22,\n",
       "          24,  25,  27,  29,  32,  32,  32,  34,  34,  34,  36,  38,  40,\n",
       "          41,  46,  47,  64,  71,  73], dtype=int64)),\n",
       " (22.356989384162073, 25.406250000000004, 0.9820241535802277))"
      ]
     },
     "execution_count": 17,
     "metadata": {},
     "output_type": "execute_result"
    },
    {
     "data": {
      "image/png": "[encoded data removed]",
      "text/plain": [
       "<Figure size 432x288 with 1 Axes>"
      ]
     },
     "metadata": {},
     "output_type": "display_data"
    }
   ],
   "source": [
    "stats.probplot(anova['증가'][anova['방송'] == '수요미식회'], plot= plt)"
   ]
  },
  {
   "cell_type": "markdown",
   "metadata": {},
   "source": [
    "흠....\n",
    "일단 데이터의 수가 크니 정규분포를 따른다고 가정하고 넘어가자"
   ]
  },
  {
   "cell_type": "markdown",
   "metadata": {},
   "source": [
    "### 2. 등분산 검정"
   ]
  },
  {
   "cell_type": "code",
   "execution_count": 48,
   "metadata": {},
   "outputs": [
    {
     "data": {
      "text/plain": [
       "LeveneResult(statistic=3.185956996959367, pvalue=0.04579130757264899)"
      ]
     },
     "execution_count": 48,
     "metadata": {},
     "output_type": "execute_result"
    }
   ],
   "source": [
    "stats.levene(anova['증가'][anova['방송'] == '맛있는 녀석들'], \n",
    "             anova['증가'][anova['방송'] == '생생정보통'],\n",
    "             anova['증가'][anova['방송'] == '수요미식회'])"
   ]
  },
  {
   "cell_type": "markdown",
   "metadata": {},
   "source": [
    "아....이것도 위배된다....."
   ]
  },
  {
   "cell_type": "code",
   "execution_count": 18,
   "metadata": {},
   "outputs": [
    {
     "data": {
      "text/plain": [
       "LeveneResult(statistic=2.930504007701646, pvalue=0.05842578580866439)"
      ]
     },
     "execution_count": 18,
     "metadata": {},
     "output_type": "execute_result"
    }
   ],
   "source": [
    "stats.levene(anova1['증가'][anova1['방송'] == '맛있는 녀석들'], \n",
    "             anova1['증가'][anova1['방송'] == '생생정보통'],\n",
    "             anova1['증가'][anova1['방송'] == '수요미식회'])"
   ]
  },
  {
   "cell_type": "markdown",
   "metadata": {},
   "source": [
    "등분산은 통과"
   ]
  },
  {
   "cell_type": "markdown",
   "metadata": {},
   "source": [
    "## ANOVA"
   ]
  },
  {
   "cell_type": "code",
   "execution_count": 32,
   "metadata": {},
   "outputs": [
    {
     "data": {
      "text/plain": [
       "F_onewayResult(statistic=2.251648138500149, pvalue=0.11075529675853876)"
      ]
     },
     "execution_count": 32,
     "metadata": {},
     "output_type": "execute_result"
    }
   ],
   "source": [
    "stats.f_oneway(anova['증가'][anova['방송'] == '맛있는 녀석들'], \n",
    "             anova['증가'][anova['방송'] == '생생정보통'],\n",
    "             anova['증가'][anova['방송'] == '수요미식회'])"
   ]
  },
  {
   "cell_type": "code",
   "execution_count": 13,
   "metadata": {},
   "outputs": [],
   "source": [
    "import statsmodels.api as sm\n",
    "from statsmodels.formula.api import ols"
   ]
  },
  {
   "cell_type": "code",
   "execution_count": 34,
   "metadata": {},
   "outputs": [],
   "source": [
    "broad_lm = ols('증가 ~ C(방송)',\n",
    "                 data=anova).fit()\n",
    "table = sm.stats.anova_lm(broad_lm, typ=2)"
   ]
  },
  {
   "cell_type": "code",
   "execution_count": 35,
   "metadata": {},
   "outputs": [
    {
     "name": "stdout",
     "output_type": "stream",
     "text": [
      "                 sum_sq    df         F    PR(>F)\n",
      "C(방송)      11565.952076   2.0  2.251648  0.110755\n",
      "Residual  246559.704490  96.0       NaN       NaN\n"
     ]
    }
   ],
   "source": [
    "print(table)"
   ]
  },
  {
   "cell_type": "code",
   "execution_count": 36,
   "metadata": {},
   "outputs": [
    {
     "data": {
      "text/html": [
       "<table class=\"simpletable\">\n",
       "<caption>OLS Regression Results</caption>\n",
       "<tr>\n",
       "  <th>Dep. Variable:</th>           <td>증가</td>        <th>  R-squared:         </th> <td>   0.045</td>\n",
       "</tr>\n",
       "<tr>\n",
       "  <th>Model:</th>                   <td>OLS</td>       <th>  Adj. R-squared:    </th> <td>   0.025</td>\n",
       "</tr>\n",
       "<tr>\n",
       "  <th>Method:</th>             <td>Least Squares</td>  <th>  F-statistic:       </th> <td>   2.252</td>\n",
       "</tr>\n",
       "<tr>\n",
       "  <th>Date:</th>             <td>Mon, 20 Aug 2018</td> <th>  Prob (F-statistic):</th>  <td> 0.111</td> \n",
       "</tr>\n",
       "<tr>\n",
       "  <th>Time:</th>                 <td>20:58:00</td>     <th>  Log-Likelihood:    </th> <td> -527.58</td>\n",
       "</tr>\n",
       "<tr>\n",
       "  <th>No. Observations:</th>      <td>    99</td>      <th>  AIC:               </th> <td>   1061.</td>\n",
       "</tr>\n",
       "<tr>\n",
       "  <th>Df Residuals:</th>          <td>    96</td>      <th>  BIC:               </th> <td>   1069.</td>\n",
       "</tr>\n",
       "<tr>\n",
       "  <th>Df Model:</th>              <td>     2</td>      <th>                     </th>     <td> </td>   \n",
       "</tr>\n",
       "<tr>\n",
       "  <th>Covariance Type:</th>      <td>nonrobust</td>    <th>                     </th>     <td> </td>   \n",
       "</tr>\n",
       "</table>\n",
       "<table class=\"simpletable\">\n",
       "<tr>\n",
       "         <td></td>           <th>coef</th>     <th>std err</th>      <th>t</th>      <th>P>|t|</th>  <th>[0.025</th>    <th>0.975]</th>  \n",
       "</tr>\n",
       "<tr>\n",
       "  <th>Intercept</th>      <td>    2.5294</td> <td>    8.691</td> <td>    0.291</td> <td> 0.772</td> <td>  -14.723</td> <td>   19.782</td>\n",
       "</tr>\n",
       "<tr>\n",
       "  <th>C(방송)[T.생생정보통]</th> <td>   13.8768</td> <td>   12.482</td> <td>    1.112</td> <td> 0.269</td> <td>  -10.900</td> <td>   38.653</td>\n",
       "</tr>\n",
       "<tr>\n",
       "  <th>C(방송)[T.수요미식회]</th> <td>   26.2585</td> <td>   12.384</td> <td>    2.120</td> <td> 0.037</td> <td>    1.676</td> <td>   50.841</td>\n",
       "</tr>\n",
       "</table>\n",
       "<table class=\"simpletable\">\n",
       "<tr>\n",
       "  <th>Omnibus:</th>       <td>83.259</td> <th>  Durbin-Watson:     </th> <td>   1.638</td> \n",
       "</tr>\n",
       "<tr>\n",
       "  <th>Prob(Omnibus):</th> <td> 0.000</td> <th>  Jarque-Bera (JB):  </th> <td>1302.980</td> \n",
       "</tr>\n",
       "<tr>\n",
       "  <th>Skew:</th>          <td>-2.367</td> <th>  Prob(JB):          </th> <td>1.15e-283</td>\n",
       "</tr>\n",
       "<tr>\n",
       "  <th>Kurtosis:</th>      <td>20.131</td> <th>  Cond. No.          </th> <td>    3.68</td> \n",
       "</tr>\n",
       "</table><br/><br/>Warnings:<br/>[1] Standard Errors assume that the covariance matrix of the errors is correctly specified."
      ],
      "text/plain": [
       "<class 'statsmodels.iolib.summary.Summary'>\n",
       "\"\"\"\n",
       "                            OLS Regression Results                            \n",
       "==============================================================================\n",
       "Dep. Variable:                     증가   R-squared:                       0.045\n",
       "Model:                            OLS   Adj. R-squared:                  0.025\n",
       "Method:                 Least Squares   F-statistic:                     2.252\n",
       "Date:                Mon, 20 Aug 2018   Prob (F-statistic):              0.111\n",
       "Time:                        20:58:00   Log-Likelihood:                -527.58\n",
       "No. Observations:                  99   AIC:                             1061.\n",
       "Df Residuals:                      96   BIC:                             1069.\n",
       "Df Model:                           2                                         \n",
       "Covariance Type:            nonrobust                                         \n",
       "==================================================================================\n",
       "                     coef    std err          t      P>|t|      [0.025      0.975]\n",
       "----------------------------------------------------------------------------------\n",
       "Intercept          2.5294      8.691      0.291      0.772     -14.723      19.782\n",
       "C(방송)[T.생생정보통]    13.8768     12.482      1.112      0.269     -10.900      38.653\n",
       "C(방송)[T.수요미식회]    26.2585     12.384      2.120      0.037       1.676      50.841\n",
       "==============================================================================\n",
       "Omnibus:                       83.259   Durbin-Watson:                   1.638\n",
       "Prob(Omnibus):                  0.000   Jarque-Bera (JB):             1302.980\n",
       "Skew:                          -2.367   Prob(JB):                    1.15e-283\n",
       "Kurtosis:                      20.131   Cond. No.                         3.68\n",
       "==============================================================================\n",
       "\n",
       "Warnings:\n",
       "[1] Standard Errors assume that the covariance matrix of the errors is correctly specified.\n",
       "\"\"\""
      ]
     },
     "execution_count": 36,
     "metadata": {},
     "output_type": "execute_result"
    }
   ],
   "source": [
    "broad_lm.summary()"
   ]
  },
  {
   "cell_type": "code",
   "execution_count": 14,
   "metadata": {},
   "outputs": [
    {
     "data": {
      "text/html": [
       "<table class=\"simpletable\">\n",
       "<caption>OLS Regression Results</caption>\n",
       "<tr>\n",
       "  <th>Dep. Variable:</th>           <td>증가</td>        <th>  R-squared:         </th> <td>   0.046</td>\n",
       "</tr>\n",
       "<tr>\n",
       "  <th>Model:</th>                   <td>OLS</td>       <th>  Adj. R-squared:    </th> <td>   0.025</td>\n",
       "</tr>\n",
       "<tr>\n",
       "  <th>Method:</th>             <td>Least Squares</td>  <th>  F-statistic:       </th> <td>   2.212</td>\n",
       "</tr>\n",
       "<tr>\n",
       "  <th>Date:</th>             <td>Mon, 20 Aug 2018</td> <th>  Prob (F-statistic):</th>  <td> 0.115</td> \n",
       "</tr>\n",
       "<tr>\n",
       "  <th>Time:</th>                 <td>22:44:02</td>     <th>  Log-Likelihood:    </th> <td> -444.98</td>\n",
       "</tr>\n",
       "<tr>\n",
       "  <th>No. Observations:</th>      <td>    94</td>      <th>  AIC:               </th> <td>   896.0</td>\n",
       "</tr>\n",
       "<tr>\n",
       "  <th>Df Residuals:</th>          <td>    91</td>      <th>  BIC:               </th> <td>   903.6</td>\n",
       "</tr>\n",
       "<tr>\n",
       "  <th>Df Model:</th>              <td>     2</td>      <th>                     </th>     <td> </td>   \n",
       "</tr>\n",
       "<tr>\n",
       "  <th>Covariance Type:</th>      <td>nonrobust</td>    <th>                     </th>     <td> </td>   \n",
       "</tr>\n",
       "</table>\n",
       "<table class=\"simpletable\">\n",
       "<tr>\n",
       "         <td></td>           <th>coef</th>     <th>std err</th>      <th>t</th>      <th>P>|t|</th>  <th>[0.025</th>    <th>0.975]</th>  \n",
       "</tr>\n",
       "<tr>\n",
       "  <th>Intercept</th>      <td>   11.7419</td> <td>    5.023</td> <td>    2.337</td> <td> 0.022</td> <td>    1.763</td> <td>   21.720</td>\n",
       "</tr>\n",
       "<tr>\n",
       "  <th>C(방송)[T.생생정보통]</th> <td>    1.9355</td> <td>    7.104</td> <td>    0.272</td> <td> 0.786</td> <td>  -12.176</td> <td>   16.047</td>\n",
       "</tr>\n",
       "<tr>\n",
       "  <th>C(방송)[T.수요미식회]</th> <td>   13.6643</td> <td>    7.049</td> <td>    1.939</td> <td> 0.056</td> <td>   -0.337</td> <td>   27.665</td>\n",
       "</tr>\n",
       "</table>\n",
       "<table class=\"simpletable\">\n",
       "<tr>\n",
       "  <th>Omnibus:</th>       <td>15.741</td> <th>  Durbin-Watson:     </th> <td>   2.148</td>\n",
       "</tr>\n",
       "<tr>\n",
       "  <th>Prob(Omnibus):</th> <td> 0.000</td> <th>  Jarque-Bera (JB):  </th> <td>  24.989</td>\n",
       "</tr>\n",
       "<tr>\n",
       "  <th>Skew:</th>          <td>-0.708</td> <th>  Prob(JB):          </th> <td>3.75e-06</td>\n",
       "</tr>\n",
       "<tr>\n",
       "  <th>Kurtosis:</th>      <td> 5.092</td> <th>  Cond. No.          </th> <td>    3.75</td>\n",
       "</tr>\n",
       "</table><br/><br/>Warnings:<br/>[1] Standard Errors assume that the covariance matrix of the errors is correctly specified."
      ],
      "text/plain": [
       "<class 'statsmodels.iolib.summary.Summary'>\n",
       "\"\"\"\n",
       "                            OLS Regression Results                            \n",
       "==============================================================================\n",
       "Dep. Variable:                     증가   R-squared:                       0.046\n",
       "Model:                            OLS   Adj. R-squared:                  0.025\n",
       "Method:                 Least Squares   F-statistic:                     2.212\n",
       "Date:                Mon, 20 Aug 2018   Prob (F-statistic):              0.115\n",
       "Time:                        22:44:02   Log-Likelihood:                -444.98\n",
       "No. Observations:                  94   AIC:                             896.0\n",
       "Df Residuals:                      91   BIC:                             903.6\n",
       "Df Model:                           2                                         \n",
       "Covariance Type:            nonrobust                                         \n",
       "==================================================================================\n",
       "                     coef    std err          t      P>|t|      [0.025      0.975]\n",
       "----------------------------------------------------------------------------------\n",
       "Intercept         11.7419      5.023      2.337      0.022       1.763      21.720\n",
       "C(방송)[T.생생정보통]     1.9355      7.104      0.272      0.786     -12.176      16.047\n",
       "C(방송)[T.수요미식회]    13.6643      7.049      1.939      0.056      -0.337      27.665\n",
       "==============================================================================\n",
       "Omnibus:                       15.741   Durbin-Watson:                   2.148\n",
       "Prob(Omnibus):                  0.000   Jarque-Bera (JB):               24.989\n",
       "Skew:                          -0.708   Prob(JB):                     3.75e-06\n",
       "Kurtosis:                       5.092   Cond. No.                         3.75\n",
       "==============================================================================\n",
       "\n",
       "Warnings:\n",
       "[1] Standard Errors assume that the covariance matrix of the errors is correctly specified.\n",
       "\"\"\""
      ]
     },
     "execution_count": 14,
     "metadata": {},
     "output_type": "execute_result"
    }
   ],
   "source": [
    "broad_lm1 = ols('증가 ~ C(방송)',\n",
    "                 data=anova1).fit()\n",
    "broad_lm1.summary()"
   ]
  },
  {
   "cell_type": "code",
   "execution_count": 20,
   "metadata": {},
   "outputs": [
    {
     "name": "stdout",
     "output_type": "stream",
     "text": [
      "                sum_sq    df         F    PR(>F)\n",
      "C(방송)      3460.475828   2.0  2.211759  0.115362\n",
      "Residual  71188.428427  91.0       NaN       NaN\n"
     ]
    }
   ],
   "source": [
    "table = sm.stats.anova_lm(broad_lm1, typ=2)\n",
    "print(table)"
   ]
  },
  {
   "cell_type": "code",
   "execution_count": 37,
   "metadata": {},
   "outputs": [
    {
     "data": {
      "text/html": [
       "<div>\n",
       "<style scoped>\n",
       "    .dataframe tbody tr th:only-of-type {\n",
       "        vertical-align: middle;\n",
       "    }\n",
       "\n",
       "    .dataframe tbody tr th {\n",
       "        vertical-align: top;\n",
       "    }\n",
       "\n",
       "    .dataframe thead th {\n",
       "        text-align: right;\n",
       "    }\n",
       "</style>\n",
       "<table border=\"1\" class=\"dataframe\">\n",
       "  <thead>\n",
       "    <tr style=\"text-align: right;\">\n",
       "      <th></th>\n",
       "      <th>식당</th>\n",
       "      <th>방송</th>\n",
       "      <th>방영전</th>\n",
       "      <th>방영후</th>\n",
       "      <th>증가</th>\n",
       "    </tr>\n",
       "  </thead>\n",
       "  <tbody>\n",
       "    <tr>\n",
       "      <th>1</th>\n",
       "      <td>가람떡갈비</td>\n",
       "      <td>맛있는 녀석들</td>\n",
       "      <td>13</td>\n",
       "      <td>56</td>\n",
       "      <td>43</td>\n",
       "    </tr>\n",
       "    <tr>\n",
       "      <th>11</th>\n",
       "      <td>고향 양꼬치</td>\n",
       "      <td>맛있는 녀석들</td>\n",
       "      <td>145</td>\n",
       "      <td>7</td>\n",
       "      <td>-138</td>\n",
       "    </tr>\n",
       "    <tr>\n",
       "      <th>13</th>\n",
       "      <td>교동두부</td>\n",
       "      <td>맛있는 녀석들</td>\n",
       "      <td>105</td>\n",
       "      <td>149</td>\n",
       "      <td>44</td>\n",
       "    </tr>\n",
       "    <tr>\n",
       "      <th>15</th>\n",
       "      <td>김북순큰남비집</td>\n",
       "      <td>맛있는 녀석들</td>\n",
       "      <td>7</td>\n",
       "      <td>16</td>\n",
       "      <td>9</td>\n",
       "    </tr>\n",
       "    <tr>\n",
       "      <th>18</th>\n",
       "      <td>나정순할매쭈꾸미</td>\n",
       "      <td>맛있는 녀석들</td>\n",
       "      <td>41</td>\n",
       "      <td>103</td>\n",
       "      <td>62</td>\n",
       "    </tr>\n",
       "    <tr>\n",
       "      <th>21</th>\n",
       "      <td>도토리 편백집</td>\n",
       "      <td>맛있는 녀석들</td>\n",
       "      <td>84</td>\n",
       "      <td>50</td>\n",
       "      <td>-34</td>\n",
       "    </tr>\n",
       "    <tr>\n",
       "      <th>25</th>\n",
       "      <td>마복림떡볶이</td>\n",
       "      <td>맛있는 녀석들</td>\n",
       "      <td>175</td>\n",
       "      <td>114</td>\n",
       "      <td>-61</td>\n",
       "    </tr>\n",
       "    <tr>\n",
       "      <th>28</th>\n",
       "      <td>맛집 마음과마음</td>\n",
       "      <td>맛있는 녀석들</td>\n",
       "      <td>71</td>\n",
       "      <td>90</td>\n",
       "      <td>19</td>\n",
       "    </tr>\n",
       "    <tr>\n",
       "      <th>38</th>\n",
       "      <td>봉구네 고기집</td>\n",
       "      <td>맛있는 녀석들</td>\n",
       "      <td>5</td>\n",
       "      <td>14</td>\n",
       "      <td>9</td>\n",
       "    </tr>\n",
       "    <tr>\n",
       "      <th>39</th>\n",
       "      <td>봉산옥</td>\n",
       "      <td>맛있는 녀석들</td>\n",
       "      <td>4</td>\n",
       "      <td>53</td>\n",
       "      <td>49</td>\n",
       "    </tr>\n",
       "    <tr>\n",
       "      <th>42</th>\n",
       "      <td>부암갈비</td>\n",
       "      <td>맛있는 녀석들</td>\n",
       "      <td>122</td>\n",
       "      <td>70</td>\n",
       "      <td>-52</td>\n",
       "    </tr>\n",
       "    <tr>\n",
       "      <th>44</th>\n",
       "      <td>분짜 라붐</td>\n",
       "      <td>맛있는 녀석들</td>\n",
       "      <td>495</td>\n",
       "      <td>465</td>\n",
       "      <td>-30</td>\n",
       "    </tr>\n",
       "    <tr>\n",
       "      <th>46</th>\n",
       "      <td>사람사는 고깃집 김일도</td>\n",
       "      <td>맛있는 녀석들</td>\n",
       "      <td>20</td>\n",
       "      <td>29</td>\n",
       "      <td>9</td>\n",
       "    </tr>\n",
       "    <tr>\n",
       "      <th>49</th>\n",
       "      <td>서경도락</td>\n",
       "      <td>맛있는 녀석들</td>\n",
       "      <td>15</td>\n",
       "      <td>27</td>\n",
       "      <td>12</td>\n",
       "    </tr>\n",
       "    <tr>\n",
       "      <th>53</th>\n",
       "      <td>시추안하우스</td>\n",
       "      <td>맛있는 녀석들</td>\n",
       "      <td>55</td>\n",
       "      <td>75</td>\n",
       "      <td>20</td>\n",
       "    </tr>\n",
       "    <tr>\n",
       "      <th>58</th>\n",
       "      <td>어메이징 타일랜드</td>\n",
       "      <td>맛있는 녀석들</td>\n",
       "      <td>23</td>\n",
       "      <td>83</td>\n",
       "      <td>60</td>\n",
       "    </tr>\n",
       "    <tr>\n",
       "      <th>62</th>\n",
       "      <td>오복가정식</td>\n",
       "      <td>맛있는 녀석들</td>\n",
       "      <td>18</td>\n",
       "      <td>31</td>\n",
       "      <td>13</td>\n",
       "    </tr>\n",
       "    <tr>\n",
       "      <th>67</th>\n",
       "      <td>우정 가든</td>\n",
       "      <td>맛있는 녀석들</td>\n",
       "      <td>423</td>\n",
       "      <td>105</td>\n",
       "      <td>-318</td>\n",
       "    </tr>\n",
       "    <tr>\n",
       "      <th>68</th>\n",
       "      <td>원조남산왕돈가스</td>\n",
       "      <td>맛있는 녀석들</td>\n",
       "      <td>88</td>\n",
       "      <td>92</td>\n",
       "      <td>4</td>\n",
       "    </tr>\n",
       "    <tr>\n",
       "      <th>73</th>\n",
       "      <td>이필당</td>\n",
       "      <td>맛있는 녀석들</td>\n",
       "      <td>2</td>\n",
       "      <td>32</td>\n",
       "      <td>30</td>\n",
       "    </tr>\n",
       "    <tr>\n",
       "      <th>74</th>\n",
       "      <td>인디테이블</td>\n",
       "      <td>맛있는 녀석들</td>\n",
       "      <td>253</td>\n",
       "      <td>321</td>\n",
       "      <td>68</td>\n",
       "    </tr>\n",
       "    <tr>\n",
       "      <th>75</th>\n",
       "      <td>자연석돌구이</td>\n",
       "      <td>맛있는 녀석들</td>\n",
       "      <td>30</td>\n",
       "      <td>8</td>\n",
       "      <td>-22</td>\n",
       "    </tr>\n",
       "    <tr>\n",
       "      <th>77</th>\n",
       "      <td>제주쉬멍해장국</td>\n",
       "      <td>맛있는 녀석들</td>\n",
       "      <td>10</td>\n",
       "      <td>38</td>\n",
       "      <td>28</td>\n",
       "    </tr>\n",
       "    <tr>\n",
       "      <th>78</th>\n",
       "      <td>주은감자탕</td>\n",
       "      <td>맛있는 녀석들</td>\n",
       "      <td>41</td>\n",
       "      <td>36</td>\n",
       "      <td>-5</td>\n",
       "    </tr>\n",
       "    <tr>\n",
       "      <th>79</th>\n",
       "      <td>찌마기</td>\n",
       "      <td>맛있는 녀석들</td>\n",
       "      <td>29</td>\n",
       "      <td>42</td>\n",
       "      <td>13</td>\n",
       "    </tr>\n",
       "    <tr>\n",
       "      <th>81</th>\n",
       "      <td>채근담</td>\n",
       "      <td>맛있는 녀석들</td>\n",
       "      <td>358</td>\n",
       "      <td>536</td>\n",
       "      <td>178</td>\n",
       "    </tr>\n",
       "    <tr>\n",
       "      <th>83</th>\n",
       "      <td>철길 왕갈비살</td>\n",
       "      <td>맛있는 녀석들</td>\n",
       "      <td>10</td>\n",
       "      <td>33</td>\n",
       "      <td>23</td>\n",
       "    </tr>\n",
       "    <tr>\n",
       "      <th>84</th>\n",
       "      <td>청담골</td>\n",
       "      <td>맛있는 녀석들</td>\n",
       "      <td>30</td>\n",
       "      <td>81</td>\n",
       "      <td>51</td>\n",
       "    </tr>\n",
       "    <tr>\n",
       "      <th>85</th>\n",
       "      <td>춘심이네</td>\n",
       "      <td>맛있는 녀석들</td>\n",
       "      <td>330</td>\n",
       "      <td>329</td>\n",
       "      <td>-1</td>\n",
       "    </tr>\n",
       "    <tr>\n",
       "      <th>90</th>\n",
       "      <td>티마하우스</td>\n",
       "      <td>맛있는 녀석들</td>\n",
       "      <td>46</td>\n",
       "      <td>34</td>\n",
       "      <td>-12</td>\n",
       "    </tr>\n",
       "    <tr>\n",
       "      <th>91</th>\n",
       "      <td>하롱베이의 하루</td>\n",
       "      <td>맛있는 녀석들</td>\n",
       "      <td>212</td>\n",
       "      <td>227</td>\n",
       "      <td>15</td>\n",
       "    </tr>\n",
       "    <tr>\n",
       "      <th>93</th>\n",
       "      <td>한강껍데기</td>\n",
       "      <td>맛있는 녀석들</td>\n",
       "      <td>89</td>\n",
       "      <td>134</td>\n",
       "      <td>45</td>\n",
       "    </tr>\n",
       "    <tr>\n",
       "      <th>94</th>\n",
       "      <td>한라국수</td>\n",
       "      <td>맛있는 녀석들</td>\n",
       "      <td>163</td>\n",
       "      <td>101</td>\n",
       "      <td>-62</td>\n",
       "    </tr>\n",
       "    <tr>\n",
       "      <th>95</th>\n",
       "      <td>할매우짜</td>\n",
       "      <td>맛있는 녀석들</td>\n",
       "      <td>2</td>\n",
       "      <td>19</td>\n",
       "      <td>17</td>\n",
       "    </tr>\n",
       "  </tbody>\n",
       "</table>\n",
       "</div>"
      ],
      "text/plain": [
       "              식당       방송  방영전  방영후   증가\n",
       "1          가람떡갈비  맛있는 녀석들   13   56   43\n",
       "11        고향 양꼬치  맛있는 녀석들  145    7 -138\n",
       "13          교동두부  맛있는 녀석들  105  149   44\n",
       "15       김북순큰남비집  맛있는 녀석들    7   16    9\n",
       "18      나정순할매쭈꾸미  맛있는 녀석들   41  103   62\n",
       "21       도토리 편백집  맛있는 녀석들   84   50  -34\n",
       "25        마복림떡볶이  맛있는 녀석들  175  114  -61\n",
       "28      맛집 마음과마음  맛있는 녀석들   71   90   19\n",
       "38       봉구네 고기집  맛있는 녀석들    5   14    9\n",
       "39           봉산옥  맛있는 녀석들    4   53   49\n",
       "42          부암갈비  맛있는 녀석들  122   70  -52\n",
       "44         분짜 라붐  맛있는 녀석들  495  465  -30\n",
       "46  사람사는 고깃집 김일도  맛있는 녀석들   20   29    9\n",
       "49          서경도락  맛있는 녀석들   15   27   12\n",
       "53        시추안하우스  맛있는 녀석들   55   75   20\n",
       "58     어메이징 타일랜드  맛있는 녀석들   23   83   60\n",
       "62         오복가정식  맛있는 녀석들   18   31   13\n",
       "67         우정 가든  맛있는 녀석들  423  105 -318\n",
       "68      원조남산왕돈가스  맛있는 녀석들   88   92    4\n",
       "73           이필당  맛있는 녀석들    2   32   30\n",
       "74         인디테이블  맛있는 녀석들  253  321   68\n",
       "75        자연석돌구이  맛있는 녀석들   30    8  -22\n",
       "77       제주쉬멍해장국  맛있는 녀석들   10   38   28\n",
       "78         주은감자탕  맛있는 녀석들   41   36   -5\n",
       "79           찌마기  맛있는 녀석들   29   42   13\n",
       "81           채근담  맛있는 녀석들  358  536  178\n",
       "83       철길 왕갈비살  맛있는 녀석들   10   33   23\n",
       "84           청담골  맛있는 녀석들   30   81   51\n",
       "85          춘심이네  맛있는 녀석들  330  329   -1\n",
       "90         티마하우스  맛있는 녀석들   46   34  -12\n",
       "91      하롱베이의 하루  맛있는 녀석들  212  227   15\n",
       "93         한강껍데기  맛있는 녀석들   89  134   45\n",
       "94          한라국수  맛있는 녀석들  163  101  -62\n",
       "95          할매우짜  맛있는 녀석들    2   19   17"
      ]
     },
     "execution_count": 37,
     "metadata": {},
     "output_type": "execute_result"
    }
   ],
   "source": [
    "anova.loc[anova['방송']=='맛있는 녀석들']"
   ]
  },
  {
   "cell_type": "code",
   "execution_count": null,
   "metadata": {},
   "outputs": [],
   "source": []
  }
 ],
 "metadata": {
  "kernelspec": {
   "display_name": "Python 3",
   "language": "python",
   "name": "python3"
  },
  "language_info": {
   "codemirror_mode": {
    "name": "ipython",
    "version": 3
   },
   "file_extension": ".py",
   "mimetype": "text/x-python",
   "name": "python",
   "nbconvert_exporter": "python",
   "pygments_lexer": "ipython3",
   "version": "3.6.5"
  }
 },
 "nbformat": 4,
 "nbformat_minor": 2
}
