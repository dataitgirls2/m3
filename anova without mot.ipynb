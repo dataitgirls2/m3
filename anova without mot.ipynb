{
 "cells": [
  {
   "cell_type": "code",
   "execution_count": 1,
   "metadata": {},
   "outputs": [],
   "source": [
    "import pandas as pd\n",
    "import scipy.stats as stats\n",
    "import matplotlib.pyplot as plt"
   ]
  },
  {
   "cell_type": "code",
   "execution_count": 2,
   "metadata": {},
   "outputs": [],
   "source": [
    "df1 = pd.read_csv('sangsang_2018_tidy.csv')\n",
    "df2 = pd.read_csv('suyo_2018_2_tidy.csv')"
   ]
  },
  {
   "cell_type": "code",
   "execution_count": 3,
   "metadata": {},
   "outputs": [
    {
     "data": {
      "text/html": [
       "<div>\n",
       "<style scoped>\n",
       "    .dataframe tbody tr th:only-of-type {\n",
       "        vertical-align: middle;\n",
       "    }\n",
       "\n",
       "    .dataframe tbody tr th {\n",
       "        vertical-align: top;\n",
       "    }\n",
       "\n",
       "    .dataframe thead th {\n",
       "        text-align: right;\n",
       "    }\n",
       "</style>\n",
       "<table border=\"1\" class=\"dataframe\">\n",
       "  <thead>\n",
       "    <tr style=\"text-align: right;\">\n",
       "      <th></th>\n",
       "      <th>Unnamed: 0</th>\n",
       "      <th>방송</th>\n",
       "      <th>식당</th>\n",
       "      <th>방영일</th>\n",
       "      <th>포스팅일</th>\n",
       "      <th>제목</th>\n",
       "      <th>위치</th>\n",
       "      <th>서울</th>\n",
       "      <th>days_diff</th>\n",
       "    </tr>\n",
       "  </thead>\n",
       "  <tbody>\n",
       "    <tr>\n",
       "      <th>0</th>\n",
       "      <td>0</td>\n",
       "      <td>수요미식회</td>\n",
       "      <td>말굽버섯</td>\n",
       "      <td>2018-01-31</td>\n",
       "      <td>2018-02-07</td>\n",
       "      <td>청계산 맛집 수요미식회 말굽 버섯 전골 다양한 버섯가득 말굽버섯</td>\n",
       "      <td>성남</td>\n",
       "      <td>0.0</td>\n",
       "      <td>7</td>\n",
       "    </tr>\n",
       "    <tr>\n",
       "      <th>1</th>\n",
       "      <td>1</td>\n",
       "      <td>수요미식회</td>\n",
       "      <td>말굽버섯</td>\n",
       "      <td>2018-01-31</td>\n",
       "      <td>2018-01-09</td>\n",
       "      <td>자연산 말굽버섯효능 및 먹는법[말굽버섯가격 안내]</td>\n",
       "      <td>성남</td>\n",
       "      <td>0.0</td>\n",
       "      <td>-22</td>\n",
       "    </tr>\n",
       "    <tr>\n",
       "      <th>2</th>\n",
       "      <td>2</td>\n",
       "      <td>수요미식회</td>\n",
       "      <td>말굽버섯</td>\n",
       "      <td>2018-01-31</td>\n",
       "      <td>2018-02-05</td>\n",
       "      <td>말굽처럼 생겼다고 해서 붙여진 말굽버섯</td>\n",
       "      <td>성남</td>\n",
       "      <td>0.0</td>\n",
       "      <td>5</td>\n",
       "    </tr>\n",
       "    <tr>\n",
       "      <th>3</th>\n",
       "      <td>3</td>\n",
       "      <td>수요미식회</td>\n",
       "      <td>말굽버섯</td>\n",
       "      <td>2018-01-31</td>\n",
       "      <td>2018-01-23</td>\n",
       "      <td>말굽버섯</td>\n",
       "      <td>성남</td>\n",
       "      <td>0.0</td>\n",
       "      <td>-8</td>\n",
       "    </tr>\n",
       "    <tr>\n",
       "      <th>4</th>\n",
       "      <td>4</td>\n",
       "      <td>수요미식회</td>\n",
       "      <td>말굽버섯</td>\n",
       "      <td>2018-01-31</td>\n",
       "      <td>2018-02-08</td>\n",
       "      <td>야생 말굽버섯파는곳, 말굽버섯효능, 말굽버섯가격</td>\n",
       "      <td>성남</td>\n",
       "      <td>0.0</td>\n",
       "      <td>8</td>\n",
       "    </tr>\n",
       "  </tbody>\n",
       "</table>\n",
       "</div>"
      ],
      "text/plain": [
       "   Unnamed: 0     방송    식당         방영일        포스팅일  \\\n",
       "0           0  수요미식회  말굽버섯  2018-01-31  2018-02-07   \n",
       "1           1  수요미식회  말굽버섯  2018-01-31  2018-01-09   \n",
       "2           2  수요미식회  말굽버섯  2018-01-31  2018-02-05   \n",
       "3           3  수요미식회  말굽버섯  2018-01-31  2018-01-23   \n",
       "4           4  수요미식회  말굽버섯  2018-01-31  2018-02-08   \n",
       "\n",
       "                                    제목  위치   서울  days_diff  \n",
       "0  청계산 맛집 수요미식회 말굽 버섯 전골 다양한 버섯가득 말굽버섯  성남  0.0          7  \n",
       "1          자연산 말굽버섯효능 및 먹는법[말굽버섯가격 안내]  성남  0.0        -22  \n",
       "2                말굽처럼 생겼다고 해서 붙여진 말굽버섯  성남  0.0          5  \n",
       "3                                 말굽버섯  성남  0.0         -8  \n",
       "4           야생 말굽버섯파는곳, 말굽버섯효능, 말굽버섯가격  성남  0.0          8  "
      ]
     },
     "execution_count": 3,
     "metadata": {},
     "output_type": "execute_result"
    }
   ],
   "source": [
    "df2.head()"
   ]
  },
  {
   "cell_type": "code",
   "execution_count": 4,
   "metadata": {},
   "outputs": [],
   "source": [
    "df2 = df2.drop(columns = ['Unnamed: 0'])"
   ]
  },
  {
   "cell_type": "code",
   "execution_count": 5,
   "metadata": {},
   "outputs": [],
   "source": [
    "df = pd.concat([df1, df2], ignore_index=True, sort = False)"
   ]
  },
  {
   "cell_type": "code",
   "execution_count": 6,
   "metadata": {},
   "outputs": [],
   "source": [
    "df['방영전'] = df['days_diff'] < 0\n",
    "df['방영후'] = df['days_diff'] >= 0\n",
    "\n",
    "df['방영전'] = df['방영전'].astype(int)\n",
    "df['방영후'] = df['방영후'].astype(int)"
   ]
  },
  {
   "cell_type": "code",
   "execution_count": 7,
   "metadata": {},
   "outputs": [],
   "source": [
    "anova = pd.DataFrame(df.groupby(['식당', '방송'])['방영전', '방영후'].sum()).reset_index()"
   ]
  },
  {
   "cell_type": "code",
   "execution_count": 8,
   "metadata": {},
   "outputs": [],
   "source": [
    "anova['증가'] = anova['방영후'] - anova['방영전']"
   ]
  },
  {
   "cell_type": "code",
   "execution_count": 9,
   "metadata": {},
   "outputs": [],
   "source": [
    "import statsmodels.api as sm\n",
    "from statsmodels.formula.api import ols"
   ]
  },
  {
   "cell_type": "code",
   "execution_count": 10,
   "metadata": {},
   "outputs": [
    {
     "data": {
      "text/html": [
       "<table class=\"simpletable\">\n",
       "<caption>OLS Regression Results</caption>\n",
       "<tr>\n",
       "  <th>Dep. Variable:</th>           <td>증가</td>        <th>  R-squared:         </th> <td>   0.043</td>\n",
       "</tr>\n",
       "<tr>\n",
       "  <th>Model:</th>                   <td>OLS</td>       <th>  Adj. R-squared:    </th> <td>   0.028</td>\n",
       "</tr>\n",
       "<tr>\n",
       "  <th>Method:</th>             <td>Least Squares</td>  <th>  F-statistic:       </th> <td>   2.861</td>\n",
       "</tr>\n",
       "<tr>\n",
       "  <th>Date:</th>             <td>Mon, 20 Aug 2018</td> <th>  Prob (F-statistic):</th>  <td>0.0957</td> \n",
       "</tr>\n",
       "<tr>\n",
       "  <th>Time:</th>                 <td>21:06:23</td>     <th>  Log-Likelihood:    </th> <td> -311.21</td>\n",
       "</tr>\n",
       "<tr>\n",
       "  <th>No. Observations:</th>      <td>    65</td>      <th>  AIC:               </th> <td>   626.4</td>\n",
       "</tr>\n",
       "<tr>\n",
       "  <th>Df Residuals:</th>          <td>    63</td>      <th>  BIC:               </th> <td>   630.8</td>\n",
       "</tr>\n",
       "<tr>\n",
       "  <th>Df Model:</th>              <td>     1</td>      <th>                     </th>     <td> </td>   \n",
       "</tr>\n",
       "<tr>\n",
       "  <th>Covariance Type:</th>      <td>nonrobust</td>    <th>                     </th>     <td> </td>   \n",
       "</tr>\n",
       "</table>\n",
       "<table class=\"simpletable\">\n",
       "<tr>\n",
       "         <td></td>           <th>coef</th>     <th>std err</th>      <th>t</th>      <th>P>|t|</th>  <th>[0.025</th>    <th>0.975]</th>  \n",
       "</tr>\n",
       "<tr>\n",
       "  <th>Intercept</th>      <td>   16.4063</td> <td>    5.215</td> <td>    3.146</td> <td> 0.003</td> <td>    5.984</td> <td>   26.829</td>\n",
       "</tr>\n",
       "<tr>\n",
       "  <th>C(방송)[T.수요미식회]</th> <td>   12.3816</td> <td>    7.320</td> <td>    1.692</td> <td> 0.096</td> <td>   -2.246</td> <td>   27.009</td>\n",
       "</tr>\n",
       "</table>\n",
       "<table class=\"simpletable\">\n",
       "<tr>\n",
       "  <th>Omnibus:</th>       <td>17.369</td> <th>  Durbin-Watson:     </th> <td>   2.089</td>\n",
       "</tr>\n",
       "<tr>\n",
       "  <th>Prob(Omnibus):</th> <td> 0.000</td> <th>  Jarque-Bera (JB):  </th> <td>  64.640</td>\n",
       "</tr>\n",
       "<tr>\n",
       "  <th>Skew:</th>          <td> 0.499</td> <th>  Prob(JB):          </th> <td>9.19e-15</td>\n",
       "</tr>\n",
       "<tr>\n",
       "  <th>Kurtosis:</th>      <td> 7.782</td> <th>  Cond. No.          </th> <td>    2.64</td>\n",
       "</tr>\n",
       "</table><br/><br/>Warnings:<br/>[1] Standard Errors assume that the covariance matrix of the errors is correctly specified."
      ],
      "text/plain": [
       "<class 'statsmodels.iolib.summary.Summary'>\n",
       "\"\"\"\n",
       "                            OLS Regression Results                            \n",
       "==============================================================================\n",
       "Dep. Variable:                     증가   R-squared:                       0.043\n",
       "Model:                            OLS   Adj. R-squared:                  0.028\n",
       "Method:                 Least Squares   F-statistic:                     2.861\n",
       "Date:                Mon, 20 Aug 2018   Prob (F-statistic):             0.0957\n",
       "Time:                        21:06:23   Log-Likelihood:                -311.21\n",
       "No. Observations:                  65   AIC:                             626.4\n",
       "Df Residuals:                      63   BIC:                             630.8\n",
       "Df Model:                           1                                         \n",
       "Covariance Type:            nonrobust                                         \n",
       "==================================================================================\n",
       "                     coef    std err          t      P>|t|      [0.025      0.975]\n",
       "----------------------------------------------------------------------------------\n",
       "Intercept         16.4063      5.215      3.146      0.003       5.984      26.829\n",
       "C(방송)[T.수요미식회]    12.3816      7.320      1.692      0.096      -2.246      27.009\n",
       "==============================================================================\n",
       "Omnibus:                       17.369   Durbin-Watson:                   2.089\n",
       "Prob(Omnibus):                  0.000   Jarque-Bera (JB):               64.640\n",
       "Skew:                           0.499   Prob(JB):                     9.19e-15\n",
       "Kurtosis:                       7.782   Cond. No.                         2.64\n",
       "==============================================================================\n",
       "\n",
       "Warnings:\n",
       "[1] Standard Errors assume that the covariance matrix of the errors is correctly specified.\n",
       "\"\"\""
      ]
     },
     "execution_count": 10,
     "metadata": {},
     "output_type": "execute_result"
    }
   ],
   "source": [
    "broad_lm = ols('증가 ~ C(방송)',\n",
    "                 data=anova).fit()\n",
    "broad_lm.summary()"
   ]
  },
  {
   "cell_type": "code",
   "execution_count": null,
   "metadata": {},
   "outputs": [],
   "source": []
  }
 ],
 "metadata": {
  "kernelspec": {
   "display_name": "Python 3",
   "language": "python",
   "name": "python3"
  },
  "language_info": {
   "codemirror_mode": {
    "name": "ipython",
    "version": 3
   },
   "file_extension": ".py",
   "mimetype": "text/x-python",
   "name": "python",
   "nbconvert_exporter": "python",
   "pygments_lexer": "ipython3",
   "version": "3.6.5"
  }
 },
 "nbformat": 4,
 "nbformat_minor": 2
}
