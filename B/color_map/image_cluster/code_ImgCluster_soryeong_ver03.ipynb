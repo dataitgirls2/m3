{
 "cells": [
  {
   "cell_type": "code",
   "execution_count": 1,
   "metadata": {},
   "outputs": [],
   "source": [
    "import numpy as np\n",
    "import cv2\n",
    "import matplotlib.image as mpimg\n",
    "from matplotlib import pyplot as plt\n",
    "from sklearn.cluster import KMeans"
   ]
  },
  {
   "cell_type": "code",
   "execution_count": 2,
   "metadata": {},
   "outputs": [
    {
     "data": {
      "text/plain": [
       "'출처 : https://github.com/inyl/my_notebook/blob/master/open_cv/image_color_cluster.ipynb'"
      ]
     },
     "execution_count": 2,
     "metadata": {},
     "output_type": "execute_result"
    }
   ],
   "source": [
    "'''출처 : https://github.com/inyl/my_notebook/blob/master/open_cv/image_color_cluster.ipynb'''"
   ]
  },
  {
   "cell_type": "code",
   "execution_count": 3,
   "metadata": {},
   "outputs": [],
   "source": [
    "def centroid_histogram(clt):\n",
    "    '''\n",
    "    # grab the number of different clusters and create a histogram\n",
    "    히스토그램 형식으로 색을 반환\n",
    "    based on the number of pixels assigned to each cluster\n",
    "    각 클러스터의 픽셀의 숫자를 기반으로 함\n",
    "    '''\n",
    "    numLabels = np.arange(0, len(np.unique(clt.labels_)) + 1)\n",
    "    (hist, _) = np.histogram(clt.labels_, bins=numLabels)\n",
    "\n",
    "    # normalize the histogram, such that it sums to one\n",
    "    hist = hist.astype(\"float\")\n",
    "    hist /= hist.sum()  # hist = hist/hist.sum()\n",
    "\n",
    "    # return the histogram\n",
    "    return hist"
   ]
  },
  {
   "cell_type": "code",
   "execution_count": 4,
   "metadata": {},
   "outputs": [],
   "source": [
    "def plot_colors(hist, centroids):\n",
    "    '''\n",
    "    initialize the bar chart representing the relative frequency of each of the colors\n",
    "    각 색의 빈도를 나타내는 바 차트를 초기화\n",
    "    '''\n",
    "    bar = np.zeros((50, 300, 3), dtype=\"uint8\")\n",
    "    startX = 0\n",
    "\n",
    "    # loop over the percentage of each cluster and the color of each cluster\n",
    "    for (percent, color) in zip(hist, centroids):\n",
    "        # plot the relative percentage of each cluster\n",
    "        endX = startX + (percent * 300)\n",
    "        cv2.rectangle(bar, (int(startX), 0), (int(endX), 50),\n",
    "                      color.astype(\"uint8\").tolist(), -1)\n",
    "        startX = endX\n",
    "\n",
    "    # return the bar chart\n",
    "    return bar"
   ]
  },
  {
   "cell_type": "code",
   "execution_count": 5,
   "metadata": {},
   "outputs": [],
   "source": [
    "def image_color_cluster(image_path, k = 5):\n",
    "    image = cv2.imread(image_path)\n",
    "    # image의 shape을 찍어보면, height, width, channel 순으로 나옴\n",
    "    # channel은 RGB를 말함\n",
    "    image = cv2.cvtColor(image, cv2.COLOR_BGR2RGB)\n",
    "    # cv에서는 RGB가 아닌 BGR 순으로 나오기 때문에 순서를 RGB로 전환\n",
    "    image = image.reshape((image.shape[0] * image.shape[1], 3))\n",
    "    # shape의 0,1번째 즉, height와 width를 통합시킴\n",
    "    \n",
    "    clt = KMeans(n_clusters = k)  # 평균 알고리즘 KMeans\n",
    "    clt.fit(image)\n",
    "\n",
    "    hist = centroid_histogram(clt)\n",
    "    bar = plot_colors(hist, clt.cluster_centers_)\n",
    "    \n",
    "    plt.figure()\n",
    "    plt.axis(\"off\")\n",
    "    plt.imshow(bar)\n",
    "    plt.show()"
   ]
  },
  {
   "cell_type": "code",
   "execution_count": 6,
   "metadata": {},
   "outputs": [
    {
     "data": {
      "text/plain": [
       "'ep'"
      ]
     },
     "execution_count": 6,
     "metadata": {},
     "output_type": "execute_result"
    }
   ],
   "source": [
    "area_names = {'ws' : ['ep', 'mp', 'sdm'],\n",
    "              'sw' : ['gs', 'ys', 'ydp', 'gr'],\n",
    "              'cs' : ['jr', 'jg', 'ys'],\n",
    "              'ss' : ['dj', 'ga', 'gc'],\n",
    "              'gn' : ['sc', 'gn'],\n",
    "              'gb' : ['db', 'gb', 'sb', 'nw'],\n",
    "              'es' : ['ddm', 'jl', 'sd', 'gj'],\n",
    "              'se' : ['gd', 'sp']\n",
    "             }\n",
    "area_names['ws'][0]"
   ]
  },
  {
   "cell_type": "code",
   "execution_count": 7,
   "metadata": {},
   "outputs": [
    {
     "data": {
      "text/plain": [
       "['./cafe_image/ws_ep_01.png',\n",
       " './cafe_image/ws_ep_02.png',\n",
       " './cafe_image/ws_ep_03.png',\n",
       " './cafe_image/ws_ep_04.png',\n",
       " './cafe_image/ws_ep_05.png']"
      ]
     },
     "execution_count": 7,
     "metadata": {},
     "output_type": "execute_result"
    }
   ],
   "source": [
    "path_list = ['./cafe_image/{0}_{1}_0{2}.png'.format(k, v, i) \n",
    "            for k in area_names.keys() \n",
    "            for v in area_names[k] \n",
    "            for i in range(1,6)]\n",
    "\n",
    "path_list[:5]"
   ]
  },
  {
   "cell_type": "code",
   "execution_count": null,
   "metadata": {},
   "outputs": [],
   "source": [
    "for path in path_list:\n",
    "    if 'dj' in path:\n",
    "        image = mpimg.imread(path)\n",
    "        plt.imshow(image)\n",
    "        image_color_cluster(path)"
   ]
  },
  {
   "cell_type": "code",
   "execution_count": null,
   "metadata": {},
   "outputs": [],
   "source": [
    "image_color_cluster('./cafe_image/ss_dj_0.png')"
   ]
  },
  {
   "cell_type": "code",
   "execution_count": null,
   "metadata": {},
   "outputs": [],
   "source": []
  }
 ],
 "metadata": {
  "kernelspec": {
   "display_name": "Python 3",
   "language": "python",
   "name": "python3"
  },
  "language_info": {
   "codemirror_mode": {
    "name": "ipython",
    "version": 3
   },
   "file_extension": ".py",
   "mimetype": "text/x-python",
   "name": "python",
   "nbconvert_exporter": "python",
   "pygments_lexer": "ipython3",
   "version": "3.6.5"
  }
 },
 "nbformat": 4,
 "nbformat_minor": 2
}
