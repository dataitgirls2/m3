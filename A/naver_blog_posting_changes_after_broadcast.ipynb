{
 "cells": [
  {
   "cell_type": "code",
   "execution_count": 72,
   "metadata": {},
   "outputs": [],
   "source": [
    "import pandas as pd\n",
    "import numpy as np\n",
    "import warnings\n",
    "from plotnine import *\n",
    "warnings.filterwarnings('ignore')"
   ]
  },
  {
   "cell_type": "code",
   "execution_count": 2,
   "metadata": {},
   "outputs": [],
   "source": [
    "blog_postings = pd.read_csv('blog_postings.csv')"
   ]
  },
  {
   "cell_type": "code",
   "execution_count": 3,
   "metadata": {},
   "outputs": [],
   "source": [
    "#일단 포스팅 갯수를 볼거니까 제목과 마지막 행은 날려버리자\n",
    "blog_postings = blog_postings.drop(blog_postings.columns[5], axis=1)\n",
    "blog_postings = blog_postings.drop(blog_postings.columns[4], axis=1)"
   ]
  },
  {
   "cell_type": "code",
   "execution_count": 4,
   "metadata": {},
   "outputs": [
    {
     "data": {
      "text/html": [
       "<div>\n",
       "<style scoped>\n",
       "    .dataframe tbody tr th:only-of-type {\n",
       "        vertical-align: middle;\n",
       "    }\n",
       "\n",
       "    .dataframe tbody tr th {\n",
       "        vertical-align: top;\n",
       "    }\n",
       "\n",
       "    .dataframe thead th {\n",
       "        text-align: right;\n",
       "    }\n",
       "</style>\n",
       "<table border=\"1\" class=\"dataframe\">\n",
       "  <thead>\n",
       "    <tr style=\"text-align: right;\">\n",
       "      <th></th>\n",
       "      <th>수요미식회</th>\n",
       "      <th>나노하나</th>\n",
       "      <th>20170322</th>\n",
       "      <th>2017. 3. 22. 22:10</th>\n",
       "    </tr>\n",
       "  </thead>\n",
       "  <tbody>\n",
       "    <tr>\n",
       "      <th>0</th>\n",
       "      <td>수요미식회</td>\n",
       "      <td>나노하나</td>\n",
       "      <td>20170322</td>\n",
       "      <td>2017. 3. 22. 12:11\\n\\t</td>\n",
       "    </tr>\n",
       "    <tr>\n",
       "      <th>1</th>\n",
       "      <td>수요미식회</td>\n",
       "      <td>나노하나</td>\n",
       "      <td>20170322</td>\n",
       "      <td>2017. 3. 22. 12:00</td>\n",
       "    </tr>\n",
       "    <tr>\n",
       "      <th>2</th>\n",
       "      <td>수요미식회</td>\n",
       "      <td>나노하나</td>\n",
       "      <td>20170322</td>\n",
       "      <td>2017. 3. 22. 19:21\\n\\t</td>\n",
       "    </tr>\n",
       "  </tbody>\n",
       "</table>\n",
       "</div>"
      ],
      "text/plain": [
       "   수요미식회  나노하나  20170322  2017. 3. 22. 22:10\\n\\t\n",
       "0  수요미식회  나노하나  20170322  2017. 3. 22. 12:11\\n\\t\n",
       "1  수요미식회  나노하나  20170322      2017. 3. 22. 12:00\n",
       "2  수요미식회  나노하나  20170322  2017. 3. 22. 19:21\\n\\t"
      ]
     },
     "execution_count": 4,
     "metadata": {},
     "output_type": "execute_result"
    }
   ],
   "source": [
    "blog_postings.head(3)"
   ]
  },
  {
   "cell_type": "code",
   "execution_count": 5,
   "metadata": {},
   "outputs": [
    {
     "data": {
      "text/html": [
       "<div>\n",
       "<style scoped>\n",
       "    .dataframe tbody tr th:only-of-type {\n",
       "        vertical-align: middle;\n",
       "    }\n",
       "\n",
       "    .dataframe tbody tr th {\n",
       "        vertical-align: top;\n",
       "    }\n",
       "\n",
       "    .dataframe thead th {\n",
       "        text-align: right;\n",
       "    }\n",
       "</style>\n",
       "<table border=\"1\" class=\"dataframe\">\n",
       "  <thead>\n",
       "    <tr style=\"text-align: right;\">\n",
       "      <th></th>\n",
       "      <th>프로그램</th>\n",
       "      <th>식당</th>\n",
       "      <th>방영일</th>\n",
       "      <th>포스팅날짜</th>\n",
       "    </tr>\n",
       "  </thead>\n",
       "  <tbody>\n",
       "    <tr>\n",
       "      <th>0</th>\n",
       "      <td>수요미식회</td>\n",
       "      <td>나노하나</td>\n",
       "      <td>20170322</td>\n",
       "      <td>2017. 3. 22. 12:11\\n\\t</td>\n",
       "    </tr>\n",
       "    <tr>\n",
       "      <th>1</th>\n",
       "      <td>수요미식회</td>\n",
       "      <td>나노하나</td>\n",
       "      <td>20170322</td>\n",
       "      <td>2017. 3. 22. 12:00</td>\n",
       "    </tr>\n",
       "    <tr>\n",
       "      <th>2</th>\n",
       "      <td>수요미식회</td>\n",
       "      <td>나노하나</td>\n",
       "      <td>20170322</td>\n",
       "      <td>2017. 3. 22. 19:21\\n\\t</td>\n",
       "    </tr>\n",
       "  </tbody>\n",
       "</table>\n",
       "</div>"
      ],
      "text/plain": [
       "    프로그램    식당       방영일                   포스팅날짜\n",
       "0  수요미식회  나노하나  20170322  2017. 3. 22. 12:11\\n\\t\n",
       "1  수요미식회  나노하나  20170322      2017. 3. 22. 12:00\n",
       "2  수요미식회  나노하나  20170322  2017. 3. 22. 19:21\\n\\t"
      ]
     },
     "execution_count": 5,
     "metadata": {},
     "output_type": "execute_result"
    }
   ],
   "source": [
    "# 칼럼명 넣기\n",
    "blog_postings.columns=['프로그램', '식당', '방영일', '포스팅날짜']\n",
    "blog_postings.head(3)"
   ]
  },
  {
   "cell_type": "code",
   "execution_count": 6,
   "metadata": {},
   "outputs": [
    {
     "name": "stdout",
     "output_type": "stream",
     "text": [
      "<class 'pandas.core.frame.DataFrame'>\n",
      "RangeIndex: 202 entries, 0 to 201\n",
      "Data columns (total 4 columns):\n",
      "프로그램     202 non-null object\n",
      "식당       202 non-null object\n",
      "방영일      202 non-null int64\n",
      "포스팅날짜    202 non-null object\n",
      "dtypes: int64(1), object(3)\n",
      "memory usage: 6.4+ KB\n"
     ]
    }
   ],
   "source": [
    "blog_postings.info()"
   ]
  },
  {
   "cell_type": "code",
   "execution_count": 49,
   "metadata": {
    "scrolled": true
   },
   "outputs": [
    {
     "data": {
      "text/html": [
       "<div>\n",
       "<style scoped>\n",
       "    .dataframe tbody tr th:only-of-type {\n",
       "        vertical-align: middle;\n",
       "    }\n",
       "\n",
       "    .dataframe tbody tr th {\n",
       "        vertical-align: top;\n",
       "    }\n",
       "\n",
       "    .dataframe thead th {\n",
       "        text-align: right;\n",
       "    }\n",
       "</style>\n",
       "<table border=\"1\" class=\"dataframe\">\n",
       "  <thead>\n",
       "    <tr style=\"text-align: right;\">\n",
       "      <th></th>\n",
       "      <th>프로그램</th>\n",
       "      <th>식당</th>\n",
       "      <th>방영일</th>\n",
       "      <th>포스팅날짜</th>\n",
       "    </tr>\n",
       "  </thead>\n",
       "  <tbody>\n",
       "    <tr>\n",
       "      <th>0</th>\n",
       "      <td>수요미식회</td>\n",
       "      <td>나노하나</td>\n",
       "      <td>20170322</td>\n",
       "      <td>2017. 3. 22. 12:11\\n\\t</td>\n",
       "    </tr>\n",
       "    <tr>\n",
       "      <th>1</th>\n",
       "      <td>수요미식회</td>\n",
       "      <td>나노하나</td>\n",
       "      <td>20170322</td>\n",
       "      <td>2017. 3. 22. 12:00</td>\n",
       "    </tr>\n",
       "    <tr>\n",
       "      <th>2</th>\n",
       "      <td>수요미식회</td>\n",
       "      <td>나노하나</td>\n",
       "      <td>20170322</td>\n",
       "      <td>2017. 3. 22. 19:21\\n\\t</td>\n",
       "    </tr>\n",
       "  </tbody>\n",
       "</table>\n",
       "</div>"
      ],
      "text/plain": [
       "    프로그램    식당       방영일                   포스팅날짜\n",
       "0  수요미식회  나노하나  20170322  2017. 3. 22. 12:11\\n\\t\n",
       "1  수요미식회  나노하나  20170322      2017. 3. 22. 12:00\n",
       "2  수요미식회  나노하나  20170322  2017. 3. 22. 19:21\\n\\t"
      ]
     },
     "execution_count": 49,
     "metadata": {},
     "output_type": "execute_result"
    }
   ],
   "source": [
    "# 나노하나 식당 테이블 먼저 작업해보기\n",
    "nanohana = blog_postings[blog_postings['식당'] == '나노하나']\n",
    "nanohana.head(3)"
   ]
  },
  {
   "cell_type": "code",
   "execution_count": 50,
   "metadata": {},
   "outputs": [],
   "source": [
    "# 포스팅 날짜를 int로 바꾸기 (빼면 간단하니까)\n",
    "posting_date_split = nanohana['포스팅날짜'].str.split('. ')\n",
    "dates = pd.Series()\n",
    "for i, date_list in enumerate(posting_date_split):\n",
    "    year = date_list[0]\n",
    "    month = date_list[1]\n",
    "    month = len(month) > 1 and month or '0'+month\n",
    "    date = date_list[2]\n",
    "    date = len(date) > 1 and date or '0'+date\n",
    "    final_date = int(year+month + date)\n",
    "    dates.at[i] = final_date\n"
   ]
  },
  {
   "cell_type": "code",
   "execution_count": 51,
   "metadata": {},
   "outputs": [],
   "source": [
    "nanohana['포스팅날짜'] = dates"
   ]
  },
  {
   "cell_type": "code",
   "execution_count": 52,
   "metadata": {},
   "outputs": [],
   "source": [
    "# 방송전후 칼럼만들기\n",
    "nanohana['방송전후'] = nanohana['방영일'] - nanohana['포스팅날짜']"
   ]
  },
  {
   "cell_type": "code",
   "execution_count": 53,
   "metadata": {},
   "outputs": [
    {
     "data": {
      "text/html": [
       "<div>\n",
       "<style scoped>\n",
       "    .dataframe tbody tr th:only-of-type {\n",
       "        vertical-align: middle;\n",
       "    }\n",
       "\n",
       "    .dataframe tbody tr th {\n",
       "        vertical-align: top;\n",
       "    }\n",
       "\n",
       "    .dataframe thead th {\n",
       "        text-align: right;\n",
       "    }\n",
       "</style>\n",
       "<table border=\"1\" class=\"dataframe\">\n",
       "  <thead>\n",
       "    <tr style=\"text-align: right;\">\n",
       "      <th></th>\n",
       "      <th>프로그램</th>\n",
       "      <th>식당</th>\n",
       "      <th>방영일</th>\n",
       "      <th>포스팅날짜</th>\n",
       "      <th>방송전후</th>\n",
       "    </tr>\n",
       "  </thead>\n",
       "  <tbody>\n",
       "    <tr>\n",
       "      <th>0</th>\n",
       "      <td>수요미식회</td>\n",
       "      <td>나노하나</td>\n",
       "      <td>20170322</td>\n",
       "      <td>20170322</td>\n",
       "      <td>0</td>\n",
       "    </tr>\n",
       "    <tr>\n",
       "      <th>1</th>\n",
       "      <td>수요미식회</td>\n",
       "      <td>나노하나</td>\n",
       "      <td>20170322</td>\n",
       "      <td>20170322</td>\n",
       "      <td>0</td>\n",
       "    </tr>\n",
       "    <tr>\n",
       "      <th>2</th>\n",
       "      <td>수요미식회</td>\n",
       "      <td>나노하나</td>\n",
       "      <td>20170322</td>\n",
       "      <td>20170322</td>\n",
       "      <td>0</td>\n",
       "    </tr>\n",
       "    <tr>\n",
       "      <th>3</th>\n",
       "      <td>수요미식회</td>\n",
       "      <td>나노하나</td>\n",
       "      <td>20170322</td>\n",
       "      <td>20170402</td>\n",
       "      <td>-80</td>\n",
       "    </tr>\n",
       "    <tr>\n",
       "      <th>4</th>\n",
       "      <td>수요미식회</td>\n",
       "      <td>나노하나</td>\n",
       "      <td>20170322</td>\n",
       "      <td>20170322</td>\n",
       "      <td>0</td>\n",
       "    </tr>\n",
       "  </tbody>\n",
       "</table>\n",
       "</div>"
      ],
      "text/plain": [
       "    프로그램    식당       방영일     포스팅날짜  방송전후\n",
       "0  수요미식회  나노하나  20170322  20170322     0\n",
       "1  수요미식회  나노하나  20170322  20170322     0\n",
       "2  수요미식회  나노하나  20170322  20170322     0\n",
       "3  수요미식회  나노하나  20170322  20170402   -80\n",
       "4  수요미식회  나노하나  20170322  20170322     0"
      ]
     },
     "execution_count": 53,
     "metadata": {},
     "output_type": "execute_result"
    }
   ],
   "source": [
    "nanohana.head()"
   ]
  },
  {
   "cell_type": "code",
   "execution_count": 54,
   "metadata": {},
   "outputs": [],
   "source": [
    "# 여기 외워서 다시해본다\n",
    "nanohana.loc[nanohana['방송전후']==0, '방송전후']=0 # 당일\n",
    "nanohana.loc[nanohana['방송전후']>0, '방송전후']=1 # 방송전 포스팅\n",
    "nanohana.loc[nanohana['방송전후']<0, '방송전후']=-1 # 방송후 포스팅"
   ]
  },
  {
   "cell_type": "code",
   "execution_count": 60,
   "metadata": {},
   "outputs": [
    {
     "data": {
      "text/html": [
       "<div>\n",
       "<style scoped>\n",
       "    .dataframe tbody tr th:only-of-type {\n",
       "        vertical-align: middle;\n",
       "    }\n",
       "\n",
       "    .dataframe tbody tr th {\n",
       "        vertical-align: top;\n",
       "    }\n",
       "\n",
       "    .dataframe thead th {\n",
       "        text-align: right;\n",
       "    }\n",
       "</style>\n",
       "<table border=\"1\" class=\"dataframe\">\n",
       "  <thead>\n",
       "    <tr style=\"text-align: right;\">\n",
       "      <th></th>\n",
       "      <th>프로그램</th>\n",
       "      <th>식당</th>\n",
       "      <th>방영일</th>\n",
       "      <th>포스팅날짜</th>\n",
       "      <th>방송전후</th>\n",
       "    </tr>\n",
       "  </thead>\n",
       "  <tbody>\n",
       "    <tr>\n",
       "      <th>0</th>\n",
       "      <td>수요미식회</td>\n",
       "      <td>나노하나</td>\n",
       "      <td>20170322</td>\n",
       "      <td>20170322</td>\n",
       "      <td>0</td>\n",
       "    </tr>\n",
       "    <tr>\n",
       "      <th>1</th>\n",
       "      <td>수요미식회</td>\n",
       "      <td>나노하나</td>\n",
       "      <td>20170322</td>\n",
       "      <td>20170322</td>\n",
       "      <td>0</td>\n",
       "    </tr>\n",
       "    <tr>\n",
       "      <th>2</th>\n",
       "      <td>수요미식회</td>\n",
       "      <td>나노하나</td>\n",
       "      <td>20170322</td>\n",
       "      <td>20170322</td>\n",
       "      <td>0</td>\n",
       "    </tr>\n",
       "    <tr>\n",
       "      <th>3</th>\n",
       "      <td>수요미식회</td>\n",
       "      <td>나노하나</td>\n",
       "      <td>20170322</td>\n",
       "      <td>20170402</td>\n",
       "      <td>-1</td>\n",
       "    </tr>\n",
       "    <tr>\n",
       "      <th>4</th>\n",
       "      <td>수요미식회</td>\n",
       "      <td>나노하나</td>\n",
       "      <td>20170322</td>\n",
       "      <td>20170322</td>\n",
       "      <td>0</td>\n",
       "    </tr>\n",
       "  </tbody>\n",
       "</table>\n",
       "</div>"
      ],
      "text/plain": [
       "    프로그램    식당       방영일     포스팅날짜  방송전후\n",
       "0  수요미식회  나노하나  20170322  20170322     0\n",
       "1  수요미식회  나노하나  20170322  20170322     0\n",
       "2  수요미식회  나노하나  20170322  20170322     0\n",
       "3  수요미식회  나노하나  20170322  20170402    -1\n",
       "4  수요미식회  나노하나  20170322  20170322     0"
      ]
     },
     "execution_count": 60,
     "metadata": {},
     "output_type": "execute_result"
    }
   ],
   "source": [
    "nanohana.head()"
   ]
  },
  {
   "cell_type": "code",
   "execution_count": 77,
   "metadata": {},
   "outputs": [],
   "source": [
    "nanohana_date_group = pd.DataFrame(nanohana.groupby('포스팅날짜')['프로그램'].count().reset_index())"
   ]
  },
  {
   "cell_type": "code",
   "execution_count": 93,
   "metadata": {},
   "outputs": [],
   "source": [
    "nanohana_date_group['포스팅날짜'] = nanohana_date_group['포스팅날짜'].astype(str)"
   ]
  },
  {
   "cell_type": "code",
   "execution_count": 94,
   "metadata": {},
   "outputs": [
    {
     "name": "stdout",
     "output_type": "stream",
     "text": [
      "<class 'pandas.core.frame.DataFrame'>\n",
      "RangeIndex: 49 entries, 0 to 48\n",
      "Data columns (total 2 columns):\n",
      "포스팅날짜    49 non-null object\n",
      "프로그램     49 non-null int64\n",
      "dtypes: int64(1), object(1)\n",
      "memory usage: 864.0+ bytes\n"
     ]
    }
   ],
   "source": [
    "nanohana_date_group.head(3)\n",
    "nanohana_date_group.info()"
   ]
  },
  {
   "cell_type": "code",
   "execution_count": 96,
   "metadata": {},
   "outputs": [
    {
     "data": {
      "image/png": "[encoded data removed]",
      "text/plain": [
       "<Figure size 640x480 with 1 Axes>"
      ]
     },
     "metadata": {},
     "output_type": "display_data"
    },
    {
     "data": {
      "text/plain": [
       "<ggplot: (66877927267)>"
      ]
     },
     "execution_count": 96,
     "metadata": {},
     "output_type": "execute_result"
    }
   ],
   "source": [
    "(ggplot(nanohana_date_group)\n",
    " +aes(x='포스팅날짜', y='프로그램')\n",
    " + geom_bar(stat='identity', position='dodge')\n",
    "  + coord_flip()\n",
    " + theme(text=element_text(family='NanumGothic'))\n",
    ")\n",
    "\n",
    "# 포스팅이 없어도 날짜는 다 넣어줘야지 비교가 되겠다. "
   ]
  },
  {
   "cell_type": "code",
   "execution_count": 89,
   "metadata": {},
   "outputs": [
    {
     "data": {
      "text/plain": [
       "방송전후\n",
       "-1    69\n",
       " 0    15\n",
       " 1    37\n",
       "Name: 프로그램, dtype: int64"
      ]
     },
     "execution_count": 89,
     "metadata": {},
     "output_type": "execute_result"
    }
   ],
   "source": [
    "#방송전후 포스팅 수 비교\n",
    "nanohana.groupby('방송전후')['프로그램'].count()"
   ]
  },
  {
   "cell_type": "code",
   "execution_count": null,
   "metadata": {},
   "outputs": [],
   "source": [
    "# 여러개 몇일전 칼럼 만들어서 평균값으로 비교해보기\n",
    "# 포스팅 없는 날짜는 0 넣어서 row 만들기"
   ]
  }
 ],
 "metadata": {
  "kernelspec": {
   "display_name": "Python 3",
   "language": "python",
   "name": "python3"
  },
  "language_info": {
   "codemirror_mode": {
    "name": "ipython",
    "version": 3
   },
   "file_extension": ".py",
   "mimetype": "text/x-python",
   "name": "python",
   "nbconvert_exporter": "python",
   "pygments_lexer": "ipython3",
   "version": "3.6.5"
  }
 },
 "nbformat": 4,
 "nbformat_minor": 2
}
