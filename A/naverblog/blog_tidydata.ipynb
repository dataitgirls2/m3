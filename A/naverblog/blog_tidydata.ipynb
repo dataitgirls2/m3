{
 "cells": [
  {
   "cell_type": "code",
   "execution_count": 1,
   "metadata": {},
   "outputs": [
    {
     "name": "stdout",
     "output_type": "stream",
     "text": [
      "No Java runtime present, requesting install.\n",
      "Requirement already satisfied: plotnine in /anaconda3/lib/python3.6/site-packages (0.3.0)\n",
      "Requirement already satisfied: matplotlib>=2.1.0 in /anaconda3/lib/python3.6/site-packages (from plotnine) (2.2.2)\n",
      "Requirement already satisfied: six in /anaconda3/lib/python3.6/site-packages (from plotnine) (1.11.0)\n",
      "Requirement already satisfied: numpy in /anaconda3/lib/python3.6/site-packages (from plotnine) (1.14.3)\n",
      "Requirement already satisfied: pandas>=0.21.0 in /anaconda3/lib/python3.6/site-packages (from plotnine) (0.23.0)\n",
      "Requirement already satisfied: mizani>=0.4.1 in /anaconda3/lib/python3.6/site-packages (from plotnine) (0.4.6)\n",
      "Requirement already satisfied: statsmodels>=0.8.0 in /anaconda3/lib/python3.6/site-packages (from plotnine) (0.9.0)\n",
      "Requirement already satisfied: patsy>=0.4.1 in /anaconda3/lib/python3.6/site-packages (from plotnine) (0.5.0)\n",
      "Requirement already satisfied: scipy>=1.0.0 in /anaconda3/lib/python3.6/site-packages (from plotnine) (1.1.0)\n",
      "Requirement already satisfied: cycler>=0.10 in /anaconda3/lib/python3.6/site-packages (from matplotlib>=2.1.0->plotnine) (0.10.0)\n",
      "Requirement already satisfied: pyparsing!=2.0.4,!=2.1.2,!=2.1.6,>=2.0.1 in /anaconda3/lib/python3.6/site-packages (from matplotlib>=2.1.0->plotnine) (2.2.0)\n",
      "Requirement already satisfied: python-dateutil>=2.1 in /anaconda3/lib/python3.6/site-packages (from matplotlib>=2.1.0->plotnine) (2.7.3)\n",
      "Requirement already satisfied: pytz in /anaconda3/lib/python3.6/site-packages (from matplotlib>=2.1.0->plotnine) (2018.4)\n",
      "Requirement already satisfied: kiwisolver>=1.0.1 in /anaconda3/lib/python3.6/site-packages (from matplotlib>=2.1.0->plotnine) (1.0.1)\n",
      "Requirement already satisfied: palettable in /anaconda3/lib/python3.6/site-packages (from mizani>=0.4.1->plotnine) (3.1.1)\n",
      "Requirement already satisfied: setuptools in /anaconda3/lib/python3.6/site-packages (from kiwisolver>=1.0.1->matplotlib>=2.1.0->plotnine) (39.1.0)\n",
      "\u001b[33mYou are using pip version 10.0.1, however version 18.0 is available.\n",
      "You should consider upgrading via the 'pip install --upgrade pip' command.\u001b[0m\n"
     ]
    },
    {
     "ename": "AttributeError",
     "evalue": "module 'matplotlib' has no attribute 'font_manager'",
     "output_type": "error",
     "traceback": [
      "\u001b[0;31m---------------------------------------------------------------------------\u001b[0m",
      "\u001b[0;31mAttributeError\u001b[0m                            Traceback (most recent call last)",
      "\u001b[0;32m<ipython-input-1-a12e0836a9d4>\u001b[0m in \u001b[0;36m<module>\u001b[0;34m()\u001b[0m\n\u001b[1;32m      7\u001b[0m \u001b[0;31m# 기본 글꼴 변경\u001b[0m\u001b[0;34m\u001b[0m\u001b[0;34m\u001b[0m\u001b[0m\n\u001b[1;32m      8\u001b[0m \u001b[0;32mimport\u001b[0m \u001b[0mmatplotlib\u001b[0m \u001b[0;32mas\u001b[0m \u001b[0mmpl\u001b[0m\u001b[0;34m\u001b[0m\u001b[0m\n\u001b[0;32m----> 9\u001b[0;31m \u001b[0mmpl\u001b[0m\u001b[0;34m.\u001b[0m\u001b[0mfont_manager\u001b[0m\u001b[0;34m.\u001b[0m\u001b[0m_rebuild\u001b[0m\u001b[0;34m(\u001b[0m\u001b[0;34m)\u001b[0m\u001b[0;34m\u001b[0m\u001b[0m\n\u001b[0m\u001b[1;32m     10\u001b[0m \u001b[0mmpl\u001b[0m\u001b[0;34m.\u001b[0m\u001b[0mpyplot\u001b[0m\u001b[0;34m.\u001b[0m\u001b[0mrc\u001b[0m\u001b[0;34m(\u001b[0m\u001b[0;34m'font'\u001b[0m\u001b[0;34m,\u001b[0m \u001b[0mfamily\u001b[0m\u001b[0;34m=\u001b[0m\u001b[0;34m'NanumBarunGothic'\u001b[0m\u001b[0;34m)\u001b[0m\u001b[0;34m\u001b[0m\u001b[0m\n\u001b[1;32m     11\u001b[0m \u001b[0;34m\u001b[0m\u001b[0m\n",
      "\u001b[0;31mAttributeError\u001b[0m: module 'matplotlib' has no attribute 'font_manager'"
     ]
    }
   ],
   "source": [
    "# 나눔글꼴 설치\n",
    "!apt install fonts-nanum\n",
    "\n",
    "# Plotnine 패키지 설치\n",
    "!pip install plotnine\n",
    "\n",
    "# 기본 글꼴 변경\n",
    "import matplotlib as mpl\n",
    "mpl.font_manager._rebuild()\n",
    "mpl.pyplot.rc('font', family='NanumBarunGothic')\n",
    "\n",
    "# 레티나 디스플레이 지원\n",
    "%config InlineBackend.figure_format = 'retina'"
   ]
  },
  {
   "cell_type": "code",
   "execution_count": 38,
   "metadata": {},
   "outputs": [],
   "source": [
    "import pandas as pd\n",
    "import numpy as np\n",
    "from plotnine import *\n",
    "import folium\n",
    "\n",
    "src = pd.read_csv('/Users/heebunny/Downloads/blog_raw.csv')"
   ]
  },
  {
   "cell_type": "code",
   "execution_count": 39,
   "metadata": {
    "scrolled": true
   },
   "outputs": [
    {
     "data": {
      "text/html": [
       "<div>\n",
       "<style scoped>\n",
       "    .dataframe tbody tr th:only-of-type {\n",
       "        vertical-align: middle;\n",
       "    }\n",
       "\n",
       "    .dataframe tbody tr th {\n",
       "        vertical-align: top;\n",
       "    }\n",
       "\n",
       "    .dataframe thead th {\n",
       "        text-align: right;\n",
       "    }\n",
       "</style>\n",
       "<table border=\"1\" class=\"dataframe\">\n",
       "  <thead>\n",
       "    <tr style=\"text-align: right;\">\n",
       "      <th></th>\n",
       "      <th>방송</th>\n",
       "      <th>식당명</th>\n",
       "      <th>방송일</th>\n",
       "      <th>포스팅날짜</th>\n",
       "      <th>제목</th>\n",
       "      <th>내용</th>\n",
       "    </tr>\n",
       "  </thead>\n",
       "  <tbody>\n",
       "    <tr>\n",
       "      <th>0</th>\n",
       "      <td>수요미식회</td>\n",
       "      <td>나노하나</td>\n",
       "      <td>20170322.0</td>\n",
       "      <td>2017. 3. 22. 22:10\\r\\t</td>\n",
       "      <td>3월일상:: #3 - 화이트데이/연남동 나노하나/한남동 잭슨피자/ 연하식당</td>\n",
       "      <td>#.1화이트데이 전날, 퇴근하면서 오빠가 사온 #메종엠오 마들렌내가 정말너무 좋아하...</td>\n",
       "    </tr>\n",
       "    <tr>\n",
       "      <th>1</th>\n",
       "      <td>수요미식회</td>\n",
       "      <td>나노하나</td>\n",
       "      <td>20170322.0</td>\n",
       "      <td>2017. 3. 22. 12:11\\r\\t</td>\n",
       "      <td>수요미식회 연남동 나노하나 - 모츠나베(대창전골), 옥돔구이, 모듬튀김</td>\n",
       "      <td>특색있는 메뉴로 여자손님들을사로잡은 수요미식회 연남동 특집에소개될 맛집 나노하나일본...</td>\n",
       "    </tr>\n",
       "    <tr>\n",
       "      <th>2</th>\n",
       "      <td>수요미식회</td>\n",
       "      <td>나노하나</td>\n",
       "      <td>20170322.0</td>\n",
       "      <td>2017. 3. 22. 12:00</td>\n",
       "      <td>수요미식회 연남동 - 나노하나 :모츠나베는 사랑이야</td>\n",
       "      <td>﻿[ 수요미식회 연남동 나노하나 : 모츠나베 &amp;amp; 모듬튀김 ]﻿안녕하세요 티이...</td>\n",
       "    </tr>\n",
       "    <tr>\n",
       "      <th>3</th>\n",
       "      <td>수요미식회</td>\n",
       "      <td>나노하나</td>\n",
       "      <td>20170322.0</td>\n",
       "      <td>2017. 3. 22. 19:21\\r\\t</td>\n",
       "      <td>수요미식회 맛집#수요미식회대창전골 맛집#나노하나#연남동맛집#모츠나베</td>\n",
       "      <td>#수요미식회맛집#수요미식회연남동특집#모츠나베#연남동맛집#연남동일식주점#연트럴파크맛집...</td>\n",
       "    </tr>\n",
       "    <tr>\n",
       "      <th>4</th>\n",
       "      <td>수요미식회</td>\n",
       "      <td>나노하나</td>\n",
       "      <td>20170322.0</td>\n",
       "      <td>2017. 4. 2. 0:25\\r\\t</td>\n",
       "      <td>연남동 나노하나, 바닐라키친</td>\n",
       "      <td>본문 기타 기능본문 폰트 크기 작게 보기본문 폰트 크기 크게 보기가 매주 금요일은 ...</td>\n",
       "    </tr>\n",
       "  </tbody>\n",
       "</table>\n",
       "</div>"
      ],
      "text/plain": [
       "      방송   식당명         방송일                   포스팅날짜  \\\n",
       "0  수요미식회  나노하나  20170322.0  2017. 3. 22. 22:10\\r\\t   \n",
       "1  수요미식회  나노하나  20170322.0  2017. 3. 22. 12:11\\r\\t   \n",
       "2  수요미식회  나노하나  20170322.0      2017. 3. 22. 12:00   \n",
       "3  수요미식회  나노하나  20170322.0  2017. 3. 22. 19:21\\r\\t   \n",
       "4  수요미식회  나노하나  20170322.0    2017. 4. 2. 0:25\\r\\t   \n",
       "\n",
       "                                          제목  \\\n",
       "0  3월일상:: #3 - 화이트데이/연남동 나노하나/한남동 잭슨피자/ 연하식당   \n",
       "1    수요미식회 연남동 나노하나 - 모츠나베(대창전골), 옥돔구이, 모듬튀김   \n",
       "2               수요미식회 연남동 - 나노하나 :모츠나베는 사랑이야   \n",
       "3      수요미식회 맛집#수요미식회대창전골 맛집#나노하나#연남동맛집#모츠나베   \n",
       "4                            연남동 나노하나, 바닐라키친   \n",
       "\n",
       "                                                  내용  \n",
       "0  #.1화이트데이 전날, 퇴근하면서 오빠가 사온 #메종엠오 마들렌내가 정말너무 좋아하...  \n",
       "1  특색있는 메뉴로 여자손님들을사로잡은 수요미식회 연남동 특집에소개될 맛집 나노하나일본...  \n",
       "2  ﻿[ 수요미식회 연남동 나노하나 : 모츠나베 &amp; 모듬튀김 ]﻿안녕하세요 티이...  \n",
       "3  #수요미식회맛집#수요미식회연남동특집#모츠나베#연남동맛집#연남동일식주점#연트럴파크맛집...  \n",
       "4  본문 기타 기능본문 폰트 크기 작게 보기본문 폰트 크기 크게 보기가 매주 금요일은 ...  "
      ]
     },
     "execution_count": 39,
     "metadata": {},
     "output_type": "execute_result"
    }
   ],
   "source": [
    "df = src.copy()\n",
    "df.head()"
   ]
  },
  {
   "cell_type": "code",
   "execution_count": 45,
   "metadata": {},
   "outputs": [
    {
     "data": {
      "text/plain": [
       "(1000, 6)"
      ]
     },
     "execution_count": 45,
     "metadata": {},
     "output_type": "execute_result"
    }
   ],
   "source": [
    "df.shape"
   ]
  },
  {
   "cell_type": "code",
   "execution_count": 74,
   "metadata": {
    "scrolled": true
   },
   "outputs": [
    {
     "data": {
      "text/plain": [
       "(192, 6)"
      ]
     },
     "execution_count": 74,
     "metadata": {},
     "output_type": "execute_result"
    }
   ],
   "source": [
    "#NA행 날리기\n",
    "df.dropna()\n",
    "dftidy = df.dropna()\n",
    "dftidy.shape"
   ]
  },
  {
   "cell_type": "code",
   "execution_count": 76,
   "metadata": {},
   "outputs": [
    {
     "data": {
      "text/html": [
       "<div>\n",
       "<style scoped>\n",
       "    .dataframe tbody tr th:only-of-type {\n",
       "        vertical-align: middle;\n",
       "    }\n",
       "\n",
       "    .dataframe tbody tr th {\n",
       "        vertical-align: top;\n",
       "    }\n",
       "\n",
       "    .dataframe thead th {\n",
       "        text-align: right;\n",
       "    }\n",
       "</style>\n",
       "<table border=\"1\" class=\"dataframe\">\n",
       "  <thead>\n",
       "    <tr style=\"text-align: right;\">\n",
       "      <th></th>\n",
       "      <th>방송</th>\n",
       "      <th>식당명</th>\n",
       "      <th>방송일</th>\n",
       "      <th>포스팅날짜</th>\n",
       "      <th>제목</th>\n",
       "      <th>내용</th>\n",
       "    </tr>\n",
       "  </thead>\n",
       "  <tbody>\n",
       "    <tr>\n",
       "      <th>0</th>\n",
       "      <td>수요미식회</td>\n",
       "      <td>나노하나</td>\n",
       "      <td>20170322.0</td>\n",
       "      <td>2017. 3. 22. 22:10\\r\\t</td>\n",
       "      <td>3월일상:: #3 - 화이트데이/연남동 나노하나/한남동 잭슨피자/ 연하식당</td>\n",
       "      <td>#.1화이트데이 전날, 퇴근하면서 오빠가 사온 #메종엠오 마들렌내가 정말너무 좋아하...</td>\n",
       "    </tr>\n",
       "    <tr>\n",
       "      <th>1</th>\n",
       "      <td>수요미식회</td>\n",
       "      <td>나노하나</td>\n",
       "      <td>20170322.0</td>\n",
       "      <td>2017. 3. 22. 12:11\\r\\t</td>\n",
       "      <td>수요미식회 연남동 나노하나 - 모츠나베(대창전골), 옥돔구이, 모듬튀김</td>\n",
       "      <td>특색있는 메뉴로 여자손님들을사로잡은 수요미식회 연남동 특집에소개될 맛집 나노하나일본...</td>\n",
       "    </tr>\n",
       "    <tr>\n",
       "      <th>2</th>\n",
       "      <td>수요미식회</td>\n",
       "      <td>나노하나</td>\n",
       "      <td>20170322.0</td>\n",
       "      <td>2017. 3. 22. 12:00</td>\n",
       "      <td>수요미식회 연남동 - 나노하나 :모츠나베는 사랑이야</td>\n",
       "      <td>﻿[ 수요미식회 연남동 나노하나 : 모츠나베 &amp;amp; 모듬튀김 ]﻿안녕하세요 티이...</td>\n",
       "    </tr>\n",
       "    <tr>\n",
       "      <th>3</th>\n",
       "      <td>수요미식회</td>\n",
       "      <td>나노하나</td>\n",
       "      <td>20170322.0</td>\n",
       "      <td>2017. 3. 22. 19:21\\r\\t</td>\n",
       "      <td>수요미식회 맛집#수요미식회대창전골 맛집#나노하나#연남동맛집#모츠나베</td>\n",
       "      <td>#수요미식회맛집#수요미식회연남동특집#모츠나베#연남동맛집#연남동일식주점#연트럴파크맛집...</td>\n",
       "    </tr>\n",
       "    <tr>\n",
       "      <th>4</th>\n",
       "      <td>수요미식회</td>\n",
       "      <td>나노하나</td>\n",
       "      <td>20170322.0</td>\n",
       "      <td>2017. 4. 2. 0:25\\r\\t</td>\n",
       "      <td>연남동 나노하나, 바닐라키친</td>\n",
       "      <td>본문 기타 기능본문 폰트 크기 작게 보기본문 폰트 크기 크게 보기가 매주 금요일은 ...</td>\n",
       "    </tr>\n",
       "  </tbody>\n",
       "</table>\n",
       "</div>"
      ],
      "text/plain": [
       "      방송   식당명         방송일                   포스팅날짜  \\\n",
       "0  수요미식회  나노하나  20170322.0  2017. 3. 22. 22:10\\r\\t   \n",
       "1  수요미식회  나노하나  20170322.0  2017. 3. 22. 12:11\\r\\t   \n",
       "2  수요미식회  나노하나  20170322.0      2017. 3. 22. 12:00   \n",
       "3  수요미식회  나노하나  20170322.0  2017. 3. 22. 19:21\\r\\t   \n",
       "4  수요미식회  나노하나  20170322.0    2017. 4. 2. 0:25\\r\\t   \n",
       "\n",
       "                                          제목  \\\n",
       "0  3월일상:: #3 - 화이트데이/연남동 나노하나/한남동 잭슨피자/ 연하식당   \n",
       "1    수요미식회 연남동 나노하나 - 모츠나베(대창전골), 옥돔구이, 모듬튀김   \n",
       "2               수요미식회 연남동 - 나노하나 :모츠나베는 사랑이야   \n",
       "3      수요미식회 맛집#수요미식회대창전골 맛집#나노하나#연남동맛집#모츠나베   \n",
       "4                            연남동 나노하나, 바닐라키친   \n",
       "\n",
       "                                                  내용  \n",
       "0  #.1화이트데이 전날, 퇴근하면서 오빠가 사온 #메종엠오 마들렌내가 정말너무 좋아하...  \n",
       "1  특색있는 메뉴로 여자손님들을사로잡은 수요미식회 연남동 특집에소개될 맛집 나노하나일본...  \n",
       "2  ﻿[ 수요미식회 연남동 나노하나 : 모츠나베 &amp; 모듬튀김 ]﻿안녕하세요 티이...  \n",
       "3  #수요미식회맛집#수요미식회연남동특집#모츠나베#연남동맛집#연남동일식주점#연트럴파크맛집...  \n",
       "4  본문 기타 기능본문 폰트 크기 작게 보기본문 폰트 크기 크게 보기가 매주 금요일은 ...  "
      ]
     },
     "execution_count": 76,
     "metadata": {},
     "output_type": "execute_result"
    }
   ],
   "source": [
    "#'도쿄바나나 나노하나 에디션', '오버워치 나노하나' 포스팅 제외하기\n",
    "\n",
    "expt = dftidy.loc[dftidy['내용'].str.contains('바나나|오버워치') == False]\n",
    "expt.head()\n",
    "\n",
    "# dftidy = dftidy.drop(expt)"
   ]
  },
  {
   "cell_type": "code",
   "execution_count": 77,
   "metadata": {},
   "outputs": [
    {
     "data": {
      "text/plain": [
       "(184, 6)"
      ]
     },
     "execution_count": 77,
     "metadata": {},
     "output_type": "execute_result"
    }
   ],
   "source": [
    "expt.shape"
   ]
  },
  {
   "cell_type": "code",
   "execution_count": 78,
   "metadata": {},
   "outputs": [
    {
     "name": "stderr",
     "output_type": "stream",
     "text": [
      "/anaconda3/lib/python3.6/site-packages/plotnine/utils.py:281: FutureWarning: Method .as_matrix will be removed in a future version. Use .values instead.\n",
      "  ndistinct = ids.apply(len_unique, axis=0).as_matrix()\n",
      "/anaconda3/lib/python3.6/site-packages/pandas/core/generic.py:4384: FutureWarning: Attribute 'is_copy' is deprecated and will be removed in a future version.\n",
      "  object.__getattribute__(self, name)\n",
      "/anaconda3/lib/python3.6/site-packages/pandas/core/generic.py:4385: FutureWarning: Attribute 'is_copy' is deprecated and will be removed in a future version.\n",
      "  return object.__setattr__(self, name, value)\n",
      "/anaconda3/lib/python3.6/site-packages/plotnine/positions/position.py:188: FutureWarning: Method .as_matrix will be removed in a future version. Use .values instead.\n",
      "  intervals = data[xminmax].drop_duplicates().as_matrix().flatten()\n"
     ]
    },
    {
     "data": {
      "image/png": "[encoded data removed]",
      "text/plain": [
       "<Figure size 640x480 with 1 Axes>"
      ]
     },
     "metadata": {},
     "output_type": "display_data"
    },
    {
     "data": {
      "text/plain": [
       "<ggplot: (7527062150)>"
      ]
     },
     "execution_count": 78,
     "metadata": {},
     "output_type": "execute_result"
    }
   ],
   "source": [
    "#남은 데이터에서 식당별 갯수 그래프 그려보기\n",
    "\n",
    "(ggplot(expt)\n",
    " + aes('식당명')\n",
    " + geom_bar(fill='#8181F7')\n",
    " + ggtitle('식당명')\n",
    " + coord_flip()\n",
    " + theme(text=element_text(family='NanumBarunGothic'),\n",
    "        axis_text_x=element_text(rotation=60))\n",
    ")"
   ]
  },
  {
   "cell_type": "code",
   "execution_count": 83,
   "metadata": {},
   "outputs": [],
   "source": [
    "#데이터 저장하기\n",
    "\n",
    "expt.to_csv('/Users/heebunny/Downloads/blog_tidydata.csv')"
   ]
  }
 ],
 "metadata": {
  "kernelspec": {
   "display_name": "Python 3",
   "language": "python",
   "name": "python3"
  },
  "language_info": {
   "codemirror_mode": {
    "name": "ipython",
    "version": 3
   },
   "file_extension": ".py",
   "mimetype": "text/x-python",
   "name": "python",
   "nbconvert_exporter": "python",
   "pygments_lexer": "ipython3",
   "version": "3.6.5"
  }
 },
 "nbformat": 4,
 "nbformat_minor": 2
}
