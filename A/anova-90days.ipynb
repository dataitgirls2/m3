{
 "cells": [
  {
   "cell_type": "markdown",
   "metadata": {},
   "source": [
    "# ANOVA (분산분석) : 세 맛집 프로그램의 영향력 차이가 있는지 검정"
   ]
  },
  {
   "cell_type": "code",
   "execution_count": 1,
   "metadata": {},
   "outputs": [],
   "source": [
    "import pandas as pd\n",
    "import scipy.stats as stats\n",
    "import matplotlib.pyplot as plt"
   ]
  },
  {
   "cell_type": "code",
   "execution_count": 2,
   "metadata": {},
   "outputs": [],
   "source": [
    "df = pd.read_csv('raw_data/2017.csv')"
   ]
  },
  {
   "cell_type": "code",
   "execution_count": 3,
   "metadata": {},
   "outputs": [
    {
     "data": {
      "text/html": [
       "<div>\n",
       "<style scoped>\n",
       "    .dataframe tbody tr th:only-of-type {\n",
       "        vertical-align: middle;\n",
       "    }\n",
       "\n",
       "    .dataframe tbody tr th {\n",
       "        vertical-align: top;\n",
       "    }\n",
       "\n",
       "    .dataframe thead th {\n",
       "        text-align: right;\n",
       "    }\n",
       "</style>\n",
       "<table border=\"1\" class=\"dataframe\">\n",
       "  <thead>\n",
       "    <tr style=\"text-align: right;\">\n",
       "      <th></th>\n",
       "      <th>방송</th>\n",
       "      <th>식당</th>\n",
       "      <th>방영일</th>\n",
       "      <th>포스팅일</th>\n",
       "      <th>제목</th>\n",
       "      <th>포스팅주소</th>\n",
       "      <th>days_diff</th>\n",
       "      <th>방영전</th>\n",
       "      <th>방영후</th>\n",
       "    </tr>\n",
       "  </thead>\n",
       "  <tbody>\n",
       "    <tr>\n",
       "      <th>0</th>\n",
       "      <td>생생정보통</td>\n",
       "      <td>대풍만두</td>\n",
       "      <td>2017-01-03</td>\n",
       "      <td>2017-01-08</td>\n",
       "      <td>안동 사대부찜닭 생생정보통에 나온 &lt;mark&gt;대풍만두&lt;/mark&gt; 다녀왔어요</td>\n",
       "      <td>https://m.blog.naver.com/hts1222/220905835536\"</td>\n",
       "      <td>5</td>\n",
       "      <td>0</td>\n",
       "      <td>1</td>\n",
       "    </tr>\n",
       "    <tr>\n",
       "      <th>1</th>\n",
       "      <td>생생정보통</td>\n",
       "      <td>대풍만두</td>\n",
       "      <td>2017-01-03</td>\n",
       "      <td>2017-01-27</td>\n",
       "      <td>안동구시장찐빵맛집, 생생정보통 &lt;mark&gt;대풍만두&lt;/mark&gt;</td>\n",
       "      <td>https://m.blog.naver.com/pinkwona/220920892215\"</td>\n",
       "      <td>24</td>\n",
       "      <td>0</td>\n",
       "      <td>1</td>\n",
       "    </tr>\n",
       "    <tr>\n",
       "      <th>2</th>\n",
       "      <td>생생정보통</td>\n",
       "      <td>대풍만두</td>\n",
       "      <td>2017-01-03</td>\n",
       "      <td>2016-12-20</td>\n",
       "      <td>안동시 서부동 만두맛집, &lt;mark&gt;대풍만두&lt;/mark&gt;</td>\n",
       "      <td>http://siksamenu.tistory.com/2212\"</td>\n",
       "      <td>-14</td>\n",
       "      <td>1</td>\n",
       "      <td>0</td>\n",
       "    </tr>\n",
       "    <tr>\n",
       "      <th>3</th>\n",
       "      <td>생생정보통</td>\n",
       "      <td>대풍만두</td>\n",
       "      <td>2017-01-03</td>\n",
       "      <td>2017-01-03</td>\n",
       "      <td>오즈패밀리 KBS 생생정보 1월3일 맛집 - 흑미 복분자 찐빵(&lt;mark&gt;대풍만두&lt;...</td>\n",
       "      <td>https://m.blog.naver.com/flypig1/220901684323\"</td>\n",
       "      <td>0</td>\n",
       "      <td>0</td>\n",
       "      <td>1</td>\n",
       "    </tr>\n",
       "    <tr>\n",
       "      <th>4</th>\n",
       "      <td>생생정보통</td>\n",
       "      <td>대풍만두</td>\n",
       "      <td>2017-01-03</td>\n",
       "      <td>2017-01-03</td>\n",
       "      <td>◈ 안동 찐빵 만두 맛집 공유~* , 2tv 저녁 생생정보 안동 구시장 찐빵 맛집 ...</td>\n",
       "      <td>https://m.blog.naver.com/mediost/220901827867\"</td>\n",
       "      <td>0</td>\n",
       "      <td>0</td>\n",
       "      <td>1</td>\n",
       "    </tr>\n",
       "  </tbody>\n",
       "</table>\n",
       "</div>"
      ],
      "text/plain": [
       "      방송    식당         방영일        포스팅일  \\\n",
       "0  생생정보통  대풍만두  2017-01-03  2017-01-08   \n",
       "1  생생정보통  대풍만두  2017-01-03  2017-01-27   \n",
       "2  생생정보통  대풍만두  2017-01-03  2016-12-20   \n",
       "3  생생정보통  대풍만두  2017-01-03  2017-01-03   \n",
       "4  생생정보통  대풍만두  2017-01-03  2017-01-03   \n",
       "\n",
       "                                                  제목  \\\n",
       "0         안동 사대부찜닭 생생정보통에 나온 <mark>대풍만두</mark> 다녀왔어요   \n",
       "1                 안동구시장찐빵맛집, 생생정보통 <mark>대풍만두</mark>   \n",
       "2                    안동시 서부동 만두맛집, <mark>대풍만두</mark>   \n",
       "3  오즈패밀리 KBS 생생정보 1월3일 맛집 - 흑미 복분자 찐빵(<mark>대풍만두<...   \n",
       "4  ◈ 안동 찐빵 만두 맛집 공유~* , 2tv 저녁 생생정보 안동 구시장 찐빵 맛집 ...   \n",
       "\n",
       "                                             포스팅주소  days_diff  방영전  방영후  \n",
       "0   https://m.blog.naver.com/hts1222/220905835536\"          5    0    1  \n",
       "1  https://m.blog.naver.com/pinkwona/220920892215\"         24    0    1  \n",
       "2               http://siksamenu.tistory.com/2212\"        -14    1    0  \n",
       "3   https://m.blog.naver.com/flypig1/220901684323\"          0    0    1  \n",
       "4   https://m.blog.naver.com/mediost/220901827867\"          0    0    1  "
      ]
     },
     "execution_count": 3,
     "metadata": {},
     "output_type": "execute_result"
    }
   ],
   "source": [
    "df.head()"
   ]
  },
  {
   "cell_type": "markdown",
   "metadata": {},
   "source": [
    "### ANOVA 분석을 위한 데이터 전처리 ( X : 방송명, Y : 방영 후 포스팅 증가수)"
   ]
  },
  {
   "cell_type": "code",
   "execution_count": 4,
   "metadata": {},
   "outputs": [],
   "source": [
    "anova = pd.DataFrame(df.groupby(['식당', '방송'])['방영전', '방영후'].sum()).reset_index()"
   ]
  },
  {
   "cell_type": "code",
   "execution_count": 5,
   "metadata": {},
   "outputs": [
    {
     "data": {
      "text/html": [
       "<div>\n",
       "<style scoped>\n",
       "    .dataframe tbody tr th:only-of-type {\n",
       "        vertical-align: middle;\n",
       "    }\n",
       "\n",
       "    .dataframe tbody tr th {\n",
       "        vertical-align: top;\n",
       "    }\n",
       "\n",
       "    .dataframe thead th {\n",
       "        text-align: right;\n",
       "    }\n",
       "</style>\n",
       "<table border=\"1\" class=\"dataframe\">\n",
       "  <thead>\n",
       "    <tr style=\"text-align: right;\">\n",
       "      <th></th>\n",
       "      <th>식당</th>\n",
       "      <th>방송</th>\n",
       "      <th>방영전</th>\n",
       "      <th>방영후</th>\n",
       "    </tr>\n",
       "  </thead>\n",
       "  <tbody>\n",
       "    <tr>\n",
       "      <th>0</th>\n",
       "      <td>136생고기</td>\n",
       "      <td>생생정보통</td>\n",
       "      <td>18</td>\n",
       "      <td>72</td>\n",
       "    </tr>\n",
       "    <tr>\n",
       "      <th>1</th>\n",
       "      <td>갈비구락부</td>\n",
       "      <td>생생정보통</td>\n",
       "      <td>66</td>\n",
       "      <td>69</td>\n",
       "    </tr>\n",
       "    <tr>\n",
       "      <th>2</th>\n",
       "      <td>갓포치유</td>\n",
       "      <td>수요미식회</td>\n",
       "      <td>41</td>\n",
       "      <td>109</td>\n",
       "    </tr>\n",
       "    <tr>\n",
       "      <th>3</th>\n",
       "      <td>강릉감자옹심이</td>\n",
       "      <td>수요미식회</td>\n",
       "      <td>268</td>\n",
       "      <td>422</td>\n",
       "    </tr>\n",
       "    <tr>\n",
       "      <th>4</th>\n",
       "      <td>강릉아구찜</td>\n",
       "      <td>생생정보통</td>\n",
       "      <td>90</td>\n",
       "      <td>165</td>\n",
       "    </tr>\n",
       "  </tbody>\n",
       "</table>\n",
       "</div>"
      ],
      "text/plain": [
       "        식당     방송  방영전  방영후\n",
       "0   136생고기  생생정보통   18   72\n",
       "1    갈비구락부  생생정보통   66   69\n",
       "2     갓포치유  수요미식회   41  109\n",
       "3  강릉감자옹심이  수요미식회  268  422\n",
       "4    강릉아구찜  생생정보통   90  165"
      ]
     },
     "execution_count": 5,
     "metadata": {},
     "output_type": "execute_result"
    }
   ],
   "source": [
    "anova.head()"
   ]
  },
  {
   "cell_type": "code",
   "execution_count": 6,
   "metadata": {},
   "outputs": [],
   "source": [
    "anova['증가'] = anova['방영후'] - anova['방영전']"
   ]
  },
  {
   "cell_type": "code",
   "execution_count": 7,
   "metadata": {},
   "outputs": [
    {
     "data": {
      "text/html": [
       "<div>\n",
       "<style scoped>\n",
       "    .dataframe tbody tr th:only-of-type {\n",
       "        vertical-align: middle;\n",
       "    }\n",
       "\n",
       "    .dataframe tbody tr th {\n",
       "        vertical-align: top;\n",
       "    }\n",
       "\n",
       "    .dataframe thead th {\n",
       "        text-align: right;\n",
       "    }\n",
       "</style>\n",
       "<table border=\"1\" class=\"dataframe\">\n",
       "  <thead>\n",
       "    <tr style=\"text-align: right;\">\n",
       "      <th></th>\n",
       "      <th>식당</th>\n",
       "      <th>방송</th>\n",
       "      <th>방영전</th>\n",
       "      <th>방영후</th>\n",
       "      <th>증가</th>\n",
       "    </tr>\n",
       "  </thead>\n",
       "  <tbody>\n",
       "    <tr>\n",
       "      <th>0</th>\n",
       "      <td>136생고기</td>\n",
       "      <td>생생정보통</td>\n",
       "      <td>18</td>\n",
       "      <td>72</td>\n",
       "      <td>54</td>\n",
       "    </tr>\n",
       "    <tr>\n",
       "      <th>1</th>\n",
       "      <td>갈비구락부</td>\n",
       "      <td>생생정보통</td>\n",
       "      <td>66</td>\n",
       "      <td>69</td>\n",
       "      <td>3</td>\n",
       "    </tr>\n",
       "    <tr>\n",
       "      <th>2</th>\n",
       "      <td>갓포치유</td>\n",
       "      <td>수요미식회</td>\n",
       "      <td>41</td>\n",
       "      <td>109</td>\n",
       "      <td>68</td>\n",
       "    </tr>\n",
       "    <tr>\n",
       "      <th>3</th>\n",
       "      <td>강릉감자옹심이</td>\n",
       "      <td>수요미식회</td>\n",
       "      <td>268</td>\n",
       "      <td>422</td>\n",
       "      <td>154</td>\n",
       "    </tr>\n",
       "    <tr>\n",
       "      <th>4</th>\n",
       "      <td>강릉아구찜</td>\n",
       "      <td>생생정보통</td>\n",
       "      <td>90</td>\n",
       "      <td>165</td>\n",
       "      <td>75</td>\n",
       "    </tr>\n",
       "  </tbody>\n",
       "</table>\n",
       "</div>"
      ],
      "text/plain": [
       "        식당     방송  방영전  방영후   증가\n",
       "0   136생고기  생생정보통   18   72   54\n",
       "1    갈비구락부  생생정보통   66   69    3\n",
       "2     갓포치유  수요미식회   41  109   68\n",
       "3  강릉감자옹심이  수요미식회  268  422  154\n",
       "4    강릉아구찜  생생정보통   90  165   75"
      ]
     },
     "execution_count": 7,
     "metadata": {},
     "output_type": "execute_result"
    }
   ],
   "source": [
    "anova.head()"
   ]
  },
  {
   "cell_type": "code",
   "execution_count": 8,
   "metadata": {},
   "outputs": [
    {
     "data": {
      "text/html": [
       "<div>\n",
       "<style scoped>\n",
       "    .dataframe tbody tr th:only-of-type {\n",
       "        vertical-align: middle;\n",
       "    }\n",
       "\n",
       "    .dataframe tbody tr th {\n",
       "        vertical-align: top;\n",
       "    }\n",
       "\n",
       "    .dataframe thead th {\n",
       "        text-align: right;\n",
       "    }\n",
       "</style>\n",
       "<table border=\"1\" class=\"dataframe\">\n",
       "  <thead>\n",
       "    <tr style=\"text-align: right;\">\n",
       "      <th></th>\n",
       "      <th>count</th>\n",
       "      <th>mean</th>\n",
       "      <th>std</th>\n",
       "      <th>min</th>\n",
       "      <th>25%</th>\n",
       "      <th>50%</th>\n",
       "      <th>75%</th>\n",
       "      <th>max</th>\n",
       "    </tr>\n",
       "    <tr>\n",
       "      <th>방송</th>\n",
       "      <th></th>\n",
       "      <th></th>\n",
       "      <th></th>\n",
       "      <th></th>\n",
       "      <th></th>\n",
       "      <th></th>\n",
       "      <th></th>\n",
       "      <th></th>\n",
       "    </tr>\n",
       "  </thead>\n",
       "  <tbody>\n",
       "    <tr>\n",
       "      <th>맛있는녀석들</th>\n",
       "      <td>79.0</td>\n",
       "      <td>38.405063</td>\n",
       "      <td>76.783164</td>\n",
       "      <td>-94.0</td>\n",
       "      <td>4.5</td>\n",
       "      <td>22.0</td>\n",
       "      <td>57.5</td>\n",
       "      <td>330.0</td>\n",
       "    </tr>\n",
       "    <tr>\n",
       "      <th>생생정보통</th>\n",
       "      <td>83.0</td>\n",
       "      <td>35.746988</td>\n",
       "      <td>47.616569</td>\n",
       "      <td>-83.0</td>\n",
       "      <td>17.0</td>\n",
       "      <td>31.0</td>\n",
       "      <td>48.5</td>\n",
       "      <td>300.0</td>\n",
       "    </tr>\n",
       "    <tr>\n",
       "      <th>수요미식회</th>\n",
       "      <td>84.0</td>\n",
       "      <td>102.714286</td>\n",
       "      <td>64.275868</td>\n",
       "      <td>-20.0</td>\n",
       "      <td>64.0</td>\n",
       "      <td>94.0</td>\n",
       "      <td>131.0</td>\n",
       "      <td>319.0</td>\n",
       "    </tr>\n",
       "  </tbody>\n",
       "</table>\n",
       "</div>"
      ],
      "text/plain": [
       "        count        mean        std   min   25%   50%    75%    max\n",
       "방송                                                                  \n",
       "맛있는녀석들   79.0   38.405063  76.783164 -94.0   4.5  22.0   57.5  330.0\n",
       "생생정보통    83.0   35.746988  47.616569 -83.0  17.0  31.0   48.5  300.0\n",
       "수요미식회    84.0  102.714286  64.275868 -20.0  64.0  94.0  131.0  319.0"
      ]
     },
     "execution_count": 8,
     "metadata": {},
     "output_type": "execute_result"
    }
   ],
   "source": [
    "anova['증가'].groupby(anova['방송']).describe()"
   ]
  },
  {
   "cell_type": "code",
   "execution_count": 9,
   "metadata": {},
   "outputs": [],
   "source": [
    "anova_mat = anova.loc[anova['방송']=='맛있는녀석들']"
   ]
  },
  {
   "cell_type": "code",
   "execution_count": 10,
   "metadata": {},
   "outputs": [
    {
     "data": {
      "text/html": [
       "<div>\n",
       "<style scoped>\n",
       "    .dataframe tbody tr th:only-of-type {\n",
       "        vertical-align: middle;\n",
       "    }\n",
       "\n",
       "    .dataframe tbody tr th {\n",
       "        vertical-align: top;\n",
       "    }\n",
       "\n",
       "    .dataframe thead th {\n",
       "        text-align: right;\n",
       "    }\n",
       "</style>\n",
       "<table border=\"1\" class=\"dataframe\">\n",
       "  <thead>\n",
       "    <tr style=\"text-align: right;\">\n",
       "      <th></th>\n",
       "      <th>식당</th>\n",
       "      <th>방송</th>\n",
       "      <th>방영전</th>\n",
       "      <th>방영후</th>\n",
       "      <th>증가</th>\n",
       "    </tr>\n",
       "  </thead>\n",
       "  <tbody>\n",
       "    <tr>\n",
       "      <th>142</th>\n",
       "      <td>시오</td>\n",
       "      <td>맛있는녀석들</td>\n",
       "      <td>547</td>\n",
       "      <td>453</td>\n",
       "      <td>-94</td>\n",
       "    </tr>\n",
       "    <tr>\n",
       "      <th>92</th>\n",
       "      <td>바다회사랑</td>\n",
       "      <td>맛있는녀석들</td>\n",
       "      <td>509</td>\n",
       "      <td>421</td>\n",
       "      <td>-88</td>\n",
       "    </tr>\n",
       "    <tr>\n",
       "      <th>63</th>\n",
       "      <td>두메향기 산</td>\n",
       "      <td>맛있는녀석들</td>\n",
       "      <td>207</td>\n",
       "      <td>138</td>\n",
       "      <td>-69</td>\n",
       "    </tr>\n",
       "    <tr>\n",
       "      <th>153</th>\n",
       "      <td>야바이</td>\n",
       "      <td>맛있는녀석들</td>\n",
       "      <td>530</td>\n",
       "      <td>470</td>\n",
       "      <td>-60</td>\n",
       "    </tr>\n",
       "    <tr>\n",
       "      <th>232</th>\n",
       "      <td>한량</td>\n",
       "      <td>맛있는녀석들</td>\n",
       "      <td>529</td>\n",
       "      <td>471</td>\n",
       "      <td>-58</td>\n",
       "    </tr>\n",
       "    <tr>\n",
       "      <th>78</th>\n",
       "      <td>먹깨비</td>\n",
       "      <td>맛있는녀석들</td>\n",
       "      <td>526</td>\n",
       "      <td>474</td>\n",
       "      <td>-52</td>\n",
       "    </tr>\n",
       "    <tr>\n",
       "      <th>85</th>\n",
       "      <td>무등산</td>\n",
       "      <td>맛있는녀석들</td>\n",
       "      <td>524</td>\n",
       "      <td>476</td>\n",
       "      <td>-48</td>\n",
       "    </tr>\n",
       "    <tr>\n",
       "      <th>117</th>\n",
       "      <td>샘밭막국수</td>\n",
       "      <td>맛있는녀석들</td>\n",
       "      <td>220</td>\n",
       "      <td>174</td>\n",
       "      <td>-46</td>\n",
       "    </tr>\n",
       "    <tr>\n",
       "      <th>61</th>\n",
       "      <td>동명항게찜</td>\n",
       "      <td>맛있는녀석들</td>\n",
       "      <td>257</td>\n",
       "      <td>223</td>\n",
       "      <td>-34</td>\n",
       "    </tr>\n",
       "    <tr>\n",
       "      <th>223</th>\n",
       "      <td>팔팔민물장어</td>\n",
       "      <td>맛있는녀석들</td>\n",
       "      <td>135</td>\n",
       "      <td>101</td>\n",
       "      <td>-34</td>\n",
       "    </tr>\n",
       "  </tbody>\n",
       "</table>\n",
       "</div>"
      ],
      "text/plain": [
       "         식당      방송  방영전  방영후  증가\n",
       "142      시오  맛있는녀석들  547  453 -94\n",
       "92    바다회사랑  맛있는녀석들  509  421 -88\n",
       "63   두메향기 산  맛있는녀석들  207  138 -69\n",
       "153     야바이  맛있는녀석들  530  470 -60\n",
       "232      한량  맛있는녀석들  529  471 -58\n",
       "78      먹깨비  맛있는녀석들  526  474 -52\n",
       "85      무등산  맛있는녀석들  524  476 -48\n",
       "117   샘밭막국수  맛있는녀석들  220  174 -46\n",
       "61    동명항게찜  맛있는녀석들  257  223 -34\n",
       "223  팔팔민물장어  맛있는녀석들  135  101 -34"
      ]
     },
     "execution_count": 10,
     "metadata": {},
     "output_type": "execute_result"
    }
   ],
   "source": [
    "anova_mat.sort_values(by=['증가']).head(10)"
   ]
  },
  {
   "cell_type": "code",
   "execution_count": 11,
   "metadata": {},
   "outputs": [],
   "source": [
    "anova.to_csv('2017_anova.csv', index=False)"
   ]
  },
  {
   "cell_type": "markdown",
   "metadata": {},
   "source": [
    "## 가정 check!"
   ]
  },
  {
   "cell_type": "markdown",
   "metadata": {},
   "source": [
    "### 1. 정규성 검정"
   ]
  },
  {
   "cell_type": "markdown",
   "metadata": {},
   "source": [
    "1) 히스토그램"
   ]
  },
  {
   "cell_type": "code",
   "execution_count": 12,
   "metadata": {},
   "outputs": [
    {
     "data": {
      "text/plain": [
       "<matplotlib.axes._subplots.AxesSubplot at 0x13dccd87780>"
      ]
     },
     "execution_count": 12,
     "metadata": {},
     "output_type": "execute_result"
    },
    {
     "data": {
      "image/png": "[encoded data removed]",
      "text/plain": [
       "<Figure size 432x288 with 1 Axes>"
      ]
     },
     "metadata": {},
     "output_type": "display_data"
    }
   ],
   "source": [
    "anova['증가'].plot(kind = 'hist')"
   ]
  },
  {
   "cell_type": "markdown",
   "metadata": {},
   "source": [
    "2) Shapiro–Wilk test\n",
    "[Shapiro–Wilk test]\"https://en.wikipedia.org/wiki/Shapiro%E2%80%93Wilk_test\""
   ]
  },
  {
   "cell_type": "code",
   "execution_count": 13,
   "metadata": {},
   "outputs": [
    {
     "data": {
      "text/plain": [
       "(0.8565592169761658, 3.0981419740783167e-07)"
      ]
     },
     "execution_count": 13,
     "metadata": {},
     "output_type": "execute_result"
    }
   ],
   "source": [
    "stats.shapiro(anova['증가'][anova['방송'] == '맛있는녀석들'])"
   ]
  },
  {
   "cell_type": "code",
   "execution_count": 14,
   "metadata": {},
   "outputs": [
    {
     "data": {
      "text/plain": [
       "(0.7749148011207581, 6.116906980935255e-10)"
      ]
     },
     "execution_count": 14,
     "metadata": {},
     "output_type": "execute_result"
    }
   ],
   "source": [
    "stats.shapiro(anova['증가'][anova['방송'] == '생생정보통'])"
   ]
  },
  {
   "cell_type": "code",
   "execution_count": 15,
   "metadata": {},
   "outputs": [
    {
     "data": {
      "text/plain": [
       "(0.9517372250556946, 0.0032664097379893064)"
      ]
     },
     "execution_count": 15,
     "metadata": {},
     "output_type": "execute_result"
    }
   ],
   "source": [
    "stats.shapiro(anova['증가'][anova['방송'] == '수요미식회'])"
   ]
  },
  {
   "cell_type": "markdown",
   "metadata": {},
   "source": [
    "모두 정규성에 위배됨......."
   ]
  },
  {
   "cell_type": "markdown",
   "metadata": {},
   "source": [
    "3) probplot"
   ]
  },
  {
   "cell_type": "code",
   "execution_count": 16,
   "metadata": {},
   "outputs": [
    {
     "data": {
      "text/plain": [
       "((array([-2.37663702, -2.02958204, -1.82767017, -1.68081377, -1.5632274 ,\n",
       "         -1.46398099, -1.37736584, -1.30000518, -1.22972736, -1.16504879,\n",
       "         -1.10490843, -1.04851956, -0.99528161, -0.94472489, -0.89647454,\n",
       "         -0.8502261 , -0.80572849, -0.76277189, -0.72117887, -0.68079772,\n",
       "         -0.64149747, -0.60316407, -0.5656973 , -0.52900844, -0.49301835,\n",
       "         -0.45765594, -0.4228569 , -0.38856265, -0.35471952, -0.32127797,\n",
       "         -0.288192  , -0.25541861, -0.22291736, -0.19064996, -0.15857989,\n",
       "         -0.12667214, -0.09489286, -0.06320916, -0.0315888 ,  0.        ,\n",
       "          0.0315888 ,  0.06320916,  0.09489286,  0.12667214,  0.15857989,\n",
       "          0.19064996,  0.22291736,  0.25541861,  0.288192  ,  0.32127797,\n",
       "          0.35471952,  0.38856265,  0.4228569 ,  0.45765594,  0.49301835,\n",
       "          0.52900844,  0.5656973 ,  0.60316407,  0.64149747,  0.68079772,\n",
       "          0.72117887,  0.76277189,  0.80572849,  0.8502261 ,  0.89647454,\n",
       "          0.94472489,  0.99528161,  1.04851956,  1.10490843,  1.16504879,\n",
       "          1.22972736,  1.30000518,  1.37736584,  1.46398099,  1.5632274 ,\n",
       "          1.68081377,  1.82767017,  2.02958204,  2.37663702]),\n",
       "  array([-94, -88, -69, -60, -58, -52, -48, -46, -34, -34, -28, -22, -18,\n",
       "         -14,  -9,  -8,  -4,   0,   3,   4,   5,   6,   7,   8,  11,  11,\n",
       "          11,  12,  12,  12,  12,  13,  13,  17,  17,  20,  20,  20,  21,\n",
       "          22,  25,  26,  26,  27,  28,  29,  30,  31,  32,  36,  36,  38,\n",
       "          40,  41,  43,  43,  47,  49,  57,  58,  61,  69,  80,  81,  82,\n",
       "          83,  86,  88,  98, 103, 120, 124, 156, 167, 204, 215, 262, 292,\n",
       "         330], dtype=int64)),\n",
       " (72.10364725591488, 38.40506329113923, 0.9220132407026118))"
      ]
     },
     "execution_count": 16,
     "metadata": {},
     "output_type": "execute_result"
    },
    {
     "data": {
      "image/png": "[encoded data removed]",
      "text/plain": [
       "<Figure size 432x288 with 1 Axes>"
      ]
     },
     "metadata": {},
     "output_type": "display_data"
    }
   ],
   "source": [
    "stats.probplot(anova['증가'][anova['방송'] == '맛있는녀석들'], plot= plt)"
   ]
  },
  {
   "cell_type": "code",
   "execution_count": 17,
   "metadata": {},
   "outputs": [
    {
     "data": {
      "text/plain": [
       "((array([-2.39472592, -2.04999764, -1.84970871, -1.70418555, -1.58777462,\n",
       "         -1.48960474, -1.40399923, -1.32760098, -1.25825142, -1.19447624,\n",
       "         -1.13522129, -1.07970516, -1.02733153, -0.97763423, -0.93024133,\n",
       "         -0.88485094, -0.84121426, -0.79912351, -0.75840314, -0.7189032 ,\n",
       "         -0.68049443, -0.64306437, -0.60651441, -0.57075741, -0.5357158 ,\n",
       "         -0.5013201 , -0.46750761, -0.43422146, -0.40140969, -0.36902459,\n",
       "         -0.33702204, -0.30536107, -0.27400335, -0.24291282, -0.2120554 ,\n",
       "         -0.18139862, -0.15091143, -0.1205639 , -0.09032702, -0.06017252,\n",
       "         -0.03007265,  0.        ,  0.03007265,  0.06017252,  0.09032702,\n",
       "          0.1205639 ,  0.15091143,  0.18139862,  0.2120554 ,  0.24291282,\n",
       "          0.27400335,  0.30536107,  0.33702204,  0.36902459,  0.40140969,\n",
       "          0.43422146,  0.46750761,  0.5013201 ,  0.5357158 ,  0.57075741,\n",
       "          0.60651441,  0.64306437,  0.68049443,  0.7189032 ,  0.75840314,\n",
       "          0.79912351,  0.84121426,  0.88485094,  0.93024133,  0.97763423,\n",
       "          1.02733153,  1.07970516,  1.13522129,  1.19447624,  1.25825142,\n",
       "          1.32760098,  1.40399923,  1.48960474,  1.58777462,  1.70418555,\n",
       "          1.84970871,  2.04999764,  2.39472592]),\n",
       "  array([-83, -72, -72, -22, -10, -10,  -5,  -1,   0,   3,   5,   8,   9,\n",
       "          12,  13,  14,  15,  15,  16,  17,  17,  17,  17,  20,  20,  20,\n",
       "          21,  22,  22,  23,  24,  24,  26,  26,  27,  27,  27,  28,  28,\n",
       "          29,  31,  31,  32,  32,  32,  32,  32,  32,  33,  33,  34,  35,\n",
       "          35,  36,  39,  41,  41,  42,  42,  46,  46,  47,  50,  51,  52,\n",
       "          53,  54,  54,  62,  63,  64,  64,  66,  75,  76,  80,  81,  84,\n",
       "          91,  96, 142, 188, 300], dtype=int64)),\n",
       " (42.072971154405266, 35.74698795180722, 0.8681479505594044))"
      ]
     },
     "execution_count": 17,
     "metadata": {},
     "output_type": "execute_result"
    },
    {
     "data": {
      "image/png": "[encoded data removed]",
      "text/plain": [
       "<Figure size 432x288 with 1 Axes>"
      ]
     },
     "metadata": {},
     "output_type": "display_data"
    }
   ],
   "source": [
    "stats.probplot(anova['증가'][anova['방송'] == '생생정보통'], plot= plt)"
   ]
  },
  {
   "cell_type": "code",
   "execution_count": 18,
   "metadata": {},
   "outputs": [
    {
     "data": {
      "text/plain": [
       "((array([-2.39909612, -2.05492542, -1.85502454, -1.70981961, -1.59368882,\n",
       "         -1.49577514, -1.41040959, -1.33423977, -1.26511027, -1.20154899,\n",
       "         -1.14250341, -1.08719341, -1.03502367, -0.98552885, -0.93833772,\n",
       "         -0.89314898, -0.84971437, -0.80782658, -0.76731049, -0.72801656,\n",
       "         -0.68981591, -0.65259645, -0.61625992, -0.58071952, -0.54589805,\n",
       "         -0.51172637, -0.47814214, -0.44508884, -0.41251489, -0.38037296,\n",
       "         -0.34861935, -0.3172135 , -0.28611751, -0.25529581, -0.2247148 ,\n",
       "         -0.19434256, -0.16414858, -0.13410355, -0.10417912, -0.07434771,\n",
       "         -0.04458233, -0.0148564 ,  0.0148564 ,  0.04458233,  0.07434771,\n",
       "          0.10417912,  0.13410355,  0.16414858,  0.19434256,  0.2247148 ,\n",
       "          0.25529581,  0.28611751,  0.3172135 ,  0.34861935,  0.38037296,\n",
       "          0.41251489,  0.44508884,  0.47814214,  0.51172637,  0.54589805,\n",
       "          0.58071952,  0.61625992,  0.65259645,  0.68981591,  0.72801656,\n",
       "          0.76731049,  0.80782658,  0.84971437,  0.89314898,  0.93833772,\n",
       "          0.98552885,  1.03502367,  1.08719341,  1.14250341,  1.20154899,\n",
       "          1.26511027,  1.33423977,  1.41040959,  1.49577514,  1.59368882,\n",
       "          1.70981961,  1.85502454,  2.05492542,  2.39909612]),\n",
       "  array([-20,   0,   4,   9,  11,  13,  19,  22,  25,  28,  29,  41,  42,\n",
       "          45,  46,  48,  58,  60,  64,  64,  64,  64,  64,  66,  66,  68,\n",
       "          68,  69,  71,  72,  76,  76,  76,  83,  86,  88,  88,  89,  92,\n",
       "          92,  93,  94,  94,  94,  99, 102, 103, 107, 108, 108, 108, 108,\n",
       "         112, 113, 115, 118, 118, 121, 123, 128, 129, 131, 131, 131, 133,\n",
       "         138, 140, 148, 151, 154, 163, 164, 168, 180, 181, 184, 188, 189,\n",
       "         194, 229, 241, 258, 292, 319], dtype=int64)),\n",
       " (63.7305881130455, 102.7142857142857, 0.9743620796136497))"
      ]
     },
     "execution_count": 18,
     "metadata": {},
     "output_type": "execute_result"
    },
    {
     "data": {
      "image/png": "[encoded data removed]",
      "text/plain": [
       "<Figure size 432x288 with 1 Axes>"
      ]
     },
     "metadata": {},
     "output_type": "display_data"
    }
   ],
   "source": [
    "stats.probplot(anova['증가'][anova['방송'] == '수요미식회'], plot= plt)"
   ]
  },
  {
   "cell_type": "markdown",
   "metadata": {},
   "source": [
    "흠....\n",
    "일단 데이터의 수가 크니 정규분포를 따른다고 가정하고 넘어가자"
   ]
  },
  {
   "cell_type": "markdown",
   "metadata": {},
   "source": [
    "### 2. 등분산 검정"
   ]
  },
  {
   "cell_type": "code",
   "execution_count": 19,
   "metadata": {},
   "outputs": [
    {
     "data": {
      "text/plain": [
       "LeveneResult(statistic=5.285062050926835, pvalue=0.0056655898887976956)"
      ]
     },
     "execution_count": 19,
     "metadata": {},
     "output_type": "execute_result"
    }
   ],
   "source": [
    "stats.levene(anova['증가'][anova['방송'] == '맛있는녀석들'], \n",
    "             anova['증가'][anova['방송'] == '생생정보통'],\n",
    "             anova['증가'][anova['방송'] == '수요미식회'])"
   ]
  },
  {
   "cell_type": "markdown",
   "metadata": {},
   "source": [
    "등분산도.."
   ]
  },
  {
   "cell_type": "markdown",
   "metadata": {},
   "source": [
    "## ANOVA"
   ]
  },
  {
   "cell_type": "code",
   "execution_count": 20,
   "metadata": {},
   "outputs": [
    {
     "data": {
      "text/plain": [
       "F_onewayResult(statistic=29.3524808800231, pvalue=3.818512884010948e-12)"
      ]
     },
     "execution_count": 20,
     "metadata": {},
     "output_type": "execute_result"
    }
   ],
   "source": [
    "stats.f_oneway(anova['증가'][anova['방송'] == '맛있는녀석들'], \n",
    "             anova['증가'][anova['방송'] == '생생정보통'],\n",
    "             anova['증가'][anova['방송'] == '수요미식회'])"
   ]
  },
  {
   "cell_type": "markdown",
   "metadata": {},
   "source": [
    "**p-value < 0.05 이므로 귀무가설(세 프로그램의 방영전후 포스팅 차이의 평균이 같다)이 기각됨.\n",
    "즉, 적어도 하나의 프로그램의 방영전후 포스팅 차이의 평균이 다르다고 결론낼 수 있음\n",
    "평균 차이가 있는 프로그램을 알아보려면 사후검정을 해야됨**"
   ]
  },
  {
   "cell_type": "markdown",
   "metadata": {},
   "source": [
    "## 사후검정 : Tukey's HSD Post-hoc comparison"
   ]
  },
  {
   "cell_type": "code",
   "execution_count": 21,
   "metadata": {},
   "outputs": [],
   "source": [
    "from statsmodels.stats.multicomp import pairwise_tukeyhsd\n",
    "from statsmodels.stats.multicomp import MultiComparison"
   ]
  },
  {
   "cell_type": "code",
   "execution_count": 22,
   "metadata": {},
   "outputs": [
    {
     "name": "stdout",
     "output_type": "stream",
     "text": [
      "Multiple Comparison of Means - Tukey HSD,FWER=0.05\n",
      "==============================================\n",
      "group1 group2 meandiff  lower    upper  reject\n",
      "----------------------------------------------\n",
      "맛있는녀석들 생생정보통  -2.6581  -26.3027 20.9865 False \n",
      "맛있는녀석들 수요미식회  64.3092  40.7334  87.8851  True \n",
      "생생정보통  수요미식회  66.9673   43.686  90.2486  True \n",
      "----------------------------------------------\n"
     ]
    }
   ],
   "source": [
    "mc = MultiComparison(anova['증가'], anova['방송'])\n",
    "mc_results = mc.tukeyhsd()\n",
    "print(mc_results)"
   ]
  },
  {
   "cell_type": "markdown",
   "metadata": {},
   "source": [
    "**맛있는 녀석들과 생생정보통의 방영후 포스팅 증가 개수의 평균은 다르다고 할 수 없지만, \n",
    "(맛있는 녀석들, 수요미식회), (생생정보통, 수요미식회)는 평균 차이가 있다고 할 수 있음**"
   ]
  }
 ],
 "metadata": {
  "kernelspec": {
   "display_name": "Python 3",
   "language": "python",
   "name": "python3"
  },
  "language_info": {
   "codemirror_mode": {
    "name": "ipython",
    "version": 3
   },
   "file_extension": ".py",
   "mimetype": "text/x-python",
   "name": "python",
   "nbconvert_exporter": "python",
   "pygments_lexer": "ipython3",
   "version": "3.6.5"
  }
 },
 "nbformat": 4,
 "nbformat_minor": 2
}
