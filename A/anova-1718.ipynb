{
 "cells": [
  {
   "cell_type": "markdown",
   "metadata": {},
   "source": [
    "# ANOVA (분산분석) : 세 맛집 프로그램의 영향력 차이가 있는지 검정"
   ]
  },
  {
   "cell_type": "code",
   "execution_count": 2,
   "metadata": {},
   "outputs": [],
   "source": [
    "import pandas as pd\n",
    "import scipy.stats as stats\n",
    "import matplotlib.pyplot as plt"
   ]
  },
  {
   "cell_type": "code",
   "execution_count": 55,
   "metadata": {},
   "outputs": [],
   "source": [
    "df1 = pd.read_csv('2018.csv')\n",
    "df2 = pd.read_csv('2017.csv')"
   ]
  },
  {
   "cell_type": "code",
   "execution_count": 56,
   "metadata": {},
   "outputs": [
    {
     "data": {
      "text/html": [
       "<div>\n",
       "<style scoped>\n",
       "    .dataframe tbody tr th:only-of-type {\n",
       "        vertical-align: middle;\n",
       "    }\n",
       "\n",
       "    .dataframe tbody tr th {\n",
       "        vertical-align: top;\n",
       "    }\n",
       "\n",
       "    .dataframe thead th {\n",
       "        text-align: right;\n",
       "    }\n",
       "</style>\n",
       "<table border=\"1\" class=\"dataframe\">\n",
       "  <thead>\n",
       "    <tr style=\"text-align: right;\">\n",
       "      <th></th>\n",
       "      <th>방송</th>\n",
       "      <th>식당</th>\n",
       "      <th>방영일</th>\n",
       "      <th>포스팅일</th>\n",
       "      <th>제목</th>\n",
       "      <th>days_diff</th>\n",
       "      <th>위치</th>\n",
       "      <th>서울</th>\n",
       "      <th>방영전</th>\n",
       "      <th>방영후</th>\n",
       "    </tr>\n",
       "  </thead>\n",
       "  <tbody>\n",
       "    <tr>\n",
       "      <th>0</th>\n",
       "      <td>생생정보통</td>\n",
       "      <td>전주회관식당</td>\n",
       "      <td>2018-01-02</td>\n",
       "      <td>2018-01-02</td>\n",
       "      <td>전주 비빔밥 맛집 식당 ㅣ 가족회관</td>\n",
       "      <td>0</td>\n",
       "      <td>진안</td>\n",
       "      <td>0.0</td>\n",
       "      <td>0</td>\n",
       "      <td>1</td>\n",
       "    </tr>\n",
       "    <tr>\n",
       "      <th>1</th>\n",
       "      <td>생생정보통</td>\n",
       "      <td>전주회관식당</td>\n",
       "      <td>2018-01-02</td>\n",
       "      <td>2018-01-27</td>\n",
       "      <td>[롯데몰 은평 맛집]전주중앙회관,비빔밥,윤식당 비빔밥,제육볶음 비빔밥,정식추천,세트...</td>\n",
       "      <td>25</td>\n",
       "      <td>진안</td>\n",
       "      <td>0.0</td>\n",
       "      <td>0</td>\n",
       "      <td>1</td>\n",
       "    </tr>\n",
       "    <tr>\n",
       "      <th>2</th>\n",
       "      <td>생생정보통</td>\n",
       "      <td>전주회관식당</td>\n",
       "      <td>2018-01-02</td>\n",
       "      <td>2018-01-02</td>\n",
       "      <td>생생정보 484회 더덕 흑돼지구이 진안군 전주회관식당 맛집 인력거 체험 달콤한 홍삼...</td>\n",
       "      <td>0</td>\n",
       "      <td>진안</td>\n",
       "      <td>0.0</td>\n",
       "      <td>0</td>\n",
       "      <td>1</td>\n",
       "    </tr>\n",
       "    <tr>\n",
       "      <th>3</th>\n",
       "      <td>생생정보통</td>\n",
       "      <td>전주회관식당</td>\n",
       "      <td>2018-01-02</td>\n",
       "      <td>2017-12-31</td>\n",
       "      <td>2017송년.  좋은사람들과 좋은만남. 아름다운 마무리. 전주역 앞. 맛집식당. 두...</td>\n",
       "      <td>-2</td>\n",
       "      <td>진안</td>\n",
       "      <td>0.0</td>\n",
       "      <td>1</td>\n",
       "      <td>0</td>\n",
       "    </tr>\n",
       "    <tr>\n",
       "      <th>4</th>\n",
       "      <td>생생정보통</td>\n",
       "      <td>전주회관식당</td>\n",
       "      <td>2018-01-02</td>\n",
       "      <td>2018-01-24</td>\n",
       "      <td>[전주한옥마을]종로회관</td>\n",
       "      <td>22</td>\n",
       "      <td>진안</td>\n",
       "      <td>0.0</td>\n",
       "      <td>0</td>\n",
       "      <td>1</td>\n",
       "    </tr>\n",
       "  </tbody>\n",
       "</table>\n",
       "</div>"
      ],
      "text/plain": [
       "      방송      식당         방영일        포스팅일  \\\n",
       "0  생생정보통  전주회관식당  2018-01-02  2018-01-02   \n",
       "1  생생정보통  전주회관식당  2018-01-02  2018-01-27   \n",
       "2  생생정보통  전주회관식당  2018-01-02  2018-01-02   \n",
       "3  생생정보통  전주회관식당  2018-01-02  2017-12-31   \n",
       "4  생생정보통  전주회관식당  2018-01-02  2018-01-24   \n",
       "\n",
       "                                                  제목  days_diff  위치   서울  방영전  \\\n",
       "0                                전주 비빔밥 맛집 식당 ㅣ 가족회관          0  진안  0.0    0   \n",
       "1  [롯데몰 은평 맛집]전주중앙회관,비빔밥,윤식당 비빔밥,제육볶음 비빔밥,정식추천,세트...         25  진안  0.0    0   \n",
       "2  생생정보 484회 더덕 흑돼지구이 진안군 전주회관식당 맛집 인력거 체험 달콤한 홍삼...          0  진안  0.0    0   \n",
       "3  2017송년.  좋은사람들과 좋은만남. 아름다운 마무리. 전주역 앞. 맛집식당. 두...         -2  진안  0.0    1   \n",
       "4                                       [전주한옥마을]종로회관         22  진안  0.0    0   \n",
       "\n",
       "   방영후  \n",
       "0    1  \n",
       "1    1  \n",
       "2    1  \n",
       "3    0  \n",
       "4    1  "
      ]
     },
     "execution_count": 56,
     "metadata": {},
     "output_type": "execute_result"
    }
   ],
   "source": [
    "df1.head()"
   ]
  },
  {
   "cell_type": "code",
   "execution_count": 57,
   "metadata": {},
   "outputs": [
    {
     "data": {
      "text/html": [
       "<div>\n",
       "<style scoped>\n",
       "    .dataframe tbody tr th:only-of-type {\n",
       "        vertical-align: middle;\n",
       "    }\n",
       "\n",
       "    .dataframe tbody tr th {\n",
       "        vertical-align: top;\n",
       "    }\n",
       "\n",
       "    .dataframe thead th {\n",
       "        text-align: right;\n",
       "    }\n",
       "</style>\n",
       "<table border=\"1\" class=\"dataframe\">\n",
       "  <thead>\n",
       "    <tr style=\"text-align: right;\">\n",
       "      <th></th>\n",
       "      <th>방송</th>\n",
       "      <th>식당</th>\n",
       "      <th>방영일</th>\n",
       "      <th>포스팅일</th>\n",
       "      <th>제목</th>\n",
       "      <th>days_diff</th>\n",
       "      <th>방영전</th>\n",
       "      <th>방영후</th>\n",
       "    </tr>\n",
       "  </thead>\n",
       "  <tbody>\n",
       "    <tr>\n",
       "      <th>0</th>\n",
       "      <td>생생정보통</td>\n",
       "      <td>대풍만두</td>\n",
       "      <td>2017-01-03</td>\n",
       "      <td>2017-01-27</td>\n",
       "      <td>안동구시장찐빵맛집, 생생정보통 대풍만두</td>\n",
       "      <td>24</td>\n",
       "      <td>0</td>\n",
       "      <td>1</td>\n",
       "    </tr>\n",
       "    <tr>\n",
       "      <th>1</th>\n",
       "      <td>생생정보통</td>\n",
       "      <td>대풍만두</td>\n",
       "      <td>2017-01-03</td>\n",
       "      <td>2017-01-03</td>\n",
       "      <td>오즈패밀리 KBS 생생정보 1월3일 맛집 - 흑미 복분자 찐빵(대풍만두)</td>\n",
       "      <td>0</td>\n",
       "      <td>0</td>\n",
       "      <td>1</td>\n",
       "    </tr>\n",
       "    <tr>\n",
       "      <th>2</th>\n",
       "      <td>생생정보통</td>\n",
       "      <td>대풍만두</td>\n",
       "      <td>2017-01-03</td>\n",
       "      <td>2017-01-03</td>\n",
       "      <td>◈ 안동 찐빵 만두 맛집 공유~* , 2tv  저녁 생생정보  안동 구시장 찐빵 맛...</td>\n",
       "      <td>0</td>\n",
       "      <td>0</td>\n",
       "      <td>1</td>\n",
       "    </tr>\n",
       "    <tr>\n",
       "      <th>3</th>\n",
       "      <td>생생정보통</td>\n",
       "      <td>대풍만두</td>\n",
       "      <td>2017-01-03</td>\n",
       "      <td>2017-01-31</td>\n",
       "      <td>안동 맛집-찐빵맛집,만두맛집,생생정보&lt;상주곶감본가&gt;</td>\n",
       "      <td>28</td>\n",
       "      <td>0</td>\n",
       "      <td>1</td>\n",
       "    </tr>\n",
       "    <tr>\n",
       "      <th>4</th>\n",
       "      <td>생생정보통</td>\n",
       "      <td>대풍만두</td>\n",
       "      <td>2017-01-03</td>\n",
       "      <td>2017-01-24</td>\n",
       "      <td>[부산맛집/장산맛집] 해운대맛집 \"대풍밀면\"</td>\n",
       "      <td>21</td>\n",
       "      <td>0</td>\n",
       "      <td>1</td>\n",
       "    </tr>\n",
       "  </tbody>\n",
       "</table>\n",
       "</div>"
      ],
      "text/plain": [
       "      방송    식당         방영일        포스팅일  \\\n",
       "0  생생정보통  대풍만두  2017-01-03  2017-01-27   \n",
       "1  생생정보통  대풍만두  2017-01-03  2017-01-03   \n",
       "2  생생정보통  대풍만두  2017-01-03  2017-01-03   \n",
       "3  생생정보통  대풍만두  2017-01-03  2017-01-31   \n",
       "4  생생정보통  대풍만두  2017-01-03  2017-01-24   \n",
       "\n",
       "                                                  제목  days_diff  방영전  방영후  \n",
       "0                              안동구시장찐빵맛집, 생생정보통 대풍만두         24    0    1  \n",
       "1           오즈패밀리 KBS 생생정보 1월3일 맛집 - 흑미 복분자 찐빵(대풍만두)          0    0    1  \n",
       "2  ◈ 안동 찐빵 만두 맛집 공유~* , 2tv  저녁 생생정보  안동 구시장 찐빵 맛...          0    0    1  \n",
       "3                       안동 맛집-찐빵맛집,만두맛집,생생정보<상주곶감본가>         28    0    1  \n",
       "4                           [부산맛집/장산맛집] 해운대맛집 \"대풍밀면\"         21    0    1  "
      ]
     },
     "execution_count": 57,
     "metadata": {},
     "output_type": "execute_result"
    }
   ],
   "source": [
    "df2.head()"
   ]
  },
  {
   "cell_type": "code",
   "execution_count": 58,
   "metadata": {},
   "outputs": [],
   "source": [
    "df = pd.concat([df1, df2], ignore_index=True, sort = False)"
   ]
  },
  {
   "cell_type": "code",
   "execution_count": 59,
   "metadata": {},
   "outputs": [
    {
     "data": {
      "text/html": [
       "<div>\n",
       "<style scoped>\n",
       "    .dataframe tbody tr th:only-of-type {\n",
       "        vertical-align: middle;\n",
       "    }\n",
       "\n",
       "    .dataframe tbody tr th {\n",
       "        vertical-align: top;\n",
       "    }\n",
       "\n",
       "    .dataframe thead th {\n",
       "        text-align: right;\n",
       "    }\n",
       "</style>\n",
       "<table border=\"1\" class=\"dataframe\">\n",
       "  <thead>\n",
       "    <tr style=\"text-align: right;\">\n",
       "      <th></th>\n",
       "      <th>방송</th>\n",
       "      <th>식당</th>\n",
       "      <th>방영일</th>\n",
       "      <th>포스팅일</th>\n",
       "      <th>제목</th>\n",
       "      <th>days_diff</th>\n",
       "      <th>위치</th>\n",
       "      <th>서울</th>\n",
       "      <th>방영전</th>\n",
       "      <th>방영후</th>\n",
       "    </tr>\n",
       "  </thead>\n",
       "  <tbody>\n",
       "    <tr>\n",
       "      <th>0</th>\n",
       "      <td>생생정보통</td>\n",
       "      <td>전주회관식당</td>\n",
       "      <td>2018-01-02</td>\n",
       "      <td>2018-01-02</td>\n",
       "      <td>전주 비빔밥 맛집 식당 ㅣ 가족회관</td>\n",
       "      <td>0</td>\n",
       "      <td>진안</td>\n",
       "      <td>0.0</td>\n",
       "      <td>0</td>\n",
       "      <td>1</td>\n",
       "    </tr>\n",
       "    <tr>\n",
       "      <th>1</th>\n",
       "      <td>생생정보통</td>\n",
       "      <td>전주회관식당</td>\n",
       "      <td>2018-01-02</td>\n",
       "      <td>2018-01-27</td>\n",
       "      <td>[롯데몰 은평 맛집]전주중앙회관,비빔밥,윤식당 비빔밥,제육볶음 비빔밥,정식추천,세트...</td>\n",
       "      <td>25</td>\n",
       "      <td>진안</td>\n",
       "      <td>0.0</td>\n",
       "      <td>0</td>\n",
       "      <td>1</td>\n",
       "    </tr>\n",
       "    <tr>\n",
       "      <th>2</th>\n",
       "      <td>생생정보통</td>\n",
       "      <td>전주회관식당</td>\n",
       "      <td>2018-01-02</td>\n",
       "      <td>2018-01-02</td>\n",
       "      <td>생생정보 484회 더덕 흑돼지구이 진안군 전주회관식당 맛집 인력거 체험 달콤한 홍삼...</td>\n",
       "      <td>0</td>\n",
       "      <td>진안</td>\n",
       "      <td>0.0</td>\n",
       "      <td>0</td>\n",
       "      <td>1</td>\n",
       "    </tr>\n",
       "    <tr>\n",
       "      <th>3</th>\n",
       "      <td>생생정보통</td>\n",
       "      <td>전주회관식당</td>\n",
       "      <td>2018-01-02</td>\n",
       "      <td>2017-12-31</td>\n",
       "      <td>2017송년.  좋은사람들과 좋은만남. 아름다운 마무리. 전주역 앞. 맛집식당. 두...</td>\n",
       "      <td>-2</td>\n",
       "      <td>진안</td>\n",
       "      <td>0.0</td>\n",
       "      <td>1</td>\n",
       "      <td>0</td>\n",
       "    </tr>\n",
       "    <tr>\n",
       "      <th>4</th>\n",
       "      <td>생생정보통</td>\n",
       "      <td>전주회관식당</td>\n",
       "      <td>2018-01-02</td>\n",
       "      <td>2018-01-24</td>\n",
       "      <td>[전주한옥마을]종로회관</td>\n",
       "      <td>22</td>\n",
       "      <td>진안</td>\n",
       "      <td>0.0</td>\n",
       "      <td>0</td>\n",
       "      <td>1</td>\n",
       "    </tr>\n",
       "  </tbody>\n",
       "</table>\n",
       "</div>"
      ],
      "text/plain": [
       "      방송      식당         방영일        포스팅일  \\\n",
       "0  생생정보통  전주회관식당  2018-01-02  2018-01-02   \n",
       "1  생생정보통  전주회관식당  2018-01-02  2018-01-27   \n",
       "2  생생정보통  전주회관식당  2018-01-02  2018-01-02   \n",
       "3  생생정보통  전주회관식당  2018-01-02  2017-12-31   \n",
       "4  생생정보통  전주회관식당  2018-01-02  2018-01-24   \n",
       "\n",
       "                                                  제목  days_diff  위치   서울  방영전  \\\n",
       "0                                전주 비빔밥 맛집 식당 ㅣ 가족회관          0  진안  0.0    0   \n",
       "1  [롯데몰 은평 맛집]전주중앙회관,비빔밥,윤식당 비빔밥,제육볶음 비빔밥,정식추천,세트...         25  진안  0.0    0   \n",
       "2  생생정보 484회 더덕 흑돼지구이 진안군 전주회관식당 맛집 인력거 체험 달콤한 홍삼...          0  진안  0.0    0   \n",
       "3  2017송년.  좋은사람들과 좋은만남. 아름다운 마무리. 전주역 앞. 맛집식당. 두...         -2  진안  0.0    1   \n",
       "4                                       [전주한옥마을]종로회관         22  진안  0.0    0   \n",
       "\n",
       "   방영후  \n",
       "0    1  \n",
       "1    1  \n",
       "2    1  \n",
       "3    0  \n",
       "4    1  "
      ]
     },
     "execution_count": 59,
     "metadata": {},
     "output_type": "execute_result"
    }
   ],
   "source": [
    "df.head()"
   ]
  },
  {
   "cell_type": "markdown",
   "metadata": {},
   "source": [
    "### ANOVA 분석을 위한 데이터 전처리 ( X : 방송명, Y : 방영 후 포스팅 증가수)"
   ]
  },
  {
   "cell_type": "code",
   "execution_count": 60,
   "metadata": {},
   "outputs": [],
   "source": [
    "anova = pd.DataFrame(df.groupby(['식당', '방송'])['방영전', '방영후'].sum()).reset_index()"
   ]
  },
  {
   "cell_type": "code",
   "execution_count": 61,
   "metadata": {},
   "outputs": [
    {
     "data": {
      "text/plain": [
       "(331, 4)"
      ]
     },
     "execution_count": 61,
     "metadata": {},
     "output_type": "execute_result"
    }
   ],
   "source": [
    "anova.shape"
   ]
  },
  {
   "cell_type": "code",
   "execution_count": 62,
   "metadata": {},
   "outputs": [
    {
     "data": {
      "text/html": [
       "<div>\n",
       "<style scoped>\n",
       "    .dataframe tbody tr th:only-of-type {\n",
       "        vertical-align: middle;\n",
       "    }\n",
       "\n",
       "    .dataframe tbody tr th {\n",
       "        vertical-align: top;\n",
       "    }\n",
       "\n",
       "    .dataframe thead th {\n",
       "        text-align: right;\n",
       "    }\n",
       "</style>\n",
       "<table border=\"1\" class=\"dataframe\">\n",
       "  <thead>\n",
       "    <tr style=\"text-align: right;\">\n",
       "      <th></th>\n",
       "      <th>식당</th>\n",
       "      <th>방송</th>\n",
       "      <th>방영전</th>\n",
       "      <th>방영후</th>\n",
       "    </tr>\n",
       "  </thead>\n",
       "  <tbody>\n",
       "    <tr>\n",
       "      <th>0</th>\n",
       "      <td>136생고기</td>\n",
       "      <td>생생정보통</td>\n",
       "      <td>9</td>\n",
       "      <td>17</td>\n",
       "    </tr>\n",
       "    <tr>\n",
       "      <th>1</th>\n",
       "      <td>3일한우국밥</td>\n",
       "      <td>생생정보통</td>\n",
       "      <td>29</td>\n",
       "      <td>66</td>\n",
       "    </tr>\n",
       "    <tr>\n",
       "      <th>2</th>\n",
       "      <td>가람떡갈비</td>\n",
       "      <td>맛있는 녀석들</td>\n",
       "      <td>13</td>\n",
       "      <td>56</td>\n",
       "    </tr>\n",
       "    <tr>\n",
       "      <th>3</th>\n",
       "      <td>가마솥 족발</td>\n",
       "      <td>생생정보통</td>\n",
       "      <td>160</td>\n",
       "      <td>151</td>\n",
       "    </tr>\n",
       "    <tr>\n",
       "      <th>4</th>\n",
       "      <td>가마솥손두부</td>\n",
       "      <td>생생정보통</td>\n",
       "      <td>30</td>\n",
       "      <td>49</td>\n",
       "    </tr>\n",
       "  </tbody>\n",
       "</table>\n",
       "</div>"
      ],
      "text/plain": [
       "       식당       방송  방영전  방영후\n",
       "0  136생고기    생생정보통    9   17\n",
       "1  3일한우국밥    생생정보통   29   66\n",
       "2   가람떡갈비  맛있는 녀석들   13   56\n",
       "3  가마솥 족발    생생정보통  160  151\n",
       "4  가마솥손두부    생생정보통   30   49"
      ]
     },
     "execution_count": 62,
     "metadata": {},
     "output_type": "execute_result"
    }
   ],
   "source": [
    "anova.head()"
   ]
  },
  {
   "cell_type": "code",
   "execution_count": 63,
   "metadata": {},
   "outputs": [],
   "source": [
    "anova['증가'] = anova['방영후'] - anova['방영전']"
   ]
  },
  {
   "cell_type": "code",
   "execution_count": 64,
   "metadata": {},
   "outputs": [
    {
     "data": {
      "text/html": [
       "<div>\n",
       "<style scoped>\n",
       "    .dataframe tbody tr th:only-of-type {\n",
       "        vertical-align: middle;\n",
       "    }\n",
       "\n",
       "    .dataframe tbody tr th {\n",
       "        vertical-align: top;\n",
       "    }\n",
       "\n",
       "    .dataframe thead th {\n",
       "        text-align: right;\n",
       "    }\n",
       "</style>\n",
       "<table border=\"1\" class=\"dataframe\">\n",
       "  <thead>\n",
       "    <tr style=\"text-align: right;\">\n",
       "      <th></th>\n",
       "      <th>식당</th>\n",
       "      <th>방송</th>\n",
       "      <th>방영전</th>\n",
       "      <th>방영후</th>\n",
       "      <th>증가</th>\n",
       "    </tr>\n",
       "  </thead>\n",
       "  <tbody>\n",
       "    <tr>\n",
       "      <th>0</th>\n",
       "      <td>136생고기</td>\n",
       "      <td>생생정보통</td>\n",
       "      <td>9</td>\n",
       "      <td>17</td>\n",
       "      <td>8</td>\n",
       "    </tr>\n",
       "    <tr>\n",
       "      <th>1</th>\n",
       "      <td>3일한우국밥</td>\n",
       "      <td>생생정보통</td>\n",
       "      <td>29</td>\n",
       "      <td>66</td>\n",
       "      <td>37</td>\n",
       "    </tr>\n",
       "    <tr>\n",
       "      <th>2</th>\n",
       "      <td>가람떡갈비</td>\n",
       "      <td>맛있는 녀석들</td>\n",
       "      <td>13</td>\n",
       "      <td>56</td>\n",
       "      <td>43</td>\n",
       "    </tr>\n",
       "    <tr>\n",
       "      <th>3</th>\n",
       "      <td>가마솥 족발</td>\n",
       "      <td>생생정보통</td>\n",
       "      <td>160</td>\n",
       "      <td>151</td>\n",
       "      <td>-9</td>\n",
       "    </tr>\n",
       "    <tr>\n",
       "      <th>4</th>\n",
       "      <td>가마솥손두부</td>\n",
       "      <td>생생정보통</td>\n",
       "      <td>30</td>\n",
       "      <td>49</td>\n",
       "      <td>19</td>\n",
       "    </tr>\n",
       "  </tbody>\n",
       "</table>\n",
       "</div>"
      ],
      "text/plain": [
       "       식당       방송  방영전  방영후  증가\n",
       "0  136생고기    생생정보통    9   17   8\n",
       "1  3일한우국밥    생생정보통   29   66  37\n",
       "2   가람떡갈비  맛있는 녀석들   13   56  43\n",
       "3  가마솥 족발    생생정보통  160  151  -9\n",
       "4  가마솥손두부    생생정보통   30   49  19"
      ]
     },
     "execution_count": 64,
     "metadata": {},
     "output_type": "execute_result"
    }
   ],
   "source": [
    "anova.head()"
   ]
  },
  {
   "cell_type": "code",
   "execution_count": 65,
   "metadata": {},
   "outputs": [
    {
     "data": {
      "text/html": [
       "<div>\n",
       "<style scoped>\n",
       "    .dataframe tbody tr th:only-of-type {\n",
       "        vertical-align: middle;\n",
       "    }\n",
       "\n",
       "    .dataframe tbody tr th {\n",
       "        vertical-align: top;\n",
       "    }\n",
       "\n",
       "    .dataframe thead th {\n",
       "        text-align: right;\n",
       "    }\n",
       "</style>\n",
       "<table border=\"1\" class=\"dataframe\">\n",
       "  <thead>\n",
       "    <tr style=\"text-align: right;\">\n",
       "      <th></th>\n",
       "      <th>식당</th>\n",
       "      <th>방송</th>\n",
       "      <th>방영전</th>\n",
       "      <th>방영후</th>\n",
       "      <th>증가</th>\n",
       "    </tr>\n",
       "  </thead>\n",
       "  <tbody>\n",
       "    <tr>\n",
       "      <th>47</th>\n",
       "      <td>까치기사식당</td>\n",
       "      <td>생생정보통</td>\n",
       "      <td>6</td>\n",
       "      <td>6</td>\n",
       "      <td>0</td>\n",
       "    </tr>\n",
       "    <tr>\n",
       "      <th>123</th>\n",
       "      <td>바다담은 해물 손칼국수</td>\n",
       "      <td>생생정보통</td>\n",
       "      <td>4</td>\n",
       "      <td>4</td>\n",
       "      <td>0</td>\n",
       "    </tr>\n",
       "    <tr>\n",
       "      <th>183</th>\n",
       "      <td>쇠뫼기</td>\n",
       "      <td>생생정보통</td>\n",
       "      <td>6</td>\n",
       "      <td>6</td>\n",
       "      <td>0</td>\n",
       "    </tr>\n",
       "    <tr>\n",
       "      <th>212</th>\n",
       "      <td>여인천하조개구이</td>\n",
       "      <td>생생정보통</td>\n",
       "      <td>8</td>\n",
       "      <td>8</td>\n",
       "      <td>0</td>\n",
       "    </tr>\n",
       "    <tr>\n",
       "      <th>216</th>\n",
       "      <td>연호정칼국수</td>\n",
       "      <td>생생정보통</td>\n",
       "      <td>11</td>\n",
       "      <td>11</td>\n",
       "      <td>0</td>\n",
       "    </tr>\n",
       "    <tr>\n",
       "      <th>268</th>\n",
       "      <td>종로도마</td>\n",
       "      <td>맛있는 녀석들</td>\n",
       "      <td>34</td>\n",
       "      <td>34</td>\n",
       "      <td>0</td>\n",
       "    </tr>\n",
       "    <tr>\n",
       "      <th>297</th>\n",
       "      <td>태봉한우면옥</td>\n",
       "      <td>생생정보통</td>\n",
       "      <td>14</td>\n",
       "      <td>14</td>\n",
       "      <td>0</td>\n",
       "    </tr>\n",
       "  </tbody>\n",
       "</table>\n",
       "</div>"
      ],
      "text/plain": [
       "               식당       방송  방영전  방영후  증가\n",
       "47         까치기사식당    생생정보통    6    6   0\n",
       "123  바다담은 해물 손칼국수    생생정보통    4    4   0\n",
       "183           쇠뫼기    생생정보통    6    6   0\n",
       "212      여인천하조개구이    생생정보통    8    8   0\n",
       "216        연호정칼국수    생생정보통   11   11   0\n",
       "268          종로도마  맛있는 녀석들   34   34   0\n",
       "297        태봉한우면옥    생생정보통   14   14   0"
      ]
     },
     "execution_count": 65,
     "metadata": {},
     "output_type": "execute_result"
    }
   ],
   "source": [
    "anova.loc[anova['증가'] == 0]\n"
   ]
  },
  {
   "cell_type": "code",
   "execution_count": 66,
   "metadata": {},
   "outputs": [
    {
     "data": {
      "text/html": [
       "<div>\n",
       "<style scoped>\n",
       "    .dataframe tbody tr th:only-of-type {\n",
       "        vertical-align: middle;\n",
       "    }\n",
       "\n",
       "    .dataframe tbody tr th {\n",
       "        vertical-align: top;\n",
       "    }\n",
       "\n",
       "    .dataframe thead th {\n",
       "        text-align: right;\n",
       "    }\n",
       "</style>\n",
       "<table border=\"1\" class=\"dataframe\">\n",
       "  <thead>\n",
       "    <tr style=\"text-align: right;\">\n",
       "      <th></th>\n",
       "      <th>count</th>\n",
       "      <th>mean</th>\n",
       "      <th>std</th>\n",
       "      <th>min</th>\n",
       "      <th>25%</th>\n",
       "      <th>50%</th>\n",
       "      <th>75%</th>\n",
       "      <th>max</th>\n",
       "    </tr>\n",
       "    <tr>\n",
       "      <th>방송</th>\n",
       "      <th></th>\n",
       "      <th></th>\n",
       "      <th></th>\n",
       "      <th></th>\n",
       "      <th></th>\n",
       "      <th></th>\n",
       "      <th></th>\n",
       "      <th></th>\n",
       "    </tr>\n",
       "  </thead>\n",
       "  <tbody>\n",
       "    <tr>\n",
       "      <th>맛있는 녀석들</th>\n",
       "      <td>112.0</td>\n",
       "      <td>7.687500</td>\n",
       "      <td>44.849504</td>\n",
       "      <td>-318.0</td>\n",
       "      <td>1.0</td>\n",
       "      <td>9.0</td>\n",
       "      <td>21.0</td>\n",
       "      <td>178.0</td>\n",
       "    </tr>\n",
       "    <tr>\n",
       "      <th>생생정보통</th>\n",
       "      <td>109.0</td>\n",
       "      <td>13.183486</td>\n",
       "      <td>23.731197</td>\n",
       "      <td>-92.0</td>\n",
       "      <td>2.0</td>\n",
       "      <td>10.0</td>\n",
       "      <td>19.0</td>\n",
       "      <td>101.0</td>\n",
       "    </tr>\n",
       "    <tr>\n",
       "      <th>수요미식회</th>\n",
       "      <td>110.0</td>\n",
       "      <td>36.527273</td>\n",
       "      <td>46.914662</td>\n",
       "      <td>-244.0</td>\n",
       "      <td>19.0</td>\n",
       "      <td>36.5</td>\n",
       "      <td>54.0</td>\n",
       "      <td>210.0</td>\n",
       "    </tr>\n",
       "  </tbody>\n",
       "</table>\n",
       "</div>"
      ],
      "text/plain": [
       "         count       mean        std    min   25%   50%   75%    max\n",
       "방송                                                                  \n",
       "맛있는 녀석들  112.0   7.687500  44.849504 -318.0   1.0   9.0  21.0  178.0\n",
       "생생정보통    109.0  13.183486  23.731197  -92.0   2.0  10.0  19.0  101.0\n",
       "수요미식회    110.0  36.527273  46.914662 -244.0  19.0  36.5  54.0  210.0"
      ]
     },
     "execution_count": 66,
     "metadata": {},
     "output_type": "execute_result"
    }
   ],
   "source": [
    "anova['증가'].groupby(anova['방송']).describe()"
   ]
  },
  {
   "cell_type": "code",
   "execution_count": 67,
   "metadata": {},
   "outputs": [],
   "source": [
    "anova.to_csv('2017_18_anova.csv', index=False)"
   ]
  },
  {
   "cell_type": "markdown",
   "metadata": {},
   "source": [
    "## 가정 check!"
   ]
  },
  {
   "cell_type": "markdown",
   "metadata": {},
   "source": [
    "### 1. 정규성 검정"
   ]
  },
  {
   "cell_type": "code",
   "execution_count": 68,
   "metadata": {},
   "outputs": [
    {
     "data": {
      "text/plain": [
       "<matplotlib.axes._subplots.AxesSubplot at 0x13c28fe49b0>"
      ]
     },
     "execution_count": 68,
     "metadata": {},
     "output_type": "execute_result"
    },
    {
     "data": {
      "image/png": "[encoded data removed]",
      "text/plain": [
       "<Figure size 432x288 with 1 Axes>"
      ]
     },
     "metadata": {},
     "output_type": "display_data"
    }
   ],
   "source": [
    "anova['증가'].plot(kind = 'hist')"
   ]
  },
  {
   "cell_type": "code",
   "execution_count": 81,
   "metadata": {},
   "outputs": [],
   "source": [
    "anova1 = anova.loc[(anova['증가']> -100) & (anova['증가']<100)]"
   ]
  },
  {
   "cell_type": "code",
   "execution_count": 82,
   "metadata": {},
   "outputs": [
    {
     "data": {
      "text/plain": [
       "<matplotlib.axes._subplots.AxesSubplot at 0x13c24ddb320>"
      ]
     },
     "execution_count": 82,
     "metadata": {},
     "output_type": "execute_result"
    },
    {
     "data": {
      "image/png": "[encoded data removed]",
      "text/plain": [
       "<Figure size 432x288 with 1 Axes>"
      ]
     },
     "metadata": {},
     "output_type": "display_data"
    }
   ],
   "source": [
    "anova1['증가'].plot(kind = 'hist')"
   ]
  },
  {
   "cell_type": "code",
   "execution_count": 43,
   "metadata": {},
   "outputs": [
    {
     "data": {
      "text/plain": [
       "(307, 5)"
      ]
     },
     "execution_count": 43,
     "metadata": {},
     "output_type": "execute_result"
    }
   ],
   "source": [
    "anova1.shape"
   ]
  },
  {
   "cell_type": "markdown",
   "metadata": {},
   "source": [
    "outlier 제거해봄"
   ]
  },
  {
   "cell_type": "code",
   "execution_count": 19,
   "metadata": {},
   "outputs": [
    {
     "data": {
      "text/plain": [
       "(0.7688440084457397, 6.76021500112256e-06)"
      ]
     },
     "execution_count": 19,
     "metadata": {},
     "output_type": "execute_result"
    }
   ],
   "source": [
    "stats.shapiro(anova['증가'][anova['방송'] == '맛있는 녀석들'])"
   ]
  },
  {
   "cell_type": "code",
   "execution_count": 20,
   "metadata": {},
   "outputs": [
    {
     "data": {
      "text/plain": [
       "(0.7842313051223755, 2.0886251149931923e-05)"
      ]
     },
     "execution_count": 20,
     "metadata": {},
     "output_type": "execute_result"
    }
   ],
   "source": [
    "stats.shapiro(anova['증가'][anova['방송'] == '생생정보통'])"
   ]
  },
  {
   "cell_type": "code",
   "execution_count": 21,
   "metadata": {},
   "outputs": [
    {
     "data": {
      "text/plain": [
       "(0.8741214871406555, 0.001212559873238206)"
      ]
     },
     "execution_count": 21,
     "metadata": {},
     "output_type": "execute_result"
    }
   ],
   "source": [
    "stats.shapiro(anova['증가'][anova['방송'] == '수요미식회'])"
   ]
  },
  {
   "cell_type": "markdown",
   "metadata": {},
   "source": [
    "모두 정규성에 위배됨......."
   ]
  },
  {
   "cell_type": "code",
   "execution_count": 15,
   "metadata": {},
   "outputs": [
    {
     "data": {
      "text/plain": [
       "((array([-2.01197163, -1.6105163 , -1.36883603, -1.1880445 , -1.03948072,\n",
       "         -0.91090285, -0.79586259, -0.69050407, -0.59231064, -0.49952733,\n",
       "         -0.41086261, -0.32532036, -0.24209833, -0.16052274, -0.08000327,\n",
       "          0.        ,  0.08000327,  0.16052274,  0.24209833,  0.32532036,\n",
       "          0.41086261,  0.49952733,  0.59231064,  0.69050407,  0.79586259,\n",
       "          0.91090285,  1.03948072,  1.1880445 ,  1.36883603,  1.6105163 ,\n",
       "          2.01197163]),\n",
       "  array([-62, -61, -52, -34, -30, -22, -12,  -5,  -1,   4,   9,   9,   9,\n",
       "          12,  13,  13,  15,  17,  19,  20,  23,  28,  30,  43,  44,  45,\n",
       "          49,  51,  60,  62,  68], dtype=int64)),\n",
       " (35.141816316591076, 11.74193548387096, 0.9795499163229399))"
      ]
     },
     "execution_count": 15,
     "metadata": {},
     "output_type": "execute_result"
    },
    {
     "data": {
      "image/png": "[encoded data removed]",
      "text/plain": [
       "<Figure size 432x288 with 1 Axes>"
      ]
     },
     "metadata": {},
     "output_type": "display_data"
    }
   ],
   "source": [
    "stats.probplot(anova['증가'][anova['방송'] == '맛있는 녀석들'], plot= plt)"
   ]
  },
  {
   "cell_type": "code",
   "execution_count": 16,
   "metadata": {},
   "outputs": [
    {
     "data": {
      "text/plain": [
       "((array([-2.01197163, -1.6105163 , -1.36883603, -1.1880445 , -1.03948072,\n",
       "         -0.91090285, -0.79586259, -0.69050407, -0.59231064, -0.49952733,\n",
       "         -0.41086261, -0.32532036, -0.24209833, -0.16052274, -0.08000327,\n",
       "          0.        ,  0.08000327,  0.16052274,  0.24209833,  0.32532036,\n",
       "          0.41086261,  0.49952733,  0.59231064,  0.69050407,  0.79586259,\n",
       "          0.91090285,  1.03948072,  1.1880445 ,  1.36883603,  1.6105163 ,\n",
       "          2.01197163]),\n",
       "  array([-92,  -9,  -2,   0,   5,   5,   5,   6,   7,  11,  11,  11,  11,\n",
       "          11,  11,  11,  12,  13,  14,  14,  14,  15,  17,  19,  24,  29,\n",
       "          37,  40,  45,  55,  74], dtype=int64)),\n",
       " (22.97810229536809, 13.677419354838705, 0.8477179716653752))"
      ]
     },
     "execution_count": 16,
     "metadata": {},
     "output_type": "execute_result"
    },
    {
     "data": {
      "image/png": "[encoded data removed]",
      "text/plain": [
       "<Figure size 432x288 with 1 Axes>"
      ]
     },
     "metadata": {},
     "output_type": "display_data"
    }
   ],
   "source": [
    "stats.probplot(anova['증가'][anova['방송'] == '생생정보통'], plot= plt)"
   ]
  },
  {
   "cell_type": "code",
   "execution_count": 17,
   "metadata": {},
   "outputs": [
    {
     "data": {
      "text/plain": [
       "((array([-2.02511189, -1.62590278, -1.38593914, -1.20666642, -1.05953591,\n",
       "         -0.93235918, -0.81872017, -0.71478609, -0.6180591 , -0.52680137,\n",
       "         -0.43973827, -0.35589149, -0.27447843, -0.19484777, -0.11643566,\n",
       "         -0.03873405,  0.03873405,  0.11643566,  0.19484777,  0.27447843,\n",
       "          0.35589149,  0.43973827,  0.52680137,  0.6180591 ,  0.71478609,\n",
       "          0.81872017,  0.93235918,  1.05953591,  1.20666642,  1.38593914,\n",
       "          1.62590278,  2.02511189]),\n",
       "  array([-15, -11,  -1,   1,   3,   4,   4,   6,   6,   6,   9,  20,  22,\n",
       "          24,  25,  27,  29,  32,  32,  32,  34,  34,  34,  36,  38,  40,\n",
       "          41,  46,  47,  64,  71,  73], dtype=int64)),\n",
       " (22.356989384162073, 25.406250000000004, 0.9820241535802277))"
      ]
     },
     "execution_count": 17,
     "metadata": {},
     "output_type": "execute_result"
    },
    {
     "data": {
      "image/png": "[encoded data removed]",
      "text/plain": [
       "<Figure size 432x288 with 1 Axes>"
      ]
     },
     "metadata": {},
     "output_type": "display_data"
    }
   ],
   "source": [
    "stats.probplot(anova['증가'][anova['방송'] == '수요미식회'], plot= plt)"
   ]
  },
  {
   "cell_type": "markdown",
   "metadata": {},
   "source": [
    "흠....\n",
    "일단 데이터의 수가 크니 정규분포를 따른다고 가정하고 넘어가자"
   ]
  },
  {
   "cell_type": "markdown",
   "metadata": {},
   "source": [
    "### 2. 등분산 검정"
   ]
  },
  {
   "cell_type": "code",
   "execution_count": 48,
   "metadata": {},
   "outputs": [
    {
     "data": {
      "text/plain": [
       "LeveneResult(statistic=3.185956996959367, pvalue=0.04579130757264899)"
      ]
     },
     "execution_count": 48,
     "metadata": {},
     "output_type": "execute_result"
    }
   ],
   "source": [
    "stats.levene(anova['증가'][anova['방송'] == '맛있는 녀석들'], \n",
    "             anova['증가'][anova['방송'] == '생생정보통'],\n",
    "             anova['증가'][anova['방송'] == '수요미식회'])"
   ]
  },
  {
   "cell_type": "markdown",
   "metadata": {},
   "source": [
    "아....이것도 위배된다....."
   ]
  },
  {
   "cell_type": "code",
   "execution_count": 18,
   "metadata": {},
   "outputs": [
    {
     "data": {
      "text/plain": [
       "LeveneResult(statistic=2.930504007701646, pvalue=0.05842578580866439)"
      ]
     },
     "execution_count": 18,
     "metadata": {},
     "output_type": "execute_result"
    }
   ],
   "source": [
    "stats.levene(anova1['증가'][anova1['방송'] == '맛있는 녀석들'], \n",
    "             anova1['증가'][anova1['방송'] == '생생정보통'],\n",
    "             anova1['증가'][anova1['방송'] == '수요미식회'])"
   ]
  },
  {
   "cell_type": "markdown",
   "metadata": {},
   "source": [
    "등분산은 통과"
   ]
  },
  {
   "cell_type": "markdown",
   "metadata": {},
   "source": [
    "## ANOVA"
   ]
  },
  {
   "cell_type": "code",
   "execution_count": 71,
   "metadata": {},
   "outputs": [
    {
     "data": {
      "text/plain": [
       "F_onewayResult(statistic=16.21553437016144, pvalue=1.9251578922839892e-07)"
      ]
     },
     "execution_count": 71,
     "metadata": {},
     "output_type": "execute_result"
    }
   ],
   "source": [
    "stats.f_oneway(anova['증가'][anova['방송'] == '맛있는 녀석들'], \n",
    "             anova['증가'][anova['방송'] == '생생정보통'],\n",
    "             anova['증가'][anova['방송'] == '수요미식회'])"
   ]
  },
  {
   "cell_type": "code",
   "execution_count": 74,
   "metadata": {},
   "outputs": [
    {
     "data": {
      "text/plain": [
       "F_onewayResult(statistic=35.458514447333656, pvalue=1.2915649927054759e-14)"
      ]
     },
     "execution_count": 74,
     "metadata": {},
     "output_type": "execute_result"
    }
   ],
   "source": [
    "stats.f_oneway(anova1['증가'][anova1['방송'] == '맛있는 녀석들'], \n",
    "             anova1['증가'][anova1['방송'] == '생생정보통'],\n",
    "             anova1['증가'][anova1['방송'] == '수요미식회'])"
   ]
  },
  {
   "cell_type": "code",
   "execution_count": 27,
   "metadata": {},
   "outputs": [],
   "source": [
    "import statsmodels.api as sm\n",
    "from statsmodels.formula.api import ols"
   ]
  },
  {
   "cell_type": "code",
   "execution_count": 72,
   "metadata": {},
   "outputs": [],
   "source": [
    "broad_lm = ols('증가 ~ C(방송)',\n",
    "                 data=anova).fit()\n",
    "table = sm.stats.anova_lm(broad_lm, typ=2)"
   ]
  },
  {
   "cell_type": "code",
   "execution_count": 29,
   "metadata": {},
   "outputs": [
    {
     "name": "stdout",
     "output_type": "stream",
     "text": [
      "                 sum_sq     df         F   PR(>F)\n",
      "C(방송)       3437.556030    2.0  2.073103  0.12744\n",
      "Residual  271939.749106  328.0       NaN      NaN\n"
     ]
    }
   ],
   "source": [
    "print(table)"
   ]
  },
  {
   "cell_type": "code",
   "execution_count": 73,
   "metadata": {},
   "outputs": [
    {
     "data": {
      "text/html": [
       "<table class=\"simpletable\">\n",
       "<caption>OLS Regression Results</caption>\n",
       "<tr>\n",
       "  <th>Dep. Variable:</th>           <td>증가</td>        <th>  R-squared:         </th> <td>   0.090</td>\n",
       "</tr>\n",
       "<tr>\n",
       "  <th>Model:</th>                   <td>OLS</td>       <th>  Adj. R-squared:    </th> <td>   0.084</td>\n",
       "</tr>\n",
       "<tr>\n",
       "  <th>Method:</th>             <td>Least Squares</td>  <th>  F-statistic:       </th> <td>   16.22</td>\n",
       "</tr>\n",
       "<tr>\n",
       "  <th>Date:</th>             <td>Tue, 21 Aug 2018</td> <th>  Prob (F-statistic):</th> <td>1.93e-07</td>\n",
       "</tr>\n",
       "<tr>\n",
       "  <th>Time:</th>                 <td>17:00:32</td>     <th>  Log-Likelihood:    </th> <td> -1688.9</td>\n",
       "</tr>\n",
       "<tr>\n",
       "  <th>No. Observations:</th>      <td>   331</td>      <th>  AIC:               </th> <td>   3384.</td>\n",
       "</tr>\n",
       "<tr>\n",
       "  <th>Df Residuals:</th>          <td>   328</td>      <th>  BIC:               </th> <td>   3395.</td>\n",
       "</tr>\n",
       "<tr>\n",
       "  <th>Df Model:</th>              <td>     2</td>      <th>                     </th>     <td> </td>   \n",
       "</tr>\n",
       "<tr>\n",
       "  <th>Covariance Type:</th>      <td>nonrobust</td>    <th>                     </th>     <td> </td>   \n",
       "</tr>\n",
       "</table>\n",
       "<table class=\"simpletable\">\n",
       "<tr>\n",
       "         <td></td>           <th>coef</th>     <th>std err</th>      <th>t</th>      <th>P>|t|</th>  <th>[0.025</th>    <th>0.975]</th>  \n",
       "</tr>\n",
       "<tr>\n",
       "  <th>Intercept</th>      <td>    7.6875</td> <td>    3.777</td> <td>    2.035</td> <td> 0.043</td> <td>    0.258</td> <td>   15.117</td>\n",
       "</tr>\n",
       "<tr>\n",
       "  <th>C(방송)[T.생생정보통]</th> <td>    5.4960</td> <td>    5.378</td> <td>    1.022</td> <td> 0.308</td> <td>   -5.083</td> <td>   16.075</td>\n",
       "</tr>\n",
       "<tr>\n",
       "  <th>C(방송)[T.수요미식회]</th> <td>   28.8398</td> <td>    5.365</td> <td>    5.375</td> <td> 0.000</td> <td>   18.285</td> <td>   39.395</td>\n",
       "</tr>\n",
       "</table>\n",
       "<table class=\"simpletable\">\n",
       "<tr>\n",
       "  <th>Omnibus:</th>       <td>230.502</td> <th>  Durbin-Watson:     </th> <td>   1.730</td>\n",
       "</tr>\n",
       "<tr>\n",
       "  <th>Prob(Omnibus):</th> <td> 0.000</td>  <th>  Jarque-Bera (JB):  </th> <td>7386.863</td>\n",
       "</tr>\n",
       "<tr>\n",
       "  <th>Skew:</th>          <td>-2.378</td>  <th>  Prob(JB):          </th> <td>    0.00</td>\n",
       "</tr>\n",
       "<tr>\n",
       "  <th>Kurtosis:</th>      <td>25.649</td>  <th>  Cond. No.          </th> <td>    3.71</td>\n",
       "</tr>\n",
       "</table><br/><br/>Warnings:<br/>[1] Standard Errors assume that the covariance matrix of the errors is correctly specified."
      ],
      "text/plain": [
       "<class 'statsmodels.iolib.summary.Summary'>\n",
       "\"\"\"\n",
       "                            OLS Regression Results                            \n",
       "==============================================================================\n",
       "Dep. Variable:                     증가   R-squared:                       0.090\n",
       "Model:                            OLS   Adj. R-squared:                  0.084\n",
       "Method:                 Least Squares   F-statistic:                     16.22\n",
       "Date:                Tue, 21 Aug 2018   Prob (F-statistic):           1.93e-07\n",
       "Time:                        17:00:32   Log-Likelihood:                -1688.9\n",
       "No. Observations:                 331   AIC:                             3384.\n",
       "Df Residuals:                     328   BIC:                             3395.\n",
       "Df Model:                           2                                         \n",
       "Covariance Type:            nonrobust                                         \n",
       "==================================================================================\n",
       "                     coef    std err          t      P>|t|      [0.025      0.975]\n",
       "----------------------------------------------------------------------------------\n",
       "Intercept          7.6875      3.777      2.035      0.043       0.258      15.117\n",
       "C(방송)[T.생생정보통]     5.4960      5.378      1.022      0.308      -5.083      16.075\n",
       "C(방송)[T.수요미식회]    28.8398      5.365      5.375      0.000      18.285      39.395\n",
       "==============================================================================\n",
       "Omnibus:                      230.502   Durbin-Watson:                   1.730\n",
       "Prob(Omnibus):                  0.000   Jarque-Bera (JB):             7386.863\n",
       "Skew:                          -2.378   Prob(JB):                         0.00\n",
       "Kurtosis:                      25.649   Cond. No.                         3.71\n",
       "==============================================================================\n",
       "\n",
       "Warnings:\n",
       "[1] Standard Errors assume that the covariance matrix of the errors is correctly specified.\n",
       "\"\"\""
      ]
     },
     "execution_count": 73,
     "metadata": {},
     "output_type": "execute_result"
    }
   ],
   "source": [
    "broad_lm.summary()"
   ]
  },
  {
   "cell_type": "code",
   "execution_count": 80,
   "metadata": {},
   "outputs": [
    {
     "data": {
      "text/html": [
       "<table class=\"simpletable\">\n",
       "<caption>OLS Regression Results</caption>\n",
       "<tr>\n",
       "  <th>Dep. Variable:</th>           <td>증가</td>        <th>  R-squared:         </th> <td>   0.169</td>\n",
       "</tr>\n",
       "<tr>\n",
       "  <th>Model:</th>                   <td>OLS</td>       <th>  Adj. R-squared:    </th> <td>   0.164</td>\n",
       "</tr>\n",
       "<tr>\n",
       "  <th>Method:</th>             <td>Least Squares</td>  <th>  F-statistic:       </th> <td>   30.74</td>\n",
       "</tr>\n",
       "<tr>\n",
       "  <th>Date:</th>             <td>Tue, 21 Aug 2018</td> <th>  Prob (F-statistic):</th> <td>7.03e-13</td>\n",
       "</tr>\n",
       "<tr>\n",
       "  <th>Time:</th>                 <td>17:03:12</td>     <th>  Log-Likelihood:    </th> <td> -1347.6</td>\n",
       "</tr>\n",
       "<tr>\n",
       "  <th>No. Observations:</th>      <td>   305</td>      <th>  AIC:               </th> <td>   2701.</td>\n",
       "</tr>\n",
       "<tr>\n",
       "  <th>Df Residuals:</th>          <td>   302</td>      <th>  BIC:               </th> <td>   2712.</td>\n",
       "</tr>\n",
       "<tr>\n",
       "  <th>Df Model:</th>              <td>     2</td>      <th>                     </th>     <td> </td>   \n",
       "</tr>\n",
       "<tr>\n",
       "  <th>Covariance Type:</th>      <td>nonrobust</td>    <th>                     </th>     <td> </td>   \n",
       "</tr>\n",
       "</table>\n",
       "<table class=\"simpletable\">\n",
       "<tr>\n",
       "         <td></td>           <th>coef</th>     <th>std err</th>      <th>t</th>      <th>P>|t|</th>  <th>[0.025</th>    <th>0.975]</th>  \n",
       "</tr>\n",
       "<tr>\n",
       "  <th>Intercept</th>      <td>   11.6286</td> <td>    1.969</td> <td>    5.906</td> <td> 0.000</td> <td>    7.754</td> <td>   15.503</td>\n",
       "</tr>\n",
       "<tr>\n",
       "  <th>C(방송)[T.생생정보통]</th> <td>    0.2095</td> <td>    2.785</td> <td>    0.075</td> <td> 0.940</td> <td>   -5.270</td> <td>    5.689</td>\n",
       "</tr>\n",
       "<tr>\n",
       "  <th>C(방송)[T.수요미식회]</th> <td>   19.6662</td> <td>    2.857</td> <td>    6.884</td> <td> 0.000</td> <td>   14.044</td> <td>   25.288</td>\n",
       "</tr>\n",
       "</table>\n",
       "<table class=\"simpletable\">\n",
       "<tr>\n",
       "  <th>Omnibus:</th>       <td>11.372</td> <th>  Durbin-Watson:     </th> <td>   1.954</td>\n",
       "</tr>\n",
       "<tr>\n",
       "  <th>Prob(Omnibus):</th> <td> 0.003</td> <th>  Jarque-Bera (JB):  </th> <td>  14.312</td>\n",
       "</tr>\n",
       "<tr>\n",
       "  <th>Skew:</th>          <td> 0.325</td> <th>  Prob(JB):          </th> <td>0.000780</td>\n",
       "</tr>\n",
       "<tr>\n",
       "  <th>Kurtosis:</th>      <td> 3.839</td> <th>  Cond. No.          </th> <td>    3.68</td>\n",
       "</tr>\n",
       "</table><br/><br/>Warnings:<br/>[1] Standard Errors assume that the covariance matrix of the errors is correctly specified."
      ],
      "text/plain": [
       "<class 'statsmodels.iolib.summary.Summary'>\n",
       "\"\"\"\n",
       "                            OLS Regression Results                            \n",
       "==============================================================================\n",
       "Dep. Variable:                     증가   R-squared:                       0.169\n",
       "Model:                            OLS   Adj. R-squared:                  0.164\n",
       "Method:                 Least Squares   F-statistic:                     30.74\n",
       "Date:                Tue, 21 Aug 2018   Prob (F-statistic):           7.03e-13\n",
       "Time:                        17:03:12   Log-Likelihood:                -1347.6\n",
       "No. Observations:                 305   AIC:                             2701.\n",
       "Df Residuals:                     302   BIC:                             2712.\n",
       "Df Model:                           2                                         \n",
       "Covariance Type:            nonrobust                                         \n",
       "==================================================================================\n",
       "                     coef    std err          t      P>|t|      [0.025      0.975]\n",
       "----------------------------------------------------------------------------------\n",
       "Intercept         11.6286      1.969      5.906      0.000       7.754      15.503\n",
       "C(방송)[T.생생정보통]     0.2095      2.785      0.075      0.940      -5.270       5.689\n",
       "C(방송)[T.수요미식회]    19.6662      2.857      6.884      0.000      14.044      25.288\n",
       "==============================================================================\n",
       "Omnibus:                       11.372   Durbin-Watson:                   1.954\n",
       "Prob(Omnibus):                  0.003   Jarque-Bera (JB):               14.312\n",
       "Skew:                           0.325   Prob(JB):                     0.000780\n",
       "Kurtosis:                       3.839   Cond. No.                         3.68\n",
       "==============================================================================\n",
       "\n",
       "Warnings:\n",
       "[1] Standard Errors assume that the covariance matrix of the errors is correctly specified.\n",
       "\"\"\""
      ]
     },
     "execution_count": 80,
     "metadata": {},
     "output_type": "execute_result"
    }
   ],
   "source": [
    "broad_lm1 = ols('증가 ~ C(방송)',\n",
    "                 data=anova1).fit()\n",
    "broad_lm1.summary()"
   ]
  },
  {
   "cell_type": "code",
   "execution_count": 20,
   "metadata": {},
   "outputs": [
    {
     "name": "stdout",
     "output_type": "stream",
     "text": [
      "                sum_sq    df         F    PR(>F)\n",
      "C(방송)      3460.475828   2.0  2.211759  0.115362\n",
      "Residual  71188.428427  91.0       NaN       NaN\n"
     ]
    }
   ],
   "source": [
    "table = sm.stats.anova_lm(broad_lm1, typ=2)\n",
    "print(table)"
   ]
  },
  {
   "cell_type": "code",
   "execution_count": 37,
   "metadata": {},
   "outputs": [
    {
     "data": {
      "text/html": [
       "<div>\n",
       "<style scoped>\n",
       "    .dataframe tbody tr th:only-of-type {\n",
       "        vertical-align: middle;\n",
       "    }\n",
       "\n",
       "    .dataframe tbody tr th {\n",
       "        vertical-align: top;\n",
       "    }\n",
       "\n",
       "    .dataframe thead th {\n",
       "        text-align: right;\n",
       "    }\n",
       "</style>\n",
       "<table border=\"1\" class=\"dataframe\">\n",
       "  <thead>\n",
       "    <tr style=\"text-align: right;\">\n",
       "      <th></th>\n",
       "      <th>식당</th>\n",
       "      <th>방송</th>\n",
       "      <th>방영전</th>\n",
       "      <th>방영후</th>\n",
       "      <th>증가</th>\n",
       "    </tr>\n",
       "  </thead>\n",
       "  <tbody>\n",
       "    <tr>\n",
       "      <th>1</th>\n",
       "      <td>가람떡갈비</td>\n",
       "      <td>맛있는 녀석들</td>\n",
       "      <td>13</td>\n",
       "      <td>56</td>\n",
       "      <td>43</td>\n",
       "    </tr>\n",
       "    <tr>\n",
       "      <th>11</th>\n",
       "      <td>고향 양꼬치</td>\n",
       "      <td>맛있는 녀석들</td>\n",
       "      <td>145</td>\n",
       "      <td>7</td>\n",
       "      <td>-138</td>\n",
       "    </tr>\n",
       "    <tr>\n",
       "      <th>13</th>\n",
       "      <td>교동두부</td>\n",
       "      <td>맛있는 녀석들</td>\n",
       "      <td>105</td>\n",
       "      <td>149</td>\n",
       "      <td>44</td>\n",
       "    </tr>\n",
       "    <tr>\n",
       "      <th>15</th>\n",
       "      <td>김북순큰남비집</td>\n",
       "      <td>맛있는 녀석들</td>\n",
       "      <td>7</td>\n",
       "      <td>16</td>\n",
       "      <td>9</td>\n",
       "    </tr>\n",
       "    <tr>\n",
       "      <th>18</th>\n",
       "      <td>나정순할매쭈꾸미</td>\n",
       "      <td>맛있는 녀석들</td>\n",
       "      <td>41</td>\n",
       "      <td>103</td>\n",
       "      <td>62</td>\n",
       "    </tr>\n",
       "    <tr>\n",
       "      <th>21</th>\n",
       "      <td>도토리 편백집</td>\n",
       "      <td>맛있는 녀석들</td>\n",
       "      <td>84</td>\n",
       "      <td>50</td>\n",
       "      <td>-34</td>\n",
       "    </tr>\n",
       "    <tr>\n",
       "      <th>25</th>\n",
       "      <td>마복림떡볶이</td>\n",
       "      <td>맛있는 녀석들</td>\n",
       "      <td>175</td>\n",
       "      <td>114</td>\n",
       "      <td>-61</td>\n",
       "    </tr>\n",
       "    <tr>\n",
       "      <th>28</th>\n",
       "      <td>맛집 마음과마음</td>\n",
       "      <td>맛있는 녀석들</td>\n",
       "      <td>71</td>\n",
       "      <td>90</td>\n",
       "      <td>19</td>\n",
       "    </tr>\n",
       "    <tr>\n",
       "      <th>38</th>\n",
       "      <td>봉구네 고기집</td>\n",
       "      <td>맛있는 녀석들</td>\n",
       "      <td>5</td>\n",
       "      <td>14</td>\n",
       "      <td>9</td>\n",
       "    </tr>\n",
       "    <tr>\n",
       "      <th>39</th>\n",
       "      <td>봉산옥</td>\n",
       "      <td>맛있는 녀석들</td>\n",
       "      <td>4</td>\n",
       "      <td>53</td>\n",
       "      <td>49</td>\n",
       "    </tr>\n",
       "    <tr>\n",
       "      <th>42</th>\n",
       "      <td>부암갈비</td>\n",
       "      <td>맛있는 녀석들</td>\n",
       "      <td>122</td>\n",
       "      <td>70</td>\n",
       "      <td>-52</td>\n",
       "    </tr>\n",
       "    <tr>\n",
       "      <th>44</th>\n",
       "      <td>분짜 라붐</td>\n",
       "      <td>맛있는 녀석들</td>\n",
       "      <td>495</td>\n",
       "      <td>465</td>\n",
       "      <td>-30</td>\n",
       "    </tr>\n",
       "    <tr>\n",
       "      <th>46</th>\n",
       "      <td>사람사는 고깃집 김일도</td>\n",
       "      <td>맛있는 녀석들</td>\n",
       "      <td>20</td>\n",
       "      <td>29</td>\n",
       "      <td>9</td>\n",
       "    </tr>\n",
       "    <tr>\n",
       "      <th>49</th>\n",
       "      <td>서경도락</td>\n",
       "      <td>맛있는 녀석들</td>\n",
       "      <td>15</td>\n",
       "      <td>27</td>\n",
       "      <td>12</td>\n",
       "    </tr>\n",
       "    <tr>\n",
       "      <th>53</th>\n",
       "      <td>시추안하우스</td>\n",
       "      <td>맛있는 녀석들</td>\n",
       "      <td>55</td>\n",
       "      <td>75</td>\n",
       "      <td>20</td>\n",
       "    </tr>\n",
       "    <tr>\n",
       "      <th>58</th>\n",
       "      <td>어메이징 타일랜드</td>\n",
       "      <td>맛있는 녀석들</td>\n",
       "      <td>23</td>\n",
       "      <td>83</td>\n",
       "      <td>60</td>\n",
       "    </tr>\n",
       "    <tr>\n",
       "      <th>62</th>\n",
       "      <td>오복가정식</td>\n",
       "      <td>맛있는 녀석들</td>\n",
       "      <td>18</td>\n",
       "      <td>31</td>\n",
       "      <td>13</td>\n",
       "    </tr>\n",
       "    <tr>\n",
       "      <th>67</th>\n",
       "      <td>우정 가든</td>\n",
       "      <td>맛있는 녀석들</td>\n",
       "      <td>423</td>\n",
       "      <td>105</td>\n",
       "      <td>-318</td>\n",
       "    </tr>\n",
       "    <tr>\n",
       "      <th>68</th>\n",
       "      <td>원조남산왕돈가스</td>\n",
       "      <td>맛있는 녀석들</td>\n",
       "      <td>88</td>\n",
       "      <td>92</td>\n",
       "      <td>4</td>\n",
       "    </tr>\n",
       "    <tr>\n",
       "      <th>73</th>\n",
       "      <td>이필당</td>\n",
       "      <td>맛있는 녀석들</td>\n",
       "      <td>2</td>\n",
       "      <td>32</td>\n",
       "      <td>30</td>\n",
       "    </tr>\n",
       "    <tr>\n",
       "      <th>74</th>\n",
       "      <td>인디테이블</td>\n",
       "      <td>맛있는 녀석들</td>\n",
       "      <td>253</td>\n",
       "      <td>321</td>\n",
       "      <td>68</td>\n",
       "    </tr>\n",
       "    <tr>\n",
       "      <th>75</th>\n",
       "      <td>자연석돌구이</td>\n",
       "      <td>맛있는 녀석들</td>\n",
       "      <td>30</td>\n",
       "      <td>8</td>\n",
       "      <td>-22</td>\n",
       "    </tr>\n",
       "    <tr>\n",
       "      <th>77</th>\n",
       "      <td>제주쉬멍해장국</td>\n",
       "      <td>맛있는 녀석들</td>\n",
       "      <td>10</td>\n",
       "      <td>38</td>\n",
       "      <td>28</td>\n",
       "    </tr>\n",
       "    <tr>\n",
       "      <th>78</th>\n",
       "      <td>주은감자탕</td>\n",
       "      <td>맛있는 녀석들</td>\n",
       "      <td>41</td>\n",
       "      <td>36</td>\n",
       "      <td>-5</td>\n",
       "    </tr>\n",
       "    <tr>\n",
       "      <th>79</th>\n",
       "      <td>찌마기</td>\n",
       "      <td>맛있는 녀석들</td>\n",
       "      <td>29</td>\n",
       "      <td>42</td>\n",
       "      <td>13</td>\n",
       "    </tr>\n",
       "    <tr>\n",
       "      <th>81</th>\n",
       "      <td>채근담</td>\n",
       "      <td>맛있는 녀석들</td>\n",
       "      <td>358</td>\n",
       "      <td>536</td>\n",
       "      <td>178</td>\n",
       "    </tr>\n",
       "    <tr>\n",
       "      <th>83</th>\n",
       "      <td>철길 왕갈비살</td>\n",
       "      <td>맛있는 녀석들</td>\n",
       "      <td>10</td>\n",
       "      <td>33</td>\n",
       "      <td>23</td>\n",
       "    </tr>\n",
       "    <tr>\n",
       "      <th>84</th>\n",
       "      <td>청담골</td>\n",
       "      <td>맛있는 녀석들</td>\n",
       "      <td>30</td>\n",
       "      <td>81</td>\n",
       "      <td>51</td>\n",
       "    </tr>\n",
       "    <tr>\n",
       "      <th>85</th>\n",
       "      <td>춘심이네</td>\n",
       "      <td>맛있는 녀석들</td>\n",
       "      <td>330</td>\n",
       "      <td>329</td>\n",
       "      <td>-1</td>\n",
       "    </tr>\n",
       "    <tr>\n",
       "      <th>90</th>\n",
       "      <td>티마하우스</td>\n",
       "      <td>맛있는 녀석들</td>\n",
       "      <td>46</td>\n",
       "      <td>34</td>\n",
       "      <td>-12</td>\n",
       "    </tr>\n",
       "    <tr>\n",
       "      <th>91</th>\n",
       "      <td>하롱베이의 하루</td>\n",
       "      <td>맛있는 녀석들</td>\n",
       "      <td>212</td>\n",
       "      <td>227</td>\n",
       "      <td>15</td>\n",
       "    </tr>\n",
       "    <tr>\n",
       "      <th>93</th>\n",
       "      <td>한강껍데기</td>\n",
       "      <td>맛있는 녀석들</td>\n",
       "      <td>89</td>\n",
       "      <td>134</td>\n",
       "      <td>45</td>\n",
       "    </tr>\n",
       "    <tr>\n",
       "      <th>94</th>\n",
       "      <td>한라국수</td>\n",
       "      <td>맛있는 녀석들</td>\n",
       "      <td>163</td>\n",
       "      <td>101</td>\n",
       "      <td>-62</td>\n",
       "    </tr>\n",
       "    <tr>\n",
       "      <th>95</th>\n",
       "      <td>할매우짜</td>\n",
       "      <td>맛있는 녀석들</td>\n",
       "      <td>2</td>\n",
       "      <td>19</td>\n",
       "      <td>17</td>\n",
       "    </tr>\n",
       "  </tbody>\n",
       "</table>\n",
       "</div>"
      ],
      "text/plain": [
       "              식당       방송  방영전  방영후   증가\n",
       "1          가람떡갈비  맛있는 녀석들   13   56   43\n",
       "11        고향 양꼬치  맛있는 녀석들  145    7 -138\n",
       "13          교동두부  맛있는 녀석들  105  149   44\n",
       "15       김북순큰남비집  맛있는 녀석들    7   16    9\n",
       "18      나정순할매쭈꾸미  맛있는 녀석들   41  103   62\n",
       "21       도토리 편백집  맛있는 녀석들   84   50  -34\n",
       "25        마복림떡볶이  맛있는 녀석들  175  114  -61\n",
       "28      맛집 마음과마음  맛있는 녀석들   71   90   19\n",
       "38       봉구네 고기집  맛있는 녀석들    5   14    9\n",
       "39           봉산옥  맛있는 녀석들    4   53   49\n",
       "42          부암갈비  맛있는 녀석들  122   70  -52\n",
       "44         분짜 라붐  맛있는 녀석들  495  465  -30\n",
       "46  사람사는 고깃집 김일도  맛있는 녀석들   20   29    9\n",
       "49          서경도락  맛있는 녀석들   15   27   12\n",
       "53        시추안하우스  맛있는 녀석들   55   75   20\n",
       "58     어메이징 타일랜드  맛있는 녀석들   23   83   60\n",
       "62         오복가정식  맛있는 녀석들   18   31   13\n",
       "67         우정 가든  맛있는 녀석들  423  105 -318\n",
       "68      원조남산왕돈가스  맛있는 녀석들   88   92    4\n",
       "73           이필당  맛있는 녀석들    2   32   30\n",
       "74         인디테이블  맛있는 녀석들  253  321   68\n",
       "75        자연석돌구이  맛있는 녀석들   30    8  -22\n",
       "77       제주쉬멍해장국  맛있는 녀석들   10   38   28\n",
       "78         주은감자탕  맛있는 녀석들   41   36   -5\n",
       "79           찌마기  맛있는 녀석들   29   42   13\n",
       "81           채근담  맛있는 녀석들  358  536  178\n",
       "83       철길 왕갈비살  맛있는 녀석들   10   33   23\n",
       "84           청담골  맛있는 녀석들   30   81   51\n",
       "85          춘심이네  맛있는 녀석들  330  329   -1\n",
       "90         티마하우스  맛있는 녀석들   46   34  -12\n",
       "91      하롱베이의 하루  맛있는 녀석들  212  227   15\n",
       "93         한강껍데기  맛있는 녀석들   89  134   45\n",
       "94          한라국수  맛있는 녀석들  163  101  -62\n",
       "95          할매우짜  맛있는 녀석들    2   19   17"
      ]
     },
     "execution_count": 37,
     "metadata": {},
     "output_type": "execute_result"
    }
   ],
   "source": [
    "anova.loc[anova['방송']=='맛있는 녀석들']"
   ]
  },
  {
   "cell_type": "code",
   "execution_count": 6,
   "metadata": {},
   "outputs": [
    {
     "data": {
      "text/html": [
       "<div>\n",
       "<style scoped>\n",
       "    .dataframe tbody tr th:only-of-type {\n",
       "        vertical-align: middle;\n",
       "    }\n",
       "\n",
       "    .dataframe tbody tr th {\n",
       "        vertical-align: top;\n",
       "    }\n",
       "\n",
       "    .dataframe thead th {\n",
       "        text-align: right;\n",
       "    }\n",
       "</style>\n",
       "<table border=\"1\" class=\"dataframe\">\n",
       "  <thead>\n",
       "    <tr style=\"text-align: right;\">\n",
       "      <th></th>\n",
       "      <th>식당</th>\n",
       "      <th>방송</th>\n",
       "      <th>방영전</th>\n",
       "      <th>방영후</th>\n",
       "      <th>증가</th>\n",
       "    </tr>\n",
       "  </thead>\n",
       "  <tbody>\n",
       "    <tr>\n",
       "      <th>4</th>\n",
       "      <td>강남 국미당</td>\n",
       "      <td>수요미식회</td>\n",
       "      <td>1</td>\n",
       "      <td>7</td>\n",
       "      <td>6</td>\n",
       "    </tr>\n",
       "    <tr>\n",
       "      <th>5</th>\n",
       "      <td>강남 대우부대찌개</td>\n",
       "      <td>수요미식회</td>\n",
       "      <td>36</td>\n",
       "      <td>21</td>\n",
       "      <td>-15</td>\n",
       "    </tr>\n",
       "    <tr>\n",
       "      <th>6</th>\n",
       "      <td>강남 우정양곱창</td>\n",
       "      <td>수요미식회</td>\n",
       "      <td>6</td>\n",
       "      <td>33</td>\n",
       "      <td>27</td>\n",
       "    </tr>\n",
       "    <tr>\n",
       "      <th>7</th>\n",
       "      <td>강남 우텐더강남 삼정하누</td>\n",
       "      <td>수요미식회</td>\n",
       "      <td>2</td>\n",
       "      <td>22</td>\n",
       "      <td>20</td>\n",
       "    </tr>\n",
       "    <tr>\n",
       "      <th>9</th>\n",
       "      <td>고양 만포면옥</td>\n",
       "      <td>수요미식회</td>\n",
       "      <td>2</td>\n",
       "      <td>8</td>\n",
       "      <td>6</td>\n",
       "    </tr>\n",
       "    <tr>\n",
       "      <th>10</th>\n",
       "      <td>고양 양각도</td>\n",
       "      <td>수요미식회</td>\n",
       "      <td>13</td>\n",
       "      <td>2</td>\n",
       "      <td>-11</td>\n",
       "    </tr>\n",
       "    <tr>\n",
       "      <th>14</th>\n",
       "      <td>기와집순두부</td>\n",
       "      <td>수요미식회</td>\n",
       "      <td>49</td>\n",
       "      <td>87</td>\n",
       "      <td>38</td>\n",
       "    </tr>\n",
       "    <tr>\n",
       "      <th>23</th>\n",
       "      <td>동부식육식당</td>\n",
       "      <td>수요미식회</td>\n",
       "      <td>3</td>\n",
       "      <td>37</td>\n",
       "      <td>34</td>\n",
       "    </tr>\n",
       "    <tr>\n",
       "      <th>24</th>\n",
       "      <td>또이또이베트남</td>\n",
       "      <td>수요미식회</td>\n",
       "      <td>18</td>\n",
       "      <td>54</td>\n",
       "      <td>36</td>\n",
       "    </tr>\n",
       "    <tr>\n",
       "      <th>26</th>\n",
       "      <td>마포 옥동식</td>\n",
       "      <td>수요미식회</td>\n",
       "      <td>8</td>\n",
       "      <td>11</td>\n",
       "      <td>3</td>\n",
       "    </tr>\n",
       "    <tr>\n",
       "      <th>27</th>\n",
       "      <td>말굽버섯</td>\n",
       "      <td>수요미식회</td>\n",
       "      <td>141</td>\n",
       "      <td>188</td>\n",
       "      <td>47</td>\n",
       "    </tr>\n",
       "    <tr>\n",
       "      <th>30</th>\n",
       "      <td>목포낙지마을</td>\n",
       "      <td>수요미식회</td>\n",
       "      <td>3</td>\n",
       "      <td>37</td>\n",
       "      <td>34</td>\n",
       "    </tr>\n",
       "    <tr>\n",
       "      <th>31</th>\n",
       "      <td>몽고네</td>\n",
       "      <td>수요미식회</td>\n",
       "      <td>333</td>\n",
       "      <td>470</td>\n",
       "      <td>137</td>\n",
       "    </tr>\n",
       "    <tr>\n",
       "      <th>32</th>\n",
       "      <td>문래 원조마늘통닭</td>\n",
       "      <td>수요미식회</td>\n",
       "      <td>5</td>\n",
       "      <td>14</td>\n",
       "      <td>9</td>\n",
       "    </tr>\n",
       "    <tr>\n",
       "      <th>33</th>\n",
       "      <td>미당순두부</td>\n",
       "      <td>수요미식회</td>\n",
       "      <td>3</td>\n",
       "      <td>35</td>\n",
       "      <td>32</td>\n",
       "    </tr>\n",
       "    <tr>\n",
       "      <th>35</th>\n",
       "      <td>미타우동</td>\n",
       "      <td>수요미식회</td>\n",
       "      <td>24</td>\n",
       "      <td>70</td>\n",
       "      <td>46</td>\n",
       "    </tr>\n",
       "    <tr>\n",
       "      <th>40</th>\n",
       "      <td>봉천동 남도음식전문점</td>\n",
       "      <td>수요미식회</td>\n",
       "      <td>2</td>\n",
       "      <td>26</td>\n",
       "      <td>24</td>\n",
       "    </tr>\n",
       "    <tr>\n",
       "      <th>41</th>\n",
       "      <td>부산 수영돼지국밥</td>\n",
       "      <td>수요미식회</td>\n",
       "      <td>63</td>\n",
       "      <td>95</td>\n",
       "      <td>32</td>\n",
       "    </tr>\n",
       "    <tr>\n",
       "      <th>43</th>\n",
       "      <td>부천 학교가는길</td>\n",
       "      <td>수요미식회</td>\n",
       "      <td>10</td>\n",
       "      <td>39</td>\n",
       "      <td>29</td>\n",
       "    </tr>\n",
       "    <tr>\n",
       "      <th>47</th>\n",
       "      <td>산비탈</td>\n",
       "      <td>수요미식회</td>\n",
       "      <td>370</td>\n",
       "      <td>434</td>\n",
       "      <td>64</td>\n",
       "    </tr>\n",
       "    <tr>\n",
       "      <th>50</th>\n",
       "      <td>서초 먹거리양곱창</td>\n",
       "      <td>수요미식회</td>\n",
       "      <td>2</td>\n",
       "      <td>1</td>\n",
       "      <td>-1</td>\n",
       "    </tr>\n",
       "    <tr>\n",
       "      <th>52</th>\n",
       "      <td>송화산시도삭면</td>\n",
       "      <td>수요미식회</td>\n",
       "      <td>8</td>\n",
       "      <td>81</td>\n",
       "      <td>73</td>\n",
       "    </tr>\n",
       "    <tr>\n",
       "      <th>55</th>\n",
       "      <td>신사동 해남집</td>\n",
       "      <td>수요미식회</td>\n",
       "      <td>0</td>\n",
       "      <td>22</td>\n",
       "      <td>22</td>\n",
       "    </tr>\n",
       "    <tr>\n",
       "      <th>57</th>\n",
       "      <td>양천구 옥천집</td>\n",
       "      <td>수요미식회</td>\n",
       "      <td>6</td>\n",
       "      <td>12</td>\n",
       "      <td>6</td>\n",
       "    </tr>\n",
       "    <tr>\n",
       "      <th>59</th>\n",
       "      <td>얼큰한 조벡이 수제비</td>\n",
       "      <td>수요미식회</td>\n",
       "      <td>0</td>\n",
       "      <td>25</td>\n",
       "      <td>25</td>\n",
       "    </tr>\n",
       "    <tr>\n",
       "      <th>60</th>\n",
       "      <td>엘림들깨수제비칼국수</td>\n",
       "      <td>수요미식회</td>\n",
       "      <td>5</td>\n",
       "      <td>39</td>\n",
       "      <td>34</td>\n",
       "    </tr>\n",
       "    <tr>\n",
       "      <th>61</th>\n",
       "      <td>여주 송백보리밥</td>\n",
       "      <td>수요미식회</td>\n",
       "      <td>9</td>\n",
       "      <td>13</td>\n",
       "      <td>4</td>\n",
       "    </tr>\n",
       "    <tr>\n",
       "      <th>64</th>\n",
       "      <td>용산 현대본가</td>\n",
       "      <td>수요미식회</td>\n",
       "      <td>6</td>\n",
       "      <td>7</td>\n",
       "      <td>1</td>\n",
       "    </tr>\n",
       "    <tr>\n",
       "      <th>65</th>\n",
       "      <td>우동가조쿠</td>\n",
       "      <td>수요미식회</td>\n",
       "      <td>31</td>\n",
       "      <td>102</td>\n",
       "      <td>71</td>\n",
       "    </tr>\n",
       "    <tr>\n",
       "      <th>70</th>\n",
       "      <td>이태원 고암식당</td>\n",
       "      <td>수요미식회</td>\n",
       "      <td>5</td>\n",
       "      <td>45</td>\n",
       "      <td>40</td>\n",
       "    </tr>\n",
       "    <tr>\n",
       "      <th>71</th>\n",
       "      <td>이태원 네키드윙즈</td>\n",
       "      <td>수요미식회</td>\n",
       "      <td>14</td>\n",
       "      <td>46</td>\n",
       "      <td>32</td>\n",
       "    </tr>\n",
       "    <tr>\n",
       "      <th>72</th>\n",
       "      <td>이태원 호왕</td>\n",
       "      <td>수요미식회</td>\n",
       "      <td>8</td>\n",
       "      <td>12</td>\n",
       "      <td>4</td>\n",
       "    </tr>\n",
       "    <tr>\n",
       "      <th>86</th>\n",
       "      <td>충무로쭈꾸미불고기</td>\n",
       "      <td>수요미식회</td>\n",
       "      <td>24</td>\n",
       "      <td>65</td>\n",
       "      <td>41</td>\n",
       "    </tr>\n",
       "  </tbody>\n",
       "</table>\n",
       "</div>"
      ],
      "text/plain": [
       "               식당     방송  방영전  방영후   증가\n",
       "4          강남 국미당  수요미식회    1    7    6\n",
       "5       강남 대우부대찌개  수요미식회   36   21  -15\n",
       "6        강남 우정양곱창  수요미식회    6   33   27\n",
       "7   강남 우텐더강남 삼정하누  수요미식회    2   22   20\n",
       "9         고양 만포면옥  수요미식회    2    8    6\n",
       "10         고양 양각도  수요미식회   13    2  -11\n",
       "14         기와집순두부  수요미식회   49   87   38\n",
       "23         동부식육식당  수요미식회    3   37   34\n",
       "24        또이또이베트남  수요미식회   18   54   36\n",
       "26         마포 옥동식  수요미식회    8   11    3\n",
       "27           말굽버섯  수요미식회  141  188   47\n",
       "30         목포낙지마을  수요미식회    3   37   34\n",
       "31            몽고네  수요미식회  333  470  137\n",
       "32      문래 원조마늘통닭  수요미식회    5   14    9\n",
       "33          미당순두부  수요미식회    3   35   32\n",
       "35           미타우동  수요미식회   24   70   46\n",
       "40    봉천동 남도음식전문점  수요미식회    2   26   24\n",
       "41      부산 수영돼지국밥  수요미식회   63   95   32\n",
       "43       부천 학교가는길  수요미식회   10   39   29\n",
       "47            산비탈  수요미식회  370  434   64\n",
       "50      서초 먹거리양곱창  수요미식회    2    1   -1\n",
       "52        송화산시도삭면  수요미식회    8   81   73\n",
       "55        신사동 해남집  수요미식회    0   22   22\n",
       "57        양천구 옥천집  수요미식회    6   12    6\n",
       "59    얼큰한 조벡이 수제비  수요미식회    0   25   25\n",
       "60     엘림들깨수제비칼국수  수요미식회    5   39   34\n",
       "61       여주 송백보리밥  수요미식회    9   13    4\n",
       "64        용산 현대본가  수요미식회    6    7    1\n",
       "65          우동가조쿠  수요미식회   31  102   71\n",
       "70       이태원 고암식당  수요미식회    5   45   40\n",
       "71      이태원 네키드윙즈  수요미식회   14   46   32\n",
       "72         이태원 호왕  수요미식회    8   12    4\n",
       "86      충무로쭈꾸미불고기  수요미식회   24   65   41"
      ]
     },
     "execution_count": 6,
     "metadata": {},
     "output_type": "execute_result"
    }
   ],
   "source": [
    "anova.loc[anova['방송']=='수요미식회']"
   ]
  },
  {
   "cell_type": "code",
   "execution_count": null,
   "metadata": {},
   "outputs": [],
   "source": []
  }
 ],
 "metadata": {
  "kernelspec": {
   "display_name": "Python 3",
   "language": "python",
   "name": "python3"
  },
  "language_info": {
   "codemirror_mode": {
    "name": "ipython",
    "version": 3
   },
   "file_extension": ".py",
   "mimetype": "text/x-python",
   "name": "python",
   "nbconvert_exporter": "python",
   "pygments_lexer": "ipython3",
   "version": "3.6.5"
  }
 },
 "nbformat": 4,
 "nbformat_minor": 2
}
