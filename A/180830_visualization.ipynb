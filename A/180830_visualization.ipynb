{
 "cells": [
  {
   "cell_type": "markdown",
   "metadata": {},
   "source": [
    "# 1. 기본 세팅"
   ]
  },
  {
   "cell_type": "code",
   "execution_count": 19,
   "metadata": {},
   "outputs": [],
   "source": [
    "import pandas as pd\n",
    "import numpy as np\n",
    "\n",
    "from datetime import date\n",
    "import warnings\n",
    "warnings.filterwarnings('ignore')"
   ]
  },
  {
   "cell_type": "code",
   "execution_count": 20,
   "metadata": {},
   "outputs": [],
   "source": [
    "\n",
    "import matplotlib as mpl\n",
    "import matplotlib.pyplot as plt\n",
    "import matplotlib.font_manager as fm\n",
    "\n",
    "mpl.rcParams['axes.unicode_minus'] = False"
   ]
  },
  {
   "cell_type": "code",
   "execution_count": 21,
   "metadata": {},
   "outputs": [],
   "source": [
    "import folium\n",
    "import os"
   ]
  },
  {
   "cell_type": "code",
   "execution_count": 22,
   "metadata": {},
   "outputs": [
    {
     "data": {
      "text/html": [
       "<div>\n",
       "<style scoped>\n",
       "    .dataframe tbody tr th:only-of-type {\n",
       "        vertical-align: middle;\n",
       "    }\n",
       "\n",
       "    .dataframe tbody tr th {\n",
       "        vertical-align: top;\n",
       "    }\n",
       "\n",
       "    .dataframe thead th {\n",
       "        text-align: right;\n",
       "    }\n",
       "</style>\n",
       "<table border=\"1\" class=\"dataframe\">\n",
       "  <thead>\n",
       "    <tr style=\"text-align: right;\">\n",
       "      <th></th>\n",
       "      <th>식당</th>\n",
       "      <th>방송</th>\n",
       "      <th>방영전</th>\n",
       "      <th>방영후</th>\n",
       "      <th>증가</th>\n",
       "      <th>서울</th>\n",
       "      <th>방영월</th>\n",
       "    </tr>\n",
       "  </thead>\n",
       "  <tbody>\n",
       "    <tr>\n",
       "      <th>0</th>\n",
       "      <td>136생고기</td>\n",
       "      <td>생생정보</td>\n",
       "      <td>4</td>\n",
       "      <td>45</td>\n",
       "      <td>41</td>\n",
       "      <td>0</td>\n",
       "      <td>3</td>\n",
       "    </tr>\n",
       "    <tr>\n",
       "      <th>1</th>\n",
       "      <td>3일한우국밥</td>\n",
       "      <td>생생정보</td>\n",
       "      <td>35</td>\n",
       "      <td>51</td>\n",
       "      <td>16</td>\n",
       "      <td>1</td>\n",
       "      <td>3</td>\n",
       "    </tr>\n",
       "    <tr>\n",
       "      <th>2</th>\n",
       "      <td>가람떡갈비</td>\n",
       "      <td>맛있는녀석들</td>\n",
       "      <td>21</td>\n",
       "      <td>50</td>\n",
       "      <td>29</td>\n",
       "      <td>1</td>\n",
       "      <td>1</td>\n",
       "    </tr>\n",
       "    <tr>\n",
       "      <th>3</th>\n",
       "      <td>가마솥 족발</td>\n",
       "      <td>생생정보</td>\n",
       "      <td>31</td>\n",
       "      <td>106</td>\n",
       "      <td>75</td>\n",
       "      <td>0</td>\n",
       "      <td>3</td>\n",
       "    </tr>\n",
       "    <tr>\n",
       "      <th>4</th>\n",
       "      <td>가마솥손두부</td>\n",
       "      <td>생생정보</td>\n",
       "      <td>11</td>\n",
       "      <td>45</td>\n",
       "      <td>34</td>\n",
       "      <td>1</td>\n",
       "      <td>4</td>\n",
       "    </tr>\n",
       "  </tbody>\n",
       "</table>\n",
       "</div>"
      ],
      "text/plain": [
       "       식당      방송  방영전  방영후  증가  서울  방영월\n",
       "0  136생고기    생생정보    4   45  41   0    3\n",
       "1  3일한우국밥    생생정보   35   51  16   1    3\n",
       "2   가람떡갈비  맛있는녀석들   21   50  29   1    1\n",
       "3  가마솥 족발    생생정보   31  106  75   0    3\n",
       "4  가마솥손두부    생생정보   11   45  34   1    4"
      ]
     },
     "execution_count": 22,
     "metadata": {},
     "output_type": "execute_result"
    }
   ],
   "source": [
    "df = pd.read_csv('data/reg.csv')\n",
    "df.head()"
   ]
  },
  {
   "cell_type": "code",
   "execution_count": 23,
   "metadata": {
    "scrolled": true
   },
   "outputs": [
    {
     "data": {
      "text/html": [
       "<div>\n",
       "<style scoped>\n",
       "    .dataframe tbody tr th:only-of-type {\n",
       "        vertical-align: middle;\n",
       "    }\n",
       "\n",
       "    .dataframe tbody tr th {\n",
       "        vertical-align: top;\n",
       "    }\n",
       "\n",
       "    .dataframe thead th {\n",
       "        text-align: right;\n",
       "    }\n",
       "</style>\n",
       "<table border=\"1\" class=\"dataframe\">\n",
       "  <thead>\n",
       "    <tr style=\"text-align: right;\">\n",
       "      <th></th>\n",
       "      <th>식당</th>\n",
       "      <th>방영전</th>\n",
       "      <th>방영후</th>\n",
       "      <th>증가</th>\n",
       "      <th>방영월</th>\n",
       "      <th>방송_맛있는녀석들</th>\n",
       "      <th>방송_생생정보</th>\n",
       "      <th>방송_수요미식회</th>\n",
       "      <th>서울_0</th>\n",
       "      <th>서울_1</th>\n",
       "      <th>계절_가을</th>\n",
       "      <th>계절_겨울</th>\n",
       "      <th>계절_봄</th>\n",
       "      <th>계절_여름</th>\n",
       "    </tr>\n",
       "  </thead>\n",
       "  <tbody>\n",
       "    <tr>\n",
       "      <th>0</th>\n",
       "      <td>136생고기</td>\n",
       "      <td>4</td>\n",
       "      <td>45</td>\n",
       "      <td>41</td>\n",
       "      <td>3</td>\n",
       "      <td>0</td>\n",
       "      <td>1</td>\n",
       "      <td>0</td>\n",
       "      <td>1</td>\n",
       "      <td>0</td>\n",
       "      <td>0</td>\n",
       "      <td>0</td>\n",
       "      <td>1</td>\n",
       "      <td>0</td>\n",
       "    </tr>\n",
       "    <tr>\n",
       "      <th>1</th>\n",
       "      <td>3일한우국밥</td>\n",
       "      <td>35</td>\n",
       "      <td>51</td>\n",
       "      <td>16</td>\n",
       "      <td>3</td>\n",
       "      <td>0</td>\n",
       "      <td>1</td>\n",
       "      <td>0</td>\n",
       "      <td>0</td>\n",
       "      <td>1</td>\n",
       "      <td>0</td>\n",
       "      <td>0</td>\n",
       "      <td>1</td>\n",
       "      <td>0</td>\n",
       "    </tr>\n",
       "    <tr>\n",
       "      <th>2</th>\n",
       "      <td>가람떡갈비</td>\n",
       "      <td>21</td>\n",
       "      <td>50</td>\n",
       "      <td>29</td>\n",
       "      <td>1</td>\n",
       "      <td>1</td>\n",
       "      <td>0</td>\n",
       "      <td>0</td>\n",
       "      <td>0</td>\n",
       "      <td>1</td>\n",
       "      <td>0</td>\n",
       "      <td>1</td>\n",
       "      <td>0</td>\n",
       "      <td>0</td>\n",
       "    </tr>\n",
       "    <tr>\n",
       "      <th>3</th>\n",
       "      <td>가마솥 족발</td>\n",
       "      <td>31</td>\n",
       "      <td>106</td>\n",
       "      <td>75</td>\n",
       "      <td>3</td>\n",
       "      <td>0</td>\n",
       "      <td>1</td>\n",
       "      <td>0</td>\n",
       "      <td>1</td>\n",
       "      <td>0</td>\n",
       "      <td>0</td>\n",
       "      <td>0</td>\n",
       "      <td>1</td>\n",
       "      <td>0</td>\n",
       "    </tr>\n",
       "    <tr>\n",
       "      <th>4</th>\n",
       "      <td>가마솥손두부</td>\n",
       "      <td>11</td>\n",
       "      <td>45</td>\n",
       "      <td>34</td>\n",
       "      <td>4</td>\n",
       "      <td>0</td>\n",
       "      <td>1</td>\n",
       "      <td>0</td>\n",
       "      <td>0</td>\n",
       "      <td>1</td>\n",
       "      <td>0</td>\n",
       "      <td>0</td>\n",
       "      <td>1</td>\n",
       "      <td>0</td>\n",
       "    </tr>\n",
       "  </tbody>\n",
       "</table>\n",
       "</div>"
      ],
      "text/plain": [
       "       식당  방영전  방영후  증가  방영월  방송_맛있는녀석들  방송_생생정보  방송_수요미식회  서울_0  서울_1  계절_가을  \\\n",
       "0  136생고기    4   45  41    3          0        1         0     1     0      0   \n",
       "1  3일한우국밥   35   51  16    3          0        1         0     0     1      0   \n",
       "2   가람떡갈비   21   50  29    1          1        0         0     0     1      0   \n",
       "3  가마솥 족발   31  106  75    3          0        1         0     1     0      0   \n",
       "4  가마솥손두부   11   45  34    4          0        1         0     0     1      0   \n",
       "\n",
       "   계절_겨울  계절_봄  계절_여름  \n",
       "0      0     1      0  \n",
       "1      0     1      0  \n",
       "2      1     0      0  \n",
       "3      0     1      0  \n",
       "4      0     1      0  "
      ]
     },
     "execution_count": 23,
     "metadata": {},
     "output_type": "execute_result"
    }
   ],
   "source": [
    "df_tidy = pd.read_csv('data/reg_tidy.csv')\n",
    "df_tidy.head()"
   ]
  },
  {
   "cell_type": "markdown",
   "metadata": {},
   "source": [
    "# 2. 필요한 컬럼과 데이터프레임 만들기"
   ]
  },
  {
   "cell_type": "code",
   "execution_count": 24,
   "metadata": {
    "scrolled": false
   },
   "outputs": [
    {
     "data": {
      "text/html": [
       "<div>\n",
       "<style scoped>\n",
       "    .dataframe tbody tr th:only-of-type {\n",
       "        vertical-align: middle;\n",
       "    }\n",
       "\n",
       "    .dataframe tbody tr th {\n",
       "        vertical-align: top;\n",
       "    }\n",
       "\n",
       "    .dataframe thead th {\n",
       "        text-align: right;\n",
       "    }\n",
       "</style>\n",
       "<table border=\"1\" class=\"dataframe\">\n",
       "  <thead>\n",
       "    <tr style=\"text-align: right;\">\n",
       "      <th></th>\n",
       "      <th>식당</th>\n",
       "      <th>방송</th>\n",
       "      <th>방영전</th>\n",
       "      <th>방영후</th>\n",
       "      <th>증가</th>\n",
       "      <th>서울</th>\n",
       "      <th>방영월</th>\n",
       "      <th>증가율</th>\n",
       "    </tr>\n",
       "  </thead>\n",
       "  <tbody>\n",
       "    <tr>\n",
       "      <th>0</th>\n",
       "      <td>136생고기</td>\n",
       "      <td>생생정보</td>\n",
       "      <td>4</td>\n",
       "      <td>45</td>\n",
       "      <td>41</td>\n",
       "      <td>0</td>\n",
       "      <td>3</td>\n",
       "      <td>1125.000000</td>\n",
       "    </tr>\n",
       "    <tr>\n",
       "      <th>1</th>\n",
       "      <td>3일한우국밥</td>\n",
       "      <td>생생정보</td>\n",
       "      <td>35</td>\n",
       "      <td>51</td>\n",
       "      <td>16</td>\n",
       "      <td>1</td>\n",
       "      <td>3</td>\n",
       "      <td>145.714286</td>\n",
       "    </tr>\n",
       "    <tr>\n",
       "      <th>2</th>\n",
       "      <td>가람떡갈비</td>\n",
       "      <td>맛있는녀석들</td>\n",
       "      <td>21</td>\n",
       "      <td>50</td>\n",
       "      <td>29</td>\n",
       "      <td>1</td>\n",
       "      <td>1</td>\n",
       "      <td>238.095238</td>\n",
       "    </tr>\n",
       "    <tr>\n",
       "      <th>3</th>\n",
       "      <td>가마솥 족발</td>\n",
       "      <td>생생정보</td>\n",
       "      <td>31</td>\n",
       "      <td>106</td>\n",
       "      <td>75</td>\n",
       "      <td>0</td>\n",
       "      <td>3</td>\n",
       "      <td>341.935484</td>\n",
       "    </tr>\n",
       "    <tr>\n",
       "      <th>4</th>\n",
       "      <td>가마솥손두부</td>\n",
       "      <td>생생정보</td>\n",
       "      <td>11</td>\n",
       "      <td>45</td>\n",
       "      <td>34</td>\n",
       "      <td>1</td>\n",
       "      <td>4</td>\n",
       "      <td>409.090909</td>\n",
       "    </tr>\n",
       "  </tbody>\n",
       "</table>\n",
       "</div>"
      ],
      "text/plain": [
       "       식당      방송  방영전  방영후  증가  서울  방영월          증가율\n",
       "0  136생고기    생생정보    4   45  41   0    3  1125.000000\n",
       "1  3일한우국밥    생생정보   35   51  16   1    3   145.714286\n",
       "2   가람떡갈비  맛있는녀석들   21   50  29   1    1   238.095238\n",
       "3  가마솥 족발    생생정보   31  106  75   0    3   341.935484\n",
       "4  가마솥손두부    생생정보   11   45  34   1    4   409.090909"
      ]
     },
     "execution_count": 24,
     "metadata": {},
     "output_type": "execute_result"
    }
   ],
   "source": [
    "df['증가율'] = 100 * (df['방영후'] / df['방영전'])\n",
    "df.head()"
   ]
  },
  {
   "cell_type": "code",
   "execution_count": 25,
   "metadata": {
    "scrolled": false
   },
   "outputs": [
    {
     "data": {
      "text/html": [
       "<div>\n",
       "<style scoped>\n",
       "    .dataframe tbody tr th:only-of-type {\n",
       "        vertical-align: middle;\n",
       "    }\n",
       "\n",
       "    .dataframe tbody tr th {\n",
       "        vertical-align: top;\n",
       "    }\n",
       "\n",
       "    .dataframe thead th {\n",
       "        text-align: right;\n",
       "    }\n",
       "</style>\n",
       "<table border=\"1\" class=\"dataframe\">\n",
       "  <thead>\n",
       "    <tr style=\"text-align: right;\">\n",
       "      <th></th>\n",
       "      <th>식당</th>\n",
       "      <th>방송</th>\n",
       "      <th>방영전</th>\n",
       "      <th>방영후</th>\n",
       "      <th>증가</th>\n",
       "      <th>서울</th>\n",
       "      <th>방영월</th>\n",
       "      <th>증가율</th>\n",
       "      <th>방영전_log</th>\n",
       "      <th>증가율_log</th>\n",
       "      <th>증가_log</th>\n",
       "    </tr>\n",
       "  </thead>\n",
       "  <tbody>\n",
       "    <tr>\n",
       "      <th>0</th>\n",
       "      <td>136생고기</td>\n",
       "      <td>생생정보</td>\n",
       "      <td>4</td>\n",
       "      <td>45</td>\n",
       "      <td>41</td>\n",
       "      <td>0</td>\n",
       "      <td>3</td>\n",
       "      <td>1125.000000</td>\n",
       "      <td>1.386294</td>\n",
       "      <td>7.025538</td>\n",
       "      <td>3.713572</td>\n",
       "    </tr>\n",
       "    <tr>\n",
       "      <th>1</th>\n",
       "      <td>3일한우국밥</td>\n",
       "      <td>생생정보</td>\n",
       "      <td>35</td>\n",
       "      <td>51</td>\n",
       "      <td>16</td>\n",
       "      <td>1</td>\n",
       "      <td>3</td>\n",
       "      <td>145.714286</td>\n",
       "      <td>3.555348</td>\n",
       "      <td>4.981648</td>\n",
       "      <td>2.772589</td>\n",
       "    </tr>\n",
       "    <tr>\n",
       "      <th>2</th>\n",
       "      <td>가람떡갈비</td>\n",
       "      <td>맛있는녀석들</td>\n",
       "      <td>21</td>\n",
       "      <td>50</td>\n",
       "      <td>29</td>\n",
       "      <td>1</td>\n",
       "      <td>1</td>\n",
       "      <td>238.095238</td>\n",
       "      <td>3.044522</td>\n",
       "      <td>5.472671</td>\n",
       "      <td>3.367296</td>\n",
       "    </tr>\n",
       "    <tr>\n",
       "      <th>3</th>\n",
       "      <td>가마솥 족발</td>\n",
       "      <td>생생정보</td>\n",
       "      <td>31</td>\n",
       "      <td>106</td>\n",
       "      <td>75</td>\n",
       "      <td>0</td>\n",
       "      <td>3</td>\n",
       "      <td>341.935484</td>\n",
       "      <td>3.433987</td>\n",
       "      <td>5.834622</td>\n",
       "      <td>4.317488</td>\n",
       "    </tr>\n",
       "    <tr>\n",
       "      <th>4</th>\n",
       "      <td>가마솥손두부</td>\n",
       "      <td>생생정보</td>\n",
       "      <td>11</td>\n",
       "      <td>45</td>\n",
       "      <td>34</td>\n",
       "      <td>1</td>\n",
       "      <td>4</td>\n",
       "      <td>409.090909</td>\n",
       "      <td>2.397895</td>\n",
       "      <td>6.013937</td>\n",
       "      <td>3.526361</td>\n",
       "    </tr>\n",
       "  </tbody>\n",
       "</table>\n",
       "</div>"
      ],
      "text/plain": [
       "       식당      방송  방영전  방영후  증가  서울  방영월          증가율   방영전_log   증가율_log  \\\n",
       "0  136생고기    생생정보    4   45  41   0    3  1125.000000  1.386294  7.025538   \n",
       "1  3일한우국밥    생생정보   35   51  16   1    3   145.714286  3.555348  4.981648   \n",
       "2   가람떡갈비  맛있는녀석들   21   50  29   1    1   238.095238  3.044522  5.472671   \n",
       "3  가마솥 족발    생생정보   31  106  75   0    3   341.935484  3.433987  5.834622   \n",
       "4  가마솥손두부    생생정보   11   45  34   1    4   409.090909  2.397895  6.013937   \n",
       "\n",
       "     증가_log  \n",
       "0  3.713572  \n",
       "1  2.772589  \n",
       "2  3.367296  \n",
       "3  4.317488  \n",
       "4  3.526361  "
      ]
     },
     "execution_count": 25,
     "metadata": {},
     "output_type": "execute_result"
    }
   ],
   "source": [
    "df['방영전_log'] = np.log(df['방영전'])\n",
    "df['증가율_log'] = np.log(df['증가율'])\n",
    "df['증가_log'] = np.log(df['증가'])\n",
    "df.head()"
   ]
  },
  {
   "cell_type": "code",
   "execution_count": 26,
   "metadata": {
    "scrolled": true
   },
   "outputs": [
    {
     "data": {
      "text/html": [
       "<div>\n",
       "<style scoped>\n",
       "    .dataframe tbody tr th:only-of-type {\n",
       "        vertical-align: middle;\n",
       "    }\n",
       "\n",
       "    .dataframe tbody tr th {\n",
       "        vertical-align: top;\n",
       "    }\n",
       "\n",
       "    .dataframe thead th {\n",
       "        text-align: right;\n",
       "    }\n",
       "</style>\n",
       "<table border=\"1\" class=\"dataframe\">\n",
       "  <thead>\n",
       "    <tr style=\"text-align: right;\">\n",
       "      <th></th>\n",
       "      <th>방송</th>\n",
       "      <th>식당</th>\n",
       "      <th>방영전</th>\n",
       "      <th>방영전_log</th>\n",
       "      <th>방영후</th>\n",
       "      <th>증가</th>\n",
       "      <th>증가_log</th>\n",
       "      <th>증가율</th>\n",
       "      <th>증가율_log</th>\n",
       "    </tr>\n",
       "  </thead>\n",
       "  <tbody>\n",
       "    <tr>\n",
       "      <th>0</th>\n",
       "      <td>생생정보</td>\n",
       "      <td>136생고기</td>\n",
       "      <td>4</td>\n",
       "      <td>1.386294</td>\n",
       "      <td>45</td>\n",
       "      <td>41</td>\n",
       "      <td>3.713572</td>\n",
       "      <td>1125.000000</td>\n",
       "      <td>7.025538</td>\n",
       "    </tr>\n",
       "    <tr>\n",
       "      <th>1</th>\n",
       "      <td>생생정보</td>\n",
       "      <td>3일한우국밥</td>\n",
       "      <td>35</td>\n",
       "      <td>3.555348</td>\n",
       "      <td>51</td>\n",
       "      <td>16</td>\n",
       "      <td>2.772589</td>\n",
       "      <td>145.714286</td>\n",
       "      <td>4.981648</td>\n",
       "    </tr>\n",
       "    <tr>\n",
       "      <th>2</th>\n",
       "      <td>맛있는녀석들</td>\n",
       "      <td>가람떡갈비</td>\n",
       "      <td>21</td>\n",
       "      <td>3.044522</td>\n",
       "      <td>50</td>\n",
       "      <td>29</td>\n",
       "      <td>3.367296</td>\n",
       "      <td>238.095238</td>\n",
       "      <td>5.472671</td>\n",
       "    </tr>\n",
       "    <tr>\n",
       "      <th>3</th>\n",
       "      <td>생생정보</td>\n",
       "      <td>가마솥 족발</td>\n",
       "      <td>31</td>\n",
       "      <td>3.433987</td>\n",
       "      <td>106</td>\n",
       "      <td>75</td>\n",
       "      <td>4.317488</td>\n",
       "      <td>341.935484</td>\n",
       "      <td>5.834622</td>\n",
       "    </tr>\n",
       "    <tr>\n",
       "      <th>4</th>\n",
       "      <td>생생정보</td>\n",
       "      <td>가마솥손두부</td>\n",
       "      <td>11</td>\n",
       "      <td>2.397895</td>\n",
       "      <td>45</td>\n",
       "      <td>34</td>\n",
       "      <td>3.526361</td>\n",
       "      <td>409.090909</td>\n",
       "      <td>6.013937</td>\n",
       "    </tr>\n",
       "  </tbody>\n",
       "</table>\n",
       "</div>"
      ],
      "text/plain": [
       "       방송      식당  방영전   방영전_log  방영후  증가    증가_log          증가율   증가율_log\n",
       "0    생생정보  136생고기    4  1.386294   45  41  3.713572  1125.000000  7.025538\n",
       "1    생생정보  3일한우국밥   35  3.555348   51  16  2.772589   145.714286  4.981648\n",
       "2  맛있는녀석들   가람떡갈비   21  3.044522   50  29  3.367296   238.095238  5.472671\n",
       "3    생생정보  가마솥 족발   31  3.433987  106  75  4.317488   341.935484  5.834622\n",
       "4    생생정보  가마솥손두부   11  2.397895   45  34  3.526361   409.090909  6.013937"
      ]
     },
     "execution_count": 26,
     "metadata": {},
     "output_type": "execute_result"
    }
   ],
   "source": [
    "df1 = df[['방송','식당','방영전','방영전_log','방영후','증가','증가_log','증가율','증가율_log']]\n",
    "df1.head()"
   ]
  },
  {
   "cell_type": "code",
   "execution_count": 27,
   "metadata": {},
   "outputs": [
    {
     "data": {
      "text/html": [
       "<div>\n",
       "<style scoped>\n",
       "    .dataframe tbody tr th:only-of-type {\n",
       "        vertical-align: middle;\n",
       "    }\n",
       "\n",
       "    .dataframe tbody tr th {\n",
       "        vertical-align: top;\n",
       "    }\n",
       "\n",
       "    .dataframe thead th {\n",
       "        text-align: right;\n",
       "    }\n",
       "</style>\n",
       "<table border=\"1\" class=\"dataframe\">\n",
       "  <thead>\n",
       "    <tr style=\"text-align: right;\">\n",
       "      <th></th>\n",
       "      <th>방송</th>\n",
       "      <th>식당명</th>\n",
       "      <th>방영전</th>\n",
       "      <th>방영전_log</th>\n",
       "      <th>방영후</th>\n",
       "      <th>증가</th>\n",
       "      <th>증가_log</th>\n",
       "      <th>증가율</th>\n",
       "      <th>증가율_log</th>\n",
       "    </tr>\n",
       "  </thead>\n",
       "  <tbody>\n",
       "    <tr>\n",
       "      <th>0</th>\n",
       "      <td>생생정보</td>\n",
       "      <td>136생고기</td>\n",
       "      <td>4</td>\n",
       "      <td>1.386294</td>\n",
       "      <td>45</td>\n",
       "      <td>41</td>\n",
       "      <td>3.713572</td>\n",
       "      <td>1125.000000</td>\n",
       "      <td>7.025538</td>\n",
       "    </tr>\n",
       "    <tr>\n",
       "      <th>1</th>\n",
       "      <td>생생정보</td>\n",
       "      <td>3일한우국밥</td>\n",
       "      <td>35</td>\n",
       "      <td>3.555348</td>\n",
       "      <td>51</td>\n",
       "      <td>16</td>\n",
       "      <td>2.772589</td>\n",
       "      <td>145.714286</td>\n",
       "      <td>4.981648</td>\n",
       "    </tr>\n",
       "    <tr>\n",
       "      <th>2</th>\n",
       "      <td>맛있는녀석들</td>\n",
       "      <td>가람떡갈비</td>\n",
       "      <td>21</td>\n",
       "      <td>3.044522</td>\n",
       "      <td>50</td>\n",
       "      <td>29</td>\n",
       "      <td>3.367296</td>\n",
       "      <td>238.095238</td>\n",
       "      <td>5.472671</td>\n",
       "    </tr>\n",
       "    <tr>\n",
       "      <th>3</th>\n",
       "      <td>생생정보</td>\n",
       "      <td>가마솥 족발</td>\n",
       "      <td>31</td>\n",
       "      <td>3.433987</td>\n",
       "      <td>106</td>\n",
       "      <td>75</td>\n",
       "      <td>4.317488</td>\n",
       "      <td>341.935484</td>\n",
       "      <td>5.834622</td>\n",
       "    </tr>\n",
       "    <tr>\n",
       "      <th>4</th>\n",
       "      <td>생생정보</td>\n",
       "      <td>가마솥손두부</td>\n",
       "      <td>11</td>\n",
       "      <td>2.397895</td>\n",
       "      <td>45</td>\n",
       "      <td>34</td>\n",
       "      <td>3.526361</td>\n",
       "      <td>409.090909</td>\n",
       "      <td>6.013937</td>\n",
       "    </tr>\n",
       "  </tbody>\n",
       "</table>\n",
       "</div>"
      ],
      "text/plain": [
       "       방송     식당명  방영전   방영전_log  방영후  증가    증가_log          증가율   증가율_log\n",
       "0    생생정보  136생고기    4  1.386294   45  41  3.713572  1125.000000  7.025538\n",
       "1    생생정보  3일한우국밥   35  3.555348   51  16  2.772589   145.714286  4.981648\n",
       "2  맛있는녀석들   가람떡갈비   21  3.044522   50  29  3.367296   238.095238  5.472671\n",
       "3    생생정보  가마솥 족발   31  3.433987  106  75  4.317488   341.935484  5.834622\n",
       "4    생생정보  가마솥손두부   11  2.397895   45  34  3.526361   409.090909  6.013937"
      ]
     },
     "execution_count": 27,
     "metadata": {},
     "output_type": "execute_result"
    }
   ],
   "source": [
    "df1.columns = ['방송','식당명','방영전','방영전_log','방영후','증가','증가_log','증가율','증가율_log']\n",
    "df1.head()"
   ]
  },
  {
   "cell_type": "code",
   "execution_count": 28,
   "metadata": {
    "scrolled": true
   },
   "outputs": [
    {
     "data": {
      "text/html": [
       "<div>\n",
       "<style scoped>\n",
       "    .dataframe tbody tr th:only-of-type {\n",
       "        vertical-align: middle;\n",
       "    }\n",
       "\n",
       "    .dataframe tbody tr th {\n",
       "        vertical-align: top;\n",
       "    }\n",
       "\n",
       "    .dataframe thead th {\n",
       "        text-align: right;\n",
       "    }\n",
       "</style>\n",
       "<table border=\"1\" class=\"dataframe\">\n",
       "  <thead>\n",
       "    <tr style=\"text-align: right;\">\n",
       "      <th></th>\n",
       "      <th>방송</th>\n",
       "      <th>식당명</th>\n",
       "      <th>방영전</th>\n",
       "      <th>방영전_log</th>\n",
       "      <th>방영후</th>\n",
       "      <th>증가</th>\n",
       "      <th>증가_log</th>\n",
       "      <th>증가율</th>\n",
       "      <th>증가율_log</th>\n",
       "    </tr>\n",
       "  </thead>\n",
       "  <tbody>\n",
       "    <tr>\n",
       "      <th>2</th>\n",
       "      <td>맛있는녀석들</td>\n",
       "      <td>가람떡갈비</td>\n",
       "      <td>21</td>\n",
       "      <td>3.044522</td>\n",
       "      <td>50</td>\n",
       "      <td>29</td>\n",
       "      <td>3.367296</td>\n",
       "      <td>238.095238</td>\n",
       "      <td>5.472671</td>\n",
       "    </tr>\n",
       "    <tr>\n",
       "      <th>10</th>\n",
       "      <td>맛있는녀석들</td>\n",
       "      <td>강촌원조쭈꾸미</td>\n",
       "      <td>7</td>\n",
       "      <td>1.945910</td>\n",
       "      <td>46</td>\n",
       "      <td>39</td>\n",
       "      <td>3.663562</td>\n",
       "      <td>657.142857</td>\n",
       "      <td>6.487901</td>\n",
       "    </tr>\n",
       "    <tr>\n",
       "      <th>12</th>\n",
       "      <td>맛있는녀석들</td>\n",
       "      <td>개미집</td>\n",
       "      <td>13</td>\n",
       "      <td>2.564949</td>\n",
       "      <td>20</td>\n",
       "      <td>7</td>\n",
       "      <td>1.945910</td>\n",
       "      <td>153.846154</td>\n",
       "      <td>5.035953</td>\n",
       "    </tr>\n",
       "    <tr>\n",
       "      <th>14</th>\n",
       "      <td>맛있는녀석들</td>\n",
       "      <td>개화옥 등심</td>\n",
       "      <td>1</td>\n",
       "      <td>0.000000</td>\n",
       "      <td>8</td>\n",
       "      <td>7</td>\n",
       "      <td>1.945910</td>\n",
       "      <td>800.000000</td>\n",
       "      <td>6.684612</td>\n",
       "    </tr>\n",
       "    <tr>\n",
       "      <th>17</th>\n",
       "      <td>맛있는녀석들</td>\n",
       "      <td>건대통골뱅이</td>\n",
       "      <td>12</td>\n",
       "      <td>2.484907</td>\n",
       "      <td>36</td>\n",
       "      <td>24</td>\n",
       "      <td>3.178054</td>\n",
       "      <td>300.000000</td>\n",
       "      <td>5.703782</td>\n",
       "    </tr>\n",
       "  </tbody>\n",
       "</table>\n",
       "</div>"
      ],
      "text/plain": [
       "        방송      식당명  방영전   방영전_log  방영후  증가    증가_log         증가율   증가율_log\n",
       "2   맛있는녀석들    가람떡갈비   21  3.044522   50  29  3.367296  238.095238  5.472671\n",
       "10  맛있는녀석들  강촌원조쭈꾸미    7  1.945910   46  39  3.663562  657.142857  6.487901\n",
       "12  맛있는녀석들      개미집   13  2.564949   20   7  1.945910  153.846154  5.035953\n",
       "14  맛있는녀석들   개화옥 등심    1  0.000000    8   7  1.945910  800.000000  6.684612\n",
       "17  맛있는녀석들   건대통골뱅이   12  2.484907   36  24  3.178054  300.000000  5.703782"
      ]
     },
     "execution_count": 28,
     "metadata": {},
     "output_type": "execute_result"
    }
   ],
   "source": [
    "mashit_df = df1.loc[df1['방송'] == '맛있는녀석들']\n",
    "mashit_df.head()"
   ]
  },
  {
   "cell_type": "code",
   "execution_count": 29,
   "metadata": {},
   "outputs": [
    {
     "data": {
      "text/html": [
       "<div>\n",
       "<style scoped>\n",
       "    .dataframe tbody tr th:only-of-type {\n",
       "        vertical-align: middle;\n",
       "    }\n",
       "\n",
       "    .dataframe tbody tr th {\n",
       "        vertical-align: top;\n",
       "    }\n",
       "\n",
       "    .dataframe thead th {\n",
       "        text-align: right;\n",
       "    }\n",
       "</style>\n",
       "<table border=\"1\" class=\"dataframe\">\n",
       "  <thead>\n",
       "    <tr style=\"text-align: right;\">\n",
       "      <th></th>\n",
       "      <th>방송</th>\n",
       "      <th>식당명</th>\n",
       "      <th>방영전</th>\n",
       "      <th>방영전_log</th>\n",
       "      <th>방영후</th>\n",
       "      <th>증가</th>\n",
       "      <th>증가_log</th>\n",
       "      <th>증가율</th>\n",
       "      <th>증가율_log</th>\n",
       "    </tr>\n",
       "  </thead>\n",
       "  <tbody>\n",
       "    <tr>\n",
       "      <th>0</th>\n",
       "      <td>생생정보</td>\n",
       "      <td>136생고기</td>\n",
       "      <td>4</td>\n",
       "      <td>1.386294</td>\n",
       "      <td>45</td>\n",
       "      <td>41</td>\n",
       "      <td>3.713572</td>\n",
       "      <td>1125.000000</td>\n",
       "      <td>7.025538</td>\n",
       "    </tr>\n",
       "    <tr>\n",
       "      <th>1</th>\n",
       "      <td>생생정보</td>\n",
       "      <td>3일한우국밥</td>\n",
       "      <td>35</td>\n",
       "      <td>3.555348</td>\n",
       "      <td>51</td>\n",
       "      <td>16</td>\n",
       "      <td>2.772589</td>\n",
       "      <td>145.714286</td>\n",
       "      <td>4.981648</td>\n",
       "    </tr>\n",
       "    <tr>\n",
       "      <th>3</th>\n",
       "      <td>생생정보</td>\n",
       "      <td>가마솥 족발</td>\n",
       "      <td>31</td>\n",
       "      <td>3.433987</td>\n",
       "      <td>106</td>\n",
       "      <td>75</td>\n",
       "      <td>4.317488</td>\n",
       "      <td>341.935484</td>\n",
       "      <td>5.834622</td>\n",
       "    </tr>\n",
       "    <tr>\n",
       "      <th>4</th>\n",
       "      <td>생생정보</td>\n",
       "      <td>가마솥손두부</td>\n",
       "      <td>11</td>\n",
       "      <td>2.397895</td>\n",
       "      <td>45</td>\n",
       "      <td>34</td>\n",
       "      <td>3.526361</td>\n",
       "      <td>409.090909</td>\n",
       "      <td>6.013937</td>\n",
       "    </tr>\n",
       "    <tr>\n",
       "      <th>5</th>\n",
       "      <td>생생정보</td>\n",
       "      <td>갈비구락부</td>\n",
       "      <td>36</td>\n",
       "      <td>3.583519</td>\n",
       "      <td>46</td>\n",
       "      <td>10</td>\n",
       "      <td>2.302585</td>\n",
       "      <td>127.777778</td>\n",
       "      <td>4.850293</td>\n",
       "    </tr>\n",
       "  </tbody>\n",
       "</table>\n",
       "</div>"
      ],
      "text/plain": [
       "     방송     식당명  방영전   방영전_log  방영후  증가    증가_log          증가율   증가율_log\n",
       "0  생생정보  136생고기    4  1.386294   45  41  3.713572  1125.000000  7.025538\n",
       "1  생생정보  3일한우국밥   35  3.555348   51  16  2.772589   145.714286  4.981648\n",
       "3  생생정보  가마솥 족발   31  3.433987  106  75  4.317488   341.935484  5.834622\n",
       "4  생생정보  가마솥손두부   11  2.397895   45  34  3.526361   409.090909  6.013937\n",
       "5  생생정보   갈비구락부   36  3.583519   46  10  2.302585   127.777778  4.850293"
      ]
     },
     "execution_count": 29,
     "metadata": {},
     "output_type": "execute_result"
    }
   ],
   "source": [
    "sangsang_df = df1.loc[df1['방송'] == '생생정보']\n",
    "sangsang_df.head()"
   ]
  },
  {
   "cell_type": "code",
   "execution_count": 30,
   "metadata": {
    "scrolled": true
   },
   "outputs": [
    {
     "data": {
      "text/html": [
       "<div>\n",
       "<style scoped>\n",
       "    .dataframe tbody tr th:only-of-type {\n",
       "        vertical-align: middle;\n",
       "    }\n",
       "\n",
       "    .dataframe tbody tr th {\n",
       "        vertical-align: top;\n",
       "    }\n",
       "\n",
       "    .dataframe thead th {\n",
       "        text-align: right;\n",
       "    }\n",
       "</style>\n",
       "<table border=\"1\" class=\"dataframe\">\n",
       "  <thead>\n",
       "    <tr style=\"text-align: right;\">\n",
       "      <th></th>\n",
       "      <th>방송</th>\n",
       "      <th>식당명</th>\n",
       "      <th>방영전</th>\n",
       "      <th>방영전_log</th>\n",
       "      <th>방영후</th>\n",
       "      <th>증가</th>\n",
       "      <th>증가_log</th>\n",
       "      <th>증가율</th>\n",
       "      <th>증가율_log</th>\n",
       "    </tr>\n",
       "  </thead>\n",
       "  <tbody>\n",
       "    <tr>\n",
       "      <th>6</th>\n",
       "      <td>수요미식회</td>\n",
       "      <td>갓포치유</td>\n",
       "      <td>24</td>\n",
       "      <td>3.178054</td>\n",
       "      <td>74</td>\n",
       "      <td>50</td>\n",
       "      <td>3.912023</td>\n",
       "      <td>308.333333</td>\n",
       "      <td>5.731181</td>\n",
       "    </tr>\n",
       "    <tr>\n",
       "      <th>7</th>\n",
       "      <td>수요미식회</td>\n",
       "      <td>강릉감자옹심이</td>\n",
       "      <td>177</td>\n",
       "      <td>5.176150</td>\n",
       "      <td>295</td>\n",
       "      <td>118</td>\n",
       "      <td>4.770685</td>\n",
       "      <td>166.666667</td>\n",
       "      <td>5.115996</td>\n",
       "    </tr>\n",
       "    <tr>\n",
       "      <th>9</th>\n",
       "      <td>수요미식회</td>\n",
       "      <td>강촌 숯불 닭갈비</td>\n",
       "      <td>42</td>\n",
       "      <td>3.737670</td>\n",
       "      <td>138</td>\n",
       "      <td>96</td>\n",
       "      <td>4.564348</td>\n",
       "      <td>328.571429</td>\n",
       "      <td>5.794754</td>\n",
       "    </tr>\n",
       "    <tr>\n",
       "      <th>13</th>\n",
       "      <td>수요미식회</td>\n",
       "      <td>개화옥</td>\n",
       "      <td>21</td>\n",
       "      <td>3.044522</td>\n",
       "      <td>72</td>\n",
       "      <td>51</td>\n",
       "      <td>3.931826</td>\n",
       "      <td>342.857143</td>\n",
       "      <td>5.837314</td>\n",
       "    </tr>\n",
       "    <tr>\n",
       "      <th>15</th>\n",
       "      <td>수요미식회</td>\n",
       "      <td>갯바위</td>\n",
       "      <td>5</td>\n",
       "      <td>1.609438</td>\n",
       "      <td>40</td>\n",
       "      <td>35</td>\n",
       "      <td>3.555348</td>\n",
       "      <td>800.000000</td>\n",
       "      <td>6.684612</td>\n",
       "    </tr>\n",
       "  </tbody>\n",
       "</table>\n",
       "</div>"
      ],
      "text/plain": [
       "       방송        식당명  방영전   방영전_log  방영후   증가    증가_log         증가율   증가율_log\n",
       "6   수요미식회       갓포치유   24  3.178054   74   50  3.912023  308.333333  5.731181\n",
       "7   수요미식회    강릉감자옹심이  177  5.176150  295  118  4.770685  166.666667  5.115996\n",
       "9   수요미식회  강촌 숯불 닭갈비   42  3.737670  138   96  4.564348  328.571429  5.794754\n",
       "13  수요미식회        개화옥   21  3.044522   72   51  3.931826  342.857143  5.837314\n",
       "15  수요미식회        갯바위    5  1.609438   40   35  3.555348  800.000000  6.684612"
      ]
     },
     "execution_count": 30,
     "metadata": {},
     "output_type": "execute_result"
    }
   ],
   "source": [
    "suyo_df = df1.loc[df1['방송'] == '수요미식회']\n",
    "suyo_df.head()"
   ]
  },
  {
   "cell_type": "code",
   "execution_count": 31,
   "metadata": {},
   "outputs": [
    {
     "data": {
      "text/html": [
       "<div>\n",
       "<style scoped>\n",
       "    .dataframe tbody tr th:only-of-type {\n",
       "        vertical-align: middle;\n",
       "    }\n",
       "\n",
       "    .dataframe tbody tr th {\n",
       "        vertical-align: top;\n",
       "    }\n",
       "\n",
       "    .dataframe thead th {\n",
       "        text-align: right;\n",
       "    }\n",
       "</style>\n",
       "<table border=\"1\" class=\"dataframe\">\n",
       "  <thead>\n",
       "    <tr style=\"text-align: right;\">\n",
       "      <th></th>\n",
       "      <th>방송</th>\n",
       "      <th>식당명</th>\n",
       "      <th>방영전</th>\n",
       "      <th>방영전_log</th>\n",
       "      <th>방영후</th>\n",
       "      <th>증가</th>\n",
       "      <th>증가_log</th>\n",
       "      <th>증가율</th>\n",
       "      <th>증가율_log</th>\n",
       "    </tr>\n",
       "  </thead>\n",
       "  <tbody>\n",
       "    <tr>\n",
       "      <th>0</th>\n",
       "      <td>생생정보</td>\n",
       "      <td>136생고기</td>\n",
       "      <td>4</td>\n",
       "      <td>1.386294</td>\n",
       "      <td>45</td>\n",
       "      <td>41</td>\n",
       "      <td>3.713572</td>\n",
       "      <td>1125.000000</td>\n",
       "      <td>7.025538</td>\n",
       "    </tr>\n",
       "    <tr>\n",
       "      <th>1</th>\n",
       "      <td>생생정보</td>\n",
       "      <td>3일한우국밥</td>\n",
       "      <td>35</td>\n",
       "      <td>3.555348</td>\n",
       "      <td>51</td>\n",
       "      <td>16</td>\n",
       "      <td>2.772589</td>\n",
       "      <td>145.714286</td>\n",
       "      <td>4.981648</td>\n",
       "    </tr>\n",
       "    <tr>\n",
       "      <th>2</th>\n",
       "      <td>맛있는녀석들</td>\n",
       "      <td>가람떡갈비</td>\n",
       "      <td>21</td>\n",
       "      <td>3.044522</td>\n",
       "      <td>50</td>\n",
       "      <td>29</td>\n",
       "      <td>3.367296</td>\n",
       "      <td>238.095238</td>\n",
       "      <td>5.472671</td>\n",
       "    </tr>\n",
       "    <tr>\n",
       "      <th>3</th>\n",
       "      <td>생생정보</td>\n",
       "      <td>가마솥 족발</td>\n",
       "      <td>31</td>\n",
       "      <td>3.433987</td>\n",
       "      <td>106</td>\n",
       "      <td>75</td>\n",
       "      <td>4.317488</td>\n",
       "      <td>341.935484</td>\n",
       "      <td>5.834622</td>\n",
       "    </tr>\n",
       "    <tr>\n",
       "      <th>4</th>\n",
       "      <td>생생정보</td>\n",
       "      <td>가마솥손두부</td>\n",
       "      <td>11</td>\n",
       "      <td>2.397895</td>\n",
       "      <td>45</td>\n",
       "      <td>34</td>\n",
       "      <td>3.526361</td>\n",
       "      <td>409.090909</td>\n",
       "      <td>6.013937</td>\n",
       "    </tr>\n",
       "  </tbody>\n",
       "</table>\n",
       "</div>"
      ],
      "text/plain": [
       "       방송     식당명  방영전   방영전_log  방영후  증가    증가_log          증가율   증가율_log\n",
       "0    생생정보  136생고기    4  1.386294   45  41  3.713572  1125.000000  7.025538\n",
       "1    생생정보  3일한우국밥   35  3.555348   51  16  2.772589   145.714286  4.981648\n",
       "2  맛있는녀석들   가람떡갈비   21  3.044522   50  29  3.367296   238.095238  5.472671\n",
       "3    생생정보  가마솥 족발   31  3.433987  106  75  4.317488   341.935484  5.834622\n",
       "4    생생정보  가마솥손두부   11  2.397895   45  34  3.526361   409.090909  6.013937"
      ]
     },
     "execution_count": 31,
     "metadata": {},
     "output_type": "execute_result"
    }
   ],
   "source": [
    "drop_outlier = df1.loc[(df['방영전'] < 200) & (df['증가'] < 150)]\n",
    "drop_outlier.head()"
   ]
  },
  {
   "cell_type": "markdown",
   "metadata": {},
   "source": [
    "# 3. scatter plot"
   ]
  },
  {
   "cell_type": "markdown",
   "metadata": {},
   "source": [
    "### scatter plot 옵션\n",
    "\n",
    "function matplotlib.pyplot.scatter(x, y, s=None, c=None, marker=None, cmap=None, norm=None, vmin=None, vmax=None, alpha=None, linewidths=None, verts=None, edgecolors=None, hold=None, data=None, **kwargs"
   ]
  },
  {
   "cell_type": "code",
   "execution_count": 32,
   "metadata": {},
   "outputs": [],
   "source": [
    "plt.rcParams[\"font.family\"] = 'Noto Sans CJK SC'\n",
    "plt.rcParams[\"font.size\"] = 12"
   ]
  },
  {
   "cell_type": "code",
   "execution_count": 33,
   "metadata": {
    "scrolled": true
   },
   "outputs": [
    {
     "data": {
      "text/plain": [
       "<matplotlib.collections.PathCollection at 0x10dcaca58>"
      ]
     },
     "execution_count": 33,
     "metadata": {},
     "output_type": "execute_result"
    },
    {
     "data": {
      "image/png": "[encoded data removed]",
      "text/plain": [
       "<Figure size 432x288 with 1 Axes>"
      ]
     },
     "metadata": {},
     "output_type": "display_data"
    }
   ],
   "source": [
    "plt.scatter(df1['방영전'],df1['증가'], color =['red','green','blue'], alpha = 0.3)"
   ]
  },
  {
   "cell_type": "code",
   "execution_count": 34,
   "metadata": {},
   "outputs": [
    {
     "data": {
      "image/png": "[encoded data removed]",
      "text/plain": [
       "<Figure size 864x288 with 3 Axes>"
      ]
     },
     "metadata": {},
     "output_type": "display_data"
    }
   ],
   "source": [
    "fig, axes = plt.subplots(1, 3, figsize=(12, 4), sharey=True, sharex=True)\n",
    "for ax, (name, subdf) in zip(axes, df1.groupby(by=\"방송\")):\n",
    "    subdf.plot.scatter(x=\"방영전\", y=\"증가\", ax=ax)\n",
    "    \n",
    "# 맛있는녀석들, 생생정보통, 수요미식회"
   ]
  },
  {
   "cell_type": "code",
   "execution_count": 35,
   "metadata": {},
   "outputs": [
    {
     "data": {
      "image/png": "[encoded data removed]",
      "text/plain": [
       "<Figure size 864x288 with 3 Axes>"
      ]
     },
     "metadata": {},
     "output_type": "display_data"
    }
   ],
   "source": [
    "# outlier를 제거한 산점도\n",
    "\n",
    "fig, axes = plt.subplots(1, 3, figsize=(12, 4), sharey=True, sharex=True)\n",
    "\n",
    "for ax, (name, subdf) in zip(axes, drop_outlier.groupby(by=\"방송\")):\n",
    "    subdf.plot.scatter(x=\"방영전\", y=\"증가\", ax=ax)"
   ]
  },
  {
   "cell_type": "code",
   "execution_count": 36,
   "metadata": {
    "scrolled": false
   },
   "outputs": [
    {
     "data": {
      "text/plain": [
       "<matplotlib.collections.PathCollection at 0x10dd7bd68>"
      ]
     },
     "execution_count": 36,
     "metadata": {},
     "output_type": "execute_result"
    },
    {
     "data": {
      "image/png": "[encoded data removed]",
      "text/plain": [
       "<Figure size 432x288 with 1 Axes>"
      ]
     },
     "metadata": {},
     "output_type": "display_data"
    }
   ],
   "source": [
    "plt.scatter(mashit_df['방영전'],mashit_df['증가'], color = 'red')"
   ]
  },
  {
   "cell_type": "code",
   "execution_count": 37,
   "metadata": {
    "scrolled": true
   },
   "outputs": [
    {
     "data": {
      "text/plain": [
       "<matplotlib.collections.PathCollection at 0x10d8de6d8>"
      ]
     },
     "execution_count": 37,
     "metadata": {},
     "output_type": "execute_result"
    },
    {
     "data": {
      "image/png": "[encoded data removed]",
      "text/plain": [
       "<Figure size 432x288 with 1 Axes>"
      ]
     },
     "metadata": {},
     "output_type": "display_data"
    }
   ],
   "source": [
    "plt.scatter(suyo_df['방영전'],suyo_df['증가'], color = 'blue')"
   ]
  },
  {
   "cell_type": "code",
   "execution_count": 38,
   "metadata": {},
   "outputs": [
    {
     "data": {
      "text/plain": [
       "<matplotlib.collections.PathCollection at 0x10d73b438>"
      ]
     },
     "execution_count": 38,
     "metadata": {},
     "output_type": "execute_result"
    },
    {
     "data": {
      "image/png": "[encoded data removed]",
      "text/plain": [
       "<Figure size 432x288 with 1 Axes>"
      ]
     },
     "metadata": {},
     "output_type": "display_data"
    }
   ],
   "source": [
    "plt.scatter(sangsang_df['방영전'],sangsang_df['증가'], color = 'green')"
   ]
  },
  {
   "cell_type": "code",
   "execution_count": 39,
   "metadata": {
    "scrolled": false
   },
   "outputs": [
    {
     "data": {
      "text/plain": [
       "<matplotlib.collections.PathCollection at 0x10d5c7198>"
      ]
     },
     "execution_count": 39,
     "metadata": {},
     "output_type": "execute_result"
    },
    {
     "data": {
      "image/png": "[encoded data removed]",
      "text/plain": [
       "<Figure size 432x288 with 1 Axes>"
      ]
     },
     "metadata": {},
     "output_type": "display_data"
    }
   ],
   "source": [
    "plt.scatter(df1['방영전'],df1['증가율'])"
   ]
  },
  {
   "cell_type": "code",
   "execution_count": 40,
   "metadata": {
    "scrolled": true
   },
   "outputs": [
    {
     "data": {
      "text/plain": [
       "<matplotlib.collections.PathCollection at 0x10d9142b0>"
      ]
     },
     "execution_count": 40,
     "metadata": {},
     "output_type": "execute_result"
    },
    {
     "data": {
      "image/png": "[encoded data removed]",
      "text/plain": [
       "<Figure size 432x288 with 1 Axes>"
      ]
     },
     "metadata": {},
     "output_type": "display_data"
    }
   ],
   "source": [
    "plt.scatter(df1['방영전'],df1['증가율'])"
   ]
  },
  {
   "cell_type": "code",
   "execution_count": 41,
   "metadata": {
    "scrolled": false
   },
   "outputs": [
    {
     "data": {
      "text/plain": [
       "<matplotlib.collections.PathCollection at 0x115b68630>"
      ]
     },
     "execution_count": 41,
     "metadata": {},
     "output_type": "execute_result"
    },
    {
     "data": {
      "image/png": "[encoded data removed]",
      "text/plain": [
       "<Figure size 432x288 with 1 Axes>"
      ]
     },
     "metadata": {},
     "output_type": "display_data"
    }
   ],
   "source": [
    "plt.scatter(df1['방영전'],df1['증가_log'])"
   ]
  },
  {
   "cell_type": "code",
   "execution_count": 42,
   "metadata": {
    "scrolled": false
   },
   "outputs": [
    {
     "data": {
      "text/plain": [
       "<matplotlib.collections.PathCollection at 0x10dd6a518>"
      ]
     },
     "execution_count": 42,
     "metadata": {},
     "output_type": "execute_result"
    },
    {
     "data": {
      "image/png": "[encoded data removed]",
      "text/plain": [
       "<Figure size 432x288 with 1 Axes>"
      ]
     },
     "metadata": {},
     "output_type": "display_data"
    }
   ],
   "source": [
    "plt.scatter(df1['방영전'],df1['증가율'])"
   ]
  },
  {
   "cell_type": "code",
   "execution_count": 43,
   "metadata": {},
   "outputs": [
    {
     "data": {
      "text/plain": [
       "<matplotlib.collections.PathCollection at 0x10d8ca588>"
      ]
     },
     "execution_count": 43,
     "metadata": {},
     "output_type": "execute_result"
    },
    {
     "data": {
      "image/png": "[encoded data removed]",
      "text/plain": [
       "<Figure size 432x288 with 1 Axes>"
      ]
     },
     "metadata": {},
     "output_type": "display_data"
    }
   ],
   "source": [
    "plt.scatter(df1['방영전_log'],df1['증가율_log'])"
   ]
  },
  {
   "cell_type": "code",
   "execution_count": 44,
   "metadata": {},
   "outputs": [
    {
     "data": {
      "text/plain": [
       "<matplotlib.collections.PathCollection at 0x10d6e9f60>"
      ]
     },
     "execution_count": 44,
     "metadata": {},
     "output_type": "execute_result"
    },
    {
     "data": {
      "image/png": "[encoded data removed]",
      "text/plain": [
       "<Figure size 432x288 with 1 Axes>"
      ]
     },
     "metadata": {},
     "output_type": "display_data"
    }
   ],
   "source": [
    "plt.scatter(mashit_df['방영전'],mashit_df['증가율'])"
   ]
  },
  {
   "cell_type": "code",
   "execution_count": 45,
   "metadata": {},
   "outputs": [
    {
     "data": {
      "text/plain": [
       "<matplotlib.collections.PathCollection at 0x10d63ed30>"
      ]
     },
     "execution_count": 45,
     "metadata": {},
     "output_type": "execute_result"
    },
    {
     "data": {
      "image/png": "[encoded data removed]",
      "text/plain": [
       "<Figure size 432x288 with 1 Axes>"
      ]
     },
     "metadata": {},
     "output_type": "display_data"
    }
   ],
   "source": [
    "plt.scatter(mashit_df['방영전_log'],mashit_df['증가율_log'])"
   ]
  },
  {
   "cell_type": "code",
   "execution_count": 46,
   "metadata": {
    "scrolled": true
   },
   "outputs": [
    {
     "data": {
      "text/plain": [
       "<matplotlib.collections.PathCollection at 0x116184d68>"
      ]
     },
     "execution_count": 46,
     "metadata": {},
     "output_type": "execute_result"
    },
    {
     "data": {
      "image/png": "[encoded data removed]",
      "text/plain": [
       "<Figure size 432x288 with 1 Axes>"
      ]
     },
     "metadata": {},
     "output_type": "display_data"
    }
   ],
   "source": [
    "plt.scatter(sangsang_df['방영전'],sangsang_df['증가율'])"
   ]
  },
  {
   "cell_type": "code",
   "execution_count": 47,
   "metadata": {},
   "outputs": [
    {
     "data": {
      "text/plain": [
       "<matplotlib.collections.PathCollection at 0x1161e3e80>"
      ]
     },
     "execution_count": 47,
     "metadata": {},
     "output_type": "execute_result"
    },
    {
     "data": {
      "image/png": "[encoded data removed]",
      "text/plain": [
       "<Figure size 432x288 with 1 Axes>"
      ]
     },
     "metadata": {},
     "output_type": "display_data"
    }
   ],
   "source": [
    "plt.scatter(sangsang_df['방영전_log'],sangsang_df['증가율_log'])"
   ]
  },
  {
   "cell_type": "code",
   "execution_count": 48,
   "metadata": {
    "scrolled": true
   },
   "outputs": [
    {
     "data": {
      "text/plain": [
       "<matplotlib.collections.PathCollection at 0x1162fb5f8>"
      ]
     },
     "execution_count": 48,
     "metadata": {},
     "output_type": "execute_result"
    },
    {
     "data": {
      "image/png": "[encoded data removed]",
      "text/plain": [
       "<Figure size 432x288 with 1 Axes>"
      ]
     },
     "metadata": {},
     "output_type": "display_data"
    }
   ],
   "source": [
    "plt.scatter(suyo_df['방영전'],suyo_df['증가율'])"
   ]
  },
  {
   "cell_type": "code",
   "execution_count": 49,
   "metadata": {
    "scrolled": true
   },
   "outputs": [
    {
     "data": {
      "text/plain": [
       "<matplotlib.collections.PathCollection at 0x116354b70>"
      ]
     },
     "execution_count": 49,
     "metadata": {},
     "output_type": "execute_result"
    },
    {
     "data": {
      "image/png": "[encoded data removed]",
      "text/plain": [
       "<Figure size 432x288 with 1 Axes>"
      ]
     },
     "metadata": {},
     "output_type": "display_data"
    }
   ],
   "source": [
    "plt.scatter(suyo_df['방영전_log'],suyo_df['증가율_log'])"
   ]
  },
  {
   "cell_type": "markdown",
   "metadata": {},
   "source": [
    "\n",
    "# 4. 지도 찍어보기"
   ]
  },
  {
   "cell_type": "code",
   "execution_count": 72,
   "metadata": {
    "scrolled": true
   },
   "outputs": [
    {
     "data": {
      "text/html": [
       "<div>\n",
       "<style scoped>\n",
       "    .dataframe tbody tr th:only-of-type {\n",
       "        vertical-align: middle;\n",
       "    }\n",
       "\n",
       "    .dataframe tbody tr th {\n",
       "        vertical-align: top;\n",
       "    }\n",
       "\n",
       "    .dataframe thead th {\n",
       "        text-align: right;\n",
       "    }\n",
       "</style>\n",
       "<table border=\"1\" class=\"dataframe\">\n",
       "  <thead>\n",
       "    <tr style=\"text-align: right;\">\n",
       "      <th></th>\n",
       "      <th>방송명</th>\n",
       "      <th>방송날짜</th>\n",
       "      <th>식당명</th>\n",
       "      <th>주소</th>\n",
       "    </tr>\n",
       "  </thead>\n",
       "  <tbody>\n",
       "    <tr>\n",
       "      <th>0</th>\n",
       "      <td>수요미식회</td>\n",
       "      <td>2017년 1월 4일</td>\n",
       "      <td>오통영</td>\n",
       "      <td>서울특별시 강남구 선릉로158길 10 한나빌딩 지하2층</td>\n",
       "    </tr>\n",
       "    <tr>\n",
       "      <th>1</th>\n",
       "      <td>수요미식회</td>\n",
       "      <td>2017년 1월 4일</td>\n",
       "      <td>안동장</td>\n",
       "      <td>서울특별시 중구 을지로 124</td>\n",
       "    </tr>\n",
       "    <tr>\n",
       "      <th>2</th>\n",
       "      <td>수요미식회</td>\n",
       "      <td>2017년 1월 11일</td>\n",
       "      <td>평양집</td>\n",
       "      <td>서울특별시 용산구 한강대로 186</td>\n",
       "    </tr>\n",
       "    <tr>\n",
       "      <th>3</th>\n",
       "      <td>수요미식회</td>\n",
       "      <td>2017년 1월 11일</td>\n",
       "      <td>까사디노아</td>\n",
       "      <td>서울 마포구 연남동 257-8 1층</td>\n",
       "    </tr>\n",
       "    <tr>\n",
       "      <th>4</th>\n",
       "      <td>수요미식회</td>\n",
       "      <td>2017년 2월 1일</td>\n",
       "      <td>덕자네 방앗간</td>\n",
       "      <td>서울특별시 서초구 사평대로56길 7</td>\n",
       "    </tr>\n",
       "  </tbody>\n",
       "</table>\n",
       "</div>"
      ],
      "text/plain": [
       "     방송명            방송날짜      식당명                              주소\n",
       "0  수요미식회   2017년 1월 4일        오통영  서울특별시 강남구 선릉로158길 10 한나빌딩 지하2층\n",
       "1  수요미식회   2017년 1월 4일        안동장                서울특별시 중구 을지로 124\n",
       "2  수요미식회  2017년 1월 11일        평양집              서울특별시 용산구 한강대로 186\n",
       "3  수요미식회  2017년 1월 11일      까사디노아             서울 마포구 연남동 257-8 1층\n",
       "4  수요미식회   2017년 2월 1일    덕자네 방앗간             서울특별시 서초구 사평대로56길 7"
      ]
     },
     "execution_count": 72,
     "metadata": {},
     "output_type": "execute_result"
    }
   ],
   "source": [
    "suyo_map = pd.read_csv('data/suyo_map.csv')\n",
    "suyo_map = suyo_map.drop(['업종'], axis = 1)\n",
    "suyo_map.head()"
   ]
  },
  {
   "cell_type": "code",
   "execution_count": 61,
   "metadata": {
    "scrolled": true
   },
   "outputs": [
    {
     "data": {
      "text/html": [
       "<div>\n",
       "<style scoped>\n",
       "    .dataframe tbody tr th:only-of-type {\n",
       "        vertical-align: middle;\n",
       "    }\n",
       "\n",
       "    .dataframe tbody tr th {\n",
       "        vertical-align: top;\n",
       "    }\n",
       "\n",
       "    .dataframe thead th {\n",
       "        text-align: right;\n",
       "    }\n",
       "</style>\n",
       "<table border=\"1\" class=\"dataframe\">\n",
       "  <thead>\n",
       "    <tr style=\"text-align: right;\">\n",
       "      <th></th>\n",
       "      <th>방송명</th>\n",
       "      <th>방송날짜</th>\n",
       "      <th>식당명</th>\n",
       "      <th>주소</th>\n",
       "    </tr>\n",
       "  </thead>\n",
       "  <tbody>\n",
       "    <tr>\n",
       "      <th>0</th>\n",
       "      <td>맛있는 녀석들</td>\n",
       "      <td>2017년 1월 6일</td>\n",
       "      <td>내호냉면</td>\n",
       "      <td>부산시 남구 우암동 189-671</td>\n",
       "    </tr>\n",
       "    <tr>\n",
       "      <th>1</th>\n",
       "      <td>맛있는 녀석들</td>\n",
       "      <td>2017년 1월 6일</td>\n",
       "      <td>한방장어구이</td>\n",
       "      <td>부산시 해운대구 중동 1396-59</td>\n",
       "    </tr>\n",
       "    <tr>\n",
       "      <th>2</th>\n",
       "      <td>맛있는 녀석들</td>\n",
       "      <td>2017년 1월 13일</td>\n",
       "      <td>김영자 나주곰탕</td>\n",
       "      <td>서울 관악구 신림동 110-6</td>\n",
       "    </tr>\n",
       "    <tr>\n",
       "      <th>3</th>\n",
       "      <td>맛있는 녀석들</td>\n",
       "      <td>2017년 1월 13일</td>\n",
       "      <td>강촌원조쭈꾸미</td>\n",
       "      <td>서울 서초구 양재동 11-6</td>\n",
       "    </tr>\n",
       "    <tr>\n",
       "      <th>4</th>\n",
       "      <td>맛있는 녀석들</td>\n",
       "      <td>2017년 2월 3일</td>\n",
       "      <td>바다회사랑</td>\n",
       "      <td>서울 마포구 서교동 352-1</td>\n",
       "    </tr>\n",
       "  </tbody>\n",
       "</table>\n",
       "</div>"
      ],
      "text/plain": [
       "       방송명          방송날짜       식당명                   주소\n",
       "0  맛있는 녀석들   2017년 1월 6일      내호냉면   부산시 남구 우암동 189-671\n",
       "1  맛있는 녀석들   2017년 1월 6일    한방장어구이  부산시 해운대구 중동 1396-59\n",
       "2  맛있는 녀석들  2017년 1월 13일  김영자 나주곰탕     서울 관악구 신림동 110-6\n",
       "3  맛있는 녀석들  2017년 1월 13일   강촌원조쭈꾸미      서울 서초구 양재동 11-6\n",
       "4  맛있는 녀석들   2017년 2월 3일     바다회사랑     서울 마포구 서교동 352-1"
      ]
     },
     "execution_count": 61,
     "metadata": {},
     "output_type": "execute_result"
    }
   ],
   "source": [
    "mashit_map = pd.read_csv('data/mashit_map.csv')\n",
    "\n",
    "mashit_map.head()"
   ]
  },
  {
   "cell_type": "code",
   "execution_count": 65,
   "metadata": {},
   "outputs": [
    {
     "data": {
      "text/html": [
       "<div>\n",
       "<style scoped>\n",
       "    .dataframe tbody tr th:only-of-type {\n",
       "        vertical-align: middle;\n",
       "    }\n",
       "\n",
       "    .dataframe tbody tr th {\n",
       "        vertical-align: top;\n",
       "    }\n",
       "\n",
       "    .dataframe thead th {\n",
       "        text-align: right;\n",
       "    }\n",
       "</style>\n",
       "<table border=\"1\" class=\"dataframe\">\n",
       "  <thead>\n",
       "    <tr style=\"text-align: right;\">\n",
       "      <th></th>\n",
       "      <th>방송명</th>\n",
       "      <th>방송날짜</th>\n",
       "      <th>식당명</th>\n",
       "      <th>주소</th>\n",
       "    </tr>\n",
       "  </thead>\n",
       "  <tbody>\n",
       "    <tr>\n",
       "      <th>0</th>\n",
       "      <td>생생정보통</td>\n",
       "      <td>2017년 1월 3일</td>\n",
       "      <td>대풍만두</td>\n",
       "      <td>경북 안동시 번영길 21</td>\n",
       "    </tr>\n",
       "    <tr>\n",
       "      <th>1</th>\n",
       "      <td>생생정보통</td>\n",
       "      <td>2017년 1월 12일</td>\n",
       "      <td>여인천하조개구이</td>\n",
       "      <td>인천 중구 마시란로 107-11</td>\n",
       "    </tr>\n",
       "    <tr>\n",
       "      <th>2</th>\n",
       "      <td>생생정보통</td>\n",
       "      <td>2017년 1월 13일</td>\n",
       "      <td>제일정육정식당</td>\n",
       "      <td>경기 오산시 오산로 164</td>\n",
       "    </tr>\n",
       "    <tr>\n",
       "      <th>3</th>\n",
       "      <td>생생정보통</td>\n",
       "      <td>2017년 1월 31일</td>\n",
       "      <td>광명식당</td>\n",
       "      <td>제주특별자치도 제주시 동문로4길 9</td>\n",
       "    </tr>\n",
       "    <tr>\n",
       "      <th>4</th>\n",
       "      <td>생생정보통</td>\n",
       "      <td>2017년 2월 1일</td>\n",
       "      <td>칡산에</td>\n",
       "      <td>강원도 원주시 금불4길 25-5</td>\n",
       "    </tr>\n",
       "  </tbody>\n",
       "</table>\n",
       "</div>"
      ],
      "text/plain": [
       "     방송명          방송날짜       식당명                   주소\n",
       "0  생생정보통   2017년 1월 3일      대풍만두        경북 안동시 번영길 21\n",
       "1  생생정보통  2017년 1월 12일  여인천하조개구이    인천 중구 마시란로 107-11\n",
       "2  생생정보통  2017년 1월 13일   제일정육정식당       경기 오산시 오산로 164\n",
       "3  생생정보통  2017년 1월 31일      광명식당  제주특별자치도 제주시 동문로4길 9\n",
       "4  생생정보통   2017년 2월 1일       칡산에    강원도 원주시 금불4길 25-5"
      ]
     },
     "execution_count": 65,
     "metadata": {},
     "output_type": "execute_result"
    }
   ],
   "source": [
    "sangsang_map = pd.read_csv('data/sangsang_map.csv')\n",
    "sangsang_map.columns = ['방송명', '방송날짜', '식당명', '주소']\n",
    "\n",
    "sangsang_map.head()"
   ]
  },
  {
   "cell_type": "code",
   "execution_count": 73,
   "metadata": {},
   "outputs": [
    {
     "data": {
      "text/html": [
       "<div>\n",
       "<style scoped>\n",
       "    .dataframe tbody tr th:only-of-type {\n",
       "        vertical-align: middle;\n",
       "    }\n",
       "\n",
       "    .dataframe tbody tr th {\n",
       "        vertical-align: top;\n",
       "    }\n",
       "\n",
       "    .dataframe thead th {\n",
       "        text-align: right;\n",
       "    }\n",
       "</style>\n",
       "<table border=\"1\" class=\"dataframe\">\n",
       "  <thead>\n",
       "    <tr style=\"text-align: right;\">\n",
       "      <th></th>\n",
       "      <th>방송명</th>\n",
       "      <th>방송날짜</th>\n",
       "      <th>식당명</th>\n",
       "      <th>주소</th>\n",
       "    </tr>\n",
       "  </thead>\n",
       "  <tbody>\n",
       "    <tr>\n",
       "      <th>0</th>\n",
       "      <td>수요미식회</td>\n",
       "      <td>2017년 1월 4일</td>\n",
       "      <td>오통영</td>\n",
       "      <td>서울특별시 강남구 선릉로158길 10 한나빌딩 지하2층</td>\n",
       "    </tr>\n",
       "    <tr>\n",
       "      <th>1</th>\n",
       "      <td>수요미식회</td>\n",
       "      <td>2017년 1월 4일</td>\n",
       "      <td>안동장</td>\n",
       "      <td>서울특별시 중구 을지로 124</td>\n",
       "    </tr>\n",
       "    <tr>\n",
       "      <th>2</th>\n",
       "      <td>수요미식회</td>\n",
       "      <td>2017년 1월 11일</td>\n",
       "      <td>평양집</td>\n",
       "      <td>서울특별시 용산구 한강대로 186</td>\n",
       "    </tr>\n",
       "    <tr>\n",
       "      <th>3</th>\n",
       "      <td>수요미식회</td>\n",
       "      <td>2017년 1월 11일</td>\n",
       "      <td>까사디노아</td>\n",
       "      <td>서울 마포구 연남동 257-8 1층</td>\n",
       "    </tr>\n",
       "    <tr>\n",
       "      <th>4</th>\n",
       "      <td>수요미식회</td>\n",
       "      <td>2017년 2월 1일</td>\n",
       "      <td>덕자네 방앗간</td>\n",
       "      <td>서울특별시 서초구 사평대로56길 7</td>\n",
       "    </tr>\n",
       "    <tr>\n",
       "      <th>5</th>\n",
       "      <td>수요미식회</td>\n",
       "      <td>2017년 2월 1일</td>\n",
       "      <td>루비떡볶이</td>\n",
       "      <td>서울특별시 강남구 선릉로153길 21</td>\n",
       "    </tr>\n",
       "    <tr>\n",
       "      <th>6</th>\n",
       "      <td>수요미식회</td>\n",
       "      <td>2017년 2월 8일</td>\n",
       "      <td>참식당</td>\n",
       "      <td>서울특별시 마포구 토정로 311</td>\n",
       "    </tr>\n",
       "    <tr>\n",
       "      <th>7</th>\n",
       "      <td>수요미식회</td>\n",
       "      <td>2017년 2월 8일</td>\n",
       "      <td>갯바위</td>\n",
       "      <td>서울특별시 관악구 남부순환로216길 1</td>\n",
       "    </tr>\n",
       "    <tr>\n",
       "      <th>8</th>\n",
       "      <td>수요미식회</td>\n",
       "      <td>2017년 2월 15일</td>\n",
       "      <td>포담</td>\n",
       "      <td>서울특별시 종로구 자하문로9길 11</td>\n",
       "    </tr>\n",
       "    <tr>\n",
       "      <th>9</th>\n",
       "      <td>수요미식회</td>\n",
       "      <td>2017년 2월 15일</td>\n",
       "      <td>따빠스구르메</td>\n",
       "      <td>서울특별시 종로구 자하문로9길 7 1층</td>\n",
       "    </tr>\n",
       "    <tr>\n",
       "      <th>10</th>\n",
       "      <td>수요미식회</td>\n",
       "      <td>2017년 2월 22일</td>\n",
       "      <td>고래불</td>\n",
       "      <td>서울특별시 강남구 논현로79길 62</td>\n",
       "    </tr>\n",
       "    <tr>\n",
       "      <th>11</th>\n",
       "      <td>수요미식회</td>\n",
       "      <td>2017년 2월 22일</td>\n",
       "      <td>영주묵호문어집</td>\n",
       "      <td>경상북도 영주시 영주로224번길 8</td>\n",
       "    </tr>\n",
       "    <tr>\n",
       "      <th>12</th>\n",
       "      <td>수요미식회</td>\n",
       "      <td>2017년 3월 1일</td>\n",
       "      <td>오돌</td>\n",
       "      <td>서울특별시 영등포구 국회대로37길 6</td>\n",
       "    </tr>\n",
       "    <tr>\n",
       "      <th>13</th>\n",
       "      <td>수요미식회</td>\n",
       "      <td>2017년 3월 1일</td>\n",
       "      <td>미갈매기살</td>\n",
       "      <td>서울특별시 종로구 돈화문로11가길 7</td>\n",
       "    </tr>\n",
       "    <tr>\n",
       "      <th>14</th>\n",
       "      <td>수요미식회</td>\n",
       "      <td>2017년 3월 8일</td>\n",
       "      <td>안즈</td>\n",
       "      <td>서울특별시 중구 을지로5길 19 FERR</td>\n",
       "    </tr>\n",
       "    <tr>\n",
       "      <th>15</th>\n",
       "      <td>수요미식회</td>\n",
       "      <td>2017년 3월 8일</td>\n",
       "      <td>정돈</td>\n",
       "      <td>서울특별시 종로구 대학로9길 12</td>\n",
       "    </tr>\n",
       "    <tr>\n",
       "      <th>16</th>\n",
       "      <td>수요미식회</td>\n",
       "      <td>2017년 3월 15일</td>\n",
       "      <td>다미</td>\n",
       "      <td>서울특별시 영등포구 국제금융로8길 3</td>\n",
       "    </tr>\n",
       "    <tr>\n",
       "      <th>17</th>\n",
       "      <td>수요미식회</td>\n",
       "      <td>2017년 3월 15일</td>\n",
       "      <td>대원식당</td>\n",
       "      <td>서울특별시 용산구 한강대로62나길 16</td>\n",
       "    </tr>\n",
       "    <tr>\n",
       "      <th>18</th>\n",
       "      <td>수요미식회</td>\n",
       "      <td>2017년 4월 5일</td>\n",
       "      <td>개화옥</td>\n",
       "      <td>서울특별시 강남구 논현로175길 42</td>\n",
       "    </tr>\n",
       "    <tr>\n",
       "      <th>19</th>\n",
       "      <td>수요미식회</td>\n",
       "      <td>2017년 4월 5일</td>\n",
       "      <td>대복집</td>\n",
       "      <td>서울특별시 종로구 사직로 137-9</td>\n",
       "    </tr>\n",
       "    <tr>\n",
       "      <th>20</th>\n",
       "      <td>수요미식회</td>\n",
       "      <td>2017년 4월 12일</td>\n",
       "      <td>멍게가</td>\n",
       "      <td>경상남도 통영시 동충4길 25</td>\n",
       "    </tr>\n",
       "    <tr>\n",
       "      <th>21</th>\n",
       "      <td>수요미식회</td>\n",
       "      <td>2017년 4월 12일</td>\n",
       "      <td>수정식당</td>\n",
       "      <td>경상남도 통영시 항남5길 12-21</td>\n",
       "    </tr>\n",
       "    <tr>\n",
       "      <th>22</th>\n",
       "      <td>수요미식회</td>\n",
       "      <td>2017년 4월 19일</td>\n",
       "      <td>주은감자탕</td>\n",
       "      <td>서울특별시 송파구 삼학사로 71</td>\n",
       "    </tr>\n",
       "    <tr>\n",
       "      <th>23</th>\n",
       "      <td>수요미식회</td>\n",
       "      <td>2017년 4월 19일</td>\n",
       "      <td>닭한마리감자탕</td>\n",
       "      <td>서울특별시 강남구 강남대로152길 13</td>\n",
       "    </tr>\n",
       "    <tr>\n",
       "      <th>24</th>\n",
       "      <td>수요미식회</td>\n",
       "      <td>2017년 4월 26일</td>\n",
       "      <td>금홍</td>\n",
       "      <td>서울특별시 용산구 이촌로 303 현대아파트11동상가 1층 금홍</td>\n",
       "    </tr>\n",
       "    <tr>\n",
       "      <th>25</th>\n",
       "      <td>수요미식회</td>\n",
       "      <td>2017년 4월 26일</td>\n",
       "      <td>아지겐</td>\n",
       "      <td>서울특별시 용산구 이촌로75길 22</td>\n",
       "    </tr>\n",
       "    <tr>\n",
       "      <th>26</th>\n",
       "      <td>수요미식회</td>\n",
       "      <td>2017년 5월 3일</td>\n",
       "      <td>서일농원 솔리</td>\n",
       "      <td>경기도 안성시 일죽면 금일로 332-17</td>\n",
       "    </tr>\n",
       "    <tr>\n",
       "      <th>27</th>\n",
       "      <td>수요미식회</td>\n",
       "      <td>2017년 5월 3일</td>\n",
       "      <td>목향원</td>\n",
       "      <td>경기도 남양주시 덕릉로1071번길 34-11</td>\n",
       "    </tr>\n",
       "    <tr>\n",
       "      <th>28</th>\n",
       "      <td>수요미식회</td>\n",
       "      <td>2017년 5월 17일</td>\n",
       "      <td>서울여관식당</td>\n",
       "      <td>경상북도 청송군 청송읍 약수길 18-1</td>\n",
       "    </tr>\n",
       "    <tr>\n",
       "      <th>29</th>\n",
       "      <td>수요미식회</td>\n",
       "      <td>2017년 5월 17일</td>\n",
       "      <td>오복손두부</td>\n",
       "      <td>경기도 광주시 남한산성면 남한산성로 745-10</td>\n",
       "    </tr>\n",
       "    <tr>\n",
       "      <th>...</th>\n",
       "      <td>...</td>\n",
       "      <td>...</td>\n",
       "      <td>...</td>\n",
       "      <td>...</td>\n",
       "    </tr>\n",
       "    <tr>\n",
       "      <th>321</th>\n",
       "      <td>생생정보통</td>\n",
       "      <td>2018년 3월 1일</td>\n",
       "      <td>연남곱창타운</td>\n",
       "      <td>서울시 마포구 연남동 260-51</td>\n",
       "    </tr>\n",
       "    <tr>\n",
       "      <th>322</th>\n",
       "      <td>생생정보통</td>\n",
       "      <td>2018년 3월 1일</td>\n",
       "      <td>짱닭</td>\n",
       "      <td>경기 김포시 운양동 958-2</td>\n",
       "    </tr>\n",
       "    <tr>\n",
       "      <th>323</th>\n",
       "      <td>생생정보통</td>\n",
       "      <td>2018년 3월 8일</td>\n",
       "      <td>천하장사</td>\n",
       "      <td>전북 군산시 하산1길 14</td>\n",
       "    </tr>\n",
       "    <tr>\n",
       "      <th>324</th>\n",
       "      <td>생생정보통</td>\n",
       "      <td>2018년 3월 8일</td>\n",
       "      <td>3일한우국밥</td>\n",
       "      <td>서울 영등포구 영등포로 204</td>\n",
       "    </tr>\n",
       "    <tr>\n",
       "      <th>325</th>\n",
       "      <td>생생정보통</td>\n",
       "      <td>2018년 3월 15일</td>\n",
       "      <td>바다횟집</td>\n",
       "      <td>대전 대덕구 한밭대로 1005</td>\n",
       "    </tr>\n",
       "    <tr>\n",
       "      <th>326</th>\n",
       "      <td>생생정보통</td>\n",
       "      <td>2018년 3월 15일</td>\n",
       "      <td>미옌</td>\n",
       "      <td>경기도 성남시 분당구 서현동 269-2, 2층</td>\n",
       "    </tr>\n",
       "    <tr>\n",
       "      <th>327</th>\n",
       "      <td>생생정보통</td>\n",
       "      <td>2018년 3월 22일</td>\n",
       "      <td>가마솥 족발</td>\n",
       "      <td>경북 경주시 봉황로 39-1</td>\n",
       "    </tr>\n",
       "    <tr>\n",
       "      <th>328</th>\n",
       "      <td>생생정보통</td>\n",
       "      <td>2018년 3월 22일</td>\n",
       "      <td>육, 낙, 꽃</td>\n",
       "      <td>울 서초구 강남대로97길 23 거산빌딩</td>\n",
       "    </tr>\n",
       "    <tr>\n",
       "      <th>329</th>\n",
       "      <td>생생정보통</td>\n",
       "      <td>2018년 3월 29일</td>\n",
       "      <td>현호네 매운갈비찜</td>\n",
       "      <td>경기도 수원시 팔달구 창룡대로8번길 40</td>\n",
       "    </tr>\n",
       "    <tr>\n",
       "      <th>330</th>\n",
       "      <td>생생정보통</td>\n",
       "      <td>2018년 3월 29일</td>\n",
       "      <td>깔레소나무장작구이</td>\n",
       "      <td>경기도 안양시 만안구 장내로 139번길 56-12 2층</td>\n",
       "    </tr>\n",
       "    <tr>\n",
       "      <th>331</th>\n",
       "      <td>생생정보통</td>\n",
       "      <td>2018년 4월 6일</td>\n",
       "      <td>태봉한우면옥</td>\n",
       "      <td>충남 예산군 덕산면 신평1길 14</td>\n",
       "    </tr>\n",
       "    <tr>\n",
       "      <th>332</th>\n",
       "      <td>생생정보통</td>\n",
       "      <td>2018년 4월 6일</td>\n",
       "      <td>꽃지꽃게집</td>\n",
       "      <td>충남 태안군 안면읍 안면대로 3020</td>\n",
       "    </tr>\n",
       "    <tr>\n",
       "      <th>333</th>\n",
       "      <td>생생정보통</td>\n",
       "      <td>2018년 4월 13일</td>\n",
       "      <td>복돈기사식당</td>\n",
       "      <td>서울시 송파구 삼전동 36-8번지</td>\n",
       "    </tr>\n",
       "    <tr>\n",
       "      <th>334</th>\n",
       "      <td>생생정보통</td>\n",
       "      <td>2018년 4월 13일</td>\n",
       "      <td>가마솥손두부</td>\n",
       "      <td>서울 동작구 남부순환로 271길 20</td>\n",
       "    </tr>\n",
       "    <tr>\n",
       "      <th>335</th>\n",
       "      <td>생생정보통</td>\n",
       "      <td>2018년 4월 20일</td>\n",
       "      <td>옥돌위에석쇠한판</td>\n",
       "      <td>경기 고양시 일산동구 장항동 855</td>\n",
       "    </tr>\n",
       "    <tr>\n",
       "      <th>336</th>\n",
       "      <td>생생정보통</td>\n",
       "      <td>2018년 4월 20일</td>\n",
       "      <td>해누리</td>\n",
       "      <td>강원도 춘천시 효자동 692-1, 2층</td>\n",
       "    </tr>\n",
       "    <tr>\n",
       "      <th>337</th>\n",
       "      <td>생생정보통</td>\n",
       "      <td>2018년 5월 1일</td>\n",
       "      <td>금돼지식당</td>\n",
       "      <td>서울 중구 다산로 149 금돼지식당</td>\n",
       "    </tr>\n",
       "    <tr>\n",
       "      <th>338</th>\n",
       "      <td>생생정보통</td>\n",
       "      <td>2018년 5월 1일</td>\n",
       "      <td>목포명가</td>\n",
       "      <td>서울 강남구 삼성로100길 23-22 목포명가</td>\n",
       "    </tr>\n",
       "    <tr>\n",
       "      <th>339</th>\n",
       "      <td>생생정보통</td>\n",
       "      <td>2018년 5월 7일</td>\n",
       "      <td>뉴만두집</td>\n",
       "      <td>서울 강남구 압구정로 338</td>\n",
       "    </tr>\n",
       "    <tr>\n",
       "      <th>340</th>\n",
       "      <td>생생정보통</td>\n",
       "      <td>2018년 5월 7일</td>\n",
       "      <td>봉화전</td>\n",
       "      <td>서울 강남구 봉은사로 632</td>\n",
       "    </tr>\n",
       "    <tr>\n",
       "      <th>341</th>\n",
       "      <td>생생정보통</td>\n",
       "      <td>2018년 5월 17일</td>\n",
       "      <td>착한명인국수와숯불냉면</td>\n",
       "      <td>광주광역시 남구 서대문로 700(진월동 294-17 광동빌딩</td>\n",
       "    </tr>\n",
       "    <tr>\n",
       "      <th>342</th>\n",
       "      <td>생생정보통</td>\n",
       "      <td>2018년 5월 17일</td>\n",
       "      <td>2SOYOU</td>\n",
       "      <td>서울 마포구 와우산로 11길 9-8</td>\n",
       "    </tr>\n",
       "    <tr>\n",
       "      <th>343</th>\n",
       "      <td>생생정보통</td>\n",
       "      <td>2018년 5월 23일</td>\n",
       "      <td>고향마루</td>\n",
       "      <td>전북 남원시 의총로 12</td>\n",
       "    </tr>\n",
       "    <tr>\n",
       "      <th>344</th>\n",
       "      <td>생생정보통</td>\n",
       "      <td>2018년 5월 23일</td>\n",
       "      <td>티라벤토</td>\n",
       "      <td>서울 용산구 녹사평대로26길 77-6</td>\n",
       "    </tr>\n",
       "    <tr>\n",
       "      <th>345</th>\n",
       "      <td>생생정보통</td>\n",
       "      <td>2018년 6월 1일</td>\n",
       "      <td>먹깨비해물아구찜</td>\n",
       "      <td>서울특별시 동대문구 장안동 345-1번지</td>\n",
       "    </tr>\n",
       "    <tr>\n",
       "      <th>346</th>\n",
       "      <td>생생정보통</td>\n",
       "      <td>2018년 6월 1일</td>\n",
       "      <td>어항식당</td>\n",
       "      <td>충남 서천군 장항읍 장선1리 332-54</td>\n",
       "    </tr>\n",
       "    <tr>\n",
       "      <th>347</th>\n",
       "      <td>생생정보통</td>\n",
       "      <td>2018년 6월 8일</td>\n",
       "      <td>석원</td>\n",
       "      <td>경남 진주시 문산읍 동부로 537</td>\n",
       "    </tr>\n",
       "    <tr>\n",
       "      <th>348</th>\n",
       "      <td>생생정보통</td>\n",
       "      <td>2018년 6월 8일</td>\n",
       "      <td>대소양</td>\n",
       "      <td>광주 서구 상무민주로 4</td>\n",
       "    </tr>\n",
       "    <tr>\n",
       "      <th>349</th>\n",
       "      <td>생생정보통</td>\n",
       "      <td>2018년 6월 15일</td>\n",
       "      <td>위풍당당족발</td>\n",
       "      <td>서울특별시 성동구 성수일로8길 53</td>\n",
       "    </tr>\n",
       "    <tr>\n",
       "      <th>350</th>\n",
       "      <td>생생정보통</td>\n",
       "      <td>2018년 6월 14일</td>\n",
       "      <td>파르투내</td>\n",
       "      <td>서울 중구 마른내로 154</td>\n",
       "    </tr>\n",
       "  </tbody>\n",
       "</table>\n",
       "<p>351 rows × 4 columns</p>\n",
       "</div>"
      ],
      "text/plain": [
       "       방송명            방송날짜          식당명                                  주소\n",
       "0    수요미식회   2017년 1월 4일            오통영      서울특별시 강남구 선릉로158길 10 한나빌딩 지하2층\n",
       "1    수요미식회   2017년 1월 4일            안동장                    서울특별시 중구 을지로 124\n",
       "2    수요미식회  2017년 1월 11일            평양집                  서울특별시 용산구 한강대로 186\n",
       "3    수요미식회  2017년 1월 11일          까사디노아                 서울 마포구 연남동 257-8 1층\n",
       "4    수요미식회   2017년 2월 1일        덕자네 방앗간                 서울특별시 서초구 사평대로56길 7\n",
       "5    수요미식회   2017년 2월 1일          루비떡볶이                서울특별시 강남구 선릉로153길 21\n",
       "6    수요미식회   2017년 2월 8일            참식당                   서울특별시 마포구 토정로 311\n",
       "7    수요미식회   2017년 2월 8일            갯바위               서울특별시 관악구 남부순환로216길 1\n",
       "8    수요미식회  2017년 2월 15일             포담                 서울특별시 종로구 자하문로9길 11\n",
       "9    수요미식회  2017년 2월 15일         따빠스구르메               서울특별시 종로구 자하문로9길 7 1층\n",
       "10   수요미식회  2017년 2월 22일            고래불                 서울특별시 강남구 논현로79길 62\n",
       "11   수요미식회  2017년 2월 22일        영주묵호문어집                 경상북도 영주시 영주로224번길 8\n",
       "12   수요미식회   2017년 3월 1일             오돌                서울특별시 영등포구 국회대로37길 6\n",
       "13   수요미식회   2017년 3월 1일          미갈매기살                서울특별시 종로구 돈화문로11가길 7\n",
       "14   수요미식회   2017년 3월 8일             안즈              서울특별시 중구 을지로5길 19 FERR\n",
       "15   수요미식회   2017년 3월 8일             정돈                  서울특별시 종로구 대학로9길 12\n",
       "16   수요미식회  2017년 3월 15일             다미                서울특별시 영등포구 국제금융로8길 3\n",
       "17   수요미식회  2017년 3월 15일           대원식당               서울특별시 용산구 한강대로62나길 16\n",
       "18   수요미식회   2017년 4월 5일            개화옥                서울특별시 강남구 논현로175길 42\n",
       "19   수요미식회   2017년 4월 5일            대복집                 서울특별시 종로구 사직로 137-9\n",
       "20   수요미식회  2017년 4월 12일            멍게가                    경상남도 통영시 동충4길 25\n",
       "21   수요미식회  2017년 4월 12일           수정식당                 경상남도 통영시 항남5길 12-21\n",
       "22   수요미식회  2017년 4월 19일          주은감자탕                   서울특별시 송파구 삼학사로 71\n",
       "23   수요미식회  2017년 4월 19일        닭한마리감자탕               서울특별시 강남구 강남대로152길 13\n",
       "24   수요미식회  2017년 4월 26일             금홍  서울특별시 용산구 이촌로 303 현대아파트11동상가 1층 금홍\n",
       "25   수요미식회  2017년 4월 26일            아지겐                 서울특별시 용산구 이촌로75길 22\n",
       "26   수요미식회   2017년 5월 3일        서일농원 솔리              경기도 안성시 일죽면 금일로 332-17\n",
       "27   수요미식회   2017년 5월 3일            목향원            경기도 남양주시 덕릉로1071번길 34-11\n",
       "28   수요미식회  2017년 5월 17일         서울여관식당               경상북도 청송군 청송읍 약수길 18-1\n",
       "29   수요미식회  2017년 5월 17일          오복손두부          경기도 광주시 남한산성면 남한산성로 745-10\n",
       "..     ...             ...          ...                                 ...\n",
       "321  생생정보통     2018년 3월 1일       연남곱창타운                  서울시 마포구 연남동 260-51\n",
       "322  생생정보통     2018년 3월 1일           짱닭                    경기 김포시 운양동 958-2\n",
       "323  생생정보통     2018년 3월 8일         천하장사                      전북 군산시 하산1길 14\n",
       "324  생생정보통     2018년 3월 8일       3일한우국밥                    서울 영등포구 영등포로 204\n",
       "325  생생정보통    2018년 3월 15일         바다횟집                    대전 대덕구 한밭대로 1005\n",
       "326  생생정보통    2018년 3월 15일           미옌           경기도 성남시 분당구 서현동 269-2, 2층\n",
       "327  생생정보통    2018년 3월 22일       가마솥 족발                     경북 경주시 봉황로 39-1\n",
       "328  생생정보통    2018년 3월 22일      육, 낙, 꽃               울 서초구 강남대로97길 23 거산빌딩\n",
       "329  생생정보통    2018년 3월 29일    현호네 매운갈비찜              경기도 수원시 팔달구 창룡대로8번길 40\n",
       "330  생생정보통    2018년 3월 29일    깔레소나무장작구이      경기도 안양시 만안구 장내로 139번길 56-12 2층\n",
       "331  생생정보통     2018년 4월 6일       태봉한우면옥                  충남 예산군 덕산면 신평1길 14\n",
       "332  생생정보통     2018년 4월 6일        꽃지꽃게집                충남 태안군 안면읍 안면대로 3020\n",
       "333  생생정보통    2018년 4월 13일       복돈기사식당                  서울시 송파구 삼전동 36-8번지\n",
       "334  생생정보통    2018년 4월 13일       가마솥손두부                서울 동작구 남부순환로 271길 20\n",
       "335  생생정보통    2018년 4월 20일     옥돌위에석쇠한판                 경기 고양시 일산동구 장항동 855\n",
       "336  생생정보통    2018년 4월 20일          해누리               강원도 춘천시 효자동 692-1, 2층\n",
       "337  생생정보통     2018년 5월 1일        금돼지식당                 서울 중구 다산로 149 금돼지식당\n",
       "338  생생정보통     2018년 5월 1일         목포명가           서울 강남구 삼성로100길 23-22 목포명가\n",
       "339  생생정보통     2018년 5월 7일         뉴만두집                     서울 강남구 압구정로 338\n",
       "340  생생정보통     2018년 5월 7일          봉화전                     서울 강남구 봉은사로 632\n",
       "341  생생정보통    2018년 5월 17일  착한명인국수와숯불냉면   광주광역시 남구 서대문로 700(진월동 294-17 광동빌딩\n",
       "342  생생정보통    2018년 5월 17일       2SOYOU                 서울 마포구 와우산로 11길 9-8\n",
       "343  생생정보통    2018년 5월 23일         고향마루                       전북 남원시 의총로 12\n",
       "344  생생정보통    2018년 5월 23일         티라벤토                서울 용산구 녹사평대로26길 77-6\n",
       "345  생생정보통     2018년 6월 1일     먹깨비해물아구찜              서울특별시 동대문구 장안동 345-1번지\n",
       "346  생생정보통     2018년 6월 1일         어항식당              충남 서천군 장항읍 장선1리 332-54\n",
       "347  생생정보통     2018년 6월 8일           석원                  경남 진주시 문산읍 동부로 537\n",
       "348  생생정보통     2018년 6월 8일          대소양                       광주 서구 상무민주로 4\n",
       "349  생생정보통    2018년 6월 15일       위풍당당족발                 서울특별시 성동구 성수일로8길 53\n",
       "350  생생정보통    2018년 6월 14일         파르투내                      서울 중구 마른내로 154\n",
       "\n",
       "[351 rows x 4 columns]"
      ]
     },
     "execution_count": 73,
     "metadata": {},
     "output_type": "execute_result"
    }
   ],
   "source": [
    "df_map = suyo_map.append(mashit_map, ignore_index=True)\n",
    "df_map = df_map.append(sangsang_map, ignore_index=True)\n",
    "df_map"
   ]
  },
  {
   "cell_type": "code",
   "execution_count": 74,
   "metadata": {},
   "outputs": [
    {
     "data": {
      "text/html": [
       "<div>\n",
       "<style scoped>\n",
       "    .dataframe tbody tr th:only-of-type {\n",
       "        vertical-align: middle;\n",
       "    }\n",
       "\n",
       "    .dataframe tbody tr th {\n",
       "        vertical-align: top;\n",
       "    }\n",
       "\n",
       "    .dataframe thead th {\n",
       "        text-align: right;\n",
       "    }\n",
       "</style>\n",
       "<table border=\"1\" class=\"dataframe\">\n",
       "  <thead>\n",
       "    <tr style=\"text-align: right;\">\n",
       "      <th></th>\n",
       "      <th>방송</th>\n",
       "      <th>식당명</th>\n",
       "      <th>방영전</th>\n",
       "      <th>방영전_log</th>\n",
       "      <th>방영후</th>\n",
       "      <th>증가</th>\n",
       "      <th>증가_log</th>\n",
       "      <th>증가율</th>\n",
       "      <th>증가율_log</th>\n",
       "      <th>방송명</th>\n",
       "      <th>방송날짜</th>\n",
       "      <th>주소</th>\n",
       "    </tr>\n",
       "  </thead>\n",
       "  <tbody>\n",
       "    <tr>\n",
       "      <th>0</th>\n",
       "      <td>생생정보</td>\n",
       "      <td>136생고기</td>\n",
       "      <td>4</td>\n",
       "      <td>1.386294</td>\n",
       "      <td>45</td>\n",
       "      <td>41</td>\n",
       "      <td>3.713572</td>\n",
       "      <td>1125.000000</td>\n",
       "      <td>7.025538</td>\n",
       "      <td>생생정보통</td>\n",
       "      <td>2017년 3월 17일</td>\n",
       "      <td>인천 계양구 작전동 136번지</td>\n",
       "    </tr>\n",
       "    <tr>\n",
       "      <th>1</th>\n",
       "      <td>생생정보</td>\n",
       "      <td>3일한우국밥</td>\n",
       "      <td>35</td>\n",
       "      <td>3.555348</td>\n",
       "      <td>51</td>\n",
       "      <td>16</td>\n",
       "      <td>2.772589</td>\n",
       "      <td>145.714286</td>\n",
       "      <td>4.981648</td>\n",
       "      <td>생생정보통</td>\n",
       "      <td>2018년 3월 8일</td>\n",
       "      <td>서울 영등포구 영등포로 204</td>\n",
       "    </tr>\n",
       "    <tr>\n",
       "      <th>2</th>\n",
       "      <td>맛있는녀석들</td>\n",
       "      <td>가람떡갈비</td>\n",
       "      <td>21</td>\n",
       "      <td>3.044522</td>\n",
       "      <td>50</td>\n",
       "      <td>29</td>\n",
       "      <td>3.367296</td>\n",
       "      <td>238.095238</td>\n",
       "      <td>5.472671</td>\n",
       "      <td>맛있는 녀석들</td>\n",
       "      <td>2018년 1월 5일</td>\n",
       "      <td>서울 용산구 한강로 3가 40-441</td>\n",
       "    </tr>\n",
       "    <tr>\n",
       "      <th>3</th>\n",
       "      <td>생생정보</td>\n",
       "      <td>가마솥 족발</td>\n",
       "      <td>31</td>\n",
       "      <td>3.433987</td>\n",
       "      <td>106</td>\n",
       "      <td>75</td>\n",
       "      <td>4.317488</td>\n",
       "      <td>341.935484</td>\n",
       "      <td>5.834622</td>\n",
       "      <td>생생정보통</td>\n",
       "      <td>2018년 3월 22일</td>\n",
       "      <td>경북 경주시 봉황로 39-1</td>\n",
       "    </tr>\n",
       "    <tr>\n",
       "      <th>4</th>\n",
       "      <td>생생정보</td>\n",
       "      <td>가마솥손두부</td>\n",
       "      <td>11</td>\n",
       "      <td>2.397895</td>\n",
       "      <td>45</td>\n",
       "      <td>34</td>\n",
       "      <td>3.526361</td>\n",
       "      <td>409.090909</td>\n",
       "      <td>6.013937</td>\n",
       "      <td>생생정보통</td>\n",
       "      <td>2018년 4월 13일</td>\n",
       "      <td>서울 동작구 남부순환로 271길 20</td>\n",
       "    </tr>\n",
       "  </tbody>\n",
       "</table>\n",
       "</div>"
      ],
      "text/plain": [
       "       방송     식당명  방영전   방영전_log  방영후  증가    증가_log          증가율   증가율_log  \\\n",
       "0    생생정보  136생고기    4  1.386294   45  41  3.713572  1125.000000  7.025538   \n",
       "1    생생정보  3일한우국밥   35  3.555348   51  16  2.772589   145.714286  4.981648   \n",
       "2  맛있는녀석들   가람떡갈비   21  3.044522   50  29  3.367296   238.095238  5.472671   \n",
       "3    생생정보  가마솥 족발   31  3.433987  106  75  4.317488   341.935484  5.834622   \n",
       "4    생생정보  가마솥손두부   11  2.397895   45  34  3.526361   409.090909  6.013937   \n",
       "\n",
       "       방송명            방송날짜                    주소  \n",
       "0    생생정보통    2017년 3월 17일      인천 계양구 작전동 136번지  \n",
       "1    생생정보통     2018년 3월 8일      서울 영등포구 영등포로 204  \n",
       "2  맛있는 녀석들  2018년 1월 5일     서울 용산구 한강로 3가 40-441  \n",
       "3    생생정보통    2018년 3월 22일       경북 경주시 봉황로 39-1  \n",
       "4    생생정보통    2018년 4월 13일  서울 동작구 남부순환로 271길 20  "
      ]
     },
     "execution_count": 74,
     "metadata": {},
     "output_type": "execute_result"
    }
   ],
   "source": [
    "df_map = pd.merge(df1, df_map, on='식당명')\n",
    "df_map.head()"
   ]
  },
  {
   "cell_type": "code",
   "execution_count": 75,
   "metadata": {},
   "outputs": [],
   "source": [
    "df_map.to_csv('data/df_map.csv', index = False)"
   ]
  }
 ],
 "metadata": {
  "kernelspec": {
   "display_name": "Python 3",
   "language": "python",
   "name": "python3"
  },
  "language_info": {
   "codemirror_mode": {
    "name": "ipython",
    "version": 3
   },
   "file_extension": ".py",
   "mimetype": "text/x-python",
   "name": "python",
   "nbconvert_exporter": "python",
   "pygments_lexer": "ipython3",
   "version": "3.6.5"
  }
 },
 "nbformat": 4,
 "nbformat_minor": 2
}
