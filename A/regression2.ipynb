{
 "cells": [
  {
   "cell_type": "markdown",
   "metadata": {},
   "source": [
    "# 회귀분석"
   ]
  },
  {
   "cell_type": "markdown",
   "metadata": {},
   "source": [
    "## 검증하고자 하는 것 : 맛집 프로그램별 SNS채널(네이버 블로그)에 미치는 영향력"
   ]
  },
  {
   "cell_type": "markdown",
   "metadata": {},
   "source": [
    "### 분석계획 \n",
    "### 1. 독립변수에 방송 프로그램 외 변수들을 추가하면서 R^2가 높아지는지 확인 & R^2가 가장 높은 회귀식 도출\n",
    "### *2. 방송 프로그램별 회귀식을 만들어 포스팅 증가에 가장 영향을 미치는 요인 찾아보기*\n",
    "### 3. 2017년 데이터(train set)로 회귀식을 만든 후, 2018년 데이터(test set)로 예측해보고 정확도 확인"
   ]
  },
  {
   "cell_type": "code",
   "execution_count": 1,
   "metadata": {},
   "outputs": [],
   "source": [
    "import pandas as pd\n",
    "import numpy as np"
   ]
  },
  {
   "cell_type": "code",
   "execution_count": 2,
   "metadata": {},
   "outputs": [],
   "source": [
    "import statsmodels.formula.api as smf\n",
    "import statsmodels.stats.api as sms\n",
    "from scipy import stats\n",
    "from statsmodels.compat import lzip\n",
    "import statsmodels\n",
    "import matplotlib.pyplot as plt"
   ]
  },
  {
   "cell_type": "code",
   "execution_count": 5,
   "metadata": {},
   "outputs": [],
   "source": [
    "df = pd.read_csv('raw_data/reg.csv')"
   ]
  },
  {
   "cell_type": "code",
   "execution_count": 6,
   "metadata": {},
   "outputs": [
    {
     "data": {
      "text/html": [
       "<div>\n",
       "<style scoped>\n",
       "    .dataframe tbody tr th:only-of-type {\n",
       "        vertical-align: middle;\n",
       "    }\n",
       "\n",
       "    .dataframe tbody tr th {\n",
       "        vertical-align: top;\n",
       "    }\n",
       "\n",
       "    .dataframe thead th {\n",
       "        text-align: right;\n",
       "    }\n",
       "</style>\n",
       "<table border=\"1\" class=\"dataframe\">\n",
       "  <thead>\n",
       "    <tr style=\"text-align: right;\">\n",
       "      <th></th>\n",
       "      <th>식당</th>\n",
       "      <th>방송</th>\n",
       "      <th>방영전</th>\n",
       "      <th>방영후</th>\n",
       "      <th>증가</th>\n",
       "      <th>서울</th>\n",
       "      <th>방영월</th>\n",
       "    </tr>\n",
       "  </thead>\n",
       "  <tbody>\n",
       "    <tr>\n",
       "      <th>0</th>\n",
       "      <td>136생고기</td>\n",
       "      <td>생생정보</td>\n",
       "      <td>4</td>\n",
       "      <td>45</td>\n",
       "      <td>41</td>\n",
       "      <td>0</td>\n",
       "      <td>3</td>\n",
       "    </tr>\n",
       "    <tr>\n",
       "      <th>1</th>\n",
       "      <td>3일한우국밥</td>\n",
       "      <td>생생정보</td>\n",
       "      <td>35</td>\n",
       "      <td>51</td>\n",
       "      <td>16</td>\n",
       "      <td>1</td>\n",
       "      <td>3</td>\n",
       "    </tr>\n",
       "    <tr>\n",
       "      <th>2</th>\n",
       "      <td>가람떡갈비</td>\n",
       "      <td>맛있는녀석들</td>\n",
       "      <td>21</td>\n",
       "      <td>50</td>\n",
       "      <td>29</td>\n",
       "      <td>1</td>\n",
       "      <td>1</td>\n",
       "    </tr>\n",
       "    <tr>\n",
       "      <th>3</th>\n",
       "      <td>가마솥 족발</td>\n",
       "      <td>생생정보</td>\n",
       "      <td>31</td>\n",
       "      <td>106</td>\n",
       "      <td>75</td>\n",
       "      <td>0</td>\n",
       "      <td>3</td>\n",
       "    </tr>\n",
       "    <tr>\n",
       "      <th>4</th>\n",
       "      <td>가마솥손두부</td>\n",
       "      <td>생생정보</td>\n",
       "      <td>11</td>\n",
       "      <td>45</td>\n",
       "      <td>34</td>\n",
       "      <td>1</td>\n",
       "      <td>4</td>\n",
       "    </tr>\n",
       "  </tbody>\n",
       "</table>\n",
       "</div>"
      ],
      "text/plain": [
       "       식당      방송  방영전  방영후  증가  서울  방영월\n",
       "0  136생고기    생생정보    4   45  41   0    3\n",
       "1  3일한우국밥    생생정보   35   51  16   1    3\n",
       "2   가람떡갈비  맛있는녀석들   21   50  29   1    1\n",
       "3  가마솥 족발    생생정보   31  106  75   0    3\n",
       "4  가마솥손두부    생생정보   11   45  34   1    4"
      ]
     },
     "execution_count": 6,
     "metadata": {},
     "output_type": "execute_result"
    }
   ],
   "source": [
    "df.head()"
   ]
  },
  {
   "cell_type": "code",
   "execution_count": 8,
   "metadata": {},
   "outputs": [],
   "source": [
    "#봄(3-5월), 여름(6-8월), 가을(9-11월), 겨울(12-2월)\n",
    "df.loc[(df['방영월']>2)&(df['방영월']<6), '계절'] = '봄'\n",
    "df.loc[(df['방영월']>5)&(df['방영월']<9), '계절'] = '여름'\n",
    "df.loc[(df['방영월']>8)&(df['방영월']<12), '계절'] = '가을'\n",
    "df.loc[(df['방영월']<3)|(df['방영월']==12), '계절'] = '겨울'"
   ]
  },
  {
   "cell_type": "code",
   "execution_count": 14,
   "metadata": {},
   "outputs": [
    {
     "name": "stdout",
     "output_type": "stream",
     "text": [
      "<class 'pandas.core.frame.DataFrame'>\n",
      "RangeIndex: 317 entries, 0 to 316\n",
      "Data columns (total 8 columns):\n",
      "식당     317 non-null object\n",
      "방송     317 non-null object\n",
      "방영전    317 non-null int64\n",
      "방영후    317 non-null int64\n",
      "증가     317 non-null int64\n",
      "서울     317 non-null category\n",
      "방영월    317 non-null int64\n",
      "계절     317 non-null object\n",
      "dtypes: category(1), int64(4), object(3)\n",
      "memory usage: 17.8+ KB\n"
     ]
    }
   ],
   "source": [
    "df['서울'] = df['서울'].astype('category')\n",
    "df.info()"
   ]
  },
  {
   "cell_type": "code",
   "execution_count": 9,
   "metadata": {},
   "outputs": [
    {
     "data": {
      "text/html": [
       "<div>\n",
       "<style scoped>\n",
       "    .dataframe tbody tr th:only-of-type {\n",
       "        vertical-align: middle;\n",
       "    }\n",
       "\n",
       "    .dataframe tbody tr th {\n",
       "        vertical-align: top;\n",
       "    }\n",
       "\n",
       "    .dataframe thead th {\n",
       "        text-align: right;\n",
       "    }\n",
       "</style>\n",
       "<table border=\"1\" class=\"dataframe\">\n",
       "  <thead>\n",
       "    <tr style=\"text-align: right;\">\n",
       "      <th></th>\n",
       "      <th>식당</th>\n",
       "      <th>방송</th>\n",
       "      <th>방영전</th>\n",
       "      <th>방영후</th>\n",
       "      <th>증가</th>\n",
       "      <th>서울</th>\n",
       "      <th>방영월</th>\n",
       "      <th>계절</th>\n",
       "    </tr>\n",
       "  </thead>\n",
       "  <tbody>\n",
       "    <tr>\n",
       "      <th>0</th>\n",
       "      <td>136생고기</td>\n",
       "      <td>생생정보</td>\n",
       "      <td>4</td>\n",
       "      <td>45</td>\n",
       "      <td>41</td>\n",
       "      <td>0</td>\n",
       "      <td>3</td>\n",
       "      <td>봄</td>\n",
       "    </tr>\n",
       "    <tr>\n",
       "      <th>1</th>\n",
       "      <td>3일한우국밥</td>\n",
       "      <td>생생정보</td>\n",
       "      <td>35</td>\n",
       "      <td>51</td>\n",
       "      <td>16</td>\n",
       "      <td>1</td>\n",
       "      <td>3</td>\n",
       "      <td>봄</td>\n",
       "    </tr>\n",
       "    <tr>\n",
       "      <th>2</th>\n",
       "      <td>가람떡갈비</td>\n",
       "      <td>맛있는녀석들</td>\n",
       "      <td>21</td>\n",
       "      <td>50</td>\n",
       "      <td>29</td>\n",
       "      <td>1</td>\n",
       "      <td>1</td>\n",
       "      <td>겨울</td>\n",
       "    </tr>\n",
       "    <tr>\n",
       "      <th>3</th>\n",
       "      <td>가마솥 족발</td>\n",
       "      <td>생생정보</td>\n",
       "      <td>31</td>\n",
       "      <td>106</td>\n",
       "      <td>75</td>\n",
       "      <td>0</td>\n",
       "      <td>3</td>\n",
       "      <td>봄</td>\n",
       "    </tr>\n",
       "    <tr>\n",
       "      <th>4</th>\n",
       "      <td>가마솥손두부</td>\n",
       "      <td>생생정보</td>\n",
       "      <td>11</td>\n",
       "      <td>45</td>\n",
       "      <td>34</td>\n",
       "      <td>1</td>\n",
       "      <td>4</td>\n",
       "      <td>봄</td>\n",
       "    </tr>\n",
       "  </tbody>\n",
       "</table>\n",
       "</div>"
      ],
      "text/plain": [
       "       식당      방송  방영전  방영후  증가  서울  방영월  계절\n",
       "0  136생고기    생생정보    4   45  41   0    3   봄\n",
       "1  3일한우국밥    생생정보   35   51  16   1    3   봄\n",
       "2   가람떡갈비  맛있는녀석들   21   50  29   1    1  겨울\n",
       "3  가마솥 족발    생생정보   31  106  75   0    3   봄\n",
       "4  가마솥손두부    생생정보   11   45  34   1    4   봄"
      ]
     },
     "execution_count": 9,
     "metadata": {},
     "output_type": "execute_result"
    }
   ],
   "source": [
    "df.head()"
   ]
  },
  {
   "cell_type": "code",
   "execution_count": 15,
   "metadata": {},
   "outputs": [
    {
     "data": {
      "text/html": [
       "<div>\n",
       "<style scoped>\n",
       "    .dataframe tbody tr th:only-of-type {\n",
       "        vertical-align: middle;\n",
       "    }\n",
       "\n",
       "    .dataframe tbody tr th {\n",
       "        vertical-align: top;\n",
       "    }\n",
       "\n",
       "    .dataframe thead th {\n",
       "        text-align: right;\n",
       "    }\n",
       "</style>\n",
       "<table border=\"1\" class=\"dataframe\">\n",
       "  <thead>\n",
       "    <tr style=\"text-align: right;\">\n",
       "      <th></th>\n",
       "      <th>식당</th>\n",
       "      <th>방송</th>\n",
       "      <th>방영전</th>\n",
       "      <th>방영후</th>\n",
       "      <th>증가</th>\n",
       "      <th>서울</th>\n",
       "      <th>방영월</th>\n",
       "      <th>계절</th>\n",
       "    </tr>\n",
       "  </thead>\n",
       "  <tbody>\n",
       "    <tr>\n",
       "      <th>106</th>\n",
       "      <td>행복한 콩박사</td>\n",
       "      <td>생생정보</td>\n",
       "      <td>4</td>\n",
       "      <td>23</td>\n",
       "      <td>19</td>\n",
       "      <td>0</td>\n",
       "      <td>2</td>\n",
       "      <td>겨울</td>\n",
       "    </tr>\n",
       "    <tr>\n",
       "      <th>107</th>\n",
       "      <td>현래장</td>\n",
       "      <td>생생정보</td>\n",
       "      <td>20</td>\n",
       "      <td>39</td>\n",
       "      <td>19</td>\n",
       "      <td>1</td>\n",
       "      <td>6</td>\n",
       "      <td>여름</td>\n",
       "    </tr>\n",
       "    <tr>\n",
       "      <th>108</th>\n",
       "      <td>현호네 매운갈비찜</td>\n",
       "      <td>생생정보</td>\n",
       "      <td>4</td>\n",
       "      <td>25</td>\n",
       "      <td>21</td>\n",
       "      <td>0</td>\n",
       "      <td>3</td>\n",
       "      <td>봄</td>\n",
       "    </tr>\n",
       "    <tr>\n",
       "      <th>109</th>\n",
       "      <td>화진포막국수</td>\n",
       "      <td>생생정보</td>\n",
       "      <td>11</td>\n",
       "      <td>42</td>\n",
       "      <td>31</td>\n",
       "      <td>1</td>\n",
       "      <td>2</td>\n",
       "      <td>겨울</td>\n",
       "    </tr>\n",
       "    <tr>\n",
       "      <th>110</th>\n",
       "      <td>후라토 식당</td>\n",
       "      <td>생생정보</td>\n",
       "      <td>36</td>\n",
       "      <td>61</td>\n",
       "      <td>25</td>\n",
       "      <td>1</td>\n",
       "      <td>2</td>\n",
       "      <td>겨울</td>\n",
       "    </tr>\n",
       "  </tbody>\n",
       "</table>\n",
       "</div>"
      ],
      "text/plain": [
       "            식당    방송  방영전  방영후  증가 서울  방영월  계절\n",
       "106    행복한 콩박사  생생정보    4   23  19  0    2  겨울\n",
       "107        현래장  생생정보   20   39  19  1    6  여름\n",
       "108  현호네 매운갈비찜  생생정보    4   25  21  0    3   봄\n",
       "109     화진포막국수  생생정보   11   42  31  1    2  겨울\n",
       "110     후라토 식당  생생정보   36   61  25  1    2  겨울"
      ]
     },
     "execution_count": 15,
     "metadata": {},
     "output_type": "execute_result"
    }
   ],
   "source": [
    "sangsang = df.loc[df['방송']=='생생정보'].reset_index().drop(['index'], axis=1)\n",
    "sangsang.tail()"
   ]
  },
  {
   "cell_type": "code",
   "execution_count": 16,
   "metadata": {},
   "outputs": [
    {
     "data": {
      "text/html": [
       "<div>\n",
       "<style scoped>\n",
       "    .dataframe tbody tr th:only-of-type {\n",
       "        vertical-align: middle;\n",
       "    }\n",
       "\n",
       "    .dataframe tbody tr th {\n",
       "        vertical-align: top;\n",
       "    }\n",
       "\n",
       "    .dataframe thead th {\n",
       "        text-align: right;\n",
       "    }\n",
       "</style>\n",
       "<table border=\"1\" class=\"dataframe\">\n",
       "  <thead>\n",
       "    <tr style=\"text-align: right;\">\n",
       "      <th></th>\n",
       "      <th>식당</th>\n",
       "      <th>방송</th>\n",
       "      <th>방영전</th>\n",
       "      <th>방영후</th>\n",
       "      <th>증가</th>\n",
       "      <th>서울</th>\n",
       "      <th>방영월</th>\n",
       "      <th>계절</th>\n",
       "    </tr>\n",
       "  </thead>\n",
       "  <tbody>\n",
       "    <tr>\n",
       "      <th>100</th>\n",
       "      <td>평양집</td>\n",
       "      <td>수요미식회</td>\n",
       "      <td>47</td>\n",
       "      <td>189</td>\n",
       "      <td>142</td>\n",
       "      <td>1</td>\n",
       "      <td>1</td>\n",
       "      <td>겨울</td>\n",
       "    </tr>\n",
       "    <tr>\n",
       "      <th>101</th>\n",
       "      <td>포담</td>\n",
       "      <td>수요미식회</td>\n",
       "      <td>13</td>\n",
       "      <td>109</td>\n",
       "      <td>96</td>\n",
       "      <td>1</td>\n",
       "      <td>2</td>\n",
       "      <td>겨울</td>\n",
       "    </tr>\n",
       "    <tr>\n",
       "      <th>102</th>\n",
       "      <td>함흥에겨울냉면</td>\n",
       "      <td>수요미식회</td>\n",
       "      <td>12</td>\n",
       "      <td>133</td>\n",
       "      <td>121</td>\n",
       "      <td>1</td>\n",
       "      <td>7</td>\n",
       "      <td>여름</td>\n",
       "    </tr>\n",
       "    <tr>\n",
       "      <th>103</th>\n",
       "      <td>해남집</td>\n",
       "      <td>수요미식회</td>\n",
       "      <td>1</td>\n",
       "      <td>53</td>\n",
       "      <td>52</td>\n",
       "      <td>1</td>\n",
       "      <td>2</td>\n",
       "      <td>겨울</td>\n",
       "    </tr>\n",
       "    <tr>\n",
       "      <th>104</th>\n",
       "      <td>화선횟집</td>\n",
       "      <td>수요미식회</td>\n",
       "      <td>9</td>\n",
       "      <td>52</td>\n",
       "      <td>43</td>\n",
       "      <td>0</td>\n",
       "      <td>8</td>\n",
       "      <td>여름</td>\n",
       "    </tr>\n",
       "  </tbody>\n",
       "</table>\n",
       "</div>"
      ],
      "text/plain": [
       "          식당     방송  방영전  방영후   증가 서울  방영월  계절\n",
       "100      평양집  수요미식회   47  189  142  1    1  겨울\n",
       "101       포담  수요미식회   13  109   96  1    2  겨울\n",
       "102  함흥에겨울냉면  수요미식회   12  133  121  1    7  여름\n",
       "103      해남집  수요미식회    1   53   52  1    2  겨울\n",
       "104     화선횟집  수요미식회    9   52   43  0    8  여름"
      ]
     },
     "execution_count": 16,
     "metadata": {},
     "output_type": "execute_result"
    }
   ],
   "source": [
    "suyo = df.loc[df['방송']=='수요미식회'].reset_index().drop(['index'], axis=1)\n",
    "suyo.tail()"
   ]
  },
  {
   "cell_type": "code",
   "execution_count": 17,
   "metadata": {},
   "outputs": [
    {
     "data": {
      "text/html": [
       "<div>\n",
       "<style scoped>\n",
       "    .dataframe tbody tr th:only-of-type {\n",
       "        vertical-align: middle;\n",
       "    }\n",
       "\n",
       "    .dataframe tbody tr th {\n",
       "        vertical-align: top;\n",
       "    }\n",
       "\n",
       "    .dataframe thead th {\n",
       "        text-align: right;\n",
       "    }\n",
       "</style>\n",
       "<table border=\"1\" class=\"dataframe\">\n",
       "  <thead>\n",
       "    <tr style=\"text-align: right;\">\n",
       "      <th></th>\n",
       "      <th>식당</th>\n",
       "      <th>방송</th>\n",
       "      <th>방영전</th>\n",
       "      <th>방영후</th>\n",
       "      <th>증가</th>\n",
       "      <th>서울</th>\n",
       "      <th>방영월</th>\n",
       "      <th>계절</th>\n",
       "    </tr>\n",
       "  </thead>\n",
       "  <tbody>\n",
       "    <tr>\n",
       "      <th>96</th>\n",
       "      <td>한옥집</td>\n",
       "      <td>맛있는녀석들</td>\n",
       "      <td>51</td>\n",
       "      <td>80</td>\n",
       "      <td>29</td>\n",
       "      <td>1</td>\n",
       "      <td>7</td>\n",
       "      <td>여름</td>\n",
       "    </tr>\n",
       "    <tr>\n",
       "      <th>97</th>\n",
       "      <td>현대북어찜</td>\n",
       "      <td>맛있는녀석들</td>\n",
       "      <td>8</td>\n",
       "      <td>27</td>\n",
       "      <td>19</td>\n",
       "      <td>1</td>\n",
       "      <td>3</td>\n",
       "      <td>봄</td>\n",
       "    </tr>\n",
       "    <tr>\n",
       "      <th>98</th>\n",
       "      <td>홍어랑 민어랑</td>\n",
       "      <td>맛있는녀석들</td>\n",
       "      <td>0</td>\n",
       "      <td>16</td>\n",
       "      <td>16</td>\n",
       "      <td>1</td>\n",
       "      <td>6</td>\n",
       "      <td>여름</td>\n",
       "    </tr>\n",
       "    <tr>\n",
       "      <th>99</th>\n",
       "      <td>화수목</td>\n",
       "      <td>맛있는녀석들</td>\n",
       "      <td>32</td>\n",
       "      <td>41</td>\n",
       "      <td>9</td>\n",
       "      <td>0</td>\n",
       "      <td>2</td>\n",
       "      <td>겨울</td>\n",
       "    </tr>\n",
       "    <tr>\n",
       "      <th>100</th>\n",
       "      <td>황금복국</td>\n",
       "      <td>맛있는녀석들</td>\n",
       "      <td>6</td>\n",
       "      <td>29</td>\n",
       "      <td>23</td>\n",
       "      <td>1</td>\n",
       "      <td>8</td>\n",
       "      <td>여름</td>\n",
       "    </tr>\n",
       "  </tbody>\n",
       "</table>\n",
       "</div>"
      ],
      "text/plain": [
       "          식당      방송  방영전  방영후  증가 서울  방영월  계절\n",
       "96       한옥집  맛있는녀석들   51   80  29  1    7  여름\n",
       "97     현대북어찜  맛있는녀석들    8   27  19  1    3   봄\n",
       "98   홍어랑 민어랑  맛있는녀석들    0   16  16  1    6  여름\n",
       "99       화수목  맛있는녀석들   32   41   9  0    2  겨울\n",
       "100     황금복국  맛있는녀석들    6   29  23  1    8  여름"
      ]
     },
     "execution_count": 17,
     "metadata": {},
     "output_type": "execute_result"
    }
   ],
   "source": [
    "mashit = df.loc[df['방송']=='맛있는녀석들'].reset_index().drop(['index'], axis=1)\n",
    "mashit.tail()"
   ]
  },
  {
   "cell_type": "markdown",
   "metadata": {},
   "source": [
    "## X : 방영전 포스팅 수, 서울(서울:1, 서울 외 지역:0), 계절(봄, 여름, 가을, 겨울)\n",
    "\n",
    "## Y : 방영 후 포스팅 증감 수(생생정보통, 수요미식회, 맛있는 녀석들)"
   ]
  },
  {
   "cell_type": "markdown",
   "metadata": {},
   "source": [
    "## 데이터 전처리 : 더미변수 만들기"
   ]
  },
  {
   "cell_type": "code",
   "execution_count": 18,
   "metadata": {},
   "outputs": [],
   "source": [
    "def dummy_data(data, columns):\n",
    "    for column in columns:\n",
    "        data = pd.concat([data, pd.get_dummies(data[column], prefix = column)], axis=1)\n",
    "        data = data.drop(column, axis=1)\n",
    "    return data"
   ]
  },
  {
   "cell_type": "code",
   "execution_count": 20,
   "metadata": {},
   "outputs": [],
   "source": [
    "dummy_columns = ['서울', '계절']\n",
    "\n",
    "reg_sang = dummy_data(sangsang, dummy_columns)\n",
    "reg_sang.head()\n",
    "\n",
    "reg_suyo = dummy_data(suyo, dummy_columns)\n",
    "reg_mot = dummy_data(mashit, dummy_columns)"
   ]
  },
  {
   "cell_type": "code",
   "execution_count": 21,
   "metadata": {},
   "outputs": [
    {
     "data": {
      "text/plain": [
       "Index(['식당', '방송', '방영전', '방영후', '증가', '방영월', '서울_0', '서울_1', '계절_가을', '계절_겨울',\n",
       "       '계절_봄', '계절_여름'],\n",
       "      dtype='object')"
      ]
     },
     "execution_count": 21,
     "metadata": {},
     "output_type": "execute_result"
    }
   ],
   "source": [
    "reg_sang.columns"
   ]
  },
  {
   "cell_type": "code",
   "execution_count": 22,
   "metadata": {},
   "outputs": [],
   "source": [
    "def drop_not_concerned(data, columns):\n",
    "    return data.drop(columns, axis=1)\n",
    "\n",
    "not_concerned_columns = [\"방영후\", \"방영월\", \"서울_0\", \"계절_봄\"]\n",
    "\n",
    "reg_sang = drop_not_concerned(reg_sang, not_concerned_columns)\n",
    "reg_suyo = drop_not_concerned(reg_suyo, not_concerned_columns)\n",
    "reg_mot = drop_not_concerned(reg_mot, not_concerned_columns)"
   ]
  },
  {
   "cell_type": "code",
   "execution_count": 24,
   "metadata": {},
   "outputs": [
    {
     "data": {
      "text/html": [
       "<div>\n",
       "<style scoped>\n",
       "    .dataframe tbody tr th:only-of-type {\n",
       "        vertical-align: middle;\n",
       "    }\n",
       "\n",
       "    .dataframe tbody tr th {\n",
       "        vertical-align: top;\n",
       "    }\n",
       "\n",
       "    .dataframe thead th {\n",
       "        text-align: right;\n",
       "    }\n",
       "</style>\n",
       "<table border=\"1\" class=\"dataframe\">\n",
       "  <thead>\n",
       "    <tr style=\"text-align: right;\">\n",
       "      <th></th>\n",
       "      <th>식당</th>\n",
       "      <th>방송</th>\n",
       "      <th>방영전</th>\n",
       "      <th>증가</th>\n",
       "      <th>서울_1</th>\n",
       "      <th>계절_가을</th>\n",
       "      <th>계절_겨울</th>\n",
       "      <th>계절_여름</th>\n",
       "    </tr>\n",
       "  </thead>\n",
       "  <tbody>\n",
       "    <tr>\n",
       "      <th>0</th>\n",
       "      <td>136생고기</td>\n",
       "      <td>생생정보</td>\n",
       "      <td>4</td>\n",
       "      <td>41</td>\n",
       "      <td>0</td>\n",
       "      <td>0</td>\n",
       "      <td>0</td>\n",
       "      <td>0</td>\n",
       "    </tr>\n",
       "    <tr>\n",
       "      <th>1</th>\n",
       "      <td>3일한우국밥</td>\n",
       "      <td>생생정보</td>\n",
       "      <td>35</td>\n",
       "      <td>16</td>\n",
       "      <td>1</td>\n",
       "      <td>0</td>\n",
       "      <td>0</td>\n",
       "      <td>0</td>\n",
       "    </tr>\n",
       "    <tr>\n",
       "      <th>2</th>\n",
       "      <td>가마솥 족발</td>\n",
       "      <td>생생정보</td>\n",
       "      <td>31</td>\n",
       "      <td>75</td>\n",
       "      <td>0</td>\n",
       "      <td>0</td>\n",
       "      <td>0</td>\n",
       "      <td>0</td>\n",
       "    </tr>\n",
       "    <tr>\n",
       "      <th>3</th>\n",
       "      <td>가마솥손두부</td>\n",
       "      <td>생생정보</td>\n",
       "      <td>11</td>\n",
       "      <td>34</td>\n",
       "      <td>1</td>\n",
       "      <td>0</td>\n",
       "      <td>0</td>\n",
       "      <td>0</td>\n",
       "    </tr>\n",
       "    <tr>\n",
       "      <th>4</th>\n",
       "      <td>갈비구락부</td>\n",
       "      <td>생생정보</td>\n",
       "      <td>36</td>\n",
       "      <td>10</td>\n",
       "      <td>0</td>\n",
       "      <td>1</td>\n",
       "      <td>0</td>\n",
       "      <td>0</td>\n",
       "    </tr>\n",
       "  </tbody>\n",
       "</table>\n",
       "</div>"
      ],
      "text/plain": [
       "       식당    방송  방영전  증가  서울_1  계절_가을  계절_겨울  계절_여름\n",
       "0  136생고기  생생정보    4  41     0      0      0      0\n",
       "1  3일한우국밥  생생정보   35  16     1      0      0      0\n",
       "2  가마솥 족발  생생정보   31  75     0      0      0      0\n",
       "3  가마솥손두부  생생정보   11  34     1      0      0      0\n",
       "4   갈비구락부  생생정보   36  10     0      1      0      0"
      ]
     },
     "execution_count": 24,
     "metadata": {},
     "output_type": "execute_result"
    }
   ],
   "source": [
    "reg_sang.head()"
   ]
  },
  {
   "cell_type": "markdown",
   "metadata": {},
   "source": [
    "## 생생정보통 회귀분석"
   ]
  },
  {
   "cell_type": "markdown",
   "metadata": {},
   "source": [
    "### 모형 : 증가(y) ~ 방영전(x1) + 서울_1(x2) + 계절_여름(x3) + 계절_가을(x4) + 계절_겨울(x5)"
   ]
  },
  {
   "cell_type": "code",
   "execution_count": 38,
   "metadata": {},
   "outputs": [],
   "source": [
    "model_sang = smf.ols(\"증가 ~ 방영전 + 서울_1 + 계절_여름 + 계절_가을 + 계절_겨울\",  data=reg_sang).fit(cov_type='HC3')"
   ]
  },
  {
   "cell_type": "markdown",
   "metadata": {},
   "source": [
    "## 1. 가정"
   ]
  },
  {
   "cell_type": "markdown",
   "metadata": {},
   "source": [
    "### 1) 정규성"
   ]
  },
  {
   "cell_type": "code",
   "execution_count": 26,
   "metadata": {
    "scrolled": true
   },
   "outputs": [
    {
     "data": {
      "text/plain": [
       "<matplotlib.axes._subplots.AxesSubplot at 0x1f3a258c128>"
      ]
     },
     "execution_count": 26,
     "metadata": {},
     "output_type": "execute_result"
    },
    {
     "data": {
      "image/png": "[encoded data removed]",
      "text/plain": [
       "<Figure size 432x288 with 1 Axes>"
      ]
     },
     "metadata": {},
     "output_type": "display_data"
    }
   ],
   "source": [
    "reg_sang['증가'].plot(kind='hist')"
   ]
  },
  {
   "cell_type": "markdown",
   "metadata": {},
   "source": [
    "왼쪽으로 치우쳐 있어 변환이 필요해 보이나, 음수 값이 있어서 log변환이나 box-cox변환을 할 수 없음\n",
    "\n",
    "Q-Q plot을 보자"
   ]
  },
  {
   "cell_type": "code",
   "execution_count": 28,
   "metadata": {},
   "outputs": [
    {
     "data": {
      "text/plain": [
       "Text(0.5,1,'SANGSANG Model Residuals Q-Q Plot')"
      ]
     },
     "execution_count": 28,
     "metadata": {},
     "output_type": "execute_result"
    },
    {
     "data": {
      "image/png": "[encoded data removed]",
      "text/plain": [
       "<Figure size 432x288 with 1 Axes>"
      ]
     },
     "metadata": {},
     "output_type": "display_data"
    }
   ],
   "source": [
    "stats.probplot(model_sang.resid, dist=\"norm\", plot= plt)\n",
    "plt.title(\"SANGSANG Model Residuals Q-Q Plot\")"
   ]
  },
  {
   "cell_type": "markdown",
   "metadata": {},
   "source": [
    "엄밀히 정규성을 따른다고 말하기 어렵지만, 데이터 갯수(110)가 크니 중심극한정리(CLT)에 의해 정규분포를 따른다고 가정하겠음"
   ]
  },
  {
   "cell_type": "markdown",
   "metadata": {},
   "source": [
    "### 2) 등분산"
   ]
  },
  {
   "cell_type": "code",
   "execution_count": 32,
   "metadata": {},
   "outputs": [
    {
     "data": {
      "text/plain": [
       "<matplotlib.collections.PathCollection at 0x1f3a3531fd0>"
      ]
     },
     "execution_count": 32,
     "metadata": {},
     "output_type": "execute_result"
    },
    {
     "data": {
      "image/png": "[encoded data removed]",
      "text/plain": [
       "<Figure size 432x288 with 1 Axes>"
      ]
     },
     "metadata": {},
     "output_type": "display_data"
    }
   ],
   "source": [
    "resid = model_sang.resid\n",
    "plt.scatter(model_sang.predict(), resid)"
   ]
  },
  {
   "cell_type": "code",
   "execution_count": 34,
   "metadata": {},
   "outputs": [
    {
     "data": {
      "text/plain": [
       "[('Lagrange multiplier statistic', 31.154615274950665),\n",
       " ('p-value', 8.731270432195287e-06),\n",
       " ('f-value', 8.19392283006574),\n",
       " ('f p-value', 1.4577522164084115e-06)]"
      ]
     },
     "execution_count": 34,
     "metadata": {},
     "output_type": "execute_result"
    }
   ],
   "source": [
    "name = ['Lagrange multiplier statistic', 'p-value', \n",
    "        'f-value', 'f p-value']\n",
    "test = sms.het_breuschpagan(model_sang.resid, model_sang.model.exog)\n",
    "lzip(name, test)"
   ]
  },
  {
   "cell_type": "markdown",
   "metadata": {},
   "source": [
    "p-value < 0.05 이므로 등분산 가정도 만족을 안 한다.."
   ]
  },
  {
   "cell_type": "markdown",
   "metadata": {},
   "source": [
    "### 3) 오차의 독립성"
   ]
  },
  {
   "cell_type": "code",
   "execution_count": 35,
   "metadata": {},
   "outputs": [
    {
     "data": {
      "text/plain": [
       "1.8893790316069845"
      ]
     },
     "execution_count": 35,
     "metadata": {},
     "output_type": "execute_result"
    }
   ],
   "source": [
    "statsmodels.stats.stattools.durbin_watson(model_sang.resid)"
   ]
  },
  {
   "cell_type": "markdown",
   "metadata": {},
   "source": [
    "2에 가까울수록 독립성 가정이 만족하는데, 2에 가까우니 독립성 가정도 만족"
   ]
  },
  {
   "cell_type": "markdown",
   "metadata": {},
   "source": [
    "### 4) 다중공선성"
   ]
  },
  {
   "cell_type": "code",
   "execution_count": 36,
   "metadata": {},
   "outputs": [
    {
     "data": {
      "text/html": [
       "<div>\n",
       "<style scoped>\n",
       "    .dataframe tbody tr th:only-of-type {\n",
       "        vertical-align: middle;\n",
       "    }\n",
       "\n",
       "    .dataframe tbody tr th {\n",
       "        vertical-align: top;\n",
       "    }\n",
       "\n",
       "    .dataframe thead th {\n",
       "        text-align: right;\n",
       "    }\n",
       "</style>\n",
       "<table border=\"1\" class=\"dataframe\">\n",
       "  <thead>\n",
       "    <tr style=\"text-align: right;\">\n",
       "      <th></th>\n",
       "      <th>방영전</th>\n",
       "      <th>증가</th>\n",
       "      <th>서울_1</th>\n",
       "      <th>계절_가을</th>\n",
       "      <th>계절_겨울</th>\n",
       "      <th>계절_여름</th>\n",
       "    </tr>\n",
       "  </thead>\n",
       "  <tbody>\n",
       "    <tr>\n",
       "      <th>방영전</th>\n",
       "      <td>1.000000</td>\n",
       "      <td>0.257322</td>\n",
       "      <td>0.010664</td>\n",
       "      <td>-0.007737</td>\n",
       "      <td>-0.056887</td>\n",
       "      <td>-0.078714</td>\n",
       "    </tr>\n",
       "    <tr>\n",
       "      <th>증가</th>\n",
       "      <td>0.257322</td>\n",
       "      <td>1.000000</td>\n",
       "      <td>0.021697</td>\n",
       "      <td>-0.140428</td>\n",
       "      <td>-0.032156</td>\n",
       "      <td>-0.038590</td>\n",
       "    </tr>\n",
       "    <tr>\n",
       "      <th>서울_1</th>\n",
       "      <td>0.010664</td>\n",
       "      <td>0.021697</td>\n",
       "      <td>1.000000</td>\n",
       "      <td>-0.010467</td>\n",
       "      <td>0.028020</td>\n",
       "      <td>-0.048357</td>\n",
       "    </tr>\n",
       "    <tr>\n",
       "      <th>계절_가을</th>\n",
       "      <td>-0.007737</td>\n",
       "      <td>-0.140428</td>\n",
       "      <td>-0.010467</td>\n",
       "      <td>1.000000</td>\n",
       "      <td>-0.373544</td>\n",
       "      <td>-0.221268</td>\n",
       "    </tr>\n",
       "    <tr>\n",
       "      <th>계절_겨울</th>\n",
       "      <td>-0.056887</td>\n",
       "      <td>-0.032156</td>\n",
       "      <td>0.028020</td>\n",
       "      <td>-0.373544</td>\n",
       "      <td>1.000000</td>\n",
       "      <td>-0.284327</td>\n",
       "    </tr>\n",
       "    <tr>\n",
       "      <th>계절_여름</th>\n",
       "      <td>-0.078714</td>\n",
       "      <td>-0.038590</td>\n",
       "      <td>-0.048357</td>\n",
       "      <td>-0.221268</td>\n",
       "      <td>-0.284327</td>\n",
       "      <td>1.000000</td>\n",
       "    </tr>\n",
       "  </tbody>\n",
       "</table>\n",
       "</div>"
      ],
      "text/plain": [
       "            방영전        증가      서울_1     계절_가을     계절_겨울     계절_여름\n",
       "방영전    1.000000  0.257322  0.010664 -0.007737 -0.056887 -0.078714\n",
       "증가     0.257322  1.000000  0.021697 -0.140428 -0.032156 -0.038590\n",
       "서울_1   0.010664  0.021697  1.000000 -0.010467  0.028020 -0.048357\n",
       "계절_가을 -0.007737 -0.140428 -0.010467  1.000000 -0.373544 -0.221268\n",
       "계절_겨울 -0.056887 -0.032156  0.028020 -0.373544  1.000000 -0.284327\n",
       "계절_여름 -0.078714 -0.038590 -0.048357 -0.221268 -0.284327  1.000000"
      ]
     },
     "execution_count": 36,
     "metadata": {},
     "output_type": "execute_result"
    }
   ],
   "source": [
    "reg_sang.corr()"
   ]
  },
  {
   "cell_type": "markdown",
   "metadata": {},
   "source": [
    "변수들 사이에 강한 상관관계가 보이지 않으므로 다중공선성 문제는 없다고 봐도 무방함"
   ]
  },
  {
   "cell_type": "markdown",
   "metadata": {},
   "source": [
    "## 2. 회귀분석 결과"
   ]
  },
  {
   "cell_type": "code",
   "execution_count": 39,
   "metadata": {},
   "outputs": [
    {
     "data": {
      "text/html": [
       "<table class=\"simpletable\">\n",
       "<caption>OLS Regression Results</caption>\n",
       "<tr>\n",
       "  <th>Dep. Variable:</th>           <td>증가</td>        <th>  R-squared:         </th> <td>   0.099</td>\n",
       "</tr>\n",
       "<tr>\n",
       "  <th>Model:</th>                   <td>OLS</td>       <th>  Adj. R-squared:    </th> <td>   0.056</td>\n",
       "</tr>\n",
       "<tr>\n",
       "  <th>Method:</th>             <td>Least Squares</td>  <th>  F-statistic:       </th> <td>  0.9487</td>\n",
       "</tr>\n",
       "<tr>\n",
       "  <th>Date:</th>             <td>Thu, 30 Aug 2018</td> <th>  Prob (F-statistic):</th>  <td> 0.453</td> \n",
       "</tr>\n",
       "<tr>\n",
       "  <th>Time:</th>                 <td>16:22:39</td>     <th>  Log-Likelihood:    </th> <td> -478.29</td>\n",
       "</tr>\n",
       "<tr>\n",
       "  <th>No. Observations:</th>      <td>   111</td>      <th>  AIC:               </th> <td>   968.6</td>\n",
       "</tr>\n",
       "<tr>\n",
       "  <th>Df Residuals:</th>          <td>   105</td>      <th>  BIC:               </th> <td>   984.8</td>\n",
       "</tr>\n",
       "<tr>\n",
       "  <th>Df Model:</th>              <td>     5</td>      <th>                     </th>     <td> </td>   \n",
       "</tr>\n",
       "<tr>\n",
       "  <th>Covariance Type:</th>         <td>HC3</td>       <th>                     </th>     <td> </td>   \n",
       "</tr>\n",
       "</table>\n",
       "<table class=\"simpletable\">\n",
       "<tr>\n",
       "      <td></td>         <th>coef</th>     <th>std err</th>      <th>z</th>      <th>P>|z|</th>  <th>[0.025</th>    <th>0.975]</th>  \n",
       "</tr>\n",
       "<tr>\n",
       "  <th>Intercept</th> <td>   24.6807</td> <td>    3.556</td> <td>    6.941</td> <td> 0.000</td> <td>   17.711</td> <td>   31.650</td>\n",
       "</tr>\n",
       "<tr>\n",
       "  <th>방영전</th>       <td>    0.1520</td> <td>    0.177</td> <td>    0.859</td> <td> 0.390</td> <td>   -0.195</td> <td>    0.499</td>\n",
       "</tr>\n",
       "<tr>\n",
       "  <th>서울_1</th>      <td>    0.6133</td> <td>    3.625</td> <td>    0.169</td> <td> 0.866</td> <td>   -6.493</td> <td>    7.719</td>\n",
       "</tr>\n",
       "<tr>\n",
       "  <th>계절_여름</th>     <td>   -5.4100</td> <td>    4.791</td> <td>   -1.129</td> <td> 0.259</td> <td>  -14.800</td> <td>    3.980</td>\n",
       "</tr>\n",
       "<tr>\n",
       "  <th>계절_가을</th>     <td>   -9.4034</td> <td>    4.963</td> <td>   -1.895</td> <td> 0.058</td> <td>  -19.130</td> <td>    0.323</td>\n",
       "</tr>\n",
       "<tr>\n",
       "  <th>계절_겨울</th>     <td>   -5.0543</td> <td>    4.967</td> <td>   -1.018</td> <td> 0.309</td> <td>  -14.790</td> <td>    4.682</td>\n",
       "</tr>\n",
       "</table>\n",
       "<table class=\"simpletable\">\n",
       "<tr>\n",
       "  <th>Omnibus:</th>       <td>60.332</td> <th>  Durbin-Watson:     </th> <td>   1.889</td>\n",
       "</tr>\n",
       "<tr>\n",
       "  <th>Prob(Omnibus):</th> <td> 0.000</td> <th>  Jarque-Bera (JB):  </th> <td> 359.592</td>\n",
       "</tr>\n",
       "<tr>\n",
       "  <th>Skew:</th>          <td> 1.684</td> <th>  Prob(JB):          </th> <td>8.23e-79</td>\n",
       "</tr>\n",
       "<tr>\n",
       "  <th>Kurtosis:</th>      <td>11.149</td> <th>  Cond. No.          </th> <td>    157.</td>\n",
       "</tr>\n",
       "</table><br/><br/>Warnings:<br/>[1] Standard Errors are heteroscedasticity robust (HC3)"
      ],
      "text/plain": [
       "<class 'statsmodels.iolib.summary.Summary'>\n",
       "\"\"\"\n",
       "                            OLS Regression Results                            \n",
       "==============================================================================\n",
       "Dep. Variable:                     증가   R-squared:                       0.099\n",
       "Model:                            OLS   Adj. R-squared:                  0.056\n",
       "Method:                 Least Squares   F-statistic:                    0.9487\n",
       "Date:                Thu, 30 Aug 2018   Prob (F-statistic):              0.453\n",
       "Time:                        16:22:39   Log-Likelihood:                -478.29\n",
       "No. Observations:                 111   AIC:                             968.6\n",
       "Df Residuals:                     105   BIC:                             984.8\n",
       "Df Model:                           5                                         \n",
       "Covariance Type:                  HC3                                         \n",
       "==============================================================================\n",
       "                 coef    std err          z      P>|z|      [0.025      0.975]\n",
       "------------------------------------------------------------------------------\n",
       "Intercept     24.6807      3.556      6.941      0.000      17.711      31.650\n",
       "방영전            0.1520      0.177      0.859      0.390      -0.195       0.499\n",
       "서울_1           0.6133      3.625      0.169      0.866      -6.493       7.719\n",
       "계절_여름         -5.4100      4.791     -1.129      0.259     -14.800       3.980\n",
       "계절_가을         -9.4034      4.963     -1.895      0.058     -19.130       0.323\n",
       "계절_겨울         -5.0543      4.967     -1.018      0.309     -14.790       4.682\n",
       "==============================================================================\n",
       "Omnibus:                       60.332   Durbin-Watson:                   1.889\n",
       "Prob(Omnibus):                  0.000   Jarque-Bera (JB):              359.592\n",
       "Skew:                           1.684   Prob(JB):                     8.23e-79\n",
       "Kurtosis:                      11.149   Cond. No.                         157.\n",
       "==============================================================================\n",
       "\n",
       "Warnings:\n",
       "[1] Standard Errors are heteroscedasticity robust (HC3)\n",
       "\"\"\""
      ]
     },
     "execution_count": 39,
     "metadata": {},
     "output_type": "execute_result"
    }
   ],
   "source": [
    "#model_sang = smf.ols(\"증가 ~ 방영전 + 서울_1 + 계절_여름 + 계절_가을 + 계절_겨울\",  data=reg_sang).fit(cov_type='HC0')\n",
    "model_sang.summary()"
   ]
  },
  {
   "cell_type": "markdown",
   "metadata": {},
   "source": [
    "**F-statstic의 p-value > 0.05 이므로 회귀모형 자체가 유의하지 않음**\n",
    "\n",
    "**생생정보통의 경우, 방영 전 포스팅 갯수, 서울 여부, 계절 변수는 방영된 후 포스팅 갯수의 증감에 통계적으로 영향력이 없음**\n",
    "\n",
    "**생생정보통은 특색이 없는 거 같다...**"
   ]
  },
  {
   "cell_type": "markdown",
   "metadata": {},
   "source": [
    "## 수요미식회 회귀분석"
   ]
  },
  {
   "cell_type": "markdown",
   "metadata": {},
   "source": [
    "### 모형 : 증가(y) ~ 방영전(x1) + 서울_1(x2) + 계절_여름(x3) + 계절_가을(x4) + 계절_겨울(x5)"
   ]
  },
  {
   "cell_type": "code",
   "execution_count": 40,
   "metadata": {},
   "outputs": [],
   "source": [
    "model_suyo = smf.ols(\"증가 ~ 방영전 + 서울_1 + 계절_여름 + 계절_가을 + 계절_겨울\",  data=reg_suyo).fit(cov_type='HC3')"
   ]
  },
  {
   "cell_type": "markdown",
   "metadata": {},
   "source": [
    "## 1. 가정"
   ]
  },
  {
   "cell_type": "markdown",
   "metadata": {},
   "source": [
    "### 1) 정규성"
   ]
  },
  {
   "cell_type": "code",
   "execution_count": 41,
   "metadata": {},
   "outputs": [
    {
     "data": {
      "text/plain": [
       "Text(0.5,1,'SUYO Model Residuals Q-Q Plot')"
      ]
     },
     "execution_count": 41,
     "metadata": {},
     "output_type": "execute_result"
    },
    {
     "data": {
      "image/png": "[encoded data removed]",
      "text/plain": [
       "<Figure size 432x288 with 1 Axes>"
      ]
     },
     "metadata": {},
     "output_type": "display_data"
    }
   ],
   "source": [
    "stats.probplot(model_suyo.resid, dist=\"norm\", plot= plt)\n",
    "plt.title(\"SUYO Model Residuals Q-Q Plot\")"
   ]
  },
  {
   "cell_type": "markdown",
   "metadata": {},
   "source": [
    "정규성을 따른다고 볼 수 있음"
   ]
  },
  {
   "cell_type": "markdown",
   "metadata": {},
   "source": [
    "### 2) 등분산"
   ]
  },
  {
   "cell_type": "code",
   "execution_count": 42,
   "metadata": {},
   "outputs": [
    {
     "data": {
      "text/plain": [
       "<matplotlib.collections.PathCollection at 0x1f3a36422b0>"
      ]
     },
     "execution_count": 42,
     "metadata": {},
     "output_type": "execute_result"
    },
    {
     "data": {
      "image/png": "[encoded data removed]",
      "text/plain": [
       "<Figure size 432x288 with 1 Axes>"
      ]
     },
     "metadata": {},
     "output_type": "display_data"
    }
   ],
   "source": [
    "resid = model_suyo.resid\n",
    "plt.scatter(model_suyo.predict(), resid)"
   ]
  },
  {
   "cell_type": "code",
   "execution_count": 43,
   "metadata": {},
   "outputs": [
    {
     "data": {
      "text/plain": [
       "[('Lagrange multiplier statistic', 10.523989729472273),\n",
       " ('p-value', 0.06167878534949145),\n",
       " ('f-value', 2.205586328707983),\n",
       " ('f p-value', 0.059640818314463495)]"
      ]
     },
     "execution_count": 43,
     "metadata": {},
     "output_type": "execute_result"
    }
   ],
   "source": [
    "name = ['Lagrange multiplier statistic', 'p-value', \n",
    "        'f-value', 'f p-value']\n",
    "test = sms.het_breuschpagan(model_suyo.resid, model_suyo.model.exog)\n",
    "lzip(name, test)"
   ]
  },
  {
   "cell_type": "markdown",
   "metadata": {},
   "source": [
    "p-value > 0.05 이므로 등분산 가정도 만족"
   ]
  },
  {
   "cell_type": "markdown",
   "metadata": {},
   "source": [
    "### 3) 오차의 독립성"
   ]
  },
  {
   "cell_type": "code",
   "execution_count": 44,
   "metadata": {},
   "outputs": [
    {
     "data": {
      "text/plain": [
       "1.8269518592692542"
      ]
     },
     "execution_count": 44,
     "metadata": {},
     "output_type": "execute_result"
    }
   ],
   "source": [
    "statsmodels.stats.stattools.durbin_watson(model_suyo.resid)"
   ]
  },
  {
   "cell_type": "markdown",
   "metadata": {},
   "source": [
    "2에 가까울수록 독립성 가정이 만족하는데, 2에 가까우니 독립성 가정도 만족"
   ]
  },
  {
   "cell_type": "markdown",
   "metadata": {},
   "source": [
    "## 2. 회귀분석 결과"
   ]
  },
  {
   "cell_type": "code",
   "execution_count": 45,
   "metadata": {},
   "outputs": [
    {
     "data": {
      "text/html": [
       "<table class=\"simpletable\">\n",
       "<caption>OLS Regression Results</caption>\n",
       "<tr>\n",
       "  <th>Dep. Variable:</th>           <td>증가</td>        <th>  R-squared:         </th> <td>   0.207</td>\n",
       "</tr>\n",
       "<tr>\n",
       "  <th>Model:</th>                   <td>OLS</td>       <th>  Adj. R-squared:    </th> <td>   0.166</td>\n",
       "</tr>\n",
       "<tr>\n",
       "  <th>Method:</th>             <td>Least Squares</td>  <th>  F-statistic:       </th> <td>  0.9410</td>\n",
       "</tr>\n",
       "<tr>\n",
       "  <th>Date:</th>             <td>Thu, 30 Aug 2018</td> <th>  Prob (F-statistic):</th>  <td> 0.458</td> \n",
       "</tr>\n",
       "<tr>\n",
       "  <th>Time:</th>                 <td>16:25:15</td>     <th>  Log-Likelihood:    </th> <td> -520.95</td>\n",
       "</tr>\n",
       "<tr>\n",
       "  <th>No. Observations:</th>      <td>   105</td>      <th>  AIC:               </th> <td>   1054.</td>\n",
       "</tr>\n",
       "<tr>\n",
       "  <th>Df Residuals:</th>          <td>    99</td>      <th>  BIC:               </th> <td>   1070.</td>\n",
       "</tr>\n",
       "<tr>\n",
       "  <th>Df Model:</th>              <td>     5</td>      <th>                     </th>     <td> </td>   \n",
       "</tr>\n",
       "<tr>\n",
       "  <th>Covariance Type:</th>         <td>HC3</td>       <th>                     </th>     <td> </td>   \n",
       "</tr>\n",
       "</table>\n",
       "<table class=\"simpletable\">\n",
       "<tr>\n",
       "      <td></td>         <th>coef</th>     <th>std err</th>      <th>z</th>      <th>P>|z|</th>  <th>[0.025</th>    <th>0.975]</th>  \n",
       "</tr>\n",
       "<tr>\n",
       "  <th>Intercept</th> <td>   64.2236</td> <td>    9.298</td> <td>    6.907</td> <td> 0.000</td> <td>   46.000</td> <td>   82.447</td>\n",
       "</tr>\n",
       "<tr>\n",
       "  <th>방영전</th>       <td>    0.3489</td> <td>    0.176</td> <td>    1.982</td> <td> 0.048</td> <td>    0.004</td> <td>    0.694</td>\n",
       "</tr>\n",
       "<tr>\n",
       "  <th>서울_1</th>      <td>    3.5797</td> <td>    8.655</td> <td>    0.414</td> <td> 0.679</td> <td>  -13.383</td> <td>   20.543</td>\n",
       "</tr>\n",
       "<tr>\n",
       "  <th>계절_여름</th>     <td>  -10.2625</td> <td>   12.178</td> <td>   -0.843</td> <td> 0.399</td> <td>  -34.131</td> <td>   13.606</td>\n",
       "</tr>\n",
       "<tr>\n",
       "  <th>계절_가을</th>     <td>   -5.8806</td> <td>    8.993</td> <td>   -0.654</td> <td> 0.513</td> <td>  -23.506</td> <td>   11.745</td>\n",
       "</tr>\n",
       "<tr>\n",
       "  <th>계절_겨울</th>     <td>    1.0752</td> <td>    9.957</td> <td>    0.108</td> <td> 0.914</td> <td>  -18.441</td> <td>   20.591</td>\n",
       "</tr>\n",
       "</table>\n",
       "<table class=\"simpletable\">\n",
       "<tr>\n",
       "  <th>Omnibus:</th>       <td>12.222</td> <th>  Durbin-Watson:     </th> <td>   1.827</td>\n",
       "</tr>\n",
       "<tr>\n",
       "  <th>Prob(Omnibus):</th> <td> 0.002</td> <th>  Jarque-Bera (JB):  </th> <td>  13.272</td>\n",
       "</tr>\n",
       "<tr>\n",
       "  <th>Skew:</th>          <td> 0.719</td> <th>  Prob(JB):          </th> <td> 0.00131</td>\n",
       "</tr>\n",
       "<tr>\n",
       "  <th>Kurtosis:</th>      <td> 3.983</td> <th>  Cond. No.          </th> <td>    236.</td>\n",
       "</tr>\n",
       "</table><br/><br/>Warnings:<br/>[1] Standard Errors are heteroscedasticity robust (HC3)"
      ],
      "text/plain": [
       "<class 'statsmodels.iolib.summary.Summary'>\n",
       "\"\"\"\n",
       "                            OLS Regression Results                            \n",
       "==============================================================================\n",
       "Dep. Variable:                     증가   R-squared:                       0.207\n",
       "Model:                            OLS   Adj. R-squared:                  0.166\n",
       "Method:                 Least Squares   F-statistic:                    0.9410\n",
       "Date:                Thu, 30 Aug 2018   Prob (F-statistic):              0.458\n",
       "Time:                        16:25:15   Log-Likelihood:                -520.95\n",
       "No. Observations:                 105   AIC:                             1054.\n",
       "Df Residuals:                      99   BIC:                             1070.\n",
       "Df Model:                           5                                         \n",
       "Covariance Type:                  HC3                                         \n",
       "==============================================================================\n",
       "                 coef    std err          z      P>|z|      [0.025      0.975]\n",
       "------------------------------------------------------------------------------\n",
       "Intercept     64.2236      9.298      6.907      0.000      46.000      82.447\n",
       "방영전            0.3489      0.176      1.982      0.048       0.004       0.694\n",
       "서울_1           3.5797      8.655      0.414      0.679     -13.383      20.543\n",
       "계절_여름        -10.2625     12.178     -0.843      0.399     -34.131      13.606\n",
       "계절_가을         -5.8806      8.993     -0.654      0.513     -23.506      11.745\n",
       "계절_겨울          1.0752      9.957      0.108      0.914     -18.441      20.591\n",
       "==============================================================================\n",
       "Omnibus:                       12.222   Durbin-Watson:                   1.827\n",
       "Prob(Omnibus):                  0.002   Jarque-Bera (JB):               13.272\n",
       "Skew:                           0.719   Prob(JB):                      0.00131\n",
       "Kurtosis:                       3.983   Cond. No.                         236.\n",
       "==============================================================================\n",
       "\n",
       "Warnings:\n",
       "[1] Standard Errors are heteroscedasticity robust (HC3)\n",
       "\"\"\""
      ]
     },
     "execution_count": 45,
     "metadata": {},
     "output_type": "execute_result"
    }
   ],
   "source": [
    "#model_suyo = smf.ols(\"증가 ~ 방영전 + 서울_1 + 계절_여름 + 계절_가을 + 계절_겨울\",  data=reg_suyo).fit(cov_type='HC3')\n",
    "model_suyo.summary()"
   ]
  },
  {
   "cell_type": "markdown",
   "metadata": {},
   "source": [
    "**F-statstic의 p-value > 0.05 이므로 회귀모형 자체가 유의하지 않음**\n",
    "\n",
    "**수요미식회의 경우, 방영 전 포스팅 갯수, 서울 여부, 계절 변수는 방영된 후 포스팅 갯수의 증감에 통계적으로 영향력이 없음**\n",
    "\n",
    "**수요미식회도 특색이 없는 거 같다...**"
   ]
  },
  {
   "cell_type": "markdown",
   "metadata": {},
   "source": [
    "## 맛있는 녀석들 회귀분석"
   ]
  },
  {
   "cell_type": "markdown",
   "metadata": {},
   "source": [
    "### 모형 : 증가(y) ~ 방영전(x1) + 서울_1(x2) + 계절_여름(x3) + 계절_가을(x4) + 계절_겨울(x5)"
   ]
  },
  {
   "cell_type": "code",
   "execution_count": 46,
   "metadata": {},
   "outputs": [],
   "source": [
    "model_mot = smf.ols(\"증가 ~ 방영전 + 서울_1 + 계절_여름 + 계절_가을 + 계절_겨울\",  data=reg_mot).fit(cov_type='HC3')"
   ]
  },
  {
   "cell_type": "code",
   "execution_count": 47,
   "metadata": {},
   "outputs": [
    {
     "data": {
      "text/html": [
       "<table class=\"simpletable\">\n",
       "<caption>OLS Regression Results</caption>\n",
       "<tr>\n",
       "  <th>Dep. Variable:</th>           <td>증가</td>        <th>  R-squared:         </th> <td>   0.077</td>\n",
       "</tr>\n",
       "<tr>\n",
       "  <th>Model:</th>                   <td>OLS</td>       <th>  Adj. R-squared:    </th> <td>   0.028</td>\n",
       "</tr>\n",
       "<tr>\n",
       "  <th>Method:</th>             <td>Least Squares</td>  <th>  F-statistic:       </th> <td>   1.200</td>\n",
       "</tr>\n",
       "<tr>\n",
       "  <th>Date:</th>             <td>Thu, 30 Aug 2018</td> <th>  Prob (F-statistic):</th>  <td> 0.315</td> \n",
       "</tr>\n",
       "<tr>\n",
       "  <th>Time:</th>                 <td>16:28:44</td>     <th>  Log-Likelihood:    </th> <td> -474.56</td>\n",
       "</tr>\n",
       "<tr>\n",
       "  <th>No. Observations:</th>      <td>   101</td>      <th>  AIC:               </th> <td>   961.1</td>\n",
       "</tr>\n",
       "<tr>\n",
       "  <th>Df Residuals:</th>          <td>    95</td>      <th>  BIC:               </th> <td>   976.8</td>\n",
       "</tr>\n",
       "<tr>\n",
       "  <th>Df Model:</th>              <td>     5</td>      <th>                     </th>     <td> </td>   \n",
       "</tr>\n",
       "<tr>\n",
       "  <th>Covariance Type:</th>         <td>HC3</td>       <th>                     </th>     <td> </td>   \n",
       "</tr>\n",
       "</table>\n",
       "<table class=\"simpletable\">\n",
       "<tr>\n",
       "      <td></td>         <th>coef</th>     <th>std err</th>      <th>z</th>      <th>P>|z|</th>  <th>[0.025</th>    <th>0.975]</th>  \n",
       "</tr>\n",
       "<tr>\n",
       "  <th>Intercept</th> <td>   16.3308</td> <td>    6.679</td> <td>    2.445</td> <td> 0.014</td> <td>    3.240</td> <td>   29.422</td>\n",
       "</tr>\n",
       "<tr>\n",
       "  <th>방영전</th>       <td>    0.0721</td> <td>    0.119</td> <td>    0.605</td> <td> 0.545</td> <td>   -0.162</td> <td>    0.306</td>\n",
       "</tr>\n",
       "<tr>\n",
       "  <th>서울_1</th>      <td>    9.2475</td> <td>    6.265</td> <td>    1.476</td> <td> 0.140</td> <td>   -3.033</td> <td>   21.528</td>\n",
       "</tr>\n",
       "<tr>\n",
       "  <th>계절_여름</th>     <td>   -7.6126</td> <td>    4.657</td> <td>   -1.635</td> <td> 0.102</td> <td>  -16.741</td> <td>    1.516</td>\n",
       "</tr>\n",
       "<tr>\n",
       "  <th>계절_가을</th>     <td>   -0.1760</td> <td>    9.050</td> <td>   -0.019</td> <td> 0.984</td> <td>  -17.915</td> <td>   17.563</td>\n",
       "</tr>\n",
       "<tr>\n",
       "  <th>계절_겨울</th>     <td>   -2.3343</td> <td>    5.707</td> <td>   -0.409</td> <td> 0.683</td> <td>  -13.519</td> <td>    8.851</td>\n",
       "</tr>\n",
       "</table>\n",
       "<table class=\"simpletable\">\n",
       "<tr>\n",
       "  <th>Omnibus:</th>       <td>71.792</td> <th>  Durbin-Watson:     </th> <td>   1.980</td> \n",
       "</tr>\n",
       "<tr>\n",
       "  <th>Prob(Omnibus):</th> <td> 0.000</td> <th>  Jarque-Bera (JB):  </th> <td> 612.592</td> \n",
       "</tr>\n",
       "<tr>\n",
       "  <th>Skew:</th>          <td> 2.126</td> <th>  Prob(JB):          </th> <td>9.49e-134</td>\n",
       "</tr>\n",
       "<tr>\n",
       "  <th>Kurtosis:</th>      <td>14.291</td> <th>  Cond. No.          </th> <td>    351.</td> \n",
       "</tr>\n",
       "</table><br/><br/>Warnings:<br/>[1] Standard Errors are heteroscedasticity robust (HC3)"
      ],
      "text/plain": [
       "<class 'statsmodels.iolib.summary.Summary'>\n",
       "\"\"\"\n",
       "                            OLS Regression Results                            \n",
       "==============================================================================\n",
       "Dep. Variable:                     증가   R-squared:                       0.077\n",
       "Model:                            OLS   Adj. R-squared:                  0.028\n",
       "Method:                 Least Squares   F-statistic:                     1.200\n",
       "Date:                Thu, 30 Aug 2018   Prob (F-statistic):              0.315\n",
       "Time:                        16:28:44   Log-Likelihood:                -474.56\n",
       "No. Observations:                 101   AIC:                             961.1\n",
       "Df Residuals:                      95   BIC:                             976.8\n",
       "Df Model:                           5                                         \n",
       "Covariance Type:                  HC3                                         \n",
       "==============================================================================\n",
       "                 coef    std err          z      P>|z|      [0.025      0.975]\n",
       "------------------------------------------------------------------------------\n",
       "Intercept     16.3308      6.679      2.445      0.014       3.240      29.422\n",
       "방영전            0.0721      0.119      0.605      0.545      -0.162       0.306\n",
       "서울_1           9.2475      6.265      1.476      0.140      -3.033      21.528\n",
       "계절_여름         -7.6126      4.657     -1.635      0.102     -16.741       1.516\n",
       "계절_가을         -0.1760      9.050     -0.019      0.984     -17.915      17.563\n",
       "계절_겨울         -2.3343      5.707     -0.409      0.683     -13.519       8.851\n",
       "==============================================================================\n",
       "Omnibus:                       71.792   Durbin-Watson:                   1.980\n",
       "Prob(Omnibus):                  0.000   Jarque-Bera (JB):              612.592\n",
       "Skew:                           2.126   Prob(JB):                    9.49e-134\n",
       "Kurtosis:                      14.291   Cond. No.                         351.\n",
       "==============================================================================\n",
       "\n",
       "Warnings:\n",
       "[1] Standard Errors are heteroscedasticity robust (HC3)\n",
       "\"\"\""
      ]
     },
     "execution_count": 47,
     "metadata": {},
     "output_type": "execute_result"
    }
   ],
   "source": [
    "model_mot.summary()"
   ]
  },
  {
   "cell_type": "markdown",
   "metadata": {},
   "source": [
    "### 1. 가정\n",
    "\n",
    "#### 1) 정규성\n",
    "- Prob(JB) < 0.05 이므로 정규성 만족 x\n",
    "\n",
    "#### 2) 등분산\n",
    "- Prob(Omnibus) < 0.05이므로 등분산도 만족 x..\n",
    "\n",
    "#### 3) 독립성\n",
    "- Durbin-Watson = 1.980 : 2에 가까우므로 독립은 만족"
   ]
  },
  {
   "cell_type": "markdown",
   "metadata": {},
   "source": [
    "### 2. 회귀분석 결과"
   ]
  },
  {
   "cell_type": "markdown",
   "metadata": {},
   "source": [
    "**F-statstic의 p-value > 0.05 이므로 회귀모형 자체가 유의하지 않음**\n",
    "\n",
    "**맛있는 녀석들의 경우, 방영 전 포스팅 갯수, 서울 여부, 계절 변수는 방영된 후 포스팅 갯수의 증감에 통계적으로 영향력이 없음**\n",
    "\n",
    "**독립변수 설정을 잘못한 것 같음**"
   ]
  }
 ],
 "metadata": {
  "kernelspec": {
   "display_name": "Python 3",
   "language": "python",
   "name": "python3"
  },
  "language_info": {
   "codemirror_mode": {
    "name": "ipython",
    "version": 3
   },
   "file_extension": ".py",
   "mimetype": "text/x-python",
   "name": "python",
   "nbconvert_exporter": "python",
   "pygments_lexer": "ipython3",
   "version": "3.6.5"
  }
 },
 "nbformat": 4,
 "nbformat_minor": 2
}
