{
 "cells": [
  {
   "cell_type": "markdown",
   "metadata": {},
   "source": [
    "# Paired Sample T-test : 전후 차이 비교"
   ]
  },
  {
   "cell_type": "code",
   "execution_count": 1,
   "metadata": {},
   "outputs": [],
   "source": [
    "import pandas as pd\n",
    "from scipy import stats\n",
    "import matplotlib.pyplot as plt"
   ]
  },
  {
   "cell_type": "code",
   "execution_count": 2,
   "metadata": {},
   "outputs": [],
   "source": [
    "from matplotlib import font_manager, rc"
   ]
  },
  {
   "cell_type": "code",
   "execution_count": 3,
   "metadata": {},
   "outputs": [],
   "source": [
    "import matplotlib\n",
    "\n",
    "matplotlib.rcParams['axes.unicode_minus'] = False"
   ]
  },
  {
   "cell_type": "code",
   "execution_count": 4,
   "metadata": {},
   "outputs": [],
   "source": [
    "font_location = \"C:/Windows/Fonts/NanumBarunGothic.ttf\""
   ]
  },
  {
   "cell_type": "code",
   "execution_count": 5,
   "metadata": {},
   "outputs": [
    {
     "name": "stdout",
     "output_type": "stream",
     "text": [
      "NanumBarunGothic\n"
     ]
    }
   ],
   "source": [
    "font_name = font_manager.FontProperties(fname=font_location).get_name()\n",
    "print(font_name)"
   ]
  },
  {
   "cell_type": "code",
   "execution_count": 6,
   "metadata": {},
   "outputs": [],
   "source": [
    "rc('font', family=\"NanumBarunGothic\")"
   ]
  },
  {
   "cell_type": "markdown",
   "metadata": {},
   "source": [
    "## 전후 차이 비교를 위한 데이터(생생정보통, 수요미식회, 맛있는녀석들) 전처리"
   ]
  },
  {
   "cell_type": "code",
   "execution_count": 21,
   "metadata": {},
   "outputs": [],
   "source": [
    "df1 = pd.read_csv('raw_data/2017_tidy.csv')\n",
    "df2 = pd.read_csv('raw_data/2018_tidy.csv')"
   ]
  },
  {
   "cell_type": "code",
   "execution_count": 22,
   "metadata": {},
   "outputs": [
    {
     "data": {
      "text/html": [
       "<div>\n",
       "<style scoped>\n",
       "    .dataframe tbody tr th:only-of-type {\n",
       "        vertical-align: middle;\n",
       "    }\n",
       "\n",
       "    .dataframe tbody tr th {\n",
       "        vertical-align: top;\n",
       "    }\n",
       "\n",
       "    .dataframe thead th {\n",
       "        text-align: right;\n",
       "    }\n",
       "</style>\n",
       "<table border=\"1\" class=\"dataframe\">\n",
       "  <thead>\n",
       "    <tr style=\"text-align: right;\">\n",
       "      <th></th>\n",
       "      <th>방송</th>\n",
       "      <th>식당</th>\n",
       "      <th>방영일</th>\n",
       "      <th>포스팅일</th>\n",
       "      <th>제목</th>\n",
       "      <th>주소</th>\n",
       "      <th>days_diff</th>\n",
       "      <th>지역</th>\n",
       "      <th>방영전</th>\n",
       "      <th>방영후</th>\n",
       "    </tr>\n",
       "  </thead>\n",
       "  <tbody>\n",
       "    <tr>\n",
       "      <th>0</th>\n",
       "      <td>생생</td>\n",
       "      <td>대풍만두</td>\n",
       "      <td>2017-01-03</td>\n",
       "      <td>2017-01-08</td>\n",
       "      <td>안동 사대부찜닭 생생정보통에 나온 &lt;mark&gt;대풍만두&lt;/mark&gt; 다녀왔어요</td>\n",
       "      <td>https://m.blog.naver.com/hts1222/220905835536\"</td>\n",
       "      <td>5</td>\n",
       "      <td>안동</td>\n",
       "      <td>0</td>\n",
       "      <td>1</td>\n",
       "    </tr>\n",
       "    <tr>\n",
       "      <th>1</th>\n",
       "      <td>생생</td>\n",
       "      <td>대풍만두</td>\n",
       "      <td>2017-01-03</td>\n",
       "      <td>2017-01-27</td>\n",
       "      <td>안동구시장찐빵맛집, 생생정보통 &lt;mark&gt;대풍만두&lt;/mark&gt;</td>\n",
       "      <td>https://m.blog.naver.com/pinkwona/220920892215\"</td>\n",
       "      <td>24</td>\n",
       "      <td>안동</td>\n",
       "      <td>0</td>\n",
       "      <td>1</td>\n",
       "    </tr>\n",
       "    <tr>\n",
       "      <th>2</th>\n",
       "      <td>생생</td>\n",
       "      <td>대풍만두</td>\n",
       "      <td>2017-01-03</td>\n",
       "      <td>2016-12-20</td>\n",
       "      <td>안동시 서부동 만두맛집, &lt;mark&gt;대풍만두&lt;/mark&gt;</td>\n",
       "      <td>http://siksamenu.tistory.com/2212\"</td>\n",
       "      <td>-14</td>\n",
       "      <td>안동</td>\n",
       "      <td>1</td>\n",
       "      <td>0</td>\n",
       "    </tr>\n",
       "    <tr>\n",
       "      <th>3</th>\n",
       "      <td>생생</td>\n",
       "      <td>대풍만두</td>\n",
       "      <td>2017-01-03</td>\n",
       "      <td>2017-01-03</td>\n",
       "      <td>오즈패밀리 KBS 생생정보 1월3일 맛집 - 흑미 복분자 찐빵(&lt;mark&gt;대풍만두&lt;...</td>\n",
       "      <td>https://m.blog.naver.com/flypig1/220901684323\"</td>\n",
       "      <td>0</td>\n",
       "      <td>안동</td>\n",
       "      <td>0</td>\n",
       "      <td>1</td>\n",
       "    </tr>\n",
       "    <tr>\n",
       "      <th>4</th>\n",
       "      <td>생생</td>\n",
       "      <td>대풍만두</td>\n",
       "      <td>2017-01-03</td>\n",
       "      <td>2017-01-03</td>\n",
       "      <td>◈ 안동 찐빵 만두 맛집 공유~* , 2tv 저녁 생생정보 안동 구시장 찐빵 맛집 ...</td>\n",
       "      <td>https://m.blog.naver.com/mediost/220901827867\"</td>\n",
       "      <td>0</td>\n",
       "      <td>안동</td>\n",
       "      <td>0</td>\n",
       "      <td>1</td>\n",
       "    </tr>\n",
       "  </tbody>\n",
       "</table>\n",
       "</div>"
      ],
      "text/plain": [
       "   방송    식당         방영일        포스팅일  \\\n",
       "0  생생  대풍만두  2017-01-03  2017-01-08   \n",
       "1  생생  대풍만두  2017-01-03  2017-01-27   \n",
       "2  생생  대풍만두  2017-01-03  2016-12-20   \n",
       "3  생생  대풍만두  2017-01-03  2017-01-03   \n",
       "4  생생  대풍만두  2017-01-03  2017-01-03   \n",
       "\n",
       "                                                  제목  \\\n",
       "0         안동 사대부찜닭 생생정보통에 나온 <mark>대풍만두</mark> 다녀왔어요   \n",
       "1                 안동구시장찐빵맛집, 생생정보통 <mark>대풍만두</mark>   \n",
       "2                    안동시 서부동 만두맛집, <mark>대풍만두</mark>   \n",
       "3  오즈패밀리 KBS 생생정보 1월3일 맛집 - 흑미 복분자 찐빵(<mark>대풍만두<...   \n",
       "4  ◈ 안동 찐빵 만두 맛집 공유~* , 2tv 저녁 생생정보 안동 구시장 찐빵 맛집 ...   \n",
       "\n",
       "                                                주소  days_diff  지역  방영전  방영후  \n",
       "0   https://m.blog.naver.com/hts1222/220905835536\"          5  안동    0    1  \n",
       "1  https://m.blog.naver.com/pinkwona/220920892215\"         24  안동    0    1  \n",
       "2               http://siksamenu.tistory.com/2212\"        -14  안동    1    0  \n",
       "3   https://m.blog.naver.com/flypig1/220901684323\"          0  안동    0    1  \n",
       "4   https://m.blog.naver.com/mediost/220901827867\"          0  안동    0    1  "
      ]
     },
     "execution_count": 22,
     "metadata": {},
     "output_type": "execute_result"
    }
   ],
   "source": [
    "df1.head()"
   ]
  },
  {
   "cell_type": "code",
   "execution_count": 23,
   "metadata": {},
   "outputs": [
    {
     "data": {
      "text/html": [
       "<div>\n",
       "<style scoped>\n",
       "    .dataframe tbody tr th:only-of-type {\n",
       "        vertical-align: middle;\n",
       "    }\n",
       "\n",
       "    .dataframe tbody tr th {\n",
       "        vertical-align: top;\n",
       "    }\n",
       "\n",
       "    .dataframe thead th {\n",
       "        text-align: right;\n",
       "    }\n",
       "</style>\n",
       "<table border=\"1\" class=\"dataframe\">\n",
       "  <thead>\n",
       "    <tr style=\"text-align: right;\">\n",
       "      <th></th>\n",
       "      <th>방송</th>\n",
       "      <th>식당</th>\n",
       "      <th>방영일</th>\n",
       "      <th>포스팅일</th>\n",
       "      <th>제목</th>\n",
       "      <th>주소</th>\n",
       "      <th>days_diff</th>\n",
       "      <th>지역</th>\n",
       "      <th>방영전</th>\n",
       "      <th>방영후</th>\n",
       "    </tr>\n",
       "  </thead>\n",
       "  <tbody>\n",
       "    <tr>\n",
       "      <th>0</th>\n",
       "      <td>생생정보</td>\n",
       "      <td>전주회관식당</td>\n",
       "      <td>2018-01-02</td>\n",
       "      <td>2018-01-02</td>\n",
       "      <td>1월 2일 생생정보 &lt;mark&gt;전주회관식당&lt;/mark&gt; 더덕 흑돼지 구이 전북 진안</td>\n",
       "      <td>http://iampenguin.tistory.com/77\"</td>\n",
       "      <td>0</td>\n",
       "      <td>진안</td>\n",
       "      <td>0</td>\n",
       "      <td>1</td>\n",
       "    </tr>\n",
       "    <tr>\n",
       "      <th>1</th>\n",
       "      <td>생생정보</td>\n",
       "      <td>전주회관식당</td>\n",
       "      <td>2018-01-02</td>\n",
       "      <td>2018-01-02</td>\n",
       "      <td>마이산 맛집 &lt;mark&gt;전주회관식당&lt;/mark&gt; 더덕 흑돼지구이 생생정보</td>\n",
       "      <td>http://meokja.tistory.com/760\"</td>\n",
       "      <td>0</td>\n",
       "      <td>진안</td>\n",
       "      <td>0</td>\n",
       "      <td>1</td>\n",
       "    </tr>\n",
       "    <tr>\n",
       "      <th>2</th>\n",
       "      <td>생생정보</td>\n",
       "      <td>전주회관식당</td>\n",
       "      <td>2018-01-02</td>\n",
       "      <td>2018-01-02</td>\n",
       "      <td>생생정보통 더덕흑돼지구이 여기 이슈있슈 2TV 생생정보 1월2일 전라북도 진안 &lt;m...</td>\n",
       "      <td>http://mylovegae.tistory.com/2843\"</td>\n",
       "      <td>0</td>\n",
       "      <td>진안</td>\n",
       "      <td>0</td>\n",
       "      <td>1</td>\n",
       "    </tr>\n",
       "    <tr>\n",
       "      <th>3</th>\n",
       "      <td>생생정보</td>\n",
       "      <td>전주회관식당</td>\n",
       "      <td>2018-01-02</td>\n",
       "      <td>2018-01-02</td>\n",
       "      <td>생생정보 더덕 흑돼지구이 1월 2일 여기 있슈 식당가 전북 진안군 맛집 &lt;mark&gt;...</td>\n",
       "      <td>http://timemit.tistory.com/785\"</td>\n",
       "      <td>0</td>\n",
       "      <td>진안</td>\n",
       "      <td>0</td>\n",
       "      <td>1</td>\n",
       "    </tr>\n",
       "    <tr>\n",
       "      <th>4</th>\n",
       "      <td>생생정보</td>\n",
       "      <td>전주회관식당</td>\n",
       "      <td>2018-01-02</td>\n",
       "      <td>2018-01-02</td>\n",
       "      <td>2TV생생정보, 소원 명당 마이산 탑사 가는길 더덕 흑돼지구이 맛집 &lt;mark&gt;전주...</td>\n",
       "      <td>http://postnow.tistory.com/2142\"</td>\n",
       "      <td>0</td>\n",
       "      <td>진안</td>\n",
       "      <td>0</td>\n",
       "      <td>1</td>\n",
       "    </tr>\n",
       "  </tbody>\n",
       "</table>\n",
       "</div>"
      ],
      "text/plain": [
       "     방송      식당         방영일        포스팅일  \\\n",
       "0  생생정보  전주회관식당  2018-01-02  2018-01-02   \n",
       "1  생생정보  전주회관식당  2018-01-02  2018-01-02   \n",
       "2  생생정보  전주회관식당  2018-01-02  2018-01-02   \n",
       "3  생생정보  전주회관식당  2018-01-02  2018-01-02   \n",
       "4  생생정보  전주회관식당  2018-01-02  2018-01-02   \n",
       "\n",
       "                                                  제목  \\\n",
       "0     1월 2일 생생정보 <mark>전주회관식당</mark> 더덕 흑돼지 구이 전북 진안   \n",
       "1           마이산 맛집 <mark>전주회관식당</mark> 더덕 흑돼지구이 생생정보   \n",
       "2  생생정보통 더덕흑돼지구이 여기 이슈있슈 2TV 생생정보 1월2일 전라북도 진안 <m...   \n",
       "3  생생정보 더덕 흑돼지구이 1월 2일 여기 있슈 식당가 전북 진안군 맛집 <mark>...   \n",
       "4  2TV생생정보, 소원 명당 마이산 탑사 가는길 더덕 흑돼지구이 맛집 <mark>전주...   \n",
       "\n",
       "                                   주소  days_diff  지역  방영전  방영후  \n",
       "0   http://iampenguin.tistory.com/77\"          0  진안    0    1  \n",
       "1      http://meokja.tistory.com/760\"          0  진안    0    1  \n",
       "2  http://mylovegae.tistory.com/2843\"          0  진안    0    1  \n",
       "3     http://timemit.tistory.com/785\"          0  진안    0    1  \n",
       "4    http://postnow.tistory.com/2142\"          0  진안    0    1  "
      ]
     },
     "execution_count": 23,
     "metadata": {},
     "output_type": "execute_result"
    }
   ],
   "source": [
    "df2.head()"
   ]
  },
  {
   "cell_type": "code",
   "execution_count": 24,
   "metadata": {},
   "outputs": [],
   "source": [
    "df = pd.concat([df1, df2], sort=False)"
   ]
  },
  {
   "cell_type": "code",
   "execution_count": 25,
   "metadata": {},
   "outputs": [
    {
     "data": {
      "text/html": [
       "<div>\n",
       "<style scoped>\n",
       "    .dataframe tbody tr th:only-of-type {\n",
       "        vertical-align: middle;\n",
       "    }\n",
       "\n",
       "    .dataframe tbody tr th {\n",
       "        vertical-align: top;\n",
       "    }\n",
       "\n",
       "    .dataframe thead th {\n",
       "        text-align: right;\n",
       "    }\n",
       "</style>\n",
       "<table border=\"1\" class=\"dataframe\">\n",
       "  <thead>\n",
       "    <tr style=\"text-align: right;\">\n",
       "      <th></th>\n",
       "      <th>방송</th>\n",
       "      <th>식당</th>\n",
       "      <th>방영일</th>\n",
       "      <th>포스팅일</th>\n",
       "      <th>제목</th>\n",
       "      <th>주소</th>\n",
       "      <th>days_diff</th>\n",
       "      <th>지역</th>\n",
       "      <th>방영전</th>\n",
       "      <th>방영후</th>\n",
       "    </tr>\n",
       "  </thead>\n",
       "  <tbody>\n",
       "    <tr>\n",
       "      <th>0</th>\n",
       "      <td>생생</td>\n",
       "      <td>대풍만두</td>\n",
       "      <td>2017-01-03</td>\n",
       "      <td>2017-01-08</td>\n",
       "      <td>안동 사대부찜닭 생생정보통에 나온 &lt;mark&gt;대풍만두&lt;/mark&gt; 다녀왔어요</td>\n",
       "      <td>https://m.blog.naver.com/hts1222/220905835536\"</td>\n",
       "      <td>5</td>\n",
       "      <td>안동</td>\n",
       "      <td>0</td>\n",
       "      <td>1</td>\n",
       "    </tr>\n",
       "    <tr>\n",
       "      <th>1</th>\n",
       "      <td>생생</td>\n",
       "      <td>대풍만두</td>\n",
       "      <td>2017-01-03</td>\n",
       "      <td>2017-01-27</td>\n",
       "      <td>안동구시장찐빵맛집, 생생정보통 &lt;mark&gt;대풍만두&lt;/mark&gt;</td>\n",
       "      <td>https://m.blog.naver.com/pinkwona/220920892215\"</td>\n",
       "      <td>24</td>\n",
       "      <td>안동</td>\n",
       "      <td>0</td>\n",
       "      <td>1</td>\n",
       "    </tr>\n",
       "    <tr>\n",
       "      <th>2</th>\n",
       "      <td>생생</td>\n",
       "      <td>대풍만두</td>\n",
       "      <td>2017-01-03</td>\n",
       "      <td>2016-12-20</td>\n",
       "      <td>안동시 서부동 만두맛집, &lt;mark&gt;대풍만두&lt;/mark&gt;</td>\n",
       "      <td>http://siksamenu.tistory.com/2212\"</td>\n",
       "      <td>-14</td>\n",
       "      <td>안동</td>\n",
       "      <td>1</td>\n",
       "      <td>0</td>\n",
       "    </tr>\n",
       "    <tr>\n",
       "      <th>3</th>\n",
       "      <td>생생</td>\n",
       "      <td>대풍만두</td>\n",
       "      <td>2017-01-03</td>\n",
       "      <td>2017-01-03</td>\n",
       "      <td>오즈패밀리 KBS 생생정보 1월3일 맛집 - 흑미 복분자 찐빵(&lt;mark&gt;대풍만두&lt;...</td>\n",
       "      <td>https://m.blog.naver.com/flypig1/220901684323\"</td>\n",
       "      <td>0</td>\n",
       "      <td>안동</td>\n",
       "      <td>0</td>\n",
       "      <td>1</td>\n",
       "    </tr>\n",
       "    <tr>\n",
       "      <th>4</th>\n",
       "      <td>생생</td>\n",
       "      <td>대풍만두</td>\n",
       "      <td>2017-01-03</td>\n",
       "      <td>2017-01-03</td>\n",
       "      <td>◈ 안동 찐빵 만두 맛집 공유~* , 2tv 저녁 생생정보 안동 구시장 찐빵 맛집 ...</td>\n",
       "      <td>https://m.blog.naver.com/mediost/220901827867\"</td>\n",
       "      <td>0</td>\n",
       "      <td>안동</td>\n",
       "      <td>0</td>\n",
       "      <td>1</td>\n",
       "    </tr>\n",
       "  </tbody>\n",
       "</table>\n",
       "</div>"
      ],
      "text/plain": [
       "   방송    식당         방영일        포스팅일  \\\n",
       "0  생생  대풍만두  2017-01-03  2017-01-08   \n",
       "1  생생  대풍만두  2017-01-03  2017-01-27   \n",
       "2  생생  대풍만두  2017-01-03  2016-12-20   \n",
       "3  생생  대풍만두  2017-01-03  2017-01-03   \n",
       "4  생생  대풍만두  2017-01-03  2017-01-03   \n",
       "\n",
       "                                                  제목  \\\n",
       "0         안동 사대부찜닭 생생정보통에 나온 <mark>대풍만두</mark> 다녀왔어요   \n",
       "1                 안동구시장찐빵맛집, 생생정보통 <mark>대풍만두</mark>   \n",
       "2                    안동시 서부동 만두맛집, <mark>대풍만두</mark>   \n",
       "3  오즈패밀리 KBS 생생정보 1월3일 맛집 - 흑미 복분자 찐빵(<mark>대풍만두<...   \n",
       "4  ◈ 안동 찐빵 만두 맛집 공유~* , 2tv 저녁 생생정보 안동 구시장 찐빵 맛집 ...   \n",
       "\n",
       "                                                주소  days_diff  지역  방영전  방영후  \n",
       "0   https://m.blog.naver.com/hts1222/220905835536\"          5  안동    0    1  \n",
       "1  https://m.blog.naver.com/pinkwona/220920892215\"         24  안동    0    1  \n",
       "2               http://siksamenu.tistory.com/2212\"        -14  안동    1    0  \n",
       "3   https://m.blog.naver.com/flypig1/220901684323\"          0  안동    0    1  \n",
       "4   https://m.blog.naver.com/mediost/220901827867\"          0  안동    0    1  "
      ]
     },
     "execution_count": 25,
     "metadata": {},
     "output_type": "execute_result"
    }
   ],
   "source": [
    "df.head()"
   ]
  },
  {
   "cell_type": "code",
   "execution_count": 26,
   "metadata": {},
   "outputs": [],
   "source": [
    "df.to_csv('raw_data/total.csv', index=False)"
   ]
  },
  {
   "cell_type": "code",
   "execution_count": 21,
   "metadata": {},
   "outputs": [],
   "source": [
    "paired = pd.DataFrame(df.groupby('식당')['방영전', '방영후'].sum()).reset_index()"
   ]
  },
  {
   "cell_type": "code",
   "execution_count": 22,
   "metadata": {},
   "outputs": [
    {
     "data": {
      "text/html": [
       "<div>\n",
       "<style scoped>\n",
       "    .dataframe tbody tr th:only-of-type {\n",
       "        vertical-align: middle;\n",
       "    }\n",
       "\n",
       "    .dataframe tbody tr th {\n",
       "        vertical-align: top;\n",
       "    }\n",
       "\n",
       "    .dataframe thead th {\n",
       "        text-align: right;\n",
       "    }\n",
       "</style>\n",
       "<table border=\"1\" class=\"dataframe\">\n",
       "  <thead>\n",
       "    <tr style=\"text-align: right;\">\n",
       "      <th></th>\n",
       "      <th>식당</th>\n",
       "      <th>방영전</th>\n",
       "      <th>방영후</th>\n",
       "    </tr>\n",
       "  </thead>\n",
       "  <tbody>\n",
       "    <tr>\n",
       "      <th>0</th>\n",
       "      <td>136생고기</td>\n",
       "      <td>4</td>\n",
       "      <td>45</td>\n",
       "    </tr>\n",
       "    <tr>\n",
       "      <th>1</th>\n",
       "      <td>3일한우국밥</td>\n",
       "      <td>35</td>\n",
       "      <td>51</td>\n",
       "    </tr>\n",
       "    <tr>\n",
       "      <th>2</th>\n",
       "      <td>가람떡갈비</td>\n",
       "      <td>21</td>\n",
       "      <td>50</td>\n",
       "    </tr>\n",
       "    <tr>\n",
       "      <th>3</th>\n",
       "      <td>가마솥 족발</td>\n",
       "      <td>31</td>\n",
       "      <td>106</td>\n",
       "    </tr>\n",
       "    <tr>\n",
       "      <th>4</th>\n",
       "      <td>가마솥손두부</td>\n",
       "      <td>11</td>\n",
       "      <td>45</td>\n",
       "    </tr>\n",
       "  </tbody>\n",
       "</table>\n",
       "</div>"
      ],
      "text/plain": [
       "       식당  방영전  방영후\n",
       "0  136생고기    4   45\n",
       "1  3일한우국밥   35   51\n",
       "2   가람떡갈비   21   50\n",
       "3  가마솥 족발   31  106\n",
       "4  가마솥손두부   11   45"
      ]
     },
     "execution_count": 22,
     "metadata": {},
     "output_type": "execute_result"
    }
   ],
   "source": [
    "paired.head()"
   ]
  },
  {
   "cell_type": "code",
   "execution_count": 23,
   "metadata": {},
   "outputs": [
    {
     "data": {
      "text/html": [
       "<div>\n",
       "<style scoped>\n",
       "    .dataframe tbody tr th:only-of-type {\n",
       "        vertical-align: middle;\n",
       "    }\n",
       "\n",
       "    .dataframe tbody tr th {\n",
       "        vertical-align: top;\n",
       "    }\n",
       "\n",
       "    .dataframe thead th {\n",
       "        text-align: right;\n",
       "    }\n",
       "</style>\n",
       "<table border=\"1\" class=\"dataframe\">\n",
       "  <thead>\n",
       "    <tr style=\"text-align: right;\">\n",
       "      <th></th>\n",
       "      <th>식당</th>\n",
       "      <th>방영전</th>\n",
       "      <th>방영후</th>\n",
       "    </tr>\n",
       "  </thead>\n",
       "  <tbody>\n",
       "    <tr>\n",
       "      <th>33</th>\n",
       "      <td>그릭슈바인</td>\n",
       "      <td>76</td>\n",
       "      <td>60</td>\n",
       "    </tr>\n",
       "    <tr>\n",
       "      <th>75</th>\n",
       "      <td>도마</td>\n",
       "      <td>16</td>\n",
       "      <td>14</td>\n",
       "    </tr>\n",
       "    <tr>\n",
       "      <th>80</th>\n",
       "      <td>동명항게찜</td>\n",
       "      <td>173</td>\n",
       "      <td>167</td>\n",
       "    </tr>\n",
       "    <tr>\n",
       "      <th>83</th>\n",
       "      <td>두메향기 산</td>\n",
       "      <td>106</td>\n",
       "      <td>60</td>\n",
       "    </tr>\n",
       "    <tr>\n",
       "      <th>93</th>\n",
       "      <td>류재은베이커리</td>\n",
       "      <td>246</td>\n",
       "      <td>226</td>\n",
       "    </tr>\n",
       "    <tr>\n",
       "      <th>104</th>\n",
       "      <td>메이탄</td>\n",
       "      <td>504</td>\n",
       "      <td>496</td>\n",
       "    </tr>\n",
       "    <tr>\n",
       "      <th>149</th>\n",
       "      <td>사돈집</td>\n",
       "      <td>103</td>\n",
       "      <td>66</td>\n",
       "    </tr>\n",
       "    <tr>\n",
       "      <th>169</th>\n",
       "      <td>속씨원한 대구탕</td>\n",
       "      <td>97</td>\n",
       "      <td>93</td>\n",
       "    </tr>\n",
       "    <tr>\n",
       "      <th>183</th>\n",
       "      <td>스앤샤 홍대본점</td>\n",
       "      <td>41</td>\n",
       "      <td>27</td>\n",
       "    </tr>\n",
       "    <tr>\n",
       "      <th>184</th>\n",
       "      <td>시내식당</td>\n",
       "      <td>45</td>\n",
       "      <td>42</td>\n",
       "    </tr>\n",
       "    <tr>\n",
       "      <th>192</th>\n",
       "      <td>아이포차</td>\n",
       "      <td>9</td>\n",
       "      <td>5</td>\n",
       "    </tr>\n",
       "    <tr>\n",
       "      <th>251</th>\n",
       "      <td>제일정육정식당</td>\n",
       "      <td>1</td>\n",
       "      <td>0</td>\n",
       "    </tr>\n",
       "    <tr>\n",
       "      <th>261</th>\n",
       "      <td>짜글이식당</td>\n",
       "      <td>68</td>\n",
       "      <td>54</td>\n",
       "    </tr>\n",
       "    <tr>\n",
       "      <th>290</th>\n",
       "      <td>팔팔민물장어</td>\n",
       "      <td>31</td>\n",
       "      <td>29</td>\n",
       "    </tr>\n",
       "  </tbody>\n",
       "</table>\n",
       "</div>"
      ],
      "text/plain": [
       "           식당  방영전  방영후\n",
       "33      그릭슈바인   76   60\n",
       "75         도마   16   14\n",
       "80      동명항게찜  173  167\n",
       "83     두메향기 산  106   60\n",
       "93    류재은베이커리  246  226\n",
       "104       메이탄  504  496\n",
       "149       사돈집  103   66\n",
       "169  속씨원한 대구탕   97   93\n",
       "183  스앤샤 홍대본점   41   27\n",
       "184      시내식당   45   42\n",
       "192      아이포차    9    5\n",
       "251   제일정육정식당    1    0\n",
       "261     짜글이식당   68   54\n",
       "290    팔팔민물장어   31   29"
      ]
     },
     "execution_count": 23,
     "metadata": {},
     "output_type": "execute_result"
    }
   ],
   "source": [
    "paired.loc[paired['방영전']-paired['방영후'] > 0]"
   ]
  },
  {
   "cell_type": "code",
   "execution_count": 24,
   "metadata": {},
   "outputs": [
    {
     "data": {
      "text/html": [
       "<div>\n",
       "<style scoped>\n",
       "    .dataframe tbody tr th:only-of-type {\n",
       "        vertical-align: middle;\n",
       "    }\n",
       "\n",
       "    .dataframe tbody tr th {\n",
       "        vertical-align: top;\n",
       "    }\n",
       "\n",
       "    .dataframe thead th {\n",
       "        text-align: right;\n",
       "    }\n",
       "</style>\n",
       "<table border=\"1\" class=\"dataframe\">\n",
       "  <thead>\n",
       "    <tr style=\"text-align: right;\">\n",
       "      <th></th>\n",
       "      <th>방영전</th>\n",
       "      <th>방영후</th>\n",
       "    </tr>\n",
       "  </thead>\n",
       "  <tbody>\n",
       "    <tr>\n",
       "      <th>count</th>\n",
       "      <td>320.000000</td>\n",
       "      <td>320.000000</td>\n",
       "    </tr>\n",
       "    <tr>\n",
       "      <th>mean</th>\n",
       "      <td>31.753125</td>\n",
       "      <td>72.156250</td>\n",
       "    </tr>\n",
       "    <tr>\n",
       "      <th>std</th>\n",
       "      <td>55.632062</td>\n",
       "      <td>74.622439</td>\n",
       "    </tr>\n",
       "    <tr>\n",
       "      <th>min</th>\n",
       "      <td>0.000000</td>\n",
       "      <td>0.000000</td>\n",
       "    </tr>\n",
       "    <tr>\n",
       "      <th>25%</th>\n",
       "      <td>5.000000</td>\n",
       "      <td>30.000000</td>\n",
       "    </tr>\n",
       "    <tr>\n",
       "      <th>50%</th>\n",
       "      <td>13.000000</td>\n",
       "      <td>48.500000</td>\n",
       "    </tr>\n",
       "    <tr>\n",
       "      <th>75%</th>\n",
       "      <td>32.250000</td>\n",
       "      <td>92.250000</td>\n",
       "    </tr>\n",
       "    <tr>\n",
       "      <th>max</th>\n",
       "      <td>504.000000</td>\n",
       "      <td>576.000000</td>\n",
       "    </tr>\n",
       "  </tbody>\n",
       "</table>\n",
       "</div>"
      ],
      "text/plain": [
       "              방영전         방영후\n",
       "count  320.000000  320.000000\n",
       "mean    31.753125   72.156250\n",
       "std     55.632062   74.622439\n",
       "min      0.000000    0.000000\n",
       "25%      5.000000   30.000000\n",
       "50%     13.000000   48.500000\n",
       "75%     32.250000   92.250000\n",
       "max    504.000000  576.000000"
      ]
     },
     "execution_count": 24,
     "metadata": {},
     "output_type": "execute_result"
    }
   ],
   "source": [
    "paired[['방영전','방영후']].describe()"
   ]
  },
  {
   "cell_type": "markdown",
   "metadata": {},
   "source": [
    "**평균값을 보았을 때, 방영전후 차이가 있음**"
   ]
  },
  {
   "cell_type": "markdown",
   "metadata": {},
   "source": [
    "### outlier 확인"
   ]
  },
  {
   "cell_type": "code",
   "execution_count": 25,
   "metadata": {
    "scrolled": true
   },
   "outputs": [
    {
     "data": {
      "image/png": "[encoded data removed]",
      "text/plain": [
       "<Figure size 432x288 with 1 Axes>"
      ]
     },
     "metadata": {},
     "output_type": "display_data"
    }
   ],
   "source": [
    "paired[['방영전', '방영후']].plot(kind='box')\n",
    "# This saves the plot as a png file\n",
    "plt.savefig('paired_t-test_tidy_boxplot_outliers.png')"
   ]
  },
  {
   "cell_type": "markdown",
   "metadata": {},
   "source": [
    "outlier 처리"
   ]
  },
  {
   "cell_type": "code",
   "execution_count": 30,
   "metadata": {},
   "outputs": [],
   "source": [
    "paired1 = paired.loc[(paired['방영전']<120)&(paired['방영후']<120)]"
   ]
  },
  {
   "cell_type": "code",
   "execution_count": 31,
   "metadata": {},
   "outputs": [
    {
     "data": {
      "text/plain": [
       "<matplotlib.axes._subplots.AxesSubplot at 0x1d77a8baef0>"
      ]
     },
     "execution_count": 31,
     "metadata": {},
     "output_type": "execute_result"
    },
    {
     "data": {
      "image/png": "[encoded data removed]",
      "text/plain": [
       "<Figure size 432x288 with 1 Axes>"
      ]
     },
     "metadata": {},
     "output_type": "display_data"
    }
   ],
   "source": [
    "paired1[['방영전', '방영후']].plot(kind='box')"
   ]
  },
  {
   "cell_type": "code",
   "execution_count": 32,
   "metadata": {},
   "outputs": [
    {
     "name": "stdout",
     "output_type": "stream",
     "text": [
      "<class 'pandas.core.frame.DataFrame'>\n",
      "Int64Index: 270 entries, 0 to 319\n",
      "Data columns (total 3 columns):\n",
      "식당     270 non-null object\n",
      "방영전    270 non-null int64\n",
      "방영후    270 non-null int64\n",
      "dtypes: int64(2), object(1)\n",
      "memory usage: 8.4+ KB\n"
     ]
    }
   ],
   "source": [
    "paired1.info()"
   ]
  },
  {
   "cell_type": "markdown",
   "metadata": {},
   "source": [
    "### 정규성 검정"
   ]
  },
  {
   "cell_type": "code",
   "execution_count": 33,
   "metadata": {},
   "outputs": [
    {
     "data": {
      "text/plain": [
       "<matplotlib.axes._subplots.AxesSubplot at 0x1d77a9cf470>"
      ]
     },
     "execution_count": 33,
     "metadata": {},
     "output_type": "execute_result"
    },
    {
     "data": {
      "image/png": "[encoded data removed]",
      "text/plain": [
       "<Figure size 432x288 with 1 Axes>"
      ]
     },
     "metadata": {},
     "output_type": "display_data"
    }
   ],
   "source": [
    "paired['post_diff'] = paired['방영후'] - paired['방영전']\n",
    "\n",
    "paired['post_diff'].plot(kind='hist', title= '방영후 포스팅 차이')"
   ]
  },
  {
   "cell_type": "code",
   "execution_count": 34,
   "metadata": {},
   "outputs": [
    {
     "data": {
      "text/plain": [
       "Text(0.5,1,'Posting Difference Q-Q Plot')"
      ]
     },
     "execution_count": 34,
     "metadata": {},
     "output_type": "execute_result"
    },
    {
     "data": {
      "image/png": "[encoded data removed]",
      "text/plain": [
       "<Figure size 432x288 with 1 Axes>"
      ]
     },
     "metadata": {},
     "output_type": "display_data"
    }
   ],
   "source": [
    "stats.probplot(paired['post_diff'], plot= plt)\n",
    "plt.title('Posting Difference Q-Q Plot')"
   ]
  },
  {
   "cell_type": "code",
   "execution_count": 35,
   "metadata": {},
   "outputs": [
    {
     "data": {
      "text/plain": [
       "(0.8607400059700012, 2.384282867677384e-16)"
      ]
     },
     "execution_count": 35,
     "metadata": {},
     "output_type": "execute_result"
    }
   ],
   "source": [
    "stats.shapiro(paired['post_diff'])"
   ]
  },
  {
   "cell_type": "code",
   "execution_count": 36,
   "metadata": {},
   "outputs": [
    {
     "name": "stderr",
     "output_type": "stream",
     "text": [
      "C:\\Anaconda3\\lib\\site-packages\\ipykernel_launcher.py:1: SettingWithCopyWarning: \n",
      "A value is trying to be set on a copy of a slice from a DataFrame.\n",
      "Try using .loc[row_indexer,col_indexer] = value instead\n",
      "\n",
      "See the caveats in the documentation: http://pandas.pydata.org/pandas-docs/stable/indexing.html#indexing-view-versus-copy\n",
      "  \"\"\"Entry point for launching an IPython kernel.\n"
     ]
    },
    {
     "data": {
      "text/plain": [
       "<matplotlib.axes._subplots.AxesSubplot at 0x1d77a9dcb00>"
      ]
     },
     "execution_count": 36,
     "metadata": {},
     "output_type": "execute_result"
    },
    {
     "data": {
      "image/png": "[encoded data removed]",
      "text/plain": [
       "<Figure size 432x288 with 1 Axes>"
      ]
     },
     "metadata": {},
     "output_type": "display_data"
    }
   ],
   "source": [
    "paired1['post_diff'] = paired1['방영후'] - paired1['방영전']\n",
    "\n",
    "paired1['post_diff'].plot(kind='hist', title= '방영후 포스팅 차이')\n"
   ]
  },
  {
   "cell_type": "code",
   "execution_count": 37,
   "metadata": {},
   "outputs": [
    {
     "data": {
      "text/plain": [
       "(0.935321569442749, 1.7257973938811233e-09)"
      ]
     },
     "execution_count": 37,
     "metadata": {},
     "output_type": "execute_result"
    },
    {
     "data": {
      "image/png": "[encoded data removed]",
      "text/plain": [
       "<Figure size 432x288 with 1 Axes>"
      ]
     },
     "metadata": {},
     "output_type": "display_data"
    }
   ],
   "source": [
    "stats.probplot(paired1['post_diff'], plot= plt)\n",
    "plt.title('Posting Difference Q-Q Plot')\n",
    "\n",
    "stats.shapiro(paired1['post_diff'])"
   ]
  },
  {
   "cell_type": "markdown",
   "metadata": {},
   "source": [
    "**정규성은 만족 안하지만 데이터가 많으므로(>30) 일단 정규성을 가정하고 넘어가자..**"
   ]
  },
  {
   "cell_type": "markdown",
   "metadata": {},
   "source": [
    "## Paired sample t-test"
   ]
  },
  {
   "cell_type": "code",
   "execution_count": 38,
   "metadata": {},
   "outputs": [
    {
     "data": {
      "text/plain": [
       "Ttest_relResult(statistic=-18.694270089130175, pvalue=3.4895190993811927e-53)"
      ]
     },
     "execution_count": 38,
     "metadata": {},
     "output_type": "execute_result"
    }
   ],
   "source": [
    "stats.ttest_rel(paired['방영전'], paired['방영후'])"
   ]
  },
  {
   "cell_type": "code",
   "execution_count": 39,
   "metadata": {},
   "outputs": [
    {
     "data": {
      "text/plain": [
       "Ttest_relResult(statistic=-20.429200173294046, pvalue=1.2016002204114699e-56)"
      ]
     },
     "execution_count": 39,
     "metadata": {},
     "output_type": "execute_result"
    }
   ],
   "source": [
    "stats.ttest_rel(paired1['방영전'], paired1['방영후'])"
   ]
  },
  {
   "cell_type": "markdown",
   "metadata": {},
   "source": [
    "**pvalue < 0.05이므로 맛집 프로그램 방영전과 방영후 포스팅 차이가 있다고 말할 수 있음**"
   ]
  }
 ],
 "metadata": {
  "kernelspec": {
   "display_name": "Python 3",
   "language": "python",
   "name": "python3"
  },
  "language_info": {
   "codemirror_mode": {
    "name": "ipython",
    "version": 3
   },
   "file_extension": ".py",
   "mimetype": "text/x-python",
   "name": "python",
   "nbconvert_exporter": "python",
   "pygments_lexer": "ipython3",
   "version": "3.6.5"
  }
 },
 "nbformat": 4,
 "nbformat_minor": 2
}
