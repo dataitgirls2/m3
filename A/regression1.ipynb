{
 "cells": [
  {
   "cell_type": "markdown",
   "metadata": {},
   "source": [
    "# 회귀분석"
   ]
  },
  {
   "cell_type": "markdown",
   "metadata": {},
   "source": [
    "## 검증하고자 하는 것 : 맛집 프로그램별 SNS채널(네이버 블로그)에 미치는 영향력"
   ]
  },
  {
   "cell_type": "markdown",
   "metadata": {},
   "source": [
    "### 분석계획 \n",
    "### 1. 독립변수에 방송 프로그램 외 변수들을 추가하면서 R^2가 높아지는지 확인 & R^2가 가장 높은 회귀식 도출\n",
    "### 2. 방송 프로그램별 회귀식을 만들어 포스팅 증가에 가장 영향을 미치는 요인 찾아보기\n",
    "### 3. 2017년 데이터(train set)로 회귀식을 만든 후, 2018년 데이터(test set)로 예측해보고 정확도 확인"
   ]
  },
  {
   "cell_type": "code",
   "execution_count": 1,
   "metadata": {},
   "outputs": [],
   "source": [
    "import pandas as pd\n",
    "import numpy as np"
   ]
  },
  {
   "cell_type": "code",
   "execution_count": 2,
   "metadata": {},
   "outputs": [],
   "source": [
    "import statsmodels.formula.api as smf\n",
    "import statsmodels.stats.api as sms\n",
    "from scipy import stats\n",
    "from statsmodels.compat import lzip\n",
    "import statsmodels\n",
    "import matplotlib.pyplot as plt"
   ]
  },
  {
   "cell_type": "code",
   "execution_count": 28,
   "metadata": {},
   "outputs": [],
   "source": [
    "df = pd.read_csv('raw_data/reg.csv')"
   ]
  },
  {
   "cell_type": "code",
   "execution_count": 29,
   "metadata": {},
   "outputs": [
    {
     "data": {
      "text/html": [
       "<div>\n",
       "<style scoped>\n",
       "    .dataframe tbody tr th:only-of-type {\n",
       "        vertical-align: middle;\n",
       "    }\n",
       "\n",
       "    .dataframe tbody tr th {\n",
       "        vertical-align: top;\n",
       "    }\n",
       "\n",
       "    .dataframe thead th {\n",
       "        text-align: right;\n",
       "    }\n",
       "</style>\n",
       "<table border=\"1\" class=\"dataframe\">\n",
       "  <thead>\n",
       "    <tr style=\"text-align: right;\">\n",
       "      <th></th>\n",
       "      <th>식당</th>\n",
       "      <th>방송</th>\n",
       "      <th>방영전</th>\n",
       "      <th>방영후</th>\n",
       "      <th>증가</th>\n",
       "      <th>서울</th>\n",
       "      <th>방영월</th>\n",
       "    </tr>\n",
       "  </thead>\n",
       "  <tbody>\n",
       "    <tr>\n",
       "      <th>0</th>\n",
       "      <td>136생고기</td>\n",
       "      <td>생생정보</td>\n",
       "      <td>4</td>\n",
       "      <td>45</td>\n",
       "      <td>41</td>\n",
       "      <td>0</td>\n",
       "      <td>3</td>\n",
       "    </tr>\n",
       "    <tr>\n",
       "      <th>1</th>\n",
       "      <td>3일한우국밥</td>\n",
       "      <td>생생정보</td>\n",
       "      <td>35</td>\n",
       "      <td>51</td>\n",
       "      <td>16</td>\n",
       "      <td>1</td>\n",
       "      <td>3</td>\n",
       "    </tr>\n",
       "    <tr>\n",
       "      <th>2</th>\n",
       "      <td>가람떡갈비</td>\n",
       "      <td>맛있는녀석들</td>\n",
       "      <td>21</td>\n",
       "      <td>50</td>\n",
       "      <td>29</td>\n",
       "      <td>1</td>\n",
       "      <td>1</td>\n",
       "    </tr>\n",
       "    <tr>\n",
       "      <th>3</th>\n",
       "      <td>가마솥 족발</td>\n",
       "      <td>생생정보</td>\n",
       "      <td>31</td>\n",
       "      <td>106</td>\n",
       "      <td>75</td>\n",
       "      <td>0</td>\n",
       "      <td>3</td>\n",
       "    </tr>\n",
       "    <tr>\n",
       "      <th>4</th>\n",
       "      <td>가마솥손두부</td>\n",
       "      <td>생생정보</td>\n",
       "      <td>11</td>\n",
       "      <td>45</td>\n",
       "      <td>34</td>\n",
       "      <td>1</td>\n",
       "      <td>4</td>\n",
       "    </tr>\n",
       "  </tbody>\n",
       "</table>\n",
       "</div>"
      ],
      "text/plain": [
       "       식당      방송  방영전  방영후  증가  서울  방영월\n",
       "0  136생고기    생생정보    4   45  41   0    3\n",
       "1  3일한우국밥    생생정보   35   51  16   1    3\n",
       "2   가람떡갈비  맛있는녀석들   21   50  29   1    1\n",
       "3  가마솥 족발    생생정보   31  106  75   0    3\n",
       "4  가마솥손두부    생생정보   11   45  34   1    4"
      ]
     },
     "execution_count": 29,
     "metadata": {},
     "output_type": "execute_result"
    }
   ],
   "source": [
    "df.head()"
   ]
  },
  {
   "cell_type": "markdown",
   "metadata": {},
   "source": [
    "## X : 방송(생생정보, 맛있는녀석들, 수요미식회),  방영전 포스팅 수, 서울(서울:1, 서울 외 지역:0), 계절(봄, 여름, 가을, 겨울)\n",
    "\n",
    "## Y : 방영 후 포스팅 증감 수"
   ]
  },
  {
   "cell_type": "markdown",
   "metadata": {},
   "source": [
    "## 1. 데이터 전처리 : 더미변수 만들기"
   ]
  },
  {
   "cell_type": "code",
   "execution_count": 30,
   "metadata": {},
   "outputs": [],
   "source": [
    "#봄(3-5월), 여름(6-8월), 가을(9-11월), 겨울(12-2월)\n",
    "df.loc[(df['방영월']>2)&(df['방영월']<6), '계절'] = '봄'\n",
    "df.loc[(df['방영월']>5)&(df['방영월']<9), '계절'] = '여름'\n",
    "df.loc[(df['방영월']>8)&(df['방영월']<12), '계절'] = '가을'\n",
    "df.loc[(df['방영월']<3)|(df['방영월']==12), '계절'] = '겨울'"
   ]
  },
  {
   "cell_type": "code",
   "execution_count": 31,
   "metadata": {},
   "outputs": [
    {
     "data": {
      "text/html": [
       "<div>\n",
       "<style scoped>\n",
       "    .dataframe tbody tr th:only-of-type {\n",
       "        vertical-align: middle;\n",
       "    }\n",
       "\n",
       "    .dataframe tbody tr th {\n",
       "        vertical-align: top;\n",
       "    }\n",
       "\n",
       "    .dataframe thead th {\n",
       "        text-align: right;\n",
       "    }\n",
       "</style>\n",
       "<table border=\"1\" class=\"dataframe\">\n",
       "  <thead>\n",
       "    <tr style=\"text-align: right;\">\n",
       "      <th></th>\n",
       "      <th>식당</th>\n",
       "      <th>방송</th>\n",
       "      <th>방영전</th>\n",
       "      <th>방영후</th>\n",
       "      <th>증가</th>\n",
       "      <th>서울</th>\n",
       "      <th>방영월</th>\n",
       "      <th>계절</th>\n",
       "    </tr>\n",
       "  </thead>\n",
       "  <tbody>\n",
       "    <tr>\n",
       "      <th>0</th>\n",
       "      <td>136생고기</td>\n",
       "      <td>생생정보</td>\n",
       "      <td>4</td>\n",
       "      <td>45</td>\n",
       "      <td>41</td>\n",
       "      <td>0</td>\n",
       "      <td>3</td>\n",
       "      <td>봄</td>\n",
       "    </tr>\n",
       "    <tr>\n",
       "      <th>1</th>\n",
       "      <td>3일한우국밥</td>\n",
       "      <td>생생정보</td>\n",
       "      <td>35</td>\n",
       "      <td>51</td>\n",
       "      <td>16</td>\n",
       "      <td>1</td>\n",
       "      <td>3</td>\n",
       "      <td>봄</td>\n",
       "    </tr>\n",
       "    <tr>\n",
       "      <th>2</th>\n",
       "      <td>가람떡갈비</td>\n",
       "      <td>맛있는녀석들</td>\n",
       "      <td>21</td>\n",
       "      <td>50</td>\n",
       "      <td>29</td>\n",
       "      <td>1</td>\n",
       "      <td>1</td>\n",
       "      <td>겨울</td>\n",
       "    </tr>\n",
       "    <tr>\n",
       "      <th>3</th>\n",
       "      <td>가마솥 족발</td>\n",
       "      <td>생생정보</td>\n",
       "      <td>31</td>\n",
       "      <td>106</td>\n",
       "      <td>75</td>\n",
       "      <td>0</td>\n",
       "      <td>3</td>\n",
       "      <td>봄</td>\n",
       "    </tr>\n",
       "    <tr>\n",
       "      <th>4</th>\n",
       "      <td>가마솥손두부</td>\n",
       "      <td>생생정보</td>\n",
       "      <td>11</td>\n",
       "      <td>45</td>\n",
       "      <td>34</td>\n",
       "      <td>1</td>\n",
       "      <td>4</td>\n",
       "      <td>봄</td>\n",
       "    </tr>\n",
       "  </tbody>\n",
       "</table>\n",
       "</div>"
      ],
      "text/plain": [
       "       식당      방송  방영전  방영후  증가  서울  방영월  계절\n",
       "0  136생고기    생생정보    4   45  41   0    3   봄\n",
       "1  3일한우국밥    생생정보   35   51  16   1    3   봄\n",
       "2   가람떡갈비  맛있는녀석들   21   50  29   1    1  겨울\n",
       "3  가마솥 족발    생생정보   31  106  75   0    3   봄\n",
       "4  가마솥손두부    생생정보   11   45  34   1    4   봄"
      ]
     },
     "execution_count": 31,
     "metadata": {},
     "output_type": "execute_result"
    }
   ],
   "source": [
    "df.head()"
   ]
  },
  {
   "cell_type": "code",
   "execution_count": 32,
   "metadata": {},
   "outputs": [
    {
     "name": "stdout",
     "output_type": "stream",
     "text": [
      "<class 'pandas.core.frame.DataFrame'>\n",
      "RangeIndex: 317 entries, 0 to 316\n",
      "Data columns (total 8 columns):\n",
      "식당     317 non-null object\n",
      "방송     317 non-null object\n",
      "방영전    317 non-null int64\n",
      "방영후    317 non-null int64\n",
      "증가     317 non-null int64\n",
      "서울     317 non-null category\n",
      "방영월    317 non-null int64\n",
      "계절     317 non-null object\n",
      "dtypes: category(1), int64(4), object(3)\n",
      "memory usage: 17.8+ KB\n"
     ]
    }
   ],
   "source": [
    "df['서울'] = df['서울'].astype('category')\n",
    "df.info()"
   ]
  },
  {
   "cell_type": "code",
   "execution_count": 33,
   "metadata": {},
   "outputs": [],
   "source": [
    "def dummy_data(data, columns):\n",
    "    for column in columns:\n",
    "        data = pd.concat([data, pd.get_dummies(data[column], prefix = column)], axis=1)\n",
    "        data = data.drop(column, axis=1)\n",
    "    return data"
   ]
  },
  {
   "cell_type": "code",
   "execution_count": 34,
   "metadata": {},
   "outputs": [
    {
     "data": {
      "text/html": [
       "<div>\n",
       "<style scoped>\n",
       "    .dataframe tbody tr th:only-of-type {\n",
       "        vertical-align: middle;\n",
       "    }\n",
       "\n",
       "    .dataframe tbody tr th {\n",
       "        vertical-align: top;\n",
       "    }\n",
       "\n",
       "    .dataframe thead th {\n",
       "        text-align: right;\n",
       "    }\n",
       "</style>\n",
       "<table border=\"1\" class=\"dataframe\">\n",
       "  <thead>\n",
       "    <tr style=\"text-align: right;\">\n",
       "      <th></th>\n",
       "      <th>식당</th>\n",
       "      <th>방영전</th>\n",
       "      <th>방영후</th>\n",
       "      <th>증가</th>\n",
       "      <th>방영월</th>\n",
       "      <th>방송_맛있는녀석들</th>\n",
       "      <th>방송_생생정보</th>\n",
       "      <th>방송_수요미식회</th>\n",
       "      <th>서울_0</th>\n",
       "      <th>서울_1</th>\n",
       "      <th>계절_가을</th>\n",
       "      <th>계절_겨울</th>\n",
       "      <th>계절_봄</th>\n",
       "      <th>계절_여름</th>\n",
       "    </tr>\n",
       "  </thead>\n",
       "  <tbody>\n",
       "    <tr>\n",
       "      <th>0</th>\n",
       "      <td>136생고기</td>\n",
       "      <td>4</td>\n",
       "      <td>45</td>\n",
       "      <td>41</td>\n",
       "      <td>3</td>\n",
       "      <td>0</td>\n",
       "      <td>1</td>\n",
       "      <td>0</td>\n",
       "      <td>1</td>\n",
       "      <td>0</td>\n",
       "      <td>0</td>\n",
       "      <td>0</td>\n",
       "      <td>1</td>\n",
       "      <td>0</td>\n",
       "    </tr>\n",
       "    <tr>\n",
       "      <th>1</th>\n",
       "      <td>3일한우국밥</td>\n",
       "      <td>35</td>\n",
       "      <td>51</td>\n",
       "      <td>16</td>\n",
       "      <td>3</td>\n",
       "      <td>0</td>\n",
       "      <td>1</td>\n",
       "      <td>0</td>\n",
       "      <td>0</td>\n",
       "      <td>1</td>\n",
       "      <td>0</td>\n",
       "      <td>0</td>\n",
       "      <td>1</td>\n",
       "      <td>0</td>\n",
       "    </tr>\n",
       "    <tr>\n",
       "      <th>2</th>\n",
       "      <td>가람떡갈비</td>\n",
       "      <td>21</td>\n",
       "      <td>50</td>\n",
       "      <td>29</td>\n",
       "      <td>1</td>\n",
       "      <td>1</td>\n",
       "      <td>0</td>\n",
       "      <td>0</td>\n",
       "      <td>0</td>\n",
       "      <td>1</td>\n",
       "      <td>0</td>\n",
       "      <td>1</td>\n",
       "      <td>0</td>\n",
       "      <td>0</td>\n",
       "    </tr>\n",
       "    <tr>\n",
       "      <th>3</th>\n",
       "      <td>가마솥 족발</td>\n",
       "      <td>31</td>\n",
       "      <td>106</td>\n",
       "      <td>75</td>\n",
       "      <td>3</td>\n",
       "      <td>0</td>\n",
       "      <td>1</td>\n",
       "      <td>0</td>\n",
       "      <td>1</td>\n",
       "      <td>0</td>\n",
       "      <td>0</td>\n",
       "      <td>0</td>\n",
       "      <td>1</td>\n",
       "      <td>0</td>\n",
       "    </tr>\n",
       "    <tr>\n",
       "      <th>4</th>\n",
       "      <td>가마솥손두부</td>\n",
       "      <td>11</td>\n",
       "      <td>45</td>\n",
       "      <td>34</td>\n",
       "      <td>4</td>\n",
       "      <td>0</td>\n",
       "      <td>1</td>\n",
       "      <td>0</td>\n",
       "      <td>0</td>\n",
       "      <td>1</td>\n",
       "      <td>0</td>\n",
       "      <td>0</td>\n",
       "      <td>1</td>\n",
       "      <td>0</td>\n",
       "    </tr>\n",
       "  </tbody>\n",
       "</table>\n",
       "</div>"
      ],
      "text/plain": [
       "       식당  방영전  방영후  증가  방영월  방송_맛있는녀석들  방송_생생정보  방송_수요미식회  서울_0  서울_1  계절_가을  \\\n",
       "0  136생고기    4   45  41    3          0        1         0     1     0      0   \n",
       "1  3일한우국밥   35   51  16    3          0        1         0     0     1      0   \n",
       "2   가람떡갈비   21   50  29    1          1        0         0     0     1      0   \n",
       "3  가마솥 족발   31  106  75    3          0        1         0     1     0      0   \n",
       "4  가마솥손두부   11   45  34    4          0        1         0     0     1      0   \n",
       "\n",
       "   계절_겨울  계절_봄  계절_여름  \n",
       "0      0     1      0  \n",
       "1      0     1      0  \n",
       "2      1     0      0  \n",
       "3      0     1      0  \n",
       "4      0     1      0  "
      ]
     },
     "execution_count": 34,
     "metadata": {},
     "output_type": "execute_result"
    }
   ],
   "source": [
    "dummy_columns = ['방송', '서울', '계절']\n",
    "\n",
    "reg = dummy_data(df, dummy_columns)\n",
    "reg.head()"
   ]
  },
  {
   "cell_type": "code",
   "execution_count": 35,
   "metadata": {},
   "outputs": [
    {
     "data": {
      "text/html": [
       "<div>\n",
       "<style scoped>\n",
       "    .dataframe tbody tr th:only-of-type {\n",
       "        vertical-align: middle;\n",
       "    }\n",
       "\n",
       "    .dataframe tbody tr th {\n",
       "        vertical-align: top;\n",
       "    }\n",
       "\n",
       "    .dataframe thead th {\n",
       "        text-align: right;\n",
       "    }\n",
       "</style>\n",
       "<table border=\"1\" class=\"dataframe\">\n",
       "  <thead>\n",
       "    <tr style=\"text-align: right;\">\n",
       "      <th></th>\n",
       "      <th>방영전</th>\n",
       "      <th>방영후</th>\n",
       "      <th>증가</th>\n",
       "      <th>방영월</th>\n",
       "      <th>방송_맛있는녀석들</th>\n",
       "      <th>방송_생생정보</th>\n",
       "      <th>방송_수요미식회</th>\n",
       "      <th>서울_0</th>\n",
       "      <th>서울_1</th>\n",
       "      <th>계절_가을</th>\n",
       "      <th>계절_겨울</th>\n",
       "      <th>계절_봄</th>\n",
       "      <th>계절_여름</th>\n",
       "    </tr>\n",
       "  </thead>\n",
       "  <tbody>\n",
       "    <tr>\n",
       "      <th>count</th>\n",
       "      <td>317.000000</td>\n",
       "      <td>317.000000</td>\n",
       "      <td>317.000000</td>\n",
       "      <td>317.000000</td>\n",
       "      <td>317.000000</td>\n",
       "      <td>317.000000</td>\n",
       "      <td>317.00000</td>\n",
       "      <td>317.000000</td>\n",
       "      <td>317.000000</td>\n",
       "      <td>317.000000</td>\n",
       "      <td>317.000000</td>\n",
       "      <td>317.00000</td>\n",
       "      <td>317.000000</td>\n",
       "    </tr>\n",
       "    <tr>\n",
       "      <th>mean</th>\n",
       "      <td>31.479495</td>\n",
       "      <td>72.148265</td>\n",
       "      <td>40.668770</td>\n",
       "      <td>5.747634</td>\n",
       "      <td>0.318612</td>\n",
       "      <td>0.350158</td>\n",
       "      <td>0.33123</td>\n",
       "      <td>0.397476</td>\n",
       "      <td>0.602524</td>\n",
       "      <td>0.217666</td>\n",
       "      <td>0.283912</td>\n",
       "      <td>0.33123</td>\n",
       "      <td>0.167192</td>\n",
       "    </tr>\n",
       "    <tr>\n",
       "      <th>std</th>\n",
       "      <td>55.628376</td>\n",
       "      <td>74.439170</td>\n",
       "      <td>38.331095</td>\n",
       "      <td>3.472227</td>\n",
       "      <td>0.466675</td>\n",
       "      <td>0.477773</td>\n",
       "      <td>0.47140</td>\n",
       "      <td>0.490150</td>\n",
       "      <td>0.490150</td>\n",
       "      <td>0.413311</td>\n",
       "      <td>0.451607</td>\n",
       "      <td>0.47140</td>\n",
       "      <td>0.373738</td>\n",
       "    </tr>\n",
       "    <tr>\n",
       "      <th>min</th>\n",
       "      <td>0.000000</td>\n",
       "      <td>0.000000</td>\n",
       "      <td>-37.000000</td>\n",
       "      <td>1.000000</td>\n",
       "      <td>0.000000</td>\n",
       "      <td>0.000000</td>\n",
       "      <td>0.00000</td>\n",
       "      <td>0.000000</td>\n",
       "      <td>0.000000</td>\n",
       "      <td>0.000000</td>\n",
       "      <td>0.000000</td>\n",
       "      <td>0.00000</td>\n",
       "      <td>0.000000</td>\n",
       "    </tr>\n",
       "    <tr>\n",
       "      <th>25%</th>\n",
       "      <td>5.000000</td>\n",
       "      <td>31.000000</td>\n",
       "      <td>16.000000</td>\n",
       "      <td>3.000000</td>\n",
       "      <td>0.000000</td>\n",
       "      <td>0.000000</td>\n",
       "      <td>0.00000</td>\n",
       "      <td>0.000000</td>\n",
       "      <td>0.000000</td>\n",
       "      <td>0.000000</td>\n",
       "      <td>0.000000</td>\n",
       "      <td>0.00000</td>\n",
       "      <td>0.000000</td>\n",
       "    </tr>\n",
       "    <tr>\n",
       "      <th>50%</th>\n",
       "      <td>13.000000</td>\n",
       "      <td>48.000000</td>\n",
       "      <td>28.000000</td>\n",
       "      <td>5.000000</td>\n",
       "      <td>0.000000</td>\n",
       "      <td>0.000000</td>\n",
       "      <td>0.00000</td>\n",
       "      <td>0.000000</td>\n",
       "      <td>1.000000</td>\n",
       "      <td>0.000000</td>\n",
       "      <td>0.000000</td>\n",
       "      <td>0.00000</td>\n",
       "      <td>0.000000</td>\n",
       "    </tr>\n",
       "    <tr>\n",
       "      <th>75%</th>\n",
       "      <td>32.000000</td>\n",
       "      <td>92.000000</td>\n",
       "      <td>55.000000</td>\n",
       "      <td>9.000000</td>\n",
       "      <td>1.000000</td>\n",
       "      <td>1.000000</td>\n",
       "      <td>1.00000</td>\n",
       "      <td>1.000000</td>\n",
       "      <td>1.000000</td>\n",
       "      <td>0.000000</td>\n",
       "      <td>1.000000</td>\n",
       "      <td>1.00000</td>\n",
       "      <td>0.000000</td>\n",
       "    </tr>\n",
       "    <tr>\n",
       "      <th>max</th>\n",
       "      <td>504.000000</td>\n",
       "      <td>576.000000</td>\n",
       "      <td>265.000000</td>\n",
       "      <td>12.000000</td>\n",
       "      <td>1.000000</td>\n",
       "      <td>1.000000</td>\n",
       "      <td>1.00000</td>\n",
       "      <td>1.000000</td>\n",
       "      <td>1.000000</td>\n",
       "      <td>1.000000</td>\n",
       "      <td>1.000000</td>\n",
       "      <td>1.00000</td>\n",
       "      <td>1.000000</td>\n",
       "    </tr>\n",
       "  </tbody>\n",
       "</table>\n",
       "</div>"
      ],
      "text/plain": [
       "              방영전         방영후          증가         방영월   방송_맛있는녀석들     방송_생생정보  \\\n",
       "count  317.000000  317.000000  317.000000  317.000000  317.000000  317.000000   \n",
       "mean    31.479495   72.148265   40.668770    5.747634    0.318612    0.350158   \n",
       "std     55.628376   74.439170   38.331095    3.472227    0.466675    0.477773   \n",
       "min      0.000000    0.000000  -37.000000    1.000000    0.000000    0.000000   \n",
       "25%      5.000000   31.000000   16.000000    3.000000    0.000000    0.000000   \n",
       "50%     13.000000   48.000000   28.000000    5.000000    0.000000    0.000000   \n",
       "75%     32.000000   92.000000   55.000000    9.000000    1.000000    1.000000   \n",
       "max    504.000000  576.000000  265.000000   12.000000    1.000000    1.000000   \n",
       "\n",
       "        방송_수요미식회        서울_0        서울_1       계절_가을       계절_겨울       계절_봄  \\\n",
       "count  317.00000  317.000000  317.000000  317.000000  317.000000  317.00000   \n",
       "mean     0.33123    0.397476    0.602524    0.217666    0.283912    0.33123   \n",
       "std      0.47140    0.490150    0.490150    0.413311    0.451607    0.47140   \n",
       "min      0.00000    0.000000    0.000000    0.000000    0.000000    0.00000   \n",
       "25%      0.00000    0.000000    0.000000    0.000000    0.000000    0.00000   \n",
       "50%      0.00000    0.000000    1.000000    0.000000    0.000000    0.00000   \n",
       "75%      1.00000    1.000000    1.000000    0.000000    1.000000    1.00000   \n",
       "max      1.00000    1.000000    1.000000    1.000000    1.000000    1.00000   \n",
       "\n",
       "            계절_여름  \n",
       "count  317.000000  \n",
       "mean     0.167192  \n",
       "std      0.373738  \n",
       "min      0.000000  \n",
       "25%      0.000000  \n",
       "50%      0.000000  \n",
       "75%      0.000000  \n",
       "max      1.000000  "
      ]
     },
     "execution_count": 35,
     "metadata": {},
     "output_type": "execute_result"
    }
   ],
   "source": [
    "reg.describe()"
   ]
  },
  {
   "cell_type": "code",
   "execution_count": 36,
   "metadata": {},
   "outputs": [
    {
     "data": {
      "text/plain": [
       "Index(['식당', '방영전', '방영후', '증가', '방영월', '방송_맛있는녀석들', '방송_생생정보', '방송_수요미식회',\n",
       "       '서울_0', '서울_1', '계절_가을', '계절_겨울', '계절_봄', '계절_여름'],\n",
       "      dtype='object')"
      ]
     },
     "execution_count": 36,
     "metadata": {},
     "output_type": "execute_result"
    }
   ],
   "source": [
    "reg.columns"
   ]
  },
  {
   "cell_type": "code",
   "execution_count": 17,
   "metadata": {},
   "outputs": [],
   "source": [
    "reg.to_csv('raw_data/reg_tidy.csv', index=False)"
   ]
  },
  {
   "cell_type": "code",
   "execution_count": 37,
   "metadata": {},
   "outputs": [
    {
     "data": {
      "text/html": [
       "<div>\n",
       "<style scoped>\n",
       "    .dataframe tbody tr th:only-of-type {\n",
       "        vertical-align: middle;\n",
       "    }\n",
       "\n",
       "    .dataframe tbody tr th {\n",
       "        vertical-align: top;\n",
       "    }\n",
       "\n",
       "    .dataframe thead th {\n",
       "        text-align: right;\n",
       "    }\n",
       "</style>\n",
       "<table border=\"1\" class=\"dataframe\">\n",
       "  <thead>\n",
       "    <tr style=\"text-align: right;\">\n",
       "      <th></th>\n",
       "      <th>식당</th>\n",
       "      <th>방영전</th>\n",
       "      <th>방영후</th>\n",
       "      <th>증가</th>\n",
       "      <th>방영월</th>\n",
       "      <th>방송_생생정보</th>\n",
       "      <th>방송_수요미식회</th>\n",
       "      <th>서울_1</th>\n",
       "      <th>계절_가을</th>\n",
       "      <th>계절_겨울</th>\n",
       "      <th>계절_봄</th>\n",
       "      <th>계절_여름</th>\n",
       "    </tr>\n",
       "  </thead>\n",
       "  <tbody>\n",
       "    <tr>\n",
       "      <th>0</th>\n",
       "      <td>136생고기</td>\n",
       "      <td>4</td>\n",
       "      <td>45</td>\n",
       "      <td>41</td>\n",
       "      <td>3</td>\n",
       "      <td>1</td>\n",
       "      <td>0</td>\n",
       "      <td>0</td>\n",
       "      <td>0</td>\n",
       "      <td>0</td>\n",
       "      <td>1</td>\n",
       "      <td>0</td>\n",
       "    </tr>\n",
       "    <tr>\n",
       "      <th>1</th>\n",
       "      <td>3일한우국밥</td>\n",
       "      <td>35</td>\n",
       "      <td>51</td>\n",
       "      <td>16</td>\n",
       "      <td>3</td>\n",
       "      <td>1</td>\n",
       "      <td>0</td>\n",
       "      <td>1</td>\n",
       "      <td>0</td>\n",
       "      <td>0</td>\n",
       "      <td>1</td>\n",
       "      <td>0</td>\n",
       "    </tr>\n",
       "    <tr>\n",
       "      <th>2</th>\n",
       "      <td>가람떡갈비</td>\n",
       "      <td>21</td>\n",
       "      <td>50</td>\n",
       "      <td>29</td>\n",
       "      <td>1</td>\n",
       "      <td>0</td>\n",
       "      <td>0</td>\n",
       "      <td>1</td>\n",
       "      <td>0</td>\n",
       "      <td>1</td>\n",
       "      <td>0</td>\n",
       "      <td>0</td>\n",
       "    </tr>\n",
       "    <tr>\n",
       "      <th>3</th>\n",
       "      <td>가마솥 족발</td>\n",
       "      <td>31</td>\n",
       "      <td>106</td>\n",
       "      <td>75</td>\n",
       "      <td>3</td>\n",
       "      <td>1</td>\n",
       "      <td>0</td>\n",
       "      <td>0</td>\n",
       "      <td>0</td>\n",
       "      <td>0</td>\n",
       "      <td>1</td>\n",
       "      <td>0</td>\n",
       "    </tr>\n",
       "    <tr>\n",
       "      <th>4</th>\n",
       "      <td>가마솥손두부</td>\n",
       "      <td>11</td>\n",
       "      <td>45</td>\n",
       "      <td>34</td>\n",
       "      <td>4</td>\n",
       "      <td>1</td>\n",
       "      <td>0</td>\n",
       "      <td>1</td>\n",
       "      <td>0</td>\n",
       "      <td>0</td>\n",
       "      <td>1</td>\n",
       "      <td>0</td>\n",
       "    </tr>\n",
       "  </tbody>\n",
       "</table>\n",
       "</div>"
      ],
      "text/plain": [
       "       식당  방영전  방영후  증가  방영월  방송_생생정보  방송_수요미식회  서울_1  계절_가을  계절_겨울  계절_봄  \\\n",
       "0  136생고기    4   45  41    3        1         0     0      0      0     1   \n",
       "1  3일한우국밥   35   51  16    3        1         0     1      0      0     1   \n",
       "2   가람떡갈비   21   50  29    1        0         0     1      0      1     0   \n",
       "3  가마솥 족발   31  106  75    3        1         0     0      0      0     1   \n",
       "4  가마솥손두부   11   45  34    4        1         0     1      0      0     1   \n",
       "\n",
       "   계절_여름  \n",
       "0      0  \n",
       "1      0  \n",
       "2      0  \n",
       "3      0  \n",
       "4      0  "
      ]
     },
     "execution_count": 37,
     "metadata": {},
     "output_type": "execute_result"
    }
   ],
   "source": [
    "reg.drop(['방송_맛있는녀석들' , '서울_0'], axis=1 ,inplace= True)\n",
    "reg.head()"
   ]
  },
  {
   "cell_type": "code",
   "execution_count": 38,
   "metadata": {},
   "outputs": [
    {
     "data": {
      "text/html": [
       "<div>\n",
       "<style scoped>\n",
       "    .dataframe tbody tr th:only-of-type {\n",
       "        vertical-align: middle;\n",
       "    }\n",
       "\n",
       "    .dataframe tbody tr th {\n",
       "        vertical-align: top;\n",
       "    }\n",
       "\n",
       "    .dataframe thead th {\n",
       "        text-align: right;\n",
       "    }\n",
       "</style>\n",
       "<table border=\"1\" class=\"dataframe\">\n",
       "  <thead>\n",
       "    <tr style=\"text-align: right;\">\n",
       "      <th></th>\n",
       "      <th>식당</th>\n",
       "      <th>방영전</th>\n",
       "      <th>증가</th>\n",
       "      <th>방송_생생정보</th>\n",
       "      <th>방송_수요미식회</th>\n",
       "      <th>서울_1</th>\n",
       "      <th>계절_가을</th>\n",
       "      <th>계절_겨울</th>\n",
       "      <th>계절_봄</th>\n",
       "      <th>계절_여름</th>\n",
       "    </tr>\n",
       "  </thead>\n",
       "  <tbody>\n",
       "    <tr>\n",
       "      <th>0</th>\n",
       "      <td>136생고기</td>\n",
       "      <td>4</td>\n",
       "      <td>41</td>\n",
       "      <td>1</td>\n",
       "      <td>0</td>\n",
       "      <td>0</td>\n",
       "      <td>0</td>\n",
       "      <td>0</td>\n",
       "      <td>1</td>\n",
       "      <td>0</td>\n",
       "    </tr>\n",
       "    <tr>\n",
       "      <th>1</th>\n",
       "      <td>3일한우국밥</td>\n",
       "      <td>35</td>\n",
       "      <td>16</td>\n",
       "      <td>1</td>\n",
       "      <td>0</td>\n",
       "      <td>1</td>\n",
       "      <td>0</td>\n",
       "      <td>0</td>\n",
       "      <td>1</td>\n",
       "      <td>0</td>\n",
       "    </tr>\n",
       "    <tr>\n",
       "      <th>2</th>\n",
       "      <td>가람떡갈비</td>\n",
       "      <td>21</td>\n",
       "      <td>29</td>\n",
       "      <td>0</td>\n",
       "      <td>0</td>\n",
       "      <td>1</td>\n",
       "      <td>0</td>\n",
       "      <td>1</td>\n",
       "      <td>0</td>\n",
       "      <td>0</td>\n",
       "    </tr>\n",
       "    <tr>\n",
       "      <th>3</th>\n",
       "      <td>가마솥 족발</td>\n",
       "      <td>31</td>\n",
       "      <td>75</td>\n",
       "      <td>1</td>\n",
       "      <td>0</td>\n",
       "      <td>0</td>\n",
       "      <td>0</td>\n",
       "      <td>0</td>\n",
       "      <td>1</td>\n",
       "      <td>0</td>\n",
       "    </tr>\n",
       "    <tr>\n",
       "      <th>4</th>\n",
       "      <td>가마솥손두부</td>\n",
       "      <td>11</td>\n",
       "      <td>34</td>\n",
       "      <td>1</td>\n",
       "      <td>0</td>\n",
       "      <td>1</td>\n",
       "      <td>0</td>\n",
       "      <td>0</td>\n",
       "      <td>1</td>\n",
       "      <td>0</td>\n",
       "    </tr>\n",
       "  </tbody>\n",
       "</table>\n",
       "</div>"
      ],
      "text/plain": [
       "       식당  방영전  증가  방송_생생정보  방송_수요미식회  서울_1  계절_가을  계절_겨울  계절_봄  계절_여름\n",
       "0  136생고기    4  41        1         0     0      0      0     1      0\n",
       "1  3일한우국밥   35  16        1         0     1      0      0     1      0\n",
       "2   가람떡갈비   21  29        0         0     1      0      1     0      0\n",
       "3  가마솥 족발   31  75        1         0     0      0      0     1      0\n",
       "4  가마솥손두부   11  34        1         0     1      0      0     1      0"
      ]
     },
     "execution_count": 38,
     "metadata": {},
     "output_type": "execute_result"
    }
   ],
   "source": [
    "reg.drop(['방영후' , '방영월'], axis=1 ,inplace= True)\n",
    "reg.head()"
   ]
  },
  {
   "cell_type": "markdown",
   "metadata": {},
   "source": [
    "# 분석1 : 독립변수에 방송 프로그램 외 변수들을 추가하면서 R^2가 높아지는지 확인 & R^2가 가장 높은 회귀식 도출"
   ]
  },
  {
   "cell_type": "markdown",
   "metadata": {},
   "source": [
    "## 기본모형 : 증가(y) ~ 방송_생생정보(x1) + 방송_수요미식회(x2) + 방영전(x3)"
   ]
  },
  {
   "cell_type": "code",
   "execution_count": 18,
   "metadata": {},
   "outputs": [],
   "source": [
    "model1 = smf.ols(\"증가 ~ 방송_생생정보 + 방송_수요미식회 + 방영전\",  data=reg).fit(cov_type='HC0')"
   ]
  },
  {
   "cell_type": "markdown",
   "metadata": {},
   "source": [
    "## 1. 가정"
   ]
  },
  {
   "cell_type": "markdown",
   "metadata": {},
   "source": [
    "### 1) 정규성"
   ]
  },
  {
   "cell_type": "code",
   "execution_count": 12,
   "metadata": {
    "scrolled": true
   },
   "outputs": [
    {
     "data": {
      "text/plain": [
       "<matplotlib.axes._subplots.AxesSubplot at 0x1ecf7703198>"
      ]
     },
     "execution_count": 12,
     "metadata": {},
     "output_type": "execute_result"
    },
    {
     "data": {
      "image/png": "[encoded data removed]",
      "text/plain": [
       "<Figure size 432x288 with 1 Axes>"
      ]
     },
     "metadata": {},
     "output_type": "display_data"
    }
   ],
   "source": [
    "df['증가'].plot(kind='hist')"
   ]
  },
  {
   "cell_type": "markdown",
   "metadata": {},
   "source": [
    "왼쪽으로 치우쳐 있어 변환이 필요해 보이나, 음수 값이 있어서 log변환이나 box-cox변환을 할 수 없음\n",
    "\n",
    "Q-Q plot을 보자"
   ]
  },
  {
   "cell_type": "code",
   "execution_count": 19,
   "metadata": {},
   "outputs": [
    {
     "data": {
      "text/plain": [
       "Text(0.5,1,'Model1 Residuals Q-Q Plot')"
      ]
     },
     "execution_count": 19,
     "metadata": {},
     "output_type": "execute_result"
    },
    {
     "data": {
      "image/png": "[encoded data removed]",
      "text/plain": [
       "<Figure size 432x288 with 1 Axes>"
      ]
     },
     "metadata": {},
     "output_type": "display_data"
    }
   ],
   "source": [
    "stats.probplot(model1.resid, dist=\"norm\", plot= plt)\n",
    "plt.title(\"Model1 Residuals Q-Q Plot\")"
   ]
  },
  {
   "cell_type": "markdown",
   "metadata": {},
   "source": [
    "엄밀히 정규성을 따른다고 말하기 어렵지만, 데이터 갯수(317)가 크니 중심극한정리(CLT)에 의해 정규분포를 따른다고 가정하겠음"
   ]
  },
  {
   "cell_type": "markdown",
   "metadata": {},
   "source": [
    "### 2) 등분산"
   ]
  },
  {
   "cell_type": "code",
   "execution_count": 20,
   "metadata": {},
   "outputs": [
    {
     "data": {
      "text/plain": [
       "<matplotlib.collections.PathCollection at 0x1ecf8852ba8>"
      ]
     },
     "execution_count": 20,
     "metadata": {},
     "output_type": "execute_result"
    },
    {
     "data": {
      "image/png": "[encoded data removed]",
      "text/plain": [
       "<Figure size 432x288 with 1 Axes>"
      ]
     },
     "metadata": {},
     "output_type": "display_data"
    }
   ],
   "source": [
    "resid = model1.resid\n",
    "plt.scatter(model1.predict(), resid)"
   ]
  },
  {
   "cell_type": "code",
   "execution_count": 21,
   "metadata": {},
   "outputs": [
    {
     "data": {
      "text/plain": [
       "[('Lagrange multiplier statistic', 94.66831296199325),\n",
       " ('p-value', 2.175686828965404e-20),\n",
       " ('f-value', 44.424889605049934),\n",
       " ('f p-value', 6.045953748404026e-24)]"
      ]
     },
     "execution_count": 21,
     "metadata": {},
     "output_type": "execute_result"
    }
   ],
   "source": [
    "name = ['Lagrange multiplier statistic', 'p-value', \n",
    "        'f-value', 'f p-value']\n",
    "test = sms.het_breuschpagan(model1.resid, model1.model.exog)\n",
    "lzip(name, test)"
   ]
  },
  {
   "cell_type": "markdown",
   "metadata": {},
   "source": [
    "p-value < 0.05 이므로 등분산 가정도 만족을 안 한다.."
   ]
  },
  {
   "cell_type": "markdown",
   "metadata": {},
   "source": [
    "### 3) 오차의 독립성"
   ]
  },
  {
   "cell_type": "code",
   "execution_count": 22,
   "metadata": {},
   "outputs": [
    {
     "data": {
      "text/plain": [
       "2.0976858727291012"
      ]
     },
     "execution_count": 22,
     "metadata": {},
     "output_type": "execute_result"
    }
   ],
   "source": [
    "statsmodels.stats.stattools.durbin_watson(model1.resid)"
   ]
  },
  {
   "cell_type": "markdown",
   "metadata": {},
   "source": [
    "2에 가까울수록 독립성 가정이 만족하는데, 2에 가까우니 독립성 가정도 만족"
   ]
  },
  {
   "cell_type": "markdown",
   "metadata": {},
   "source": [
    "### 4) 다중공선성"
   ]
  },
  {
   "cell_type": "code",
   "execution_count": 39,
   "metadata": {},
   "outputs": [
    {
     "data": {
      "text/html": [
       "<div>\n",
       "<style scoped>\n",
       "    .dataframe tbody tr th:only-of-type {\n",
       "        vertical-align: middle;\n",
       "    }\n",
       "\n",
       "    .dataframe tbody tr th {\n",
       "        vertical-align: top;\n",
       "    }\n",
       "\n",
       "    .dataframe thead th {\n",
       "        text-align: right;\n",
       "    }\n",
       "</style>\n",
       "<table border=\"1\" class=\"dataframe\">\n",
       "  <thead>\n",
       "    <tr style=\"text-align: right;\">\n",
       "      <th></th>\n",
       "      <th>방영전</th>\n",
       "      <th>증가</th>\n",
       "      <th>방송_생생정보</th>\n",
       "      <th>방송_수요미식회</th>\n",
       "      <th>서울_1</th>\n",
       "      <th>계절_가을</th>\n",
       "      <th>계절_겨울</th>\n",
       "      <th>계절_봄</th>\n",
       "      <th>계절_여름</th>\n",
       "    </tr>\n",
       "  </thead>\n",
       "  <tbody>\n",
       "    <tr>\n",
       "      <th>방영전</th>\n",
       "      <td>1.000000</td>\n",
       "      <td>0.229190</td>\n",
       "      <td>-0.130168</td>\n",
       "      <td>0.005389</td>\n",
       "      <td>0.022332</td>\n",
       "      <td>0.125652</td>\n",
       "      <td>-0.077741</td>\n",
       "      <td>-0.017299</td>\n",
       "      <td>-0.023199</td>\n",
       "    </tr>\n",
       "    <tr>\n",
       "      <th>증가</th>\n",
       "      <td>0.229190</td>\n",
       "      <td>1.000000</td>\n",
       "      <td>-0.326284</td>\n",
       "      <td>0.638327</td>\n",
       "      <td>0.214800</td>\n",
       "      <td>-0.009617</td>\n",
       "      <td>-0.045920</td>\n",
       "      <td>0.083150</td>\n",
       "      <td>-0.038756</td>\n",
       "    </tr>\n",
       "    <tr>\n",
       "      <th>방송_생생정보</th>\n",
       "      <td>-0.130168</td>\n",
       "      <td>-0.326284</td>\n",
       "      <td>1.000000</td>\n",
       "      <td>-0.516600</td>\n",
       "      <td>-0.349727</td>\n",
       "      <td>0.013447</td>\n",
       "      <td>0.065792</td>\n",
       "      <td>-0.038872</td>\n",
       "      <td>-0.045340</td>\n",
       "    </tr>\n",
       "    <tr>\n",
       "      <th>방송_수요미식회</th>\n",
       "      <td>0.005389</td>\n",
       "      <td>0.638327</td>\n",
       "      <td>-0.516600</td>\n",
       "      <td>1.000000</td>\n",
       "      <td>0.283987</td>\n",
       "      <td>0.018599</td>\n",
       "      <td>-0.056646</td>\n",
       "      <td>0.031626</td>\n",
       "      <td>0.007989</td>\n",
       "    </tr>\n",
       "    <tr>\n",
       "      <th>서울_1</th>\n",
       "      <td>0.022332</td>\n",
       "      <td>0.214800</td>\n",
       "      <td>-0.349727</td>\n",
       "      <td>0.283987</td>\n",
       "      <td>1.000000</td>\n",
       "      <td>-0.071452</td>\n",
       "      <td>0.053938</td>\n",
       "      <td>-0.031021</td>\n",
       "      <td>0.052969</td>\n",
       "    </tr>\n",
       "    <tr>\n",
       "      <th>계절_가을</th>\n",
       "      <td>0.125652</td>\n",
       "      <td>-0.009617</td>\n",
       "      <td>0.013447</td>\n",
       "      <td>0.018599</td>\n",
       "      <td>-0.071452</td>\n",
       "      <td>1.000000</td>\n",
       "      <td>-0.332129</td>\n",
       "      <td>-0.371215</td>\n",
       "      <td>-0.236339</td>\n",
       "    </tr>\n",
       "    <tr>\n",
       "      <th>계절_겨울</th>\n",
       "      <td>-0.077741</td>\n",
       "      <td>-0.045920</td>\n",
       "      <td>0.065792</td>\n",
       "      <td>-0.056646</td>\n",
       "      <td>0.053938</td>\n",
       "      <td>-0.332129</td>\n",
       "      <td>1.000000</td>\n",
       "      <td>-0.443134</td>\n",
       "      <td>-0.282127</td>\n",
       "    </tr>\n",
       "    <tr>\n",
       "      <th>계절_봄</th>\n",
       "      <td>-0.017299</td>\n",
       "      <td>0.083150</td>\n",
       "      <td>-0.038872</td>\n",
       "      <td>0.031626</td>\n",
       "      <td>-0.031021</td>\n",
       "      <td>-0.371215</td>\n",
       "      <td>-0.443134</td>\n",
       "      <td>1.000000</td>\n",
       "      <td>-0.315328</td>\n",
       "    </tr>\n",
       "    <tr>\n",
       "      <th>계절_여름</th>\n",
       "      <td>-0.023199</td>\n",
       "      <td>-0.038756</td>\n",
       "      <td>-0.045340</td>\n",
       "      <td>0.007989</td>\n",
       "      <td>0.052969</td>\n",
       "      <td>-0.236339</td>\n",
       "      <td>-0.282127</td>\n",
       "      <td>-0.315328</td>\n",
       "      <td>1.000000</td>\n",
       "    </tr>\n",
       "  </tbody>\n",
       "</table>\n",
       "</div>"
      ],
      "text/plain": [
       "               방영전        증가   방송_생생정보  방송_수요미식회      서울_1     계절_가을  \\\n",
       "방영전       1.000000  0.229190 -0.130168  0.005389  0.022332  0.125652   \n",
       "증가        0.229190  1.000000 -0.326284  0.638327  0.214800 -0.009617   \n",
       "방송_생생정보  -0.130168 -0.326284  1.000000 -0.516600 -0.349727  0.013447   \n",
       "방송_수요미식회  0.005389  0.638327 -0.516600  1.000000  0.283987  0.018599   \n",
       "서울_1      0.022332  0.214800 -0.349727  0.283987  1.000000 -0.071452   \n",
       "계절_가을     0.125652 -0.009617  0.013447  0.018599 -0.071452  1.000000   \n",
       "계절_겨울    -0.077741 -0.045920  0.065792 -0.056646  0.053938 -0.332129   \n",
       "계절_봄     -0.017299  0.083150 -0.038872  0.031626 -0.031021 -0.371215   \n",
       "계절_여름    -0.023199 -0.038756 -0.045340  0.007989  0.052969 -0.236339   \n",
       "\n",
       "             계절_겨울      계절_봄     계절_여름  \n",
       "방영전      -0.077741 -0.017299 -0.023199  \n",
       "증가       -0.045920  0.083150 -0.038756  \n",
       "방송_생생정보   0.065792 -0.038872 -0.045340  \n",
       "방송_수요미식회 -0.056646  0.031626  0.007989  \n",
       "서울_1      0.053938 -0.031021  0.052969  \n",
       "계절_가을    -0.332129 -0.371215 -0.236339  \n",
       "계절_겨울     1.000000 -0.443134 -0.282127  \n",
       "계절_봄     -0.443134  1.000000 -0.315328  \n",
       "계절_여름    -0.282127 -0.315328  1.000000  "
      ]
     },
     "execution_count": 39,
     "metadata": {},
     "output_type": "execute_result"
    }
   ],
   "source": [
    "reg.corr()"
   ]
  },
  {
   "cell_type": "markdown",
   "metadata": {},
   "source": [
    "변수들 사이에 강한 상관관계가 보이지 않으므로 다중공선성 문제는 없다고 봐도 무방함"
   ]
  },
  {
   "cell_type": "markdown",
   "metadata": {},
   "source": [
    "## 2. 회귀분석 결과"
   ]
  },
  {
   "cell_type": "code",
   "execution_count": 23,
   "metadata": {},
   "outputs": [
    {
     "data": {
      "text/html": [
       "<table class=\"simpletable\">\n",
       "<caption>OLS Regression Results</caption>\n",
       "<tr>\n",
       "  <th>Dep. Variable:</th>           <td>증가</td>        <th>  R-squared:         </th> <td>   0.460</td>\n",
       "</tr>\n",
       "<tr>\n",
       "  <th>Model:</th>                   <td>OLS</td>       <th>  Adj. R-squared:    </th> <td>   0.455</td>\n",
       "</tr>\n",
       "<tr>\n",
       "  <th>Method:</th>             <td>Least Squares</td>  <th>  F-statistic:       </th> <td>   63.42</td>\n",
       "</tr>\n",
       "<tr>\n",
       "  <th>Date:</th>             <td>Thu, 30 Aug 2018</td> <th>  Prob (F-statistic):</th> <td>4.63e-32</td>\n",
       "</tr>\n",
       "<tr>\n",
       "  <th>Time:</th>                 <td>11:09:53</td>     <th>  Log-Likelihood:    </th> <td> -1507.5</td>\n",
       "</tr>\n",
       "<tr>\n",
       "  <th>No. Observations:</th>      <td>   317</td>      <th>  AIC:               </th> <td>   3023.</td>\n",
       "</tr>\n",
       "<tr>\n",
       "  <th>Df Residuals:</th>          <td>   313</td>      <th>  BIC:               </th> <td>   3038.</td>\n",
       "</tr>\n",
       "<tr>\n",
       "  <th>Df Model:</th>              <td>     3</td>      <th>                     </th>     <td> </td>   \n",
       "</tr>\n",
       "<tr>\n",
       "  <th>Covariance Type:</th>         <td>HC0</td>       <th>                     </th>     <td> </td>   \n",
       "</tr>\n",
       "</table>\n",
       "<table class=\"simpletable\">\n",
       "<tr>\n",
       "      <td></td>         <th>coef</th>     <th>std err</th>      <th>z</th>      <th>P>|z|</th>  <th>[0.025</th>    <th>0.975]</th>  \n",
       "</tr>\n",
       "<tr>\n",
       "  <th>Intercept</th> <td>   16.6001</td> <td>    2.863</td> <td>    5.797</td> <td> 0.000</td> <td>   10.988</td> <td>   22.212</td>\n",
       "</tr>\n",
       "<tr>\n",
       "  <th>방송_생생정보</th>   <td>    3.6074</td> <td>    2.944</td> <td>    1.225</td> <td> 0.220</td> <td>   -2.163</td> <td>    9.378</td>\n",
       "</tr>\n",
       "<tr>\n",
       "  <th>방송_수요미식회</th>  <td>   53.6919</td> <td>    4.353</td> <td>   12.333</td> <td> 0.000</td> <td>   45.159</td> <td>   62.225</td>\n",
       "</tr>\n",
       "<tr>\n",
       "  <th>방영전</th>       <td>    0.1595</td> <td>    0.082</td> <td>    1.943</td> <td> 0.052</td> <td>   -0.001</td> <td>    0.320</td>\n",
       "</tr>\n",
       "</table>\n",
       "<table class=\"simpletable\">\n",
       "<tr>\n",
       "  <th>Omnibus:</th>       <td>97.825</td> <th>  Durbin-Watson:     </th> <td>   2.098</td> \n",
       "</tr>\n",
       "<tr>\n",
       "  <th>Prob(Omnibus):</th> <td> 0.000</td> <th>  Jarque-Bera (JB):  </th> <td> 522.086</td> \n",
       "</tr>\n",
       "<tr>\n",
       "  <th>Skew:</th>          <td> 1.164</td> <th>  Prob(JB):          </th> <td>4.27e-114</td>\n",
       "</tr>\n",
       "<tr>\n",
       "  <th>Kurtosis:</th>      <td> 8.840</td> <th>  Cond. No.          </th> <td>    222.</td> \n",
       "</tr>\n",
       "</table><br/><br/>Warnings:<br/>[1] Standard Errors are heteroscedasticity robust (HC0)"
      ],
      "text/plain": [
       "<class 'statsmodels.iolib.summary.Summary'>\n",
       "\"\"\"\n",
       "                            OLS Regression Results                            \n",
       "==============================================================================\n",
       "Dep. Variable:                     증가   R-squared:                       0.460\n",
       "Model:                            OLS   Adj. R-squared:                  0.455\n",
       "Method:                 Least Squares   F-statistic:                     63.42\n",
       "Date:                Thu, 30 Aug 2018   Prob (F-statistic):           4.63e-32\n",
       "Time:                        11:09:53   Log-Likelihood:                -1507.5\n",
       "No. Observations:                 317   AIC:                             3023.\n",
       "Df Residuals:                     313   BIC:                             3038.\n",
       "Df Model:                           3                                         \n",
       "Covariance Type:                  HC0                                         \n",
       "==============================================================================\n",
       "                 coef    std err          z      P>|z|      [0.025      0.975]\n",
       "------------------------------------------------------------------------------\n",
       "Intercept     16.6001      2.863      5.797      0.000      10.988      22.212\n",
       "방송_생생정보        3.6074      2.944      1.225      0.220      -2.163       9.378\n",
       "방송_수요미식회      53.6919      4.353     12.333      0.000      45.159      62.225\n",
       "방영전            0.1595      0.082      1.943      0.052      -0.001       0.320\n",
       "==============================================================================\n",
       "Omnibus:                       97.825   Durbin-Watson:                   2.098\n",
       "Prob(Omnibus):                  0.000   Jarque-Bera (JB):              522.086\n",
       "Skew:                           1.164   Prob(JB):                    4.27e-114\n",
       "Kurtosis:                       8.840   Cond. No.                         222.\n",
       "==============================================================================\n",
       "\n",
       "Warnings:\n",
       "[1] Standard Errors are heteroscedasticity robust (HC0)\n",
       "\"\"\""
      ]
     },
     "execution_count": 23,
     "metadata": {},
     "output_type": "execute_result"
    }
   ],
   "source": [
    "#model1 = smf.ols(\"증가 ~ 방송_생생정보 + 방송_수요미식회 + 방영전\",  data=reg).fit(cov_type='HC0')\n",
    "model1.summary()"
   ]
  },
  {
   "cell_type": "markdown",
   "metadata": {},
   "source": [
    "F-statstic의 p-value < 0.05 이므로 회귀모형이 유의함\n",
    "\n",
    "**방영 후 포스팅 증감 = 16.6001 + 3.6074(생생정보통) + 53.6919(수요미식회) + 0.1595(방영전)**"
   ]
  },
  {
   "cell_type": "markdown",
   "metadata": {},
   "source": [
    "**해석**\n",
    "\n",
    "1. 생생정보통이 맛있는 녀석들보다 방영후 포스팅 증가분이 평균 3.6074개 더 많다.\n",
    "\n",
    "**2. 수요미식회가 맛있는 녀석들보다 방영후 포스팅 증가분이 평균 53.6919개 더 많다.**\n",
    "\n",
    "3. 방영전 포스팅이 1개 증가하면 방영후 포스팅이 0.1595개 더 증가한다.\n",
    "\n",
    "**4. R^2 = 0.46 : 방송 프로그램, 방영전 포스팅 갯수 변수들의 분산이 방영후 포스팅 증가분의 분산을 46% 정도 설명한다. 즉, 모형의 설명력이 46% 된다고 해석할 수 있다.**\n",
    "\n",
    "\n",
    "**독립변수의 p-value를 봤을 때, 통계적으로 유의한 변수는 수요미식회뿐...**"
   ]
  },
  {
   "cell_type": "markdown",
   "metadata": {},
   "source": [
    "## 서울 변수 추가 : 증가(y) ~ 방송_생생정보(x1) + 방송_수요미식회(x2) + 방영전(x3) + 서울_1(x4)"
   ]
  },
  {
   "cell_type": "code",
   "execution_count": 40,
   "metadata": {},
   "outputs": [],
   "source": [
    "model2 = smf.ols(\"증가 ~ 방송_생생정보 + 방송_수요미식회 + 방영전 + 서울_1\",  data=reg).fit(cov_type='HC0')"
   ]
  },
  {
   "cell_type": "markdown",
   "metadata": {},
   "source": [
    "## 1. 가정"
   ]
  },
  {
   "cell_type": "markdown",
   "metadata": {},
   "source": [
    "### 1) 정규성"
   ]
  },
  {
   "cell_type": "code",
   "execution_count": 41,
   "metadata": {},
   "outputs": [
    {
     "data": {
      "text/plain": [
       "Text(0.5,1,'Model2 Residuals Q-Q Plot')"
      ]
     },
     "execution_count": 41,
     "metadata": {},
     "output_type": "execute_result"
    },
    {
     "data": {
      "image/png": "[encoded data removed]",
      "text/plain": [
       "<Figure size 432x288 with 1 Axes>"
      ]
     },
     "metadata": {},
     "output_type": "display_data"
    }
   ],
   "source": [
    "stats.probplot(model2.resid, dist=\"norm\", plot= plt)\n",
    "plt.title(\"Model2 Residuals Q-Q Plot\")"
   ]
  },
  {
   "cell_type": "markdown",
   "metadata": {},
   "source": [
    "엄밀히 정규성을 따른다고 말하기 어렵지만, 데이터 갯수(317)가 크니 중심극한정리(CLT)에 의해 정규분포를 따른다고 가정하겠음"
   ]
  },
  {
   "cell_type": "markdown",
   "metadata": {},
   "source": [
    "### 2) 등분산"
   ]
  },
  {
   "cell_type": "code",
   "execution_count": 42,
   "metadata": {},
   "outputs": [
    {
     "data": {
      "text/plain": [
       "<matplotlib.collections.PathCollection at 0x1ecf8e0a1d0>"
      ]
     },
     "execution_count": 42,
     "metadata": {},
     "output_type": "execute_result"
    },
    {
     "data": {
      "image/png": "[encoded data removed]",
      "text/plain": [
       "<Figure size 432x288 with 1 Axes>"
      ]
     },
     "metadata": {},
     "output_type": "display_data"
    }
   ],
   "source": [
    "resid = model2.resid\n",
    "plt.scatter(model2.predict(), resid)"
   ]
  },
  {
   "cell_type": "code",
   "execution_count": 43,
   "metadata": {},
   "outputs": [
    {
     "data": {
      "text/plain": [
       "[('Lagrange multiplier statistic', 96.16961579163242),\n",
       " ('p-value', 6.426586584361543e-20),\n",
       " ('f-value', 33.96828773648032),\n",
       " ('f p-value', 1.556382958244717e-23)]"
      ]
     },
     "execution_count": 43,
     "metadata": {},
     "output_type": "execute_result"
    }
   ],
   "source": [
    "name = ['Lagrange multiplier statistic', 'p-value', \n",
    "        'f-value', 'f p-value']\n",
    "test = sms.het_breuschpagan(model2.resid, model2.model.exog)\n",
    "lzip(name, test)"
   ]
  },
  {
   "cell_type": "markdown",
   "metadata": {},
   "source": [
    "p-value < 0.05 이므로 등분산 가정도 만족을 안 한다.."
   ]
  },
  {
   "cell_type": "markdown",
   "metadata": {},
   "source": [
    "### 3) 오차의 독립성"
   ]
  },
  {
   "cell_type": "code",
   "execution_count": 44,
   "metadata": {},
   "outputs": [
    {
     "data": {
      "text/plain": [
       "2.091845997408242"
      ]
     },
     "execution_count": 44,
     "metadata": {},
     "output_type": "execute_result"
    }
   ],
   "source": [
    "statsmodels.stats.stattools.durbin_watson(model2.resid)"
   ]
  },
  {
   "cell_type": "markdown",
   "metadata": {},
   "source": [
    "2에 가까울수록 독립성 가정이 만족하는데, 2에 가까우니 독립성 가정도 만족"
   ]
  },
  {
   "cell_type": "markdown",
   "metadata": {},
   "source": [
    "## 2. 회귀분석 결과"
   ]
  },
  {
   "cell_type": "code",
   "execution_count": 45,
   "metadata": {},
   "outputs": [
    {
     "data": {
      "text/html": [
       "<table class=\"simpletable\">\n",
       "<caption>OLS Regression Results</caption>\n",
       "<tr>\n",
       "  <th>Dep. Variable:</th>           <td>증가</td>        <th>  R-squared:         </th> <td>   0.462</td>\n",
       "</tr>\n",
       "<tr>\n",
       "  <th>Model:</th>                   <td>OLS</td>       <th>  Adj. R-squared:    </th> <td>   0.455</td>\n",
       "</tr>\n",
       "<tr>\n",
       "  <th>Method:</th>             <td>Least Squares</td>  <th>  F-statistic:       </th> <td>   48.30</td>\n",
       "</tr>\n",
       "<tr>\n",
       "  <th>Date:</th>             <td>Thu, 30 Aug 2018</td> <th>  Prob (F-statistic):</th> <td>1.35e-31</td>\n",
       "</tr>\n",
       "<tr>\n",
       "  <th>Time:</th>                 <td>12:51:47</td>     <th>  Log-Likelihood:    </th> <td> -1507.1</td>\n",
       "</tr>\n",
       "<tr>\n",
       "  <th>No. Observations:</th>      <td>   317</td>      <th>  AIC:               </th> <td>   3024.</td>\n",
       "</tr>\n",
       "<tr>\n",
       "  <th>Df Residuals:</th>          <td>   312</td>      <th>  BIC:               </th> <td>   3043.</td>\n",
       "</tr>\n",
       "<tr>\n",
       "  <th>Df Model:</th>              <td>     4</td>      <th>                     </th>     <td> </td>   \n",
       "</tr>\n",
       "<tr>\n",
       "  <th>Covariance Type:</th>         <td>HC0</td>       <th>                     </th>     <td> </td>   \n",
       "</tr>\n",
       "</table>\n",
       "<table class=\"simpletable\">\n",
       "<tr>\n",
       "      <td></td>         <th>coef</th>     <th>std err</th>      <th>z</th>      <th>P>|z|</th>  <th>[0.025</th>    <th>0.975]</th>  \n",
       "</tr>\n",
       "<tr>\n",
       "  <th>Intercept</th> <td>   14.3407</td> <td>    3.726</td> <td>    3.849</td> <td> 0.000</td> <td>    7.038</td> <td>   21.643</td>\n",
       "</tr>\n",
       "<tr>\n",
       "  <th>방송_생생정보</th>   <td>    4.5905</td> <td>    2.996</td> <td>    1.532</td> <td> 0.125</td> <td>   -1.282</td> <td>   10.463</td>\n",
       "</tr>\n",
       "<tr>\n",
       "  <th>방송_수요미식회</th>  <td>   53.1939</td> <td>    4.325</td> <td>   12.298</td> <td> 0.000</td> <td>   44.717</td> <td>   61.671</td>\n",
       "</tr>\n",
       "<tr>\n",
       "  <th>방영전</th>       <td>    0.1600</td> <td>    0.082</td> <td>    1.945</td> <td> 0.052</td> <td>   -0.001</td> <td>    0.321</td>\n",
       "</tr>\n",
       "<tr>\n",
       "  <th>서울_1</th>      <td>    3.4289</td> <td>    2.989</td> <td>    1.147</td> <td> 0.251</td> <td>   -2.430</td> <td>    9.288</td>\n",
       "</tr>\n",
       "</table>\n",
       "<table class=\"simpletable\">\n",
       "<tr>\n",
       "  <th>Omnibus:</th>       <td>96.312</td> <th>  Durbin-Watson:     </th> <td>   2.092</td> \n",
       "</tr>\n",
       "<tr>\n",
       "  <th>Prob(Omnibus):</th> <td> 0.000</td> <th>  Jarque-Bera (JB):  </th> <td> 506.521</td> \n",
       "</tr>\n",
       "<tr>\n",
       "  <th>Skew:</th>          <td> 1.148</td> <th>  Prob(JB):          </th> <td>1.02e-110</td>\n",
       "</tr>\n",
       "<tr>\n",
       "  <th>Kurtosis:</th>      <td> 8.751</td> <th>  Cond. No.          </th> <td>    236.</td> \n",
       "</tr>\n",
       "</table><br/><br/>Warnings:<br/>[1] Standard Errors are heteroscedasticity robust (HC0)"
      ],
      "text/plain": [
       "<class 'statsmodels.iolib.summary.Summary'>\n",
       "\"\"\"\n",
       "                            OLS Regression Results                            \n",
       "==============================================================================\n",
       "Dep. Variable:                     증가   R-squared:                       0.462\n",
       "Model:                            OLS   Adj. R-squared:                  0.455\n",
       "Method:                 Least Squares   F-statistic:                     48.30\n",
       "Date:                Thu, 30 Aug 2018   Prob (F-statistic):           1.35e-31\n",
       "Time:                        12:51:47   Log-Likelihood:                -1507.1\n",
       "No. Observations:                 317   AIC:                             3024.\n",
       "Df Residuals:                     312   BIC:                             3043.\n",
       "Df Model:                           4                                         \n",
       "Covariance Type:                  HC0                                         \n",
       "==============================================================================\n",
       "                 coef    std err          z      P>|z|      [0.025      0.975]\n",
       "------------------------------------------------------------------------------\n",
       "Intercept     14.3407      3.726      3.849      0.000       7.038      21.643\n",
       "방송_생생정보        4.5905      2.996      1.532      0.125      -1.282      10.463\n",
       "방송_수요미식회      53.1939      4.325     12.298      0.000      44.717      61.671\n",
       "방영전            0.1600      0.082      1.945      0.052      -0.001       0.321\n",
       "서울_1           3.4289      2.989      1.147      0.251      -2.430       9.288\n",
       "==============================================================================\n",
       "Omnibus:                       96.312   Durbin-Watson:                   2.092\n",
       "Prob(Omnibus):                  0.000   Jarque-Bera (JB):              506.521\n",
       "Skew:                           1.148   Prob(JB):                    1.02e-110\n",
       "Kurtosis:                       8.751   Cond. No.                         236.\n",
       "==============================================================================\n",
       "\n",
       "Warnings:\n",
       "[1] Standard Errors are heteroscedasticity robust (HC0)\n",
       "\"\"\""
      ]
     },
     "execution_count": 45,
     "metadata": {},
     "output_type": "execute_result"
    }
   ],
   "source": [
    "#model2 = smf.ols(\"증가 ~ 방송_생생정보 + 방송_수요미식회 + 방영전 + 서울_1\",  data=reg).fit(cov_type='HC0')\n",
    "model2.summary()"
   ]
  },
  {
   "cell_type": "markdown",
   "metadata": {},
   "source": [
    "F-statstic의 p-value < 0.05 이므로 회귀모형이 유의함\n",
    "\n",
    "**방영 후 포스팅 증감 = 14.3407 + 4.5905(생생정보통) + 53.1939(수요미식회) + 0.16(방영전) + 3.4289(서울_1)**"
   ]
  },
  {
   "cell_type": "markdown",
   "metadata": {},
   "source": [
    "**해석**\n",
    "\n",
    "1. 생생정보통이 맛있는 녀석들보다 방영후 포스팅 증가분이 평균 4.5905개 더 많다.\n",
    "\n",
    "**2. 수요미식회가 맛있는 녀석들보다 방영후 포스팅 증가분이 평균 53.1939개 더 많다.**\n",
    "\n",
    "3. 방영전 포스팅이 1개 증가하면 방영후 포스팅이 0.16개 더 증가한다.\n",
    "\n",
    "4. 서울에 위치한 식당이 그렇지 않은 식당보다 방영 후 포스팅 증가분이 3.4289이 더 많다.\n",
    "\n",
    "**5. R^2 = 0.462 : 방송 프로그램, 방영전 포스팅 갯수 변수들의 분산이 방영후 포스팅 증가분의 분산을 46.2% 정도 설명한다. 즉, 모형의 설명력이 46.2% 된다고 해석할 수 있다. 서울 변수를 추가했더니 0.2% 설명력이 늘었음**\n",
    "\n",
    "\n",
    "**독립변수의 p-value를 봤을 때, 통계적으로 유의한 변수는 수요미식회뿐... 서울 여부 변수를 추가했는데 유의한 변수가 아니었음**"
   ]
  },
  {
   "cell_type": "markdown",
   "metadata": {},
   "source": [
    "## 계절 변수 추가 : 증가(y) ~ 방송_생생정보(x1) + 방송_수요미식회(x2) + 방영전(x3) + 계절_여름(x4) + 계절_가을(x5) + 계절_겨울(x6)"
   ]
  },
  {
   "cell_type": "code",
   "execution_count": 46,
   "metadata": {},
   "outputs": [],
   "source": [
    "model3 = smf.ols(\"증가 ~ 방송_생생정보 + 방송_수요미식회 + 방영전 + 계절_여름 + 계절_가을 + 계절_겨울\",  data=reg).fit(cov_type='HC0')"
   ]
  },
  {
   "cell_type": "code",
   "execution_count": 50,
   "metadata": {},
   "outputs": [
    {
     "data": {
      "text/html": [
       "<table class=\"simpletable\">\n",
       "<caption>OLS Regression Results</caption>\n",
       "<tr>\n",
       "  <th>Dep. Variable:</th>           <td>증가</td>        <th>  R-squared:         </th> <td>   0.466</td>\n",
       "</tr>\n",
       "<tr>\n",
       "  <th>Model:</th>                   <td>OLS</td>       <th>  Adj. R-squared:    </th> <td>   0.456</td>\n",
       "</tr>\n",
       "<tr>\n",
       "  <th>Method:</th>             <td>Least Squares</td>  <th>  F-statistic:       </th> <td>   33.12</td>\n",
       "</tr>\n",
       "<tr>\n",
       "  <th>Date:</th>             <td>Thu, 30 Aug 2018</td> <th>  Prob (F-statistic):</th> <td>8.66e-31</td>\n",
       "</tr>\n",
       "<tr>\n",
       "  <th>Time:</th>                 <td>14:36:12</td>     <th>  Log-Likelihood:    </th> <td> -1505.7</td>\n",
       "</tr>\n",
       "<tr>\n",
       "  <th>No. Observations:</th>      <td>   317</td>      <th>  AIC:               </th> <td>   3025.</td>\n",
       "</tr>\n",
       "<tr>\n",
       "  <th>Df Residuals:</th>          <td>   310</td>      <th>  BIC:               </th> <td>   3052.</td>\n",
       "</tr>\n",
       "<tr>\n",
       "  <th>Df Model:</th>              <td>     6</td>      <th>                     </th>     <td> </td>   \n",
       "</tr>\n",
       "<tr>\n",
       "  <th>Covariance Type:</th>         <td>HC0</td>       <th>                     </th>     <td> </td>   \n",
       "</tr>\n",
       "</table>\n",
       "<table class=\"simpletable\">\n",
       "<tr>\n",
       "      <td></td>         <th>coef</th>     <th>std err</th>      <th>z</th>      <th>P>|z|</th>  <th>[0.025</th>    <th>0.975]</th>  \n",
       "</tr>\n",
       "<tr>\n",
       "  <th>Intercept</th> <td>   20.1117</td> <td>    3.197</td> <td>    6.292</td> <td> 0.000</td> <td>   13.847</td> <td>   26.377</td>\n",
       "</tr>\n",
       "<tr>\n",
       "  <th>방송_생생정보</th>   <td>    3.7480</td> <td>    2.983</td> <td>    1.257</td> <td> 0.209</td> <td>   -2.098</td> <td>    9.594</td>\n",
       "</tr>\n",
       "<tr>\n",
       "  <th>방송_수요미식회</th>  <td>   53.7501</td> <td>    4.370</td> <td>   12.301</td> <td> 0.000</td> <td>   45.186</td> <td>   62.315</td>\n",
       "</tr>\n",
       "<tr>\n",
       "  <th>방영전</th>       <td>    0.1635</td> <td>    0.081</td> <td>    2.024</td> <td> 0.043</td> <td>    0.005</td> <td>    0.322</td>\n",
       "</tr>\n",
       "<tr>\n",
       "  <th>계절_여름</th>     <td>   -6.8170</td> <td>    3.862</td> <td>   -1.765</td> <td> 0.078</td> <td>  -14.386</td> <td>    0.752</td>\n",
       "</tr>\n",
       "<tr>\n",
       "  <th>계절_가을</th>     <td>   -7.5058</td> <td>    4.742</td> <td>   -1.583</td> <td> 0.113</td> <td>  -16.799</td> <td>    1.787</td>\n",
       "</tr>\n",
       "<tr>\n",
       "  <th>계절_겨울</th>     <td>   -3.2874</td> <td>    3.994</td> <td>   -0.823</td> <td> 0.410</td> <td>  -11.115</td> <td>    4.540</td>\n",
       "</tr>\n",
       "</table>\n",
       "<table class=\"simpletable\">\n",
       "<tr>\n",
       "  <th>Omnibus:</th>       <td>96.377</td> <th>  Durbin-Watson:     </th> <td>   2.082</td> \n",
       "</tr>\n",
       "<tr>\n",
       "  <th>Prob(Omnibus):</th> <td> 0.000</td> <th>  Jarque-Bera (JB):  </th> <td> 498.703</td> \n",
       "</tr>\n",
       "<tr>\n",
       "  <th>Skew:</th>          <td> 1.155</td> <th>  Prob(JB):          </th> <td>5.11e-109</td>\n",
       "</tr>\n",
       "<tr>\n",
       "  <th>Kurtosis:</th>      <td> 8.694</td> <th>  Cond. No.          </th> <td>    263.</td> \n",
       "</tr>\n",
       "</table><br/><br/>Warnings:<br/>[1] Standard Errors are heteroscedasticity robust (HC0)"
      ],
      "text/plain": [
       "<class 'statsmodels.iolib.summary.Summary'>\n",
       "\"\"\"\n",
       "                            OLS Regression Results                            \n",
       "==============================================================================\n",
       "Dep. Variable:                     증가   R-squared:                       0.466\n",
       "Model:                            OLS   Adj. R-squared:                  0.456\n",
       "Method:                 Least Squares   F-statistic:                     33.12\n",
       "Date:                Thu, 30 Aug 2018   Prob (F-statistic):           8.66e-31\n",
       "Time:                        14:36:12   Log-Likelihood:                -1505.7\n",
       "No. Observations:                 317   AIC:                             3025.\n",
       "Df Residuals:                     310   BIC:                             3052.\n",
       "Df Model:                           6                                         \n",
       "Covariance Type:                  HC0                                         \n",
       "==============================================================================\n",
       "                 coef    std err          z      P>|z|      [0.025      0.975]\n",
       "------------------------------------------------------------------------------\n",
       "Intercept     20.1117      3.197      6.292      0.000      13.847      26.377\n",
       "방송_생생정보        3.7480      2.983      1.257      0.209      -2.098       9.594\n",
       "방송_수요미식회      53.7501      4.370     12.301      0.000      45.186      62.315\n",
       "방영전            0.1635      0.081      2.024      0.043       0.005       0.322\n",
       "계절_여름         -6.8170      3.862     -1.765      0.078     -14.386       0.752\n",
       "계절_가을         -7.5058      4.742     -1.583      0.113     -16.799       1.787\n",
       "계절_겨울         -3.2874      3.994     -0.823      0.410     -11.115       4.540\n",
       "==============================================================================\n",
       "Omnibus:                       96.377   Durbin-Watson:                   2.082\n",
       "Prob(Omnibus):                  0.000   Jarque-Bera (JB):              498.703\n",
       "Skew:                           1.155   Prob(JB):                    5.11e-109\n",
       "Kurtosis:                       8.694   Cond. No.                         263.\n",
       "==============================================================================\n",
       "\n",
       "Warnings:\n",
       "[1] Standard Errors are heteroscedasticity robust (HC0)\n",
       "\"\"\""
      ]
     },
     "execution_count": 50,
     "metadata": {},
     "output_type": "execute_result"
    }
   ],
   "source": [
    "model3.summary()"
   ]
  },
  {
   "cell_type": "markdown",
   "metadata": {},
   "source": [
    "### 1. 가정\n",
    "\n",
    "#### 1) 정규성\n",
    "- Prob(JB) < 0.05 이므로 정규성 만족 x\n",
    "\n",
    "#### 2) 등분산\n",
    "- Prob(Omnibus) < 0.05이므로 등분산도 만족 x..\n",
    "\n",
    "#### 3) 독립성\n",
    "- Durbin-Watson = 2.082 : 2에 가까우므로 독립은 만족"
   ]
  },
  {
   "cell_type": "markdown",
   "metadata": {},
   "source": [
    "### 2. 회귀분석 결과"
   ]
  },
  {
   "cell_type": "markdown",
   "metadata": {},
   "source": [
    "F-statstic의 p-value < 0.05 이므로 회귀모형이 유의함\n",
    "\n",
    "**방영 후 포스팅 증감 = 20.1117 + 3.7480(생생정보통) + 53.7501(수요미식회) + 0.1635(방영전) - 6.8170(계절_여름) -7.5058(계절_가을) \n",
    "                         -3.2874(계절_겨울)**"
   ]
  },
  {
   "cell_type": "markdown",
   "metadata": {},
   "source": [
    "**해석**\n",
    "\n",
    "1. 생생정보통이 맛있는 녀석들보다 방영후 포스팅 증가분이 평균 3.7480개 더 많다.\n",
    "\n",
    "**2. 수요미식회가 맛있는 녀석들보다 방영후 포스팅 증가분이 평균 53.7501개 더 많다.**\n",
    "\n",
    "**3. 방영전 포스팅이 1개 증가하면 방영후 포스팅이 0.1635개 더 증가한다.**\n",
    "\n",
    "4. 봄에 방영된 식당이 다른 계절에 방영된 식당보다 방영 후 포스팅 증가분이 더 많다.\n",
    "\n",
    "**5. R^2 = 0.466 : 방송 프로그램, 방영전 포스팅 갯수 변수들의 분산이 방영후 포스팅 증가분의 분산을 46.6% 정도 설명한다. 즉, 모형의 설명력이 46.2% 된다고 해석할 수 있다. 계절 변수를 추가했더니 0.6% 설명력이 늘었음**\n",
    "\n",
    "\n",
    "**독립변수의 p-value를 봤을 때, 통계적으로 유의한 변수는 '수요미식회'와 '방영전 포스팅 갯수'뿐... 계절 변수를 추가했는데 유의한 변수가 아니었음(대신 방영전 변수가 통계적으로 유의하게 됨)**"
   ]
  },
  {
   "cell_type": "markdown",
   "metadata": {},
   "source": [
    "## 서울, 계절 변수 추가 : 증가(y) ~ 방송_생생정보(x1) + 방송_수요미식회(x2) + 방영전(x3) + 계절_여름(x4) + 계절_가을(x5) + 계절_겨울(x6) + 서울_1(x7)"
   ]
  },
  {
   "cell_type": "code",
   "execution_count": 51,
   "metadata": {},
   "outputs": [],
   "source": [
    "model4 = smf.ols(\"증가 ~ 방송_생생정보 + 방송_수요미식회 + 방영전 + 계절_여름 + 계절_가을 + 계절_겨울 + 서울_1\",  data=reg).fit(cov_type='HC0')"
   ]
  },
  {
   "cell_type": "code",
   "execution_count": 53,
   "metadata": {},
   "outputs": [
    {
     "data": {
      "text/html": [
       "<table class=\"simpletable\">\n",
       "<caption>OLS Regression Results</caption>\n",
       "<tr>\n",
       "  <th>Dep. Variable:</th>           <td>증가</td>        <th>  R-squared:         </th> <td>   0.468</td>\n",
       "</tr>\n",
       "<tr>\n",
       "  <th>Model:</th>                   <td>OLS</td>       <th>  Adj. R-squared:    </th> <td>   0.456</td>\n",
       "</tr>\n",
       "<tr>\n",
       "  <th>Method:</th>             <td>Least Squares</td>  <th>  F-statistic:       </th> <td>   28.93</td>\n",
       "</tr>\n",
       "<tr>\n",
       "  <th>Date:</th>             <td>Thu, 30 Aug 2018</td> <th>  Prob (F-statistic):</th> <td>1.40e-30</td>\n",
       "</tr>\n",
       "<tr>\n",
       "  <th>Time:</th>                 <td>14:49:12</td>     <th>  Log-Likelihood:    </th> <td> -1505.2</td>\n",
       "</tr>\n",
       "<tr>\n",
       "  <th>No. Observations:</th>      <td>   317</td>      <th>  AIC:               </th> <td>   3026.</td>\n",
       "</tr>\n",
       "<tr>\n",
       "  <th>Df Residuals:</th>          <td>   309</td>      <th>  BIC:               </th> <td>   3056.</td>\n",
       "</tr>\n",
       "<tr>\n",
       "  <th>Df Model:</th>              <td>     7</td>      <th>                     </th>     <td> </td>   \n",
       "</tr>\n",
       "<tr>\n",
       "  <th>Covariance Type:</th>         <td>HC0</td>       <th>                     </th>     <td> </td>   \n",
       "</tr>\n",
       "</table>\n",
       "<table class=\"simpletable\">\n",
       "<tr>\n",
       "      <td></td>         <th>coef</th>     <th>std err</th>      <th>z</th>      <th>P>|z|</th>  <th>[0.025</th>    <th>0.975]</th>  \n",
       "</tr>\n",
       "<tr>\n",
       "  <th>Intercept</th> <td>   17.9499</td> <td>    3.877</td> <td>    4.630</td> <td> 0.000</td> <td>   10.352</td> <td>   25.548</td>\n",
       "</tr>\n",
       "<tr>\n",
       "  <th>방송_생생정보</th>   <td>    4.7403</td> <td>    3.021</td> <td>    1.569</td> <td> 0.117</td> <td>   -1.180</td> <td>   10.661</td>\n",
       "</tr>\n",
       "<tr>\n",
       "  <th>방송_수요미식회</th>  <td>   53.2231</td> <td>    4.352</td> <td>   12.229</td> <td> 0.000</td> <td>   44.693</td> <td>   61.753</td>\n",
       "</tr>\n",
       "<tr>\n",
       "  <th>방영전</th>       <td>    0.1636</td> <td>    0.081</td> <td>    2.024</td> <td> 0.043</td> <td>    0.005</td> <td>    0.322</td>\n",
       "</tr>\n",
       "<tr>\n",
       "  <th>계절_여름</th>     <td>   -7.0785</td> <td>    3.897</td> <td>   -1.816</td> <td> 0.069</td> <td>  -14.716</td> <td>    0.559</td>\n",
       "</tr>\n",
       "<tr>\n",
       "  <th>계절_가을</th>     <td>   -7.3920</td> <td>    4.739</td> <td>   -1.560</td> <td> 0.119</td> <td>  -16.680</td> <td>    1.896</td>\n",
       "</tr>\n",
       "<tr>\n",
       "  <th>계절_겨울</th>     <td>   -3.6171</td> <td>    4.018</td> <td>   -0.900</td> <td> 0.368</td> <td>  -11.493</td> <td>    4.259</td>\n",
       "</tr>\n",
       "<tr>\n",
       "  <th>서울_1</th>      <td>    3.4830</td> <td>    3.026</td> <td>    1.151</td> <td> 0.250</td> <td>   -2.448</td> <td>    9.414</td>\n",
       "</tr>\n",
       "</table>\n",
       "<table class=\"simpletable\">\n",
       "<tr>\n",
       "  <th>Omnibus:</th>       <td>94.779</td> <th>  Durbin-Watson:     </th> <td>   2.076</td> \n",
       "</tr>\n",
       "<tr>\n",
       "  <th>Prob(Omnibus):</th> <td> 0.000</td> <th>  Jarque-Bera (JB):  </th> <td> 482.913</td> \n",
       "</tr>\n",
       "<tr>\n",
       "  <th>Skew:</th>          <td> 1.138</td> <th>  Prob(JB):          </th> <td>1.37e-105</td>\n",
       "</tr>\n",
       "<tr>\n",
       "  <th>Kurtosis:</th>      <td> 8.602</td> <th>  Cond. No.          </th> <td>    268.</td> \n",
       "</tr>\n",
       "</table><br/><br/>Warnings:<br/>[1] Standard Errors are heteroscedasticity robust (HC0)"
      ],
      "text/plain": [
       "<class 'statsmodels.iolib.summary.Summary'>\n",
       "\"\"\"\n",
       "                            OLS Regression Results                            \n",
       "==============================================================================\n",
       "Dep. Variable:                     증가   R-squared:                       0.468\n",
       "Model:                            OLS   Adj. R-squared:                  0.456\n",
       "Method:                 Least Squares   F-statistic:                     28.93\n",
       "Date:                Thu, 30 Aug 2018   Prob (F-statistic):           1.40e-30\n",
       "Time:                        14:49:12   Log-Likelihood:                -1505.2\n",
       "No. Observations:                 317   AIC:                             3026.\n",
       "Df Residuals:                     309   BIC:                             3056.\n",
       "Df Model:                           7                                         \n",
       "Covariance Type:                  HC0                                         \n",
       "==============================================================================\n",
       "                 coef    std err          z      P>|z|      [0.025      0.975]\n",
       "------------------------------------------------------------------------------\n",
       "Intercept     17.9499      3.877      4.630      0.000      10.352      25.548\n",
       "방송_생생정보        4.7403      3.021      1.569      0.117      -1.180      10.661\n",
       "방송_수요미식회      53.2231      4.352     12.229      0.000      44.693      61.753\n",
       "방영전            0.1636      0.081      2.024      0.043       0.005       0.322\n",
       "계절_여름         -7.0785      3.897     -1.816      0.069     -14.716       0.559\n",
       "계절_가을         -7.3920      4.739     -1.560      0.119     -16.680       1.896\n",
       "계절_겨울         -3.6171      4.018     -0.900      0.368     -11.493       4.259\n",
       "서울_1           3.4830      3.026      1.151      0.250      -2.448       9.414\n",
       "==============================================================================\n",
       "Omnibus:                       94.779   Durbin-Watson:                   2.076\n",
       "Prob(Omnibus):                  0.000   Jarque-Bera (JB):              482.913\n",
       "Skew:                           1.138   Prob(JB):                    1.37e-105\n",
       "Kurtosis:                       8.602   Cond. No.                         268.\n",
       "==============================================================================\n",
       "\n",
       "Warnings:\n",
       "[1] Standard Errors are heteroscedasticity robust (HC0)\n",
       "\"\"\""
      ]
     },
     "execution_count": 53,
     "metadata": {},
     "output_type": "execute_result"
    }
   ],
   "source": [
    "model4.summary()"
   ]
  },
  {
   "cell_type": "markdown",
   "metadata": {},
   "source": [
    "### 1. 가정\n",
    "\n",
    "#### 1) 정규성\n",
    "- Prob(JB) < 0.05 이므로 정규성 만족 x\n",
    "\n",
    "#### 2) 등분산\n",
    "- Prob(Omnibus) < 0.05이므로 등분산도 만족 x..\n",
    "\n",
    "#### 3) 독립성\n",
    "- Durbin-Watson = 2.076 : 2에 가까우므로 독립은 만족"
   ]
  },
  {
   "cell_type": "markdown",
   "metadata": {},
   "source": [
    "### 2. 회귀분석 결과"
   ]
  },
  {
   "cell_type": "markdown",
   "metadata": {},
   "source": [
    "F-statstic의 p-value < 0.05 이므로 회귀모형이 유의함\n",
    "\n",
    "**방영 후 포스팅 증감 = 17.9499 + 4.7403(생생정보통) + 53.2231(수요미식회) + 0.1636(방영전) - 7.0785(계절_여름) - 7.3920(계절_가을) \n",
    "                         - 3.6171(계절_겨울) + 3.4830(서울_1)**"
   ]
  },
  {
   "cell_type": "markdown",
   "metadata": {},
   "source": [
    "**해석**\n",
    "\n",
    "1. 생생정보통이 맛있는 녀석들보다 방영후 포스팅 증가분이 평균 4.7403개 더 많다.\n",
    "\n",
    "**2. 수요미식회가 맛있는 녀석들보다 방영후 포스팅 증가분이 평균 53.2231개 더 많다.**\n",
    "\n",
    "**3. 방영전 포스팅이 1개 증가하면 방영후 포스팅이 0.1636개 더 증가한다.**\n",
    "\n",
    "4. 봄에 방영된 식당이 다른 계절에 방영된 식당보다 방영 후 포스팅 증가분이 더 많다.\n",
    "\n",
    "5. 서울에 위치한 식당이 그렇지 않은 식당보다 방영 후 포스팅 증가분이 3.4830이 더 많다.\n",
    "\n",
    "**6. R^2 = 0.468 : 방송 프로그램, 방영전 포스팅 갯수 변수들의 분산이 방영후 포스팅 증가분의 분산을 46.8% 정도 설명한다. 즉, 모형의 설명력이 46.8% 된다고 해석할 수 있다. 계절 변수를 추가했더니 0.8% 설명력이 늘었음**\n",
    "\n",
    "\n",
    "**독립변수의 p-value를 봤을 때, 통계적으로 유의한 변수는 '수요미식회'와 '방영전 포스팅 갯수'뿐... 계절과 서울 변수를 추가했는데 유의한 변수가 아니었음(대신 방영전 변수가 통계적으로 유의하게 됨)**"
   ]
  }
 ],
 "metadata": {
  "kernelspec": {
   "display_name": "Python 3",
   "language": "python",
   "name": "python3"
  },
  "language_info": {
   "codemirror_mode": {
    "name": "ipython",
    "version": 3
   },
   "file_extension": ".py",
   "mimetype": "text/x-python",
   "name": "python",
   "nbconvert_exporter": "python",
   "pygments_lexer": "ipython3",
   "version": "3.6.5"
  }
 },
 "nbformat": 4,
 "nbformat_minor": 2
}
