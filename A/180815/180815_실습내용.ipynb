{
 "cells": [
  {
   "cell_type": "code",
   "execution_count": 268,
   "metadata": {},
   "outputs": [],
   "source": [
    "import pandas as pd\n",
    "import numpy as np"
   ]
  },
  {
   "cell_type": "code",
   "execution_count": 269,
   "metadata": {},
   "outputs": [],
   "source": [
    "df = pd.read_csv('sample.csv')"
   ]
  },
  {
   "cell_type": "code",
   "execution_count": 270,
   "metadata": {},
   "outputs": [
    {
     "data": {
      "text/html": [
       "<div>\n",
       "<style scoped>\n",
       "    .dataframe tbody tr th:only-of-type {\n",
       "        vertical-align: middle;\n",
       "    }\n",
       "\n",
       "    .dataframe tbody tr th {\n",
       "        vertical-align: top;\n",
       "    }\n",
       "\n",
       "    .dataframe thead th {\n",
       "        text-align: right;\n",
       "    }\n",
       "</style>\n",
       "<table border=\"1\" class=\"dataframe\">\n",
       "  <thead>\n",
       "    <tr style=\"text-align: right;\">\n",
       "      <th></th>\n",
       "      <th>방송</th>\n",
       "      <th>식당</th>\n",
       "      <th>방영일</th>\n",
       "      <th>포스팅일</th>\n",
       "      <th>제목</th>\n",
       "    </tr>\n",
       "  </thead>\n",
       "  <tbody>\n",
       "    <tr>\n",
       "      <th>0</th>\n",
       "      <td>수요미식회</td>\n",
       "      <td>서대문양꼬치</td>\n",
       "      <td>20170322</td>\n",
       "      <td>2017. 4. 12. 0:00</td>\n",
       "      <td>[연남동 / 서대문양꼬치] 수요미식회 양고기전골 맛집</td>\n",
       "    </tr>\n",
       "    <tr>\n",
       "      <th>1</th>\n",
       "      <td>수요미식회</td>\n",
       "      <td>서대문양꼬치</td>\n",
       "      <td>20170322</td>\n",
       "      <td>2017. 4. 21. 16:17</td>\n",
       "      <td>[마포구 연남동 맛집] 수요미식회 중식로드 맛집 중국 느낌 충만 서대문양꼬치!</td>\n",
       "    </tr>\n",
       "    <tr>\n",
       "      <th>2</th>\n",
       "      <td>수요미식회</td>\n",
       "      <td>서대문양꼬치</td>\n",
       "      <td>20170322</td>\n",
       "      <td>2017. 4. 17. 14:44\\n\\t</td>\n",
       "      <td>요즘 먹은것들 (3)가로수길카페/와인/연남 서대문양꼬치/홍대 아오이토리/스벅/삼성역...</td>\n",
       "    </tr>\n",
       "    <tr>\n",
       "      <th>3</th>\n",
       "      <td>수요미식회</td>\n",
       "      <td>서대문양꼬치</td>\n",
       "      <td>20170322</td>\n",
       "      <td>2017. 3. 18. 12:39</td>\n",
       "      <td>연남동 맛집 서대문 양꼬치 - 수요미식회 중식로드</td>\n",
       "    </tr>\n",
       "    <tr>\n",
       "      <th>4</th>\n",
       "      <td>수요미식회</td>\n",
       "      <td>서대문양꼬치</td>\n",
       "      <td>20170322</td>\n",
       "      <td>2017. 4. 17. 0:59\\n\\t</td>\n",
       "      <td>연남동 서대문양꼬치</td>\n",
       "    </tr>\n",
       "  </tbody>\n",
       "</table>\n",
       "</div>"
      ],
      "text/plain": [
       "      방송      식당       방영일                    포스팅일  \\\n",
       "0  수요미식회  서대문양꼬치  20170322       2017. 4. 12. 0:00   \n",
       "1  수요미식회  서대문양꼬치  20170322      2017. 4. 21. 16:17   \n",
       "2  수요미식회  서대문양꼬치  20170322  2017. 4. 17. 14:44\\n\\t   \n",
       "3  수요미식회  서대문양꼬치  20170322      2017. 3. 18. 12:39   \n",
       "4  수요미식회  서대문양꼬치  20170322   2017. 4. 17. 0:59\\n\\t   \n",
       "\n",
       "                                                  제목  \n",
       "0                    [연남동 / 서대문양꼬치] 수요미식회 양고기전골 맛집    \n",
       "1        [마포구 연남동 맛집] 수요미식회 중식로드 맛집 중국 느낌 충만 서대문양꼬치!  \n",
       "2  요즘 먹은것들 (3)가로수길카페/와인/연남 서대문양꼬치/홍대 아오이토리/스벅/삼성역...  \n",
       "3                       연남동 맛집 서대문 양꼬치 - 수요미식회 중식로드   \n",
       "4                                         연남동 서대문양꼬치  "
      ]
     },
     "execution_count": 270,
     "metadata": {},
     "output_type": "execute_result"
    }
   ],
   "source": [
    "# 칼럼 채우기\n",
    "df.columns = ['방송', '식당', '방영일', '포스팅일', '제목']\n",
    "df.head()"
   ]
  },
  {
   "cell_type": "code",
   "execution_count": 271,
   "metadata": {},
   "outputs": [
    {
     "data": {
      "text/html": [
       "<div>\n",
       "<style scoped>\n",
       "    .dataframe tbody tr th:only-of-type {\n",
       "        vertical-align: middle;\n",
       "    }\n",
       "\n",
       "    .dataframe tbody tr th {\n",
       "        vertical-align: top;\n",
       "    }\n",
       "\n",
       "    .dataframe thead th {\n",
       "        text-align: right;\n",
       "    }\n",
       "</style>\n",
       "<table border=\"1\" class=\"dataframe\">\n",
       "  <thead>\n",
       "    <tr style=\"text-align: right;\">\n",
       "      <th></th>\n",
       "      <th>방송</th>\n",
       "      <th>식당</th>\n",
       "      <th>방영일</th>\n",
       "      <th>포스팅일</th>\n",
       "      <th>제목</th>\n",
       "    </tr>\n",
       "  </thead>\n",
       "  <tbody>\n",
       "    <tr>\n",
       "      <th>0</th>\n",
       "      <td>수요미식회</td>\n",
       "      <td>서대문양꼬치</td>\n",
       "      <td>2017-03-22</td>\n",
       "      <td>2017. 4. 12. 0:00</td>\n",
       "      <td>[연남동 / 서대문양꼬치] 수요미식회 양고기전골 맛집</td>\n",
       "    </tr>\n",
       "    <tr>\n",
       "      <th>1</th>\n",
       "      <td>수요미식회</td>\n",
       "      <td>서대문양꼬치</td>\n",
       "      <td>2017-03-22</td>\n",
       "      <td>2017. 4. 21. 16:17</td>\n",
       "      <td>[마포구 연남동 맛집] 수요미식회 중식로드 맛집 중국 느낌 충만 서대문양꼬치!</td>\n",
       "    </tr>\n",
       "    <tr>\n",
       "      <th>2</th>\n",
       "      <td>수요미식회</td>\n",
       "      <td>서대문양꼬치</td>\n",
       "      <td>2017-03-22</td>\n",
       "      <td>2017. 4. 17. 14:44\\n\\t</td>\n",
       "      <td>요즘 먹은것들 (3)가로수길카페/와인/연남 서대문양꼬치/홍대 아오이토리/스벅/삼성역...</td>\n",
       "    </tr>\n",
       "  </tbody>\n",
       "</table>\n",
       "</div>"
      ],
      "text/plain": [
       "      방송      식당         방영일                    포스팅일  \\\n",
       "0  수요미식회  서대문양꼬치  2017-03-22       2017. 4. 12. 0:00   \n",
       "1  수요미식회  서대문양꼬치  2017-03-22      2017. 4. 21. 16:17   \n",
       "2  수요미식회  서대문양꼬치  2017-03-22  2017. 4. 17. 14:44\\n\\t   \n",
       "\n",
       "                                                  제목  \n",
       "0                    [연남동 / 서대문양꼬치] 수요미식회 양고기전골 맛집    \n",
       "1        [마포구 연남동 맛집] 수요미식회 중식로드 맛집 중국 느낌 충만 서대문양꼬치!  \n",
       "2  요즘 먹은것들 (3)가로수길카페/와인/연남 서대문양꼬치/홍대 아오이토리/스벅/삼성역...  "
      ]
     },
     "execution_count": 271,
     "metadata": {},
     "output_type": "execute_result"
    }
   ],
   "source": [
    "# 방영일 날짜 date 객체로 바꾸기\n",
    "from datetime import date\n",
    "\n",
    "b_date = []\n",
    "\n",
    "for data in df['방영일']:\n",
    "    year = str(data)[:4]\n",
    "    month = str(data)[4:6]\n",
    "    day = str(data)[6:8]\n",
    "    single_date = date(int(year), int(month), int(day))\n",
    "    b_date.append(single_date)\n",
    "    \n",
    "df['방영일'] = pd.Series(b_date)\n",
    "df.head(3)"
   ]
  },
  {
   "cell_type": "code",
   "execution_count": 272,
   "metadata": {},
   "outputs": [
    {
     "data": {
      "text/html": [
       "<div>\n",
       "<style scoped>\n",
       "    .dataframe tbody tr th:only-of-type {\n",
       "        vertical-align: middle;\n",
       "    }\n",
       "\n",
       "    .dataframe tbody tr th {\n",
       "        vertical-align: top;\n",
       "    }\n",
       "\n",
       "    .dataframe thead th {\n",
       "        text-align: right;\n",
       "    }\n",
       "</style>\n",
       "<table border=\"1\" class=\"dataframe\">\n",
       "  <thead>\n",
       "    <tr style=\"text-align: right;\">\n",
       "      <th></th>\n",
       "      <th>방송</th>\n",
       "      <th>식당</th>\n",
       "      <th>방영일</th>\n",
       "      <th>포스팅일</th>\n",
       "      <th>제목</th>\n",
       "    </tr>\n",
       "  </thead>\n",
       "  <tbody>\n",
       "    <tr>\n",
       "      <th>0</th>\n",
       "      <td>수요미식회</td>\n",
       "      <td>서대문양꼬치</td>\n",
       "      <td>2017-03-22</td>\n",
       "      <td>2017-04-12</td>\n",
       "      <td>[연남동 / 서대문양꼬치] 수요미식회 양고기전골 맛집</td>\n",
       "    </tr>\n",
       "    <tr>\n",
       "      <th>1</th>\n",
       "      <td>수요미식회</td>\n",
       "      <td>서대문양꼬치</td>\n",
       "      <td>2017-03-22</td>\n",
       "      <td>2017-04-21</td>\n",
       "      <td>[마포구 연남동 맛집] 수요미식회 중식로드 맛집 중국 느낌 충만 서대문양꼬치!</td>\n",
       "    </tr>\n",
       "    <tr>\n",
       "      <th>2</th>\n",
       "      <td>수요미식회</td>\n",
       "      <td>서대문양꼬치</td>\n",
       "      <td>2017-03-22</td>\n",
       "      <td>2017-04-17</td>\n",
       "      <td>요즘 먹은것들 (3)가로수길카페/와인/연남 서대문양꼬치/홍대 아오이토리/스벅/삼성역...</td>\n",
       "    </tr>\n",
       "  </tbody>\n",
       "</table>\n",
       "</div>"
      ],
      "text/plain": [
       "      방송      식당         방영일        포스팅일  \\\n",
       "0  수요미식회  서대문양꼬치  2017-03-22  2017-04-12   \n",
       "1  수요미식회  서대문양꼬치  2017-03-22  2017-04-21   \n",
       "2  수요미식회  서대문양꼬치  2017-03-22  2017-04-17   \n",
       "\n",
       "                                                  제목  \n",
       "0                    [연남동 / 서대문양꼬치] 수요미식회 양고기전골 맛집    \n",
       "1        [마포구 연남동 맛집] 수요미식회 중식로드 맛집 중국 느낌 충만 서대문양꼬치!  \n",
       "2  요즘 먹은것들 (3)가로수길카페/와인/연남 서대문양꼬치/홍대 아오이토리/스벅/삼성역...  "
      ]
     },
     "execution_count": 272,
     "metadata": {},
     "output_type": "execute_result"
    }
   ],
   "source": [
    "# 포스팅 날짜 date 객체로 바꾸기\n",
    "\n",
    "for data in df['포스팅일']:\n",
    "    date_components = data.split('.')\n",
    "    year = date_components[0]\n",
    "    month = date_components[1]\n",
    "    day = date_components[2]\n",
    "    single_date = date(int(year), int(month), int(day))\n",
    "    p_date.append(single_date)\n",
    "    \n",
    "df['포스팅일'] = pd.Series(p_date)\n",
    "df.head(3)"
   ]
  },
  {
   "cell_type": "code",
   "execution_count": 273,
   "metadata": {
    "scrolled": true
   },
   "outputs": [
    {
     "name": "stdout",
     "output_type": "stream",
     "text": [
      "<class 'pandas.core.frame.DataFrame'>\n",
      "RangeIndex: 335 entries, 0 to 334\n",
      "Data columns (total 5 columns):\n",
      "방송      335 non-null object\n",
      "식당      335 non-null object\n",
      "방영일     335 non-null object\n",
      "포스팅일    335 non-null object\n",
      "제목      335 non-null object\n",
      "dtypes: object(5)\n",
      "memory usage: 13.2+ KB\n"
     ]
    }
   ],
   "source": [
    "df.info()"
   ]
  },
  {
   "cell_type": "code",
   "execution_count": 274,
   "metadata": {},
   "outputs": [],
   "source": [
    "# 방영일과 포스팅 날짜 차이 구하기\n",
    "df['days_diff'] = df['포스팅일'] - df['방영일']\n",
    "df['days_diff'] = df['days_diff']\n",
    "df['days_diff'] = df['days_diff'].astype(str).str.findall(r'(\\-?\\d+)\\s')"
   ]
  },
  {
   "cell_type": "code",
   "execution_count": 275,
   "metadata": {},
   "outputs": [
    {
     "data": {
      "text/html": [
       "<div>\n",
       "<style scoped>\n",
       "    .dataframe tbody tr th:only-of-type {\n",
       "        vertical-align: middle;\n",
       "    }\n",
       "\n",
       "    .dataframe tbody tr th {\n",
       "        vertical-align: top;\n",
       "    }\n",
       "\n",
       "    .dataframe thead th {\n",
       "        text-align: right;\n",
       "    }\n",
       "</style>\n",
       "<table border=\"1\" class=\"dataframe\">\n",
       "  <thead>\n",
       "    <tr style=\"text-align: right;\">\n",
       "      <th></th>\n",
       "      <th>방송</th>\n",
       "      <th>식당</th>\n",
       "      <th>방영일</th>\n",
       "      <th>포스팅일</th>\n",
       "      <th>제목</th>\n",
       "      <th>days_diff</th>\n",
       "    </tr>\n",
       "  </thead>\n",
       "  <tbody>\n",
       "    <tr>\n",
       "      <th>0</th>\n",
       "      <td>수요미식회</td>\n",
       "      <td>서대문양꼬치</td>\n",
       "      <td>2017-03-22</td>\n",
       "      <td>2017-04-12</td>\n",
       "      <td>[연남동 / 서대문양꼬치] 수요미식회 양고기전골 맛집</td>\n",
       "      <td>21</td>\n",
       "    </tr>\n",
       "    <tr>\n",
       "      <th>1</th>\n",
       "      <td>수요미식회</td>\n",
       "      <td>서대문양꼬치</td>\n",
       "      <td>2017-03-22</td>\n",
       "      <td>2017-04-21</td>\n",
       "      <td>[마포구 연남동 맛집] 수요미식회 중식로드 맛집 중국 느낌 충만 서대문양꼬치!</td>\n",
       "      <td>30</td>\n",
       "    </tr>\n",
       "    <tr>\n",
       "      <th>2</th>\n",
       "      <td>수요미식회</td>\n",
       "      <td>서대문양꼬치</td>\n",
       "      <td>2017-03-22</td>\n",
       "      <td>2017-04-17</td>\n",
       "      <td>요즘 먹은것들 (3)가로수길카페/와인/연남 서대문양꼬치/홍대 아오이토리/스벅/삼성역...</td>\n",
       "      <td>26</td>\n",
       "    </tr>\n",
       "    <tr>\n",
       "      <th>3</th>\n",
       "      <td>수요미식회</td>\n",
       "      <td>서대문양꼬치</td>\n",
       "      <td>2017-03-22</td>\n",
       "      <td>2017-03-18</td>\n",
       "      <td>연남동 맛집 서대문 양꼬치 - 수요미식회 중식로드</td>\n",
       "      <td>-4</td>\n",
       "    </tr>\n",
       "    <tr>\n",
       "      <th>4</th>\n",
       "      <td>수요미식회</td>\n",
       "      <td>서대문양꼬치</td>\n",
       "      <td>2017-03-22</td>\n",
       "      <td>2017-04-17</td>\n",
       "      <td>연남동 서대문양꼬치</td>\n",
       "      <td>26</td>\n",
       "    </tr>\n",
       "  </tbody>\n",
       "</table>\n",
       "</div>"
      ],
      "text/plain": [
       "      방송      식당         방영일        포스팅일  \\\n",
       "0  수요미식회  서대문양꼬치  2017-03-22  2017-04-12   \n",
       "1  수요미식회  서대문양꼬치  2017-03-22  2017-04-21   \n",
       "2  수요미식회  서대문양꼬치  2017-03-22  2017-04-17   \n",
       "3  수요미식회  서대문양꼬치  2017-03-22  2017-03-18   \n",
       "4  수요미식회  서대문양꼬치  2017-03-22  2017-04-17   \n",
       "\n",
       "                                                  제목  days_diff  \n",
       "0                    [연남동 / 서대문양꼬치] 수요미식회 양고기전골 맛집           21  \n",
       "1        [마포구 연남동 맛집] 수요미식회 중식로드 맛집 중국 느낌 충만 서대문양꼬치!         30  \n",
       "2  요즘 먹은것들 (3)가로수길카페/와인/연남 서대문양꼬치/홍대 아오이토리/스벅/삼성역...         26  \n",
       "3                       연남동 맛집 서대문 양꼬치 - 수요미식회 중식로드          -4  \n",
       "4                                         연남동 서대문양꼬치         26  "
      ]
     },
     "execution_count": 275,
     "metadata": {},
     "output_type": "execute_result"
    }
   ],
   "source": [
    "# 00days에서 00만 남기기\n",
    "days_list = []\n",
    "for days in df['days_diff']:\n",
    "    days_list.append(int(days[0]))\n",
    "\n",
    "df['days_diff'] = days_list\n",
    "df.head()"
   ]
  },
  {
   "cell_type": "code",
   "execution_count": 276,
   "metadata": {},
   "outputs": [
    {
     "name": "stdout",
     "output_type": "stream",
     "text": [
      "<class 'pandas.core.frame.DataFrame'>\n",
      "RangeIndex: 151 entries, 0 to 150\n",
      "Data columns (total 6 columns):\n",
      "식당           151 non-null object\n",
      "days_diff    151 non-null int64\n",
      "방송           151 non-null int64\n",
      "방영일          151 non-null int64\n",
      "포스팅일         151 non-null int64\n",
      "제목           151 non-null int64\n",
      "dtypes: int64(5), object(1)\n",
      "memory usage: 7.2+ KB\n"
     ]
    }
   ],
   "source": [
    "# 식당명과 days_diff로 그룹화하기\n",
    "df_group = df.groupby(['식당', 'days_diff']).count().reset_index()\n",
    "df_group.info()"
   ]
  },
  {
   "cell_type": "code",
   "execution_count": 277,
   "metadata": {},
   "outputs": [
    {
     "data": {
      "text/html": [
       "<div>\n",
       "<style scoped>\n",
       "    .dataframe tbody tr th:only-of-type {\n",
       "        vertical-align: middle;\n",
       "    }\n",
       "\n",
       "    .dataframe tbody tr th {\n",
       "        vertical-align: top;\n",
       "    }\n",
       "\n",
       "    .dataframe thead th {\n",
       "        text-align: right;\n",
       "    }\n",
       "</style>\n",
       "<table border=\"1\" class=\"dataframe\">\n",
       "  <thead>\n",
       "    <tr style=\"text-align: right;\">\n",
       "      <th></th>\n",
       "      <th>식당</th>\n",
       "      <th>days_diff</th>\n",
       "      <th>방송</th>\n",
       "      <th>방영일</th>\n",
       "      <th>포스팅일</th>\n",
       "      <th>제목</th>\n",
       "    </tr>\n",
       "  </thead>\n",
       "  <tbody>\n",
       "    <tr>\n",
       "      <th>0</th>\n",
       "      <td>나노하나</td>\n",
       "      <td>-28</td>\n",
       "      <td>1</td>\n",
       "      <td>1</td>\n",
       "      <td>1</td>\n",
       "      <td>1</td>\n",
       "    </tr>\n",
       "    <tr>\n",
       "      <th>1</th>\n",
       "      <td>나노하나</td>\n",
       "      <td>-27</td>\n",
       "      <td>1</td>\n",
       "      <td>1</td>\n",
       "      <td>1</td>\n",
       "      <td>1</td>\n",
       "    </tr>\n",
       "    <tr>\n",
       "      <th>2</th>\n",
       "      <td>나노하나</td>\n",
       "      <td>-26</td>\n",
       "      <td>2</td>\n",
       "      <td>2</td>\n",
       "      <td>2</td>\n",
       "      <td>2</td>\n",
       "    </tr>\n",
       "  </tbody>\n",
       "</table>\n",
       "</div>"
      ],
      "text/plain": [
       "     식당  days_diff  방송  방영일  포스팅일  제목\n",
       "0  나노하나        -28   1    1     1   1\n",
       "1  나노하나        -27   1    1     1   1\n",
       "2  나노하나        -26   2    2     2   2"
      ]
     },
     "execution_count": 277,
     "metadata": {},
     "output_type": "execute_result"
    }
   ],
   "source": [
    "df_group.head(3)"
   ]
  },
  {
   "cell_type": "code",
   "execution_count": 278,
   "metadata": {},
   "outputs": [
    {
     "data": {
      "text/html": [
       "<div>\n",
       "<style scoped>\n",
       "    .dataframe tbody tr th:only-of-type {\n",
       "        vertical-align: middle;\n",
       "    }\n",
       "\n",
       "    .dataframe tbody tr th {\n",
       "        vertical-align: top;\n",
       "    }\n",
       "\n",
       "    .dataframe thead th {\n",
       "        text-align: right;\n",
       "    }\n",
       "</style>\n",
       "<table border=\"1\" class=\"dataframe\">\n",
       "  <thead>\n",
       "    <tr style=\"text-align: right;\">\n",
       "      <th></th>\n",
       "      <th>식당</th>\n",
       "      <th>days_diff</th>\n",
       "      <th>방송</th>\n",
       "      <th>방영일</th>\n",
       "      <th>포스팅일</th>\n",
       "      <th>제목</th>\n",
       "    </tr>\n",
       "  </thead>\n",
       "  <tbody>\n",
       "    <tr>\n",
       "      <th>148</th>\n",
       "      <td>서대문양꼬치</td>\n",
       "      <td>26</td>\n",
       "      <td>2</td>\n",
       "      <td>2</td>\n",
       "      <td>2</td>\n",
       "      <td>2</td>\n",
       "    </tr>\n",
       "    <tr>\n",
       "      <th>149</th>\n",
       "      <td>서대문양꼬치</td>\n",
       "      <td>29</td>\n",
       "      <td>2</td>\n",
       "      <td>2</td>\n",
       "      <td>2</td>\n",
       "      <td>2</td>\n",
       "    </tr>\n",
       "    <tr>\n",
       "      <th>150</th>\n",
       "      <td>서대문양꼬치</td>\n",
       "      <td>30</td>\n",
       "      <td>2</td>\n",
       "      <td>2</td>\n",
       "      <td>2</td>\n",
       "      <td>2</td>\n",
       "    </tr>\n",
       "  </tbody>\n",
       "</table>\n",
       "</div>"
      ],
      "text/plain": [
       "         식당  days_diff  방송  방영일  포스팅일  제목\n",
       "148  서대문양꼬치         26   2    2     2   2\n",
       "149  서대문양꼬치         29   2    2     2   2\n",
       "150  서대문양꼬치         30   2    2     2   2"
      ]
     },
     "execution_count": 278,
     "metadata": {},
     "output_type": "execute_result"
    }
   ],
   "source": [
    "df_group.tail(3)"
   ]
  },
  {
   "cell_type": "code",
   "execution_count": 279,
   "metadata": {},
   "outputs": [
    {
     "data": {
      "text/plain": [
       "array(['나노하나', '바라티에', '백곰막걸리', '서대문양꼬치'], dtype=object)"
      ]
     },
     "execution_count": 279,
     "metadata": {},
     "output_type": "execute_result"
    }
   ],
   "source": [
    "# 식당 2개로 일단 테이블을 나눠보자\n",
    "df_group['식당'].unique()"
   ]
  },
  {
   "cell_type": "code",
   "execution_count": 280,
   "metadata": {},
   "outputs": [],
   "source": [
    "df_nano = df_group[df_group['식당']=='나노하나']\n",
    "df_bara = df_group[df_group['식당']=='바라티에']"
   ]
  },
  {
   "cell_type": "code",
   "execution_count": 281,
   "metadata": {},
   "outputs": [
    {
     "data": {
      "text/html": [
       "<div>\n",
       "<style scoped>\n",
       "    .dataframe tbody tr th:only-of-type {\n",
       "        vertical-align: middle;\n",
       "    }\n",
       "\n",
       "    .dataframe tbody tr th {\n",
       "        vertical-align: top;\n",
       "    }\n",
       "\n",
       "    .dataframe thead th {\n",
       "        text-align: right;\n",
       "    }\n",
       "</style>\n",
       "<table border=\"1\" class=\"dataframe\">\n",
       "  <thead>\n",
       "    <tr style=\"text-align: right;\">\n",
       "      <th></th>\n",
       "      <th>식당</th>\n",
       "      <th>days_diff</th>\n",
       "      <th>방송</th>\n",
       "      <th>방영일</th>\n",
       "      <th>포스팅일</th>\n",
       "      <th>제목</th>\n",
       "    </tr>\n",
       "  </thead>\n",
       "  <tbody>\n",
       "    <tr>\n",
       "      <th>0</th>\n",
       "      <td>나노하나</td>\n",
       "      <td>-28</td>\n",
       "      <td>1</td>\n",
       "      <td>1</td>\n",
       "      <td>1</td>\n",
       "      <td>1</td>\n",
       "    </tr>\n",
       "    <tr>\n",
       "      <th>1</th>\n",
       "      <td>나노하나</td>\n",
       "      <td>-27</td>\n",
       "      <td>1</td>\n",
       "      <td>1</td>\n",
       "      <td>1</td>\n",
       "      <td>1</td>\n",
       "    </tr>\n",
       "    <tr>\n",
       "      <th>2</th>\n",
       "      <td>나노하나</td>\n",
       "      <td>-26</td>\n",
       "      <td>2</td>\n",
       "      <td>2</td>\n",
       "      <td>2</td>\n",
       "      <td>2</td>\n",
       "    </tr>\n",
       "  </tbody>\n",
       "</table>\n",
       "</div>"
      ],
      "text/plain": [
       "     식당  days_diff  방송  방영일  포스팅일  제목\n",
       "0  나노하나        -28   1    1     1   1\n",
       "1  나노하나        -27   1    1     1   1\n",
       "2  나노하나        -26   2    2     2   2"
      ]
     },
     "execution_count": 281,
     "metadata": {},
     "output_type": "execute_result"
    }
   ],
   "source": [
    "df_nano.head(3)"
   ]
  },
  {
   "cell_type": "code",
   "execution_count": 282,
   "metadata": {},
   "outputs": [
    {
     "name": "stderr",
     "output_type": "stream",
     "text": [
      "C:\\Users\\jeeyun\\Anaconda3\\lib\\site-packages\\pandas\\core\\generic.py:4384: FutureWarning: Attribute 'is_copy' is deprecated and will be removed in a future version.\n",
      "  object.__getattribute__(self, name)\n",
      "C:\\Users\\jeeyun\\Anaconda3\\lib\\site-packages\\pandas\\core\\generic.py:4385: FutureWarning: Attribute 'is_copy' is deprecated and will be removed in a future version.\n",
      "  return object.__setattr__(self, name, value)\n",
      "C:\\Users\\jeeyun\\Anaconda3\\lib\\site-packages\\plotnine\\positions\\position.py:188: FutureWarning: Method .as_matrix will be removed in a future version. Use .values instead.\n",
      "  intervals = data[xminmax].drop_duplicates().as_matrix().flatten()\n"
     ]
    },
    {
     "data": {
      "image/png": "[encoded data removed]",
      "text/plain": [
       "<Figure size 640x480 with 1 Axes>"
      ]
     },
     "metadata": {},
     "output_type": "display_data"
    },
    {
     "data": {
      "text/plain": [
       "<ggplot: (-9223372033437334072)>"
      ]
     },
     "execution_count": 282,
     "metadata": {},
     "output_type": "execute_result"
    }
   ],
   "source": [
    "from plotnine import *\n",
    "# 나노하나\n",
    "# 1) 일별로 정렬\n",
    "df_nano = df_nano.sort_values(by='days_diff')\n",
    "\n",
    "# 2) 그래프 그리기\n",
    "(ggplot(df_nano)\n",
    " + aes(x='days_diff', y='방송')\n",
    " + geom_bar(stat='identity', position='dodge')\n",
    " + theme(text=element_text(family='NanumGothic'))\n",
    ")"
   ]
  },
  {
   "cell_type": "code",
   "execution_count": 299,
   "metadata": {},
   "outputs": [
    {
     "name": "stderr",
     "output_type": "stream",
     "text": [
      "C:\\Users\\jeeyun\\Anaconda3\\lib\\site-packages\\pandas\\core\\generic.py:4384: FutureWarning: Attribute 'is_copy' is deprecated and will be removed in a future version.\n",
      "  object.__getattribute__(self, name)\n",
      "C:\\Users\\jeeyun\\Anaconda3\\lib\\site-packages\\pandas\\core\\generic.py:4385: FutureWarning: Attribute 'is_copy' is deprecated and will be removed in a future version.\n",
      "  return object.__setattr__(self, name, value)\n",
      "C:\\Users\\jeeyun\\Anaconda3\\lib\\site-packages\\plotnine\\positions\\position.py:188: FutureWarning: Method .as_matrix will be removed in a future version. Use .values instead.\n",
      "  intervals = data[xminmax].drop_duplicates().as_matrix().flatten()\n"
     ]
    },
    {
     "data": {
      "image/png": "[encoded data removed]",
      "text/plain": [
       "<Figure size 640x480 with 1 Axes>"
      ]
     },
     "metadata": {},
     "output_type": "display_data"
    }
   ],
   "source": [
    "# 위에걸 함수로 만들어보자\n",
    "\n",
    "def sort_and_graph(dataframe, sort_by, x_val, y_val):\n",
    "    df = dataframe.sort_values(by=sort_by)\n",
    "    (ggplot(df_nano)\n",
    "     + aes(x=x_val, y=y_val)\n",
    "     + geom_bar(stat='identity', position='dodge')\n",
    "     + theme(text=element_text(family='NanumGothic'))\n",
    "    ).draw()\n",
    "\n",
    "# 바라티에에 적용해보기\n",
    "sort_and_graph(df_bara, 'days_diff', 'days_diff', '방송')"
   ]
  },
  {
   "cell_type": "code",
   "execution_count": 305,
   "metadata": {},
   "outputs": [
    {
     "name": "stderr",
     "output_type": "stream",
     "text": [
      "C:\\Users\\jeeyun\\Anaconda3\\lib\\site-packages\\pandas\\core\\generic.py:4384: FutureWarning: Attribute 'is_copy' is deprecated and will be removed in a future version.\n",
      "  object.__getattribute__(self, name)\n",
      "C:\\Users\\jeeyun\\Anaconda3\\lib\\site-packages\\pandas\\core\\generic.py:4385: FutureWarning: Attribute 'is_copy' is deprecated and will be removed in a future version.\n",
      "  return object.__setattr__(self, name, value)\n"
     ]
    },
    {
     "data": {
      "image/png": "[encoded data removed]",
      "text/plain": [
       "<Figure size 640x480 with 1 Axes>"
      ]
     },
     "metadata": {},
     "output_type": "display_data"
    },
    {
     "data": {
      "text/plain": [
       "<ggplot: (-9223372033437733372)>"
      ]
     },
     "execution_count": 305,
     "metadata": {},
     "output_type": "execute_result"
    }
   ],
   "source": [
    "# days_diff 별로 포스팅 수를 평균내어보기\n",
    "df_mean = df_nano.append(df_bara, ignore_index=True)\n",
    "df_mean = df_mean.groupby(by='days_diff').agg(np.mean).reset_index()\n",
    "\n",
    "(ggplot(df_mean)\n",
    " + aes(x='days_diff', y='방송')\n",
    " + geom_line()\n",
    " + theme(text=element_text(family='NanumGothic'))\n",
    ")"
   ]
  },
  {
   "cell_type": "code",
   "execution_count": null,
   "metadata": {},
   "outputs": [],
   "source": []
  }
 ],
 "metadata": {
  "kernelspec": {
   "display_name": "Python 3",
   "language": "python",
   "name": "python3"
  },
  "language_info": {
   "codemirror_mode": {
    "name": "ipython",
    "version": 3
   },
   "file_extension": ".py",
   "mimetype": "text/x-python",
   "name": "python",
   "nbconvert_exporter": "python",
   "pygments_lexer": "ipython3",
   "version": "3.6.5"
  }
 },
 "nbformat": 4,
 "nbformat_minor": 2
}
