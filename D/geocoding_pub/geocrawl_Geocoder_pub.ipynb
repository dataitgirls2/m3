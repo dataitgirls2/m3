{
 "cells": [
  {
   "cell_type": "markdown",
   "metadata": {},
   "source": [
    "# 필요한 모듈들:\n",
    "pandas, urllib, json"
   ]
  },
  {
   "cell_type": "code",
   "execution_count": 1,
   "metadata": {},
   "outputs": [],
   "source": [
    "import pandas as pd\n",
    "import spymaster as spy\n",
    "import matplotlib.pyplot as plt\n",
    "import numpy as np\n",
    "from time import sleep\n",
    "from datetime import datetime"
   ]
  },
  {
   "cell_type": "markdown",
   "metadata": {},
   "source": [
    "## 먼저 stores_raw.csv 압축 파일을 풀어주세요"
   ]
  },
  {
   "cell_type": "code",
   "execution_count": 5,
   "metadata": {},
   "outputs": [
    {
     "name": "stdout",
     "output_type": "stream",
     "text": [
      "                                address    구      년도        업소명    업종명  \\\n",
      "0           서울특별시 은평구 신사동  17번지 11호  2층  은평구  2014.0       2월7일  일반음식점   \n",
      "1  서울특별시 은평구 수색동  75번지  DMC 자이상가 1층108호  은평구  2014.0      오봉도시락  휴게음식점   \n",
      "2            서울특별시 은평구 대조동  185번지 16호    은평구  1999.0       명송회집  일반음식점   \n",
      "3     서울특별시 은평구 갈현동  506번지 9호  103,104호  은평구  2013.0    장충왕족발보쌈  일반음식점   \n",
      "4            서울특별시 은평구 응암동  72번지 3호  1층  은평구  2016.0  예쁜 뽀들이 함바  일반음식점   \n",
      "\n",
      "      업태명  영업자시작년도      영업자시작일        폐업일자    폐업년도  \n",
      "0   호프/통닭   2014.0  20140224.0         NaN     NaN  \n",
      "1  일반조리판매   2014.0  20141010.0         NaN     NaN  \n",
      "2      분식   2013.0  20130308.0  20131220.0  2013.0  \n",
      "3   호프/통닭   2013.0  20130808.0  20141226.0  2014.0  \n",
      "4      한식   2016.0  20161129.0         NaN     NaN  \n",
      "(334399, 10)\n"
     ]
    }
   ],
   "source": [
    "df = pd.read_csv('stores_raw.csv', encoding='utf-8', header=0)\n",
    "print(df.head())\n",
    "print(df.shape)"
   ]
  },
  {
   "cell_type": "markdown",
   "metadata": {},
   "source": [
    "## Naver Developers에 application 등록\n",
    "[여기](https://developers.naver.com/apps/#/myapps)들어가셔서 \n",
    "1. 네이버 로그인\n",
    "2. 애플리케이션 등록\n",
    "3. 앱 이름 아무거나, 사용 API는 **지도(웹)** 추가, 비로그인 오픈 API 서비스 환경은 **WEB 설정**\n",
    "4. 웹 서비스 url은 그냥 http://naver.com 로 하셔도 됩니다"
   ]
  },
  {
   "cell_type": "markdown",
   "metadata": {},
   "source": [
    "# 크롤링 옵션 입력"
   ]
  },
  {
   "cell_type": "markdown",
   "metadata": {},
   "source": [
    "agent_rank: 각자 해당되는 숫자를 agent_rank로 지정해주시면 됩니다.\n",
    "    - 진영님: 0 (0 - 69999)\n",
    "    - 다혜님: 1 (70000 - 139999)\n",
    "    - 다현님: 2 (140000- 209999)\n",
    "    - 차차님: 3 (210000 - 279999)\n",
    "    - 예은님: 4 (280000 - 334399)\n",
    "\n",
    "Geocoder: 각자 등록한 네이버 애플리케이션의 클라이언트 ID, Secret을 입력해주시면 됩니다.  \n",
    "- 'Naver-Client-ID', 'Naver-Client-Secret'"
   ]
  },
  {
   "cell_type": "code",
   "execution_count": 6,
   "metadata": {},
   "outputs": [
    {
     "name": "stdout",
     "output_type": "stream",
     "text": [
      "280000 334398\n"
     ]
    }
   ],
   "source": [
    "agent_rank = 4\n",
    "Geocoder = spy.Agent('Naver-Client-ID', 'Naver-Client-Secret')\n",
    "agent = Geocoder\n",
    "\n",
    "if agent_rank == 4:\n",
    "    part_start = 70000*agent_rank\n",
    "    part_end = part_start + 70000\n",
    "    df_part = df[part_start:]\n",
    "else:    \n",
    "    part_start = 70000*agent_rank\n",
    "    part_end = part_start + 70000\n",
    "    df_part = df[part_start:part_end]\n",
    "    \n",
    "# 각자 처리해야 할 데이터 인덱스 시작, 끝     \n",
    "print(df_part.iloc[0].name, df_part.iloc[-1].name,)"
   ]
  },
  {
   "cell_type": "code",
   "execution_count": 7,
   "metadata": {},
   "outputs": [],
   "source": [
    "def naver_get_coor(agent, row):\n",
    "    address = row.address\n",
    "    if row.name % 100 == 0:\n",
    "        sleep(1.5)\n",
    "    try:\n",
    "        coor = spy.get_coor(agent, address)\n",
    "        return(coor['lat'], coor['lng'])\n",
    "    except: \n",
    "        return np.nan"
   ]
  },
  {
   "cell_type": "code",
   "execution_count": 8,
   "metadata": {},
   "outputs": [],
   "source": [
    "def save_csv(df_current, progress_start, progress_end):\n",
    "    fname = \"./geocrawls/stores_part_%d_%d.csv\" % (progress_start, progress_end)\n",
    "    df_current.to_csv(fname, encoding='utf-8', index=None)\n",
    "    print(fname)"
   ]
  },
  {
   "cell_type": "code",
   "execution_count": null,
   "metadata": {},
   "outputs": [
    {
     "name": "stderr",
     "output_type": "stream",
     "text": [
      "C:\\Users\\Delta\\AppData\\Local\\Continuum\\anaconda3\\lib\\site-packages\\ipykernel_launcher.py:6: SettingWithCopyWarning: \n",
      "A value is trying to be set on a copy of a slice from a DataFrame.\n",
      "Try using .loc[row_indexer,col_indexer] = value instead\n",
      "\n",
      "See the caveats in the documentation: http://pandas.pydata.org/pandas-docs/stable/indexing.html#indexing-view-versus-copy\n",
      "  \n"
     ]
    },
    {
     "name": "stdout",
     "output_type": "stream",
     "text": [
      "./geocrawls/stores_part_280000_280999.csv\n",
      "progress:  -1000 - 0 2018-08-20 20:37:36.050905\n",
      "./geocrawls/stores_part_281000_281999.csv\n",
      "progress:  0 - 1000 2018-08-20 20:40:08.067553\n",
      "./geocrawls/stores_part_282000_282999.csv\n",
      "progress:  1000 - 2000 2018-08-20 20:42:41.047903\n",
      "./geocrawls/stores_part_283000_283999.csv\n",
      "progress:  2000 - 3000 2018-08-20 20:45:05.163618\n",
      "./geocrawls/stores_part_284000_284999.csv\n",
      "progress:  3000 - 4000 2018-08-20 20:47:28.263234\n",
      "./geocrawls/stores_part_285000_285999.csv\n",
      "progress:  4000 - 5000 2018-08-20 20:49:49.438255\n",
      "./geocrawls/stores_part_286000_286999.csv\n",
      "progress:  5000 - 6000 2018-08-20 20:53:12.569412\n",
      "./geocrawls/stores_part_287000_287999.csv\n",
      "progress:  6000 - 7000 2018-08-20 20:55:37.077122\n",
      "./geocrawls/stores_part_288000_288999.csv\n",
      "progress:  7000 - 8000 2018-08-20 20:57:50.290335\n",
      "./geocrawls/stores_part_289000_289999.csv\n",
      "progress:  8000 - 9000 2018-08-20 21:00:05.664070\n",
      "./geocrawls/stores_part_290000_290999.csv\n",
      "progress:  9000 - 10000 2018-08-20 21:02:34.485069\n",
      "./geocrawls/stores_part_291000_291999.csv\n",
      "progress:  10000 - 11000 2018-08-20 21:04:55.902495\n",
      "./geocrawls/stores_part_292000_292999.csv\n",
      "progress:  11000 - 12000 2018-08-20 21:07:14.966225\n",
      "./geocrawls/stores_part_293000_293999.csv\n",
      "progress:  12000 - 13000 2018-08-20 21:09:29.892348\n",
      "./geocrawls/stores_part_294000_294999.csv\n",
      "progress:  13000 - 14000 2018-08-20 21:11:43.204587\n",
      "./geocrawls/stores_part_295000_295999.csv\n",
      "progress:  14000 - 15000 2018-08-20 21:14:03.002213\n",
      "./geocrawls/stores_part_296000_296999.csv\n",
      "progress:  15000 - 16000 2018-08-20 21:16:22.884749\n",
      "./geocrawls/stores_part_297000_297999.csv\n",
      "progress:  16000 - 17000 2018-08-20 21:18:39.273369\n",
      "./geocrawls/stores_part_298000_298999.csv\n",
      "progress:  17000 - 18000 2018-08-20 21:20:52.709326\n",
      "./geocrawls/stores_part_299000_299999.csv\n",
      "progress:  18000 - 19000 2018-08-20 21:23:17.979356\n",
      "./geocrawls/stores_part_300000_300999.csv\n",
      "progress:  19000 - 20000 2018-08-20 21:25:31.925964\n",
      "./geocrawls/stores_part_301000_301999.csv\n",
      "progress:  20000 - 21000 2018-08-20 21:27:42.192349\n",
      "./geocrawls/stores_part_302000_302999.csv\n",
      "progress:  21000 - 22000 2018-08-20 21:29:50.834856\n",
      "./geocrawls/stores_part_303000_303999.csv\n",
      "progress:  22000 - 23000 2018-08-20 21:32:03.545950\n",
      "./geocrawls/stores_part_304000_304999.csv\n",
      "progress:  23000 - 24000 2018-08-20 21:34:15.217596\n",
      "./geocrawls/stores_part_305000_305999.csv\n",
      "progress:  24000 - 25000 2018-08-20 21:36:23.371338\n",
      "./geocrawls/stores_part_306000_306999.csv\n",
      "progress:  25000 - 26000 2018-08-20 21:38:33.014784\n",
      "./geocrawls/stores_part_307000_307999.csv\n",
      "progress:  26000 - 27000 2018-08-20 21:40:42.556759\n",
      "./geocrawls/stores_part_308000_308999.csv\n",
      "progress:  27000 - 28000 2018-08-20 21:42:48.686629\n",
      "./geocrawls/stores_part_309000_309999.csv\n",
      "progress:  28000 - 29000 2018-08-20 21:44:57.042411\n",
      "./geocrawls/stores_part_310000_310999.csv\n",
      "progress:  29000 - 30000 2018-08-20 21:47:07.983070\n",
      "./geocrawls/stores_part_311000_311999.csv\n",
      "progress:  30000 - 31000 2018-08-20 21:49:14.094861\n",
      "./geocrawls/stores_part_312000_312999.csv\n",
      "progress:  31000 - 32000 2018-08-20 21:51:28.103583\n",
      "./geocrawls/stores_part_313000_313999.csv\n",
      "progress:  32000 - 33000 2018-08-20 21:53:37.048506\n",
      "./geocrawls/stores_part_314000_314999.csv\n",
      "progress:  33000 - 34000 2018-08-20 21:55:48.755357\n",
      "./geocrawls/stores_part_315000_315999.csv\n",
      "progress:  34000 - 35000 2018-08-20 21:57:55.911297\n",
      "./geocrawls/stores_part_316000_316999.csv\n",
      "progress:  35000 - 36000 2018-08-20 22:00:14.230062\n",
      "./geocrawls/stores_part_317000_317999.csv\n",
      "progress:  36000 - 37000 2018-08-20 22:02:34.977015\n",
      "./geocrawls/stores_part_318000_318999.csv\n",
      "progress:  37000 - 38000 2018-08-20 22:04:56.293456\n",
      "./geocrawls/stores_part_319000_319999.csv\n",
      "progress:  38000 - 39000 2018-08-20 22:07:04.631667\n",
      "./geocrawls/stores_part_320000_320999.csv\n",
      "progress:  39000 - 40000 2018-08-20 22:09:19.008047\n",
      "./geocrawls/stores_part_321000_321999.csv\n",
      "progress:  40000 - 41000 2018-08-20 22:11:32.234044\n",
      "./geocrawls/stores_part_322000_322999.csv\n",
      "progress:  41000 - 42000 2018-08-20 22:13:44.301212\n",
      "./geocrawls/stores_part_323000_323999.csv\n",
      "progress:  42000 - 43000 2018-08-20 22:16:00.492456\n",
      "./geocrawls/stores_part_324000_324999.csv\n",
      "progress:  43000 - 44000 2018-08-20 22:18:25.000467\n",
      "./geocrawls/stores_part_325000_325999.csv\n",
      "progress:  44000 - 45000 2018-08-20 22:20:31.745953\n",
      "./geocrawls/stores_part_326000_326999.csv\n",
      "progress:  45000 - 46000 2018-08-20 22:22:43.600940\n"
     ]
    }
   ],
   "source": [
    "progress_quota = df_part.shape[0]\n",
    "progress = 0\n",
    "\n",
    "while progress < progress_quota:\n",
    "    df_current = df_part.iloc[progress:(progress+1000)]\n",
    "    df_current['coor'] = df_current.apply(lambda row: naver_get_coor(agent, row), axis=1)\n",
    "    save_csv(df_current, df_current.iloc[0].name, df_current.iloc[-1].name)\n",
    "    # 파일이 저장된 시간 출력\n",
    "    print('progress: ', progress-1000, '-', progress, datetime.now())\n",
    "    sleep(np.random.choice(5, 1))\n",
    "    progress += 1000"
   ]
  },
  {
   "cell_type": "code",
   "execution_count": null,
   "metadata": {},
   "outputs": [],
   "source": []
  }
 ],
 "metadata": {
  "kernelspec": {
   "display_name": "Python 3",
   "language": "python",
   "name": "python3"
  },
  "language_info": {
   "codemirror_mode": {
    "name": "ipython",
    "version": 3
   },
   "file_extension": ".py",
   "mimetype": "text/x-python",
   "name": "python",
   "nbconvert_exporter": "python",
   "pygments_lexer": "ipython3",
   "version": "3.6.5"
  }
 },
 "nbformat": 4,
 "nbformat_minor": 2
}
